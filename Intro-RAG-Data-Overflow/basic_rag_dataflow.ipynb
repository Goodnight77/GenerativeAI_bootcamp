{
  "nbformat": 4,
  "nbformat_minor": 0,
  "metadata": {
    "colab": {
      "provenance": [],
      "gpuType": "T4"
    },
    "kernelspec": {
      "name": "python3",
      "display_name": "Python 3"
    },
    "language_info": {
      "name": "python"
    },
    "accelerator": "GPU",
    "widgets": {
      "application/vnd.jupyter.widget-state+json": {
        "e6d900398fc64a3bbcde4d6f13275aeb": {
          "model_module": "@jupyter-widgets/controls",
          "model_name": "HBoxModel",
          "model_module_version": "1.5.0",
          "state": {
            "_dom_classes": [],
            "_model_module": "@jupyter-widgets/controls",
            "_model_module_version": "1.5.0",
            "_model_name": "HBoxModel",
            "_view_count": null,
            "_view_module": "@jupyter-widgets/controls",
            "_view_module_version": "1.5.0",
            "_view_name": "HBoxView",
            "box_style": "",
            "children": [
              "IPY_MODEL_e32774c511444aaebaa6d676f738a9b3",
              "IPY_MODEL_e5369f89f61646dba176bd349a6125e5",
              "IPY_MODEL_4b4c379f6d774ae58a2693f3a895fb98"
            ],
            "layout": "IPY_MODEL_aeec640044d34e90921e71bb945097a1"
          }
        },
        "e32774c511444aaebaa6d676f738a9b3": {
          "model_module": "@jupyter-widgets/controls",
          "model_name": "HTMLModel",
          "model_module_version": "1.5.0",
          "state": {
            "_dom_classes": [],
            "_model_module": "@jupyter-widgets/controls",
            "_model_module_version": "1.5.0",
            "_model_name": "HTMLModel",
            "_view_count": null,
            "_view_module": "@jupyter-widgets/controls",
            "_view_module_version": "1.5.0",
            "_view_name": "HTMLView",
            "description": "",
            "description_tooltip": null,
            "layout": "IPY_MODEL_e2bf8243f654499398b18ae2aacf6aa0",
            "placeholder": "​",
            "style": "IPY_MODEL_f2958f5d602e4a9cbcbccece28b12310",
            "value": "modules.json: 100%"
          }
        },
        "e5369f89f61646dba176bd349a6125e5": {
          "model_module": "@jupyter-widgets/controls",
          "model_name": "FloatProgressModel",
          "model_module_version": "1.5.0",
          "state": {
            "_dom_classes": [],
            "_model_module": "@jupyter-widgets/controls",
            "_model_module_version": "1.5.0",
            "_model_name": "FloatProgressModel",
            "_view_count": null,
            "_view_module": "@jupyter-widgets/controls",
            "_view_module_version": "1.5.0",
            "_view_name": "ProgressView",
            "bar_style": "success",
            "description": "",
            "description_tooltip": null,
            "layout": "IPY_MODEL_93258d8a92aa4e738a75f38c5ffb8f97",
            "max": 349,
            "min": 0,
            "orientation": "horizontal",
            "style": "IPY_MODEL_c5d8e17b6e66442bb70d3b4fb3a811bc",
            "value": 349
          }
        },
        "4b4c379f6d774ae58a2693f3a895fb98": {
          "model_module": "@jupyter-widgets/controls",
          "model_name": "HTMLModel",
          "model_module_version": "1.5.0",
          "state": {
            "_dom_classes": [],
            "_model_module": "@jupyter-widgets/controls",
            "_model_module_version": "1.5.0",
            "_model_name": "HTMLModel",
            "_view_count": null,
            "_view_module": "@jupyter-widgets/controls",
            "_view_module_version": "1.5.0",
            "_view_name": "HTMLView",
            "description": "",
            "description_tooltip": null,
            "layout": "IPY_MODEL_62d79e8f0be44cd8aeda474f55135729",
            "placeholder": "​",
            "style": "IPY_MODEL_2180dfd4625b47738b62d371d2c1a773",
            "value": " 349/349 [00:00&lt;00:00, 32.4kB/s]"
          }
        },
        "aeec640044d34e90921e71bb945097a1": {
          "model_module": "@jupyter-widgets/base",
          "model_name": "LayoutModel",
          "model_module_version": "1.2.0",
          "state": {
            "_model_module": "@jupyter-widgets/base",
            "_model_module_version": "1.2.0",
            "_model_name": "LayoutModel",
            "_view_count": null,
            "_view_module": "@jupyter-widgets/base",
            "_view_module_version": "1.2.0",
            "_view_name": "LayoutView",
            "align_content": null,
            "align_items": null,
            "align_self": null,
            "border": null,
            "bottom": null,
            "display": null,
            "flex": null,
            "flex_flow": null,
            "grid_area": null,
            "grid_auto_columns": null,
            "grid_auto_flow": null,
            "grid_auto_rows": null,
            "grid_column": null,
            "grid_gap": null,
            "grid_row": null,
            "grid_template_areas": null,
            "grid_template_columns": null,
            "grid_template_rows": null,
            "height": null,
            "justify_content": null,
            "justify_items": null,
            "left": null,
            "margin": null,
            "max_height": null,
            "max_width": null,
            "min_height": null,
            "min_width": null,
            "object_fit": null,
            "object_position": null,
            "order": null,
            "overflow": null,
            "overflow_x": null,
            "overflow_y": null,
            "padding": null,
            "right": null,
            "top": null,
            "visibility": null,
            "width": null
          }
        },
        "e2bf8243f654499398b18ae2aacf6aa0": {
          "model_module": "@jupyter-widgets/base",
          "model_name": "LayoutModel",
          "model_module_version": "1.2.0",
          "state": {
            "_model_module": "@jupyter-widgets/base",
            "_model_module_version": "1.2.0",
            "_model_name": "LayoutModel",
            "_view_count": null,
            "_view_module": "@jupyter-widgets/base",
            "_view_module_version": "1.2.0",
            "_view_name": "LayoutView",
            "align_content": null,
            "align_items": null,
            "align_self": null,
            "border": null,
            "bottom": null,
            "display": null,
            "flex": null,
            "flex_flow": null,
            "grid_area": null,
            "grid_auto_columns": null,
            "grid_auto_flow": null,
            "grid_auto_rows": null,
            "grid_column": null,
            "grid_gap": null,
            "grid_row": null,
            "grid_template_areas": null,
            "grid_template_columns": null,
            "grid_template_rows": null,
            "height": null,
            "justify_content": null,
            "justify_items": null,
            "left": null,
            "margin": null,
            "max_height": null,
            "max_width": null,
            "min_height": null,
            "min_width": null,
            "object_fit": null,
            "object_position": null,
            "order": null,
            "overflow": null,
            "overflow_x": null,
            "overflow_y": null,
            "padding": null,
            "right": null,
            "top": null,
            "visibility": null,
            "width": null
          }
        },
        "f2958f5d602e4a9cbcbccece28b12310": {
          "model_module": "@jupyter-widgets/controls",
          "model_name": "DescriptionStyleModel",
          "model_module_version": "1.5.0",
          "state": {
            "_model_module": "@jupyter-widgets/controls",
            "_model_module_version": "1.5.0",
            "_model_name": "DescriptionStyleModel",
            "_view_count": null,
            "_view_module": "@jupyter-widgets/base",
            "_view_module_version": "1.2.0",
            "_view_name": "StyleView",
            "description_width": ""
          }
        },
        "93258d8a92aa4e738a75f38c5ffb8f97": {
          "model_module": "@jupyter-widgets/base",
          "model_name": "LayoutModel",
          "model_module_version": "1.2.0",
          "state": {
            "_model_module": "@jupyter-widgets/base",
            "_model_module_version": "1.2.0",
            "_model_name": "LayoutModel",
            "_view_count": null,
            "_view_module": "@jupyter-widgets/base",
            "_view_module_version": "1.2.0",
            "_view_name": "LayoutView",
            "align_content": null,
            "align_items": null,
            "align_self": null,
            "border": null,
            "bottom": null,
            "display": null,
            "flex": null,
            "flex_flow": null,
            "grid_area": null,
            "grid_auto_columns": null,
            "grid_auto_flow": null,
            "grid_auto_rows": null,
            "grid_column": null,
            "grid_gap": null,
            "grid_row": null,
            "grid_template_areas": null,
            "grid_template_columns": null,
            "grid_template_rows": null,
            "height": null,
            "justify_content": null,
            "justify_items": null,
            "left": null,
            "margin": null,
            "max_height": null,
            "max_width": null,
            "min_height": null,
            "min_width": null,
            "object_fit": null,
            "object_position": null,
            "order": null,
            "overflow": null,
            "overflow_x": null,
            "overflow_y": null,
            "padding": null,
            "right": null,
            "top": null,
            "visibility": null,
            "width": null
          }
        },
        "c5d8e17b6e66442bb70d3b4fb3a811bc": {
          "model_module": "@jupyter-widgets/controls",
          "model_name": "ProgressStyleModel",
          "model_module_version": "1.5.0",
          "state": {
            "_model_module": "@jupyter-widgets/controls",
            "_model_module_version": "1.5.0",
            "_model_name": "ProgressStyleModel",
            "_view_count": null,
            "_view_module": "@jupyter-widgets/base",
            "_view_module_version": "1.2.0",
            "_view_name": "StyleView",
            "bar_color": null,
            "description_width": ""
          }
        },
        "62d79e8f0be44cd8aeda474f55135729": {
          "model_module": "@jupyter-widgets/base",
          "model_name": "LayoutModel",
          "model_module_version": "1.2.0",
          "state": {
            "_model_module": "@jupyter-widgets/base",
            "_model_module_version": "1.2.0",
            "_model_name": "LayoutModel",
            "_view_count": null,
            "_view_module": "@jupyter-widgets/base",
            "_view_module_version": "1.2.0",
            "_view_name": "LayoutView",
            "align_content": null,
            "align_items": null,
            "align_self": null,
            "border": null,
            "bottom": null,
            "display": null,
            "flex": null,
            "flex_flow": null,
            "grid_area": null,
            "grid_auto_columns": null,
            "grid_auto_flow": null,
            "grid_auto_rows": null,
            "grid_column": null,
            "grid_gap": null,
            "grid_row": null,
            "grid_template_areas": null,
            "grid_template_columns": null,
            "grid_template_rows": null,
            "height": null,
            "justify_content": null,
            "justify_items": null,
            "left": null,
            "margin": null,
            "max_height": null,
            "max_width": null,
            "min_height": null,
            "min_width": null,
            "object_fit": null,
            "object_position": null,
            "order": null,
            "overflow": null,
            "overflow_x": null,
            "overflow_y": null,
            "padding": null,
            "right": null,
            "top": null,
            "visibility": null,
            "width": null
          }
        },
        "2180dfd4625b47738b62d371d2c1a773": {
          "model_module": "@jupyter-widgets/controls",
          "model_name": "DescriptionStyleModel",
          "model_module_version": "1.5.0",
          "state": {
            "_model_module": "@jupyter-widgets/controls",
            "_model_module_version": "1.5.0",
            "_model_name": "DescriptionStyleModel",
            "_view_count": null,
            "_view_module": "@jupyter-widgets/base",
            "_view_module_version": "1.2.0",
            "_view_name": "StyleView",
            "description_width": ""
          }
        },
        "141a161132c14c1d819f4446263aedfc": {
          "model_module": "@jupyter-widgets/controls",
          "model_name": "HBoxModel",
          "model_module_version": "1.5.0",
          "state": {
            "_dom_classes": [],
            "_model_module": "@jupyter-widgets/controls",
            "_model_module_version": "1.5.0",
            "_model_name": "HBoxModel",
            "_view_count": null,
            "_view_module": "@jupyter-widgets/controls",
            "_view_module_version": "1.5.0",
            "_view_name": "HBoxView",
            "box_style": "",
            "children": [
              "IPY_MODEL_fae628f5f19a48d7ab4388c817141d39",
              "IPY_MODEL_b5e16db8f4d641b69e76317b7199561f",
              "IPY_MODEL_8776025d003d48dea1fc785ca58506e7"
            ],
            "layout": "IPY_MODEL_742a6c1d88ab4d39b395757eb54a4fa0"
          }
        },
        "fae628f5f19a48d7ab4388c817141d39": {
          "model_module": "@jupyter-widgets/controls",
          "model_name": "HTMLModel",
          "model_module_version": "1.5.0",
          "state": {
            "_dom_classes": [],
            "_model_module": "@jupyter-widgets/controls",
            "_model_module_version": "1.5.0",
            "_model_name": "HTMLModel",
            "_view_count": null,
            "_view_module": "@jupyter-widgets/controls",
            "_view_module_version": "1.5.0",
            "_view_name": "HTMLView",
            "description": "",
            "description_tooltip": null,
            "layout": "IPY_MODEL_3db52dd668d843e2984dcff226dd2a06",
            "placeholder": "​",
            "style": "IPY_MODEL_9090184d8bb949628a141fa1c8fd2c32",
            "value": "config_sentence_transformers.json: 100%"
          }
        },
        "b5e16db8f4d641b69e76317b7199561f": {
          "model_module": "@jupyter-widgets/controls",
          "model_name": "FloatProgressModel",
          "model_module_version": "1.5.0",
          "state": {
            "_dom_classes": [],
            "_model_module": "@jupyter-widgets/controls",
            "_model_module_version": "1.5.0",
            "_model_name": "FloatProgressModel",
            "_view_count": null,
            "_view_module": "@jupyter-widgets/controls",
            "_view_module_version": "1.5.0",
            "_view_name": "ProgressView",
            "bar_style": "success",
            "description": "",
            "description_tooltip": null,
            "layout": "IPY_MODEL_15ae5c98ede940849c4309f82aa30d90",
            "max": 116,
            "min": 0,
            "orientation": "horizontal",
            "style": "IPY_MODEL_3334dee6332b42929c18d9e09344f9f5",
            "value": 116
          }
        },
        "8776025d003d48dea1fc785ca58506e7": {
          "model_module": "@jupyter-widgets/controls",
          "model_name": "HTMLModel",
          "model_module_version": "1.5.0",
          "state": {
            "_dom_classes": [],
            "_model_module": "@jupyter-widgets/controls",
            "_model_module_version": "1.5.0",
            "_model_name": "HTMLModel",
            "_view_count": null,
            "_view_module": "@jupyter-widgets/controls",
            "_view_module_version": "1.5.0",
            "_view_name": "HTMLView",
            "description": "",
            "description_tooltip": null,
            "layout": "IPY_MODEL_1d0617de6aef42d69cc32305e8c06f32",
            "placeholder": "​",
            "style": "IPY_MODEL_e45730bb755c47cfa6f4ecd642d3f875",
            "value": " 116/116 [00:00&lt;00:00, 12.0kB/s]"
          }
        },
        "742a6c1d88ab4d39b395757eb54a4fa0": {
          "model_module": "@jupyter-widgets/base",
          "model_name": "LayoutModel",
          "model_module_version": "1.2.0",
          "state": {
            "_model_module": "@jupyter-widgets/base",
            "_model_module_version": "1.2.0",
            "_model_name": "LayoutModel",
            "_view_count": null,
            "_view_module": "@jupyter-widgets/base",
            "_view_module_version": "1.2.0",
            "_view_name": "LayoutView",
            "align_content": null,
            "align_items": null,
            "align_self": null,
            "border": null,
            "bottom": null,
            "display": null,
            "flex": null,
            "flex_flow": null,
            "grid_area": null,
            "grid_auto_columns": null,
            "grid_auto_flow": null,
            "grid_auto_rows": null,
            "grid_column": null,
            "grid_gap": null,
            "grid_row": null,
            "grid_template_areas": null,
            "grid_template_columns": null,
            "grid_template_rows": null,
            "height": null,
            "justify_content": null,
            "justify_items": null,
            "left": null,
            "margin": null,
            "max_height": null,
            "max_width": null,
            "min_height": null,
            "min_width": null,
            "object_fit": null,
            "object_position": null,
            "order": null,
            "overflow": null,
            "overflow_x": null,
            "overflow_y": null,
            "padding": null,
            "right": null,
            "top": null,
            "visibility": null,
            "width": null
          }
        },
        "3db52dd668d843e2984dcff226dd2a06": {
          "model_module": "@jupyter-widgets/base",
          "model_name": "LayoutModel",
          "model_module_version": "1.2.0",
          "state": {
            "_model_module": "@jupyter-widgets/base",
            "_model_module_version": "1.2.0",
            "_model_name": "LayoutModel",
            "_view_count": null,
            "_view_module": "@jupyter-widgets/base",
            "_view_module_version": "1.2.0",
            "_view_name": "LayoutView",
            "align_content": null,
            "align_items": null,
            "align_self": null,
            "border": null,
            "bottom": null,
            "display": null,
            "flex": null,
            "flex_flow": null,
            "grid_area": null,
            "grid_auto_columns": null,
            "grid_auto_flow": null,
            "grid_auto_rows": null,
            "grid_column": null,
            "grid_gap": null,
            "grid_row": null,
            "grid_template_areas": null,
            "grid_template_columns": null,
            "grid_template_rows": null,
            "height": null,
            "justify_content": null,
            "justify_items": null,
            "left": null,
            "margin": null,
            "max_height": null,
            "max_width": null,
            "min_height": null,
            "min_width": null,
            "object_fit": null,
            "object_position": null,
            "order": null,
            "overflow": null,
            "overflow_x": null,
            "overflow_y": null,
            "padding": null,
            "right": null,
            "top": null,
            "visibility": null,
            "width": null
          }
        },
        "9090184d8bb949628a141fa1c8fd2c32": {
          "model_module": "@jupyter-widgets/controls",
          "model_name": "DescriptionStyleModel",
          "model_module_version": "1.5.0",
          "state": {
            "_model_module": "@jupyter-widgets/controls",
            "_model_module_version": "1.5.0",
            "_model_name": "DescriptionStyleModel",
            "_view_count": null,
            "_view_module": "@jupyter-widgets/base",
            "_view_module_version": "1.2.0",
            "_view_name": "StyleView",
            "description_width": ""
          }
        },
        "15ae5c98ede940849c4309f82aa30d90": {
          "model_module": "@jupyter-widgets/base",
          "model_name": "LayoutModel",
          "model_module_version": "1.2.0",
          "state": {
            "_model_module": "@jupyter-widgets/base",
            "_model_module_version": "1.2.0",
            "_model_name": "LayoutModel",
            "_view_count": null,
            "_view_module": "@jupyter-widgets/base",
            "_view_module_version": "1.2.0",
            "_view_name": "LayoutView",
            "align_content": null,
            "align_items": null,
            "align_self": null,
            "border": null,
            "bottom": null,
            "display": null,
            "flex": null,
            "flex_flow": null,
            "grid_area": null,
            "grid_auto_columns": null,
            "grid_auto_flow": null,
            "grid_auto_rows": null,
            "grid_column": null,
            "grid_gap": null,
            "grid_row": null,
            "grid_template_areas": null,
            "grid_template_columns": null,
            "grid_template_rows": null,
            "height": null,
            "justify_content": null,
            "justify_items": null,
            "left": null,
            "margin": null,
            "max_height": null,
            "max_width": null,
            "min_height": null,
            "min_width": null,
            "object_fit": null,
            "object_position": null,
            "order": null,
            "overflow": null,
            "overflow_x": null,
            "overflow_y": null,
            "padding": null,
            "right": null,
            "top": null,
            "visibility": null,
            "width": null
          }
        },
        "3334dee6332b42929c18d9e09344f9f5": {
          "model_module": "@jupyter-widgets/controls",
          "model_name": "ProgressStyleModel",
          "model_module_version": "1.5.0",
          "state": {
            "_model_module": "@jupyter-widgets/controls",
            "_model_module_version": "1.5.0",
            "_model_name": "ProgressStyleModel",
            "_view_count": null,
            "_view_module": "@jupyter-widgets/base",
            "_view_module_version": "1.2.0",
            "_view_name": "StyleView",
            "bar_color": null,
            "description_width": ""
          }
        },
        "1d0617de6aef42d69cc32305e8c06f32": {
          "model_module": "@jupyter-widgets/base",
          "model_name": "LayoutModel",
          "model_module_version": "1.2.0",
          "state": {
            "_model_module": "@jupyter-widgets/base",
            "_model_module_version": "1.2.0",
            "_model_name": "LayoutModel",
            "_view_count": null,
            "_view_module": "@jupyter-widgets/base",
            "_view_module_version": "1.2.0",
            "_view_name": "LayoutView",
            "align_content": null,
            "align_items": null,
            "align_self": null,
            "border": null,
            "bottom": null,
            "display": null,
            "flex": null,
            "flex_flow": null,
            "grid_area": null,
            "grid_auto_columns": null,
            "grid_auto_flow": null,
            "grid_auto_rows": null,
            "grid_column": null,
            "grid_gap": null,
            "grid_row": null,
            "grid_template_areas": null,
            "grid_template_columns": null,
            "grid_template_rows": null,
            "height": null,
            "justify_content": null,
            "justify_items": null,
            "left": null,
            "margin": null,
            "max_height": null,
            "max_width": null,
            "min_height": null,
            "min_width": null,
            "object_fit": null,
            "object_position": null,
            "order": null,
            "overflow": null,
            "overflow_x": null,
            "overflow_y": null,
            "padding": null,
            "right": null,
            "top": null,
            "visibility": null,
            "width": null
          }
        },
        "e45730bb755c47cfa6f4ecd642d3f875": {
          "model_module": "@jupyter-widgets/controls",
          "model_name": "DescriptionStyleModel",
          "model_module_version": "1.5.0",
          "state": {
            "_model_module": "@jupyter-widgets/controls",
            "_model_module_version": "1.5.0",
            "_model_name": "DescriptionStyleModel",
            "_view_count": null,
            "_view_module": "@jupyter-widgets/base",
            "_view_module_version": "1.2.0",
            "_view_name": "StyleView",
            "description_width": ""
          }
        },
        "e9c08f4e61bf49bda957ce3740becd08": {
          "model_module": "@jupyter-widgets/controls",
          "model_name": "HBoxModel",
          "model_module_version": "1.5.0",
          "state": {
            "_dom_classes": [],
            "_model_module": "@jupyter-widgets/controls",
            "_model_module_version": "1.5.0",
            "_model_name": "HBoxModel",
            "_view_count": null,
            "_view_module": "@jupyter-widgets/controls",
            "_view_module_version": "1.5.0",
            "_view_name": "HBoxView",
            "box_style": "",
            "children": [
              "IPY_MODEL_4c57f5e2d5d0440b86edca967d33890d",
              "IPY_MODEL_33f52c2bec2d4e60aa5d3b22efff2875",
              "IPY_MODEL_e96b455f04cc476ba130e4cddc4d929f"
            ],
            "layout": "IPY_MODEL_3a7257ffab0b42c0bf652b5d8aa9ac63"
          }
        },
        "4c57f5e2d5d0440b86edca967d33890d": {
          "model_module": "@jupyter-widgets/controls",
          "model_name": "HTMLModel",
          "model_module_version": "1.5.0",
          "state": {
            "_dom_classes": [],
            "_model_module": "@jupyter-widgets/controls",
            "_model_module_version": "1.5.0",
            "_model_name": "HTMLModel",
            "_view_count": null,
            "_view_module": "@jupyter-widgets/controls",
            "_view_module_version": "1.5.0",
            "_view_name": "HTMLView",
            "description": "",
            "description_tooltip": null,
            "layout": "IPY_MODEL_57e1853cff8d46209d40c0d172cae7cf",
            "placeholder": "​",
            "style": "IPY_MODEL_65fa1bf7d5ec4e619f041c2cb375763a",
            "value": "README.md: 100%"
          }
        },
        "33f52c2bec2d4e60aa5d3b22efff2875": {
          "model_module": "@jupyter-widgets/controls",
          "model_name": "FloatProgressModel",
          "model_module_version": "1.5.0",
          "state": {
            "_dom_classes": [],
            "_model_module": "@jupyter-widgets/controls",
            "_model_module_version": "1.5.0",
            "_model_name": "FloatProgressModel",
            "_view_count": null,
            "_view_module": "@jupyter-widgets/controls",
            "_view_module_version": "1.5.0",
            "_view_name": "ProgressView",
            "bar_style": "success",
            "description": "",
            "description_tooltip": null,
            "layout": "IPY_MODEL_ba1278da79404e69a1b2a698195241e0",
            "max": 10659,
            "min": 0,
            "orientation": "horizontal",
            "style": "IPY_MODEL_4e8275f7530944fdb9dd085bfb0506f8",
            "value": 10659
          }
        },
        "e96b455f04cc476ba130e4cddc4d929f": {
          "model_module": "@jupyter-widgets/controls",
          "model_name": "HTMLModel",
          "model_module_version": "1.5.0",
          "state": {
            "_dom_classes": [],
            "_model_module": "@jupyter-widgets/controls",
            "_model_module_version": "1.5.0",
            "_model_name": "HTMLModel",
            "_view_count": null,
            "_view_module": "@jupyter-widgets/controls",
            "_view_module_version": "1.5.0",
            "_view_name": "HTMLView",
            "description": "",
            "description_tooltip": null,
            "layout": "IPY_MODEL_b860718b12274ddf8a50c52ad2fcaca6",
            "placeholder": "​",
            "style": "IPY_MODEL_e9bf3316037d428ab7f8ff346384dacf",
            "value": " 10.7k/10.7k [00:00&lt;00:00, 1.05MB/s]"
          }
        },
        "3a7257ffab0b42c0bf652b5d8aa9ac63": {
          "model_module": "@jupyter-widgets/base",
          "model_name": "LayoutModel",
          "model_module_version": "1.2.0",
          "state": {
            "_model_module": "@jupyter-widgets/base",
            "_model_module_version": "1.2.0",
            "_model_name": "LayoutModel",
            "_view_count": null,
            "_view_module": "@jupyter-widgets/base",
            "_view_module_version": "1.2.0",
            "_view_name": "LayoutView",
            "align_content": null,
            "align_items": null,
            "align_self": null,
            "border": null,
            "bottom": null,
            "display": null,
            "flex": null,
            "flex_flow": null,
            "grid_area": null,
            "grid_auto_columns": null,
            "grid_auto_flow": null,
            "grid_auto_rows": null,
            "grid_column": null,
            "grid_gap": null,
            "grid_row": null,
            "grid_template_areas": null,
            "grid_template_columns": null,
            "grid_template_rows": null,
            "height": null,
            "justify_content": null,
            "justify_items": null,
            "left": null,
            "margin": null,
            "max_height": null,
            "max_width": null,
            "min_height": null,
            "min_width": null,
            "object_fit": null,
            "object_position": null,
            "order": null,
            "overflow": null,
            "overflow_x": null,
            "overflow_y": null,
            "padding": null,
            "right": null,
            "top": null,
            "visibility": null,
            "width": null
          }
        },
        "57e1853cff8d46209d40c0d172cae7cf": {
          "model_module": "@jupyter-widgets/base",
          "model_name": "LayoutModel",
          "model_module_version": "1.2.0",
          "state": {
            "_model_module": "@jupyter-widgets/base",
            "_model_module_version": "1.2.0",
            "_model_name": "LayoutModel",
            "_view_count": null,
            "_view_module": "@jupyter-widgets/base",
            "_view_module_version": "1.2.0",
            "_view_name": "LayoutView",
            "align_content": null,
            "align_items": null,
            "align_self": null,
            "border": null,
            "bottom": null,
            "display": null,
            "flex": null,
            "flex_flow": null,
            "grid_area": null,
            "grid_auto_columns": null,
            "grid_auto_flow": null,
            "grid_auto_rows": null,
            "grid_column": null,
            "grid_gap": null,
            "grid_row": null,
            "grid_template_areas": null,
            "grid_template_columns": null,
            "grid_template_rows": null,
            "height": null,
            "justify_content": null,
            "justify_items": null,
            "left": null,
            "margin": null,
            "max_height": null,
            "max_width": null,
            "min_height": null,
            "min_width": null,
            "object_fit": null,
            "object_position": null,
            "order": null,
            "overflow": null,
            "overflow_x": null,
            "overflow_y": null,
            "padding": null,
            "right": null,
            "top": null,
            "visibility": null,
            "width": null
          }
        },
        "65fa1bf7d5ec4e619f041c2cb375763a": {
          "model_module": "@jupyter-widgets/controls",
          "model_name": "DescriptionStyleModel",
          "model_module_version": "1.5.0",
          "state": {
            "_model_module": "@jupyter-widgets/controls",
            "_model_module_version": "1.5.0",
            "_model_name": "DescriptionStyleModel",
            "_view_count": null,
            "_view_module": "@jupyter-widgets/base",
            "_view_module_version": "1.2.0",
            "_view_name": "StyleView",
            "description_width": ""
          }
        },
        "ba1278da79404e69a1b2a698195241e0": {
          "model_module": "@jupyter-widgets/base",
          "model_name": "LayoutModel",
          "model_module_version": "1.2.0",
          "state": {
            "_model_module": "@jupyter-widgets/base",
            "_model_module_version": "1.2.0",
            "_model_name": "LayoutModel",
            "_view_count": null,
            "_view_module": "@jupyter-widgets/base",
            "_view_module_version": "1.2.0",
            "_view_name": "LayoutView",
            "align_content": null,
            "align_items": null,
            "align_self": null,
            "border": null,
            "bottom": null,
            "display": null,
            "flex": null,
            "flex_flow": null,
            "grid_area": null,
            "grid_auto_columns": null,
            "grid_auto_flow": null,
            "grid_auto_rows": null,
            "grid_column": null,
            "grid_gap": null,
            "grid_row": null,
            "grid_template_areas": null,
            "grid_template_columns": null,
            "grid_template_rows": null,
            "height": null,
            "justify_content": null,
            "justify_items": null,
            "left": null,
            "margin": null,
            "max_height": null,
            "max_width": null,
            "min_height": null,
            "min_width": null,
            "object_fit": null,
            "object_position": null,
            "order": null,
            "overflow": null,
            "overflow_x": null,
            "overflow_y": null,
            "padding": null,
            "right": null,
            "top": null,
            "visibility": null,
            "width": null
          }
        },
        "4e8275f7530944fdb9dd085bfb0506f8": {
          "model_module": "@jupyter-widgets/controls",
          "model_name": "ProgressStyleModel",
          "model_module_version": "1.5.0",
          "state": {
            "_model_module": "@jupyter-widgets/controls",
            "_model_module_version": "1.5.0",
            "_model_name": "ProgressStyleModel",
            "_view_count": null,
            "_view_module": "@jupyter-widgets/base",
            "_view_module_version": "1.2.0",
            "_view_name": "StyleView",
            "bar_color": null,
            "description_width": ""
          }
        },
        "b860718b12274ddf8a50c52ad2fcaca6": {
          "model_module": "@jupyter-widgets/base",
          "model_name": "LayoutModel",
          "model_module_version": "1.2.0",
          "state": {
            "_model_module": "@jupyter-widgets/base",
            "_model_module_version": "1.2.0",
            "_model_name": "LayoutModel",
            "_view_count": null,
            "_view_module": "@jupyter-widgets/base",
            "_view_module_version": "1.2.0",
            "_view_name": "LayoutView",
            "align_content": null,
            "align_items": null,
            "align_self": null,
            "border": null,
            "bottom": null,
            "display": null,
            "flex": null,
            "flex_flow": null,
            "grid_area": null,
            "grid_auto_columns": null,
            "grid_auto_flow": null,
            "grid_auto_rows": null,
            "grid_column": null,
            "grid_gap": null,
            "grid_row": null,
            "grid_template_areas": null,
            "grid_template_columns": null,
            "grid_template_rows": null,
            "height": null,
            "justify_content": null,
            "justify_items": null,
            "left": null,
            "margin": null,
            "max_height": null,
            "max_width": null,
            "min_height": null,
            "min_width": null,
            "object_fit": null,
            "object_position": null,
            "order": null,
            "overflow": null,
            "overflow_x": null,
            "overflow_y": null,
            "padding": null,
            "right": null,
            "top": null,
            "visibility": null,
            "width": null
          }
        },
        "e9bf3316037d428ab7f8ff346384dacf": {
          "model_module": "@jupyter-widgets/controls",
          "model_name": "DescriptionStyleModel",
          "model_module_version": "1.5.0",
          "state": {
            "_model_module": "@jupyter-widgets/controls",
            "_model_module_version": "1.5.0",
            "_model_name": "DescriptionStyleModel",
            "_view_count": null,
            "_view_module": "@jupyter-widgets/base",
            "_view_module_version": "1.2.0",
            "_view_name": "StyleView",
            "description_width": ""
          }
        },
        "29d53bc71d8e4c8aa781d7e01d8215b6": {
          "model_module": "@jupyter-widgets/controls",
          "model_name": "HBoxModel",
          "model_module_version": "1.5.0",
          "state": {
            "_dom_classes": [],
            "_model_module": "@jupyter-widgets/controls",
            "_model_module_version": "1.5.0",
            "_model_name": "HBoxModel",
            "_view_count": null,
            "_view_module": "@jupyter-widgets/controls",
            "_view_module_version": "1.5.0",
            "_view_name": "HBoxView",
            "box_style": "",
            "children": [
              "IPY_MODEL_4d5de3206dc642e08224ded480f4afe7",
              "IPY_MODEL_d899c78ef1a5426584e4664ac871da65",
              "IPY_MODEL_53309d9c56914bc1ac0fe1925c0a08d4"
            ],
            "layout": "IPY_MODEL_5c4e3f403ef44bdc8a45265f2972eb41"
          }
        },
        "4d5de3206dc642e08224ded480f4afe7": {
          "model_module": "@jupyter-widgets/controls",
          "model_name": "HTMLModel",
          "model_module_version": "1.5.0",
          "state": {
            "_dom_classes": [],
            "_model_module": "@jupyter-widgets/controls",
            "_model_module_version": "1.5.0",
            "_model_name": "HTMLModel",
            "_view_count": null,
            "_view_module": "@jupyter-widgets/controls",
            "_view_module_version": "1.5.0",
            "_view_name": "HTMLView",
            "description": "",
            "description_tooltip": null,
            "layout": "IPY_MODEL_deaf149696354fbeb5593c6bb6554fb5",
            "placeholder": "​",
            "style": "IPY_MODEL_93cb983a09744eaea42e63c70d282e62",
            "value": "sentence_bert_config.json: 100%"
          }
        },
        "d899c78ef1a5426584e4664ac871da65": {
          "model_module": "@jupyter-widgets/controls",
          "model_name": "FloatProgressModel",
          "model_module_version": "1.5.0",
          "state": {
            "_dom_classes": [],
            "_model_module": "@jupyter-widgets/controls",
            "_model_module_version": "1.5.0",
            "_model_name": "FloatProgressModel",
            "_view_count": null,
            "_view_module": "@jupyter-widgets/controls",
            "_view_module_version": "1.5.0",
            "_view_name": "ProgressView",
            "bar_style": "success",
            "description": "",
            "description_tooltip": null,
            "layout": "IPY_MODEL_08cf89364f6b4111acdef0158c246d57",
            "max": 53,
            "min": 0,
            "orientation": "horizontal",
            "style": "IPY_MODEL_1b4155076d834f7b82329d0523196ff3",
            "value": 53
          }
        },
        "53309d9c56914bc1ac0fe1925c0a08d4": {
          "model_module": "@jupyter-widgets/controls",
          "model_name": "HTMLModel",
          "model_module_version": "1.5.0",
          "state": {
            "_dom_classes": [],
            "_model_module": "@jupyter-widgets/controls",
            "_model_module_version": "1.5.0",
            "_model_name": "HTMLModel",
            "_view_count": null,
            "_view_module": "@jupyter-widgets/controls",
            "_view_module_version": "1.5.0",
            "_view_name": "HTMLView",
            "description": "",
            "description_tooltip": null,
            "layout": "IPY_MODEL_6a9b80c4c5ab4b16a2abda93cfa484c5",
            "placeholder": "​",
            "style": "IPY_MODEL_99ffda27385c42fa8cfef3dde3a697a3",
            "value": " 53.0/53.0 [00:00&lt;00:00, 5.01kB/s]"
          }
        },
        "5c4e3f403ef44bdc8a45265f2972eb41": {
          "model_module": "@jupyter-widgets/base",
          "model_name": "LayoutModel",
          "model_module_version": "1.2.0",
          "state": {
            "_model_module": "@jupyter-widgets/base",
            "_model_module_version": "1.2.0",
            "_model_name": "LayoutModel",
            "_view_count": null,
            "_view_module": "@jupyter-widgets/base",
            "_view_module_version": "1.2.0",
            "_view_name": "LayoutView",
            "align_content": null,
            "align_items": null,
            "align_self": null,
            "border": null,
            "bottom": null,
            "display": null,
            "flex": null,
            "flex_flow": null,
            "grid_area": null,
            "grid_auto_columns": null,
            "grid_auto_flow": null,
            "grid_auto_rows": null,
            "grid_column": null,
            "grid_gap": null,
            "grid_row": null,
            "grid_template_areas": null,
            "grid_template_columns": null,
            "grid_template_rows": null,
            "height": null,
            "justify_content": null,
            "justify_items": null,
            "left": null,
            "margin": null,
            "max_height": null,
            "max_width": null,
            "min_height": null,
            "min_width": null,
            "object_fit": null,
            "object_position": null,
            "order": null,
            "overflow": null,
            "overflow_x": null,
            "overflow_y": null,
            "padding": null,
            "right": null,
            "top": null,
            "visibility": null,
            "width": null
          }
        },
        "deaf149696354fbeb5593c6bb6554fb5": {
          "model_module": "@jupyter-widgets/base",
          "model_name": "LayoutModel",
          "model_module_version": "1.2.0",
          "state": {
            "_model_module": "@jupyter-widgets/base",
            "_model_module_version": "1.2.0",
            "_model_name": "LayoutModel",
            "_view_count": null,
            "_view_module": "@jupyter-widgets/base",
            "_view_module_version": "1.2.0",
            "_view_name": "LayoutView",
            "align_content": null,
            "align_items": null,
            "align_self": null,
            "border": null,
            "bottom": null,
            "display": null,
            "flex": null,
            "flex_flow": null,
            "grid_area": null,
            "grid_auto_columns": null,
            "grid_auto_flow": null,
            "grid_auto_rows": null,
            "grid_column": null,
            "grid_gap": null,
            "grid_row": null,
            "grid_template_areas": null,
            "grid_template_columns": null,
            "grid_template_rows": null,
            "height": null,
            "justify_content": null,
            "justify_items": null,
            "left": null,
            "margin": null,
            "max_height": null,
            "max_width": null,
            "min_height": null,
            "min_width": null,
            "object_fit": null,
            "object_position": null,
            "order": null,
            "overflow": null,
            "overflow_x": null,
            "overflow_y": null,
            "padding": null,
            "right": null,
            "top": null,
            "visibility": null,
            "width": null
          }
        },
        "93cb983a09744eaea42e63c70d282e62": {
          "model_module": "@jupyter-widgets/controls",
          "model_name": "DescriptionStyleModel",
          "model_module_version": "1.5.0",
          "state": {
            "_model_module": "@jupyter-widgets/controls",
            "_model_module_version": "1.5.0",
            "_model_name": "DescriptionStyleModel",
            "_view_count": null,
            "_view_module": "@jupyter-widgets/base",
            "_view_module_version": "1.2.0",
            "_view_name": "StyleView",
            "description_width": ""
          }
        },
        "08cf89364f6b4111acdef0158c246d57": {
          "model_module": "@jupyter-widgets/base",
          "model_name": "LayoutModel",
          "model_module_version": "1.2.0",
          "state": {
            "_model_module": "@jupyter-widgets/base",
            "_model_module_version": "1.2.0",
            "_model_name": "LayoutModel",
            "_view_count": null,
            "_view_module": "@jupyter-widgets/base",
            "_view_module_version": "1.2.0",
            "_view_name": "LayoutView",
            "align_content": null,
            "align_items": null,
            "align_self": null,
            "border": null,
            "bottom": null,
            "display": null,
            "flex": null,
            "flex_flow": null,
            "grid_area": null,
            "grid_auto_columns": null,
            "grid_auto_flow": null,
            "grid_auto_rows": null,
            "grid_column": null,
            "grid_gap": null,
            "grid_row": null,
            "grid_template_areas": null,
            "grid_template_columns": null,
            "grid_template_rows": null,
            "height": null,
            "justify_content": null,
            "justify_items": null,
            "left": null,
            "margin": null,
            "max_height": null,
            "max_width": null,
            "min_height": null,
            "min_width": null,
            "object_fit": null,
            "object_position": null,
            "order": null,
            "overflow": null,
            "overflow_x": null,
            "overflow_y": null,
            "padding": null,
            "right": null,
            "top": null,
            "visibility": null,
            "width": null
          }
        },
        "1b4155076d834f7b82329d0523196ff3": {
          "model_module": "@jupyter-widgets/controls",
          "model_name": "ProgressStyleModel",
          "model_module_version": "1.5.0",
          "state": {
            "_model_module": "@jupyter-widgets/controls",
            "_model_module_version": "1.5.0",
            "_model_name": "ProgressStyleModel",
            "_view_count": null,
            "_view_module": "@jupyter-widgets/base",
            "_view_module_version": "1.2.0",
            "_view_name": "StyleView",
            "bar_color": null,
            "description_width": ""
          }
        },
        "6a9b80c4c5ab4b16a2abda93cfa484c5": {
          "model_module": "@jupyter-widgets/base",
          "model_name": "LayoutModel",
          "model_module_version": "1.2.0",
          "state": {
            "_model_module": "@jupyter-widgets/base",
            "_model_module_version": "1.2.0",
            "_model_name": "LayoutModel",
            "_view_count": null,
            "_view_module": "@jupyter-widgets/base",
            "_view_module_version": "1.2.0",
            "_view_name": "LayoutView",
            "align_content": null,
            "align_items": null,
            "align_self": null,
            "border": null,
            "bottom": null,
            "display": null,
            "flex": null,
            "flex_flow": null,
            "grid_area": null,
            "grid_auto_columns": null,
            "grid_auto_flow": null,
            "grid_auto_rows": null,
            "grid_column": null,
            "grid_gap": null,
            "grid_row": null,
            "grid_template_areas": null,
            "grid_template_columns": null,
            "grid_template_rows": null,
            "height": null,
            "justify_content": null,
            "justify_items": null,
            "left": null,
            "margin": null,
            "max_height": null,
            "max_width": null,
            "min_height": null,
            "min_width": null,
            "object_fit": null,
            "object_position": null,
            "order": null,
            "overflow": null,
            "overflow_x": null,
            "overflow_y": null,
            "padding": null,
            "right": null,
            "top": null,
            "visibility": null,
            "width": null
          }
        },
        "99ffda27385c42fa8cfef3dde3a697a3": {
          "model_module": "@jupyter-widgets/controls",
          "model_name": "DescriptionStyleModel",
          "model_module_version": "1.5.0",
          "state": {
            "_model_module": "@jupyter-widgets/controls",
            "_model_module_version": "1.5.0",
            "_model_name": "DescriptionStyleModel",
            "_view_count": null,
            "_view_module": "@jupyter-widgets/base",
            "_view_module_version": "1.2.0",
            "_view_name": "StyleView",
            "description_width": ""
          }
        },
        "76d9f074fa78414faed0c121e073ba60": {
          "model_module": "@jupyter-widgets/controls",
          "model_name": "HBoxModel",
          "model_module_version": "1.5.0",
          "state": {
            "_dom_classes": [],
            "_model_module": "@jupyter-widgets/controls",
            "_model_module_version": "1.5.0",
            "_model_name": "HBoxModel",
            "_view_count": null,
            "_view_module": "@jupyter-widgets/controls",
            "_view_module_version": "1.5.0",
            "_view_name": "HBoxView",
            "box_style": "",
            "children": [
              "IPY_MODEL_d5b07b32b5e449b0a539b3f9d167c62e",
              "IPY_MODEL_8da0e2800ec64d27ab04c49a788e64c9",
              "IPY_MODEL_fd4fedff8a9344999602907dd8102b0d"
            ],
            "layout": "IPY_MODEL_7d308a78aabb484a86e349625fb73e4d"
          }
        },
        "d5b07b32b5e449b0a539b3f9d167c62e": {
          "model_module": "@jupyter-widgets/controls",
          "model_name": "HTMLModel",
          "model_module_version": "1.5.0",
          "state": {
            "_dom_classes": [],
            "_model_module": "@jupyter-widgets/controls",
            "_model_module_version": "1.5.0",
            "_model_name": "HTMLModel",
            "_view_count": null,
            "_view_module": "@jupyter-widgets/controls",
            "_view_module_version": "1.5.0",
            "_view_name": "HTMLView",
            "description": "",
            "description_tooltip": null,
            "layout": "IPY_MODEL_de65f822ca734f90975774d9d12950d6",
            "placeholder": "​",
            "style": "IPY_MODEL_bd30e4b516cd4664806e7650bf5d2ce1",
            "value": "config.json: 100%"
          }
        },
        "8da0e2800ec64d27ab04c49a788e64c9": {
          "model_module": "@jupyter-widgets/controls",
          "model_name": "FloatProgressModel",
          "model_module_version": "1.5.0",
          "state": {
            "_dom_classes": [],
            "_model_module": "@jupyter-widgets/controls",
            "_model_module_version": "1.5.0",
            "_model_name": "FloatProgressModel",
            "_view_count": null,
            "_view_module": "@jupyter-widgets/controls",
            "_view_module_version": "1.5.0",
            "_view_name": "ProgressView",
            "bar_style": "success",
            "description": "",
            "description_tooltip": null,
            "layout": "IPY_MODEL_eb46f57150fd489fb97d1bf290c8b8b7",
            "max": 612,
            "min": 0,
            "orientation": "horizontal",
            "style": "IPY_MODEL_f3cad1e90b334b0fbd7e4fff219609a6",
            "value": 612
          }
        },
        "fd4fedff8a9344999602907dd8102b0d": {
          "model_module": "@jupyter-widgets/controls",
          "model_name": "HTMLModel",
          "model_module_version": "1.5.0",
          "state": {
            "_dom_classes": [],
            "_model_module": "@jupyter-widgets/controls",
            "_model_module_version": "1.5.0",
            "_model_name": "HTMLModel",
            "_view_count": null,
            "_view_module": "@jupyter-widgets/controls",
            "_view_module_version": "1.5.0",
            "_view_name": "HTMLView",
            "description": "",
            "description_tooltip": null,
            "layout": "IPY_MODEL_4fddbf4f90ec4c19829a36e0a3df1dee",
            "placeholder": "​",
            "style": "IPY_MODEL_f7f37fadf7e94e3b9903875b3271e15f",
            "value": " 612/612 [00:00&lt;00:00, 66.0kB/s]"
          }
        },
        "7d308a78aabb484a86e349625fb73e4d": {
          "model_module": "@jupyter-widgets/base",
          "model_name": "LayoutModel",
          "model_module_version": "1.2.0",
          "state": {
            "_model_module": "@jupyter-widgets/base",
            "_model_module_version": "1.2.0",
            "_model_name": "LayoutModel",
            "_view_count": null,
            "_view_module": "@jupyter-widgets/base",
            "_view_module_version": "1.2.0",
            "_view_name": "LayoutView",
            "align_content": null,
            "align_items": null,
            "align_self": null,
            "border": null,
            "bottom": null,
            "display": null,
            "flex": null,
            "flex_flow": null,
            "grid_area": null,
            "grid_auto_columns": null,
            "grid_auto_flow": null,
            "grid_auto_rows": null,
            "grid_column": null,
            "grid_gap": null,
            "grid_row": null,
            "grid_template_areas": null,
            "grid_template_columns": null,
            "grid_template_rows": null,
            "height": null,
            "justify_content": null,
            "justify_items": null,
            "left": null,
            "margin": null,
            "max_height": null,
            "max_width": null,
            "min_height": null,
            "min_width": null,
            "object_fit": null,
            "object_position": null,
            "order": null,
            "overflow": null,
            "overflow_x": null,
            "overflow_y": null,
            "padding": null,
            "right": null,
            "top": null,
            "visibility": null,
            "width": null
          }
        },
        "de65f822ca734f90975774d9d12950d6": {
          "model_module": "@jupyter-widgets/base",
          "model_name": "LayoutModel",
          "model_module_version": "1.2.0",
          "state": {
            "_model_module": "@jupyter-widgets/base",
            "_model_module_version": "1.2.0",
            "_model_name": "LayoutModel",
            "_view_count": null,
            "_view_module": "@jupyter-widgets/base",
            "_view_module_version": "1.2.0",
            "_view_name": "LayoutView",
            "align_content": null,
            "align_items": null,
            "align_self": null,
            "border": null,
            "bottom": null,
            "display": null,
            "flex": null,
            "flex_flow": null,
            "grid_area": null,
            "grid_auto_columns": null,
            "grid_auto_flow": null,
            "grid_auto_rows": null,
            "grid_column": null,
            "grid_gap": null,
            "grid_row": null,
            "grid_template_areas": null,
            "grid_template_columns": null,
            "grid_template_rows": null,
            "height": null,
            "justify_content": null,
            "justify_items": null,
            "left": null,
            "margin": null,
            "max_height": null,
            "max_width": null,
            "min_height": null,
            "min_width": null,
            "object_fit": null,
            "object_position": null,
            "order": null,
            "overflow": null,
            "overflow_x": null,
            "overflow_y": null,
            "padding": null,
            "right": null,
            "top": null,
            "visibility": null,
            "width": null
          }
        },
        "bd30e4b516cd4664806e7650bf5d2ce1": {
          "model_module": "@jupyter-widgets/controls",
          "model_name": "DescriptionStyleModel",
          "model_module_version": "1.5.0",
          "state": {
            "_model_module": "@jupyter-widgets/controls",
            "_model_module_version": "1.5.0",
            "_model_name": "DescriptionStyleModel",
            "_view_count": null,
            "_view_module": "@jupyter-widgets/base",
            "_view_module_version": "1.2.0",
            "_view_name": "StyleView",
            "description_width": ""
          }
        },
        "eb46f57150fd489fb97d1bf290c8b8b7": {
          "model_module": "@jupyter-widgets/base",
          "model_name": "LayoutModel",
          "model_module_version": "1.2.0",
          "state": {
            "_model_module": "@jupyter-widgets/base",
            "_model_module_version": "1.2.0",
            "_model_name": "LayoutModel",
            "_view_count": null,
            "_view_module": "@jupyter-widgets/base",
            "_view_module_version": "1.2.0",
            "_view_name": "LayoutView",
            "align_content": null,
            "align_items": null,
            "align_self": null,
            "border": null,
            "bottom": null,
            "display": null,
            "flex": null,
            "flex_flow": null,
            "grid_area": null,
            "grid_auto_columns": null,
            "grid_auto_flow": null,
            "grid_auto_rows": null,
            "grid_column": null,
            "grid_gap": null,
            "grid_row": null,
            "grid_template_areas": null,
            "grid_template_columns": null,
            "grid_template_rows": null,
            "height": null,
            "justify_content": null,
            "justify_items": null,
            "left": null,
            "margin": null,
            "max_height": null,
            "max_width": null,
            "min_height": null,
            "min_width": null,
            "object_fit": null,
            "object_position": null,
            "order": null,
            "overflow": null,
            "overflow_x": null,
            "overflow_y": null,
            "padding": null,
            "right": null,
            "top": null,
            "visibility": null,
            "width": null
          }
        },
        "f3cad1e90b334b0fbd7e4fff219609a6": {
          "model_module": "@jupyter-widgets/controls",
          "model_name": "ProgressStyleModel",
          "model_module_version": "1.5.0",
          "state": {
            "_model_module": "@jupyter-widgets/controls",
            "_model_module_version": "1.5.0",
            "_model_name": "ProgressStyleModel",
            "_view_count": null,
            "_view_module": "@jupyter-widgets/base",
            "_view_module_version": "1.2.0",
            "_view_name": "StyleView",
            "bar_color": null,
            "description_width": ""
          }
        },
        "4fddbf4f90ec4c19829a36e0a3df1dee": {
          "model_module": "@jupyter-widgets/base",
          "model_name": "LayoutModel",
          "model_module_version": "1.2.0",
          "state": {
            "_model_module": "@jupyter-widgets/base",
            "_model_module_version": "1.2.0",
            "_model_name": "LayoutModel",
            "_view_count": null,
            "_view_module": "@jupyter-widgets/base",
            "_view_module_version": "1.2.0",
            "_view_name": "LayoutView",
            "align_content": null,
            "align_items": null,
            "align_self": null,
            "border": null,
            "bottom": null,
            "display": null,
            "flex": null,
            "flex_flow": null,
            "grid_area": null,
            "grid_auto_columns": null,
            "grid_auto_flow": null,
            "grid_auto_rows": null,
            "grid_column": null,
            "grid_gap": null,
            "grid_row": null,
            "grid_template_areas": null,
            "grid_template_columns": null,
            "grid_template_rows": null,
            "height": null,
            "justify_content": null,
            "justify_items": null,
            "left": null,
            "margin": null,
            "max_height": null,
            "max_width": null,
            "min_height": null,
            "min_width": null,
            "object_fit": null,
            "object_position": null,
            "order": null,
            "overflow": null,
            "overflow_x": null,
            "overflow_y": null,
            "padding": null,
            "right": null,
            "top": null,
            "visibility": null,
            "width": null
          }
        },
        "f7f37fadf7e94e3b9903875b3271e15f": {
          "model_module": "@jupyter-widgets/controls",
          "model_name": "DescriptionStyleModel",
          "model_module_version": "1.5.0",
          "state": {
            "_model_module": "@jupyter-widgets/controls",
            "_model_module_version": "1.5.0",
            "_model_name": "DescriptionStyleModel",
            "_view_count": null,
            "_view_module": "@jupyter-widgets/base",
            "_view_module_version": "1.2.0",
            "_view_name": "StyleView",
            "description_width": ""
          }
        },
        "52b96281cbce407cb379e75f0e041a1e": {
          "model_module": "@jupyter-widgets/controls",
          "model_name": "HBoxModel",
          "model_module_version": "1.5.0",
          "state": {
            "_dom_classes": [],
            "_model_module": "@jupyter-widgets/controls",
            "_model_module_version": "1.5.0",
            "_model_name": "HBoxModel",
            "_view_count": null,
            "_view_module": "@jupyter-widgets/controls",
            "_view_module_version": "1.5.0",
            "_view_name": "HBoxView",
            "box_style": "",
            "children": [
              "IPY_MODEL_b55d0a71913e4dd8aa4108483c836c8c",
              "IPY_MODEL_3a45a7e596734a7bbe556c5b5b5fed55",
              "IPY_MODEL_dc4f430582bf45589280432eede6697d"
            ],
            "layout": "IPY_MODEL_7840e8c851af4cdfaa5bee1e56a655b4"
          }
        },
        "b55d0a71913e4dd8aa4108483c836c8c": {
          "model_module": "@jupyter-widgets/controls",
          "model_name": "HTMLModel",
          "model_module_version": "1.5.0",
          "state": {
            "_dom_classes": [],
            "_model_module": "@jupyter-widgets/controls",
            "_model_module_version": "1.5.0",
            "_model_name": "HTMLModel",
            "_view_count": null,
            "_view_module": "@jupyter-widgets/controls",
            "_view_module_version": "1.5.0",
            "_view_name": "HTMLView",
            "description": "",
            "description_tooltip": null,
            "layout": "IPY_MODEL_d9a79cb4a449480298415291568554ed",
            "placeholder": "​",
            "style": "IPY_MODEL_1374cbcab00a4b889d6362fe49053590",
            "value": "model.safetensors: 100%"
          }
        },
        "3a45a7e596734a7bbe556c5b5b5fed55": {
          "model_module": "@jupyter-widgets/controls",
          "model_name": "FloatProgressModel",
          "model_module_version": "1.5.0",
          "state": {
            "_dom_classes": [],
            "_model_module": "@jupyter-widgets/controls",
            "_model_module_version": "1.5.0",
            "_model_name": "FloatProgressModel",
            "_view_count": null,
            "_view_module": "@jupyter-widgets/controls",
            "_view_module_version": "1.5.0",
            "_view_name": "ProgressView",
            "bar_style": "success",
            "description": "",
            "description_tooltip": null,
            "layout": "IPY_MODEL_50ca4441ea4547af9610c20be77f02ae",
            "max": 90868376,
            "min": 0,
            "orientation": "horizontal",
            "style": "IPY_MODEL_e92bb413d23f4ec7ae2c5373066d0911",
            "value": 90868376
          }
        },
        "dc4f430582bf45589280432eede6697d": {
          "model_module": "@jupyter-widgets/controls",
          "model_name": "HTMLModel",
          "model_module_version": "1.5.0",
          "state": {
            "_dom_classes": [],
            "_model_module": "@jupyter-widgets/controls",
            "_model_module_version": "1.5.0",
            "_model_name": "HTMLModel",
            "_view_count": null,
            "_view_module": "@jupyter-widgets/controls",
            "_view_module_version": "1.5.0",
            "_view_name": "HTMLView",
            "description": "",
            "description_tooltip": null,
            "layout": "IPY_MODEL_eb2b2f92f6fe41c5b245961ad969d833",
            "placeholder": "​",
            "style": "IPY_MODEL_1f27c2959f3c4c0c845221bf3909daea",
            "value": " 90.9M/90.9M [00:00&lt;00:00, 208MB/s]"
          }
        },
        "7840e8c851af4cdfaa5bee1e56a655b4": {
          "model_module": "@jupyter-widgets/base",
          "model_name": "LayoutModel",
          "model_module_version": "1.2.0",
          "state": {
            "_model_module": "@jupyter-widgets/base",
            "_model_module_version": "1.2.0",
            "_model_name": "LayoutModel",
            "_view_count": null,
            "_view_module": "@jupyter-widgets/base",
            "_view_module_version": "1.2.0",
            "_view_name": "LayoutView",
            "align_content": null,
            "align_items": null,
            "align_self": null,
            "border": null,
            "bottom": null,
            "display": null,
            "flex": null,
            "flex_flow": null,
            "grid_area": null,
            "grid_auto_columns": null,
            "grid_auto_flow": null,
            "grid_auto_rows": null,
            "grid_column": null,
            "grid_gap": null,
            "grid_row": null,
            "grid_template_areas": null,
            "grid_template_columns": null,
            "grid_template_rows": null,
            "height": null,
            "justify_content": null,
            "justify_items": null,
            "left": null,
            "margin": null,
            "max_height": null,
            "max_width": null,
            "min_height": null,
            "min_width": null,
            "object_fit": null,
            "object_position": null,
            "order": null,
            "overflow": null,
            "overflow_x": null,
            "overflow_y": null,
            "padding": null,
            "right": null,
            "top": null,
            "visibility": null,
            "width": null
          }
        },
        "d9a79cb4a449480298415291568554ed": {
          "model_module": "@jupyter-widgets/base",
          "model_name": "LayoutModel",
          "model_module_version": "1.2.0",
          "state": {
            "_model_module": "@jupyter-widgets/base",
            "_model_module_version": "1.2.0",
            "_model_name": "LayoutModel",
            "_view_count": null,
            "_view_module": "@jupyter-widgets/base",
            "_view_module_version": "1.2.0",
            "_view_name": "LayoutView",
            "align_content": null,
            "align_items": null,
            "align_self": null,
            "border": null,
            "bottom": null,
            "display": null,
            "flex": null,
            "flex_flow": null,
            "grid_area": null,
            "grid_auto_columns": null,
            "grid_auto_flow": null,
            "grid_auto_rows": null,
            "grid_column": null,
            "grid_gap": null,
            "grid_row": null,
            "grid_template_areas": null,
            "grid_template_columns": null,
            "grid_template_rows": null,
            "height": null,
            "justify_content": null,
            "justify_items": null,
            "left": null,
            "margin": null,
            "max_height": null,
            "max_width": null,
            "min_height": null,
            "min_width": null,
            "object_fit": null,
            "object_position": null,
            "order": null,
            "overflow": null,
            "overflow_x": null,
            "overflow_y": null,
            "padding": null,
            "right": null,
            "top": null,
            "visibility": null,
            "width": null
          }
        },
        "1374cbcab00a4b889d6362fe49053590": {
          "model_module": "@jupyter-widgets/controls",
          "model_name": "DescriptionStyleModel",
          "model_module_version": "1.5.0",
          "state": {
            "_model_module": "@jupyter-widgets/controls",
            "_model_module_version": "1.5.0",
            "_model_name": "DescriptionStyleModel",
            "_view_count": null,
            "_view_module": "@jupyter-widgets/base",
            "_view_module_version": "1.2.0",
            "_view_name": "StyleView",
            "description_width": ""
          }
        },
        "50ca4441ea4547af9610c20be77f02ae": {
          "model_module": "@jupyter-widgets/base",
          "model_name": "LayoutModel",
          "model_module_version": "1.2.0",
          "state": {
            "_model_module": "@jupyter-widgets/base",
            "_model_module_version": "1.2.0",
            "_model_name": "LayoutModel",
            "_view_count": null,
            "_view_module": "@jupyter-widgets/base",
            "_view_module_version": "1.2.0",
            "_view_name": "LayoutView",
            "align_content": null,
            "align_items": null,
            "align_self": null,
            "border": null,
            "bottom": null,
            "display": null,
            "flex": null,
            "flex_flow": null,
            "grid_area": null,
            "grid_auto_columns": null,
            "grid_auto_flow": null,
            "grid_auto_rows": null,
            "grid_column": null,
            "grid_gap": null,
            "grid_row": null,
            "grid_template_areas": null,
            "grid_template_columns": null,
            "grid_template_rows": null,
            "height": null,
            "justify_content": null,
            "justify_items": null,
            "left": null,
            "margin": null,
            "max_height": null,
            "max_width": null,
            "min_height": null,
            "min_width": null,
            "object_fit": null,
            "object_position": null,
            "order": null,
            "overflow": null,
            "overflow_x": null,
            "overflow_y": null,
            "padding": null,
            "right": null,
            "top": null,
            "visibility": null,
            "width": null
          }
        },
        "e92bb413d23f4ec7ae2c5373066d0911": {
          "model_module": "@jupyter-widgets/controls",
          "model_name": "ProgressStyleModel",
          "model_module_version": "1.5.0",
          "state": {
            "_model_module": "@jupyter-widgets/controls",
            "_model_module_version": "1.5.0",
            "_model_name": "ProgressStyleModel",
            "_view_count": null,
            "_view_module": "@jupyter-widgets/base",
            "_view_module_version": "1.2.0",
            "_view_name": "StyleView",
            "bar_color": null,
            "description_width": ""
          }
        },
        "eb2b2f92f6fe41c5b245961ad969d833": {
          "model_module": "@jupyter-widgets/base",
          "model_name": "LayoutModel",
          "model_module_version": "1.2.0",
          "state": {
            "_model_module": "@jupyter-widgets/base",
            "_model_module_version": "1.2.0",
            "_model_name": "LayoutModel",
            "_view_count": null,
            "_view_module": "@jupyter-widgets/base",
            "_view_module_version": "1.2.0",
            "_view_name": "LayoutView",
            "align_content": null,
            "align_items": null,
            "align_self": null,
            "border": null,
            "bottom": null,
            "display": null,
            "flex": null,
            "flex_flow": null,
            "grid_area": null,
            "grid_auto_columns": null,
            "grid_auto_flow": null,
            "grid_auto_rows": null,
            "grid_column": null,
            "grid_gap": null,
            "grid_row": null,
            "grid_template_areas": null,
            "grid_template_columns": null,
            "grid_template_rows": null,
            "height": null,
            "justify_content": null,
            "justify_items": null,
            "left": null,
            "margin": null,
            "max_height": null,
            "max_width": null,
            "min_height": null,
            "min_width": null,
            "object_fit": null,
            "object_position": null,
            "order": null,
            "overflow": null,
            "overflow_x": null,
            "overflow_y": null,
            "padding": null,
            "right": null,
            "top": null,
            "visibility": null,
            "width": null
          }
        },
        "1f27c2959f3c4c0c845221bf3909daea": {
          "model_module": "@jupyter-widgets/controls",
          "model_name": "DescriptionStyleModel",
          "model_module_version": "1.5.0",
          "state": {
            "_model_module": "@jupyter-widgets/controls",
            "_model_module_version": "1.5.0",
            "_model_name": "DescriptionStyleModel",
            "_view_count": null,
            "_view_module": "@jupyter-widgets/base",
            "_view_module_version": "1.2.0",
            "_view_name": "StyleView",
            "description_width": ""
          }
        },
        "6d7b39d72c3d4674a0e6c582fb540232": {
          "model_module": "@jupyter-widgets/controls",
          "model_name": "HBoxModel",
          "model_module_version": "1.5.0",
          "state": {
            "_dom_classes": [],
            "_model_module": "@jupyter-widgets/controls",
            "_model_module_version": "1.5.0",
            "_model_name": "HBoxModel",
            "_view_count": null,
            "_view_module": "@jupyter-widgets/controls",
            "_view_module_version": "1.5.0",
            "_view_name": "HBoxView",
            "box_style": "",
            "children": [
              "IPY_MODEL_0455fc5c25914d1283ffae15bb3b42a8",
              "IPY_MODEL_b7fdf430bd2743ff9545a070b9d754eb",
              "IPY_MODEL_22aa998ce3e24015ad233789f35eaf7a"
            ],
            "layout": "IPY_MODEL_fa45e1689dbd4d7b89b021afd00fb333"
          }
        },
        "0455fc5c25914d1283ffae15bb3b42a8": {
          "model_module": "@jupyter-widgets/controls",
          "model_name": "HTMLModel",
          "model_module_version": "1.5.0",
          "state": {
            "_dom_classes": [],
            "_model_module": "@jupyter-widgets/controls",
            "_model_module_version": "1.5.0",
            "_model_name": "HTMLModel",
            "_view_count": null,
            "_view_module": "@jupyter-widgets/controls",
            "_view_module_version": "1.5.0",
            "_view_name": "HTMLView",
            "description": "",
            "description_tooltip": null,
            "layout": "IPY_MODEL_94115226e5224c4bbadec1c58af8c396",
            "placeholder": "​",
            "style": "IPY_MODEL_7583f593aef24b799edac5272b7e51a0",
            "value": "tokenizer_config.json: 100%"
          }
        },
        "b7fdf430bd2743ff9545a070b9d754eb": {
          "model_module": "@jupyter-widgets/controls",
          "model_name": "FloatProgressModel",
          "model_module_version": "1.5.0",
          "state": {
            "_dom_classes": [],
            "_model_module": "@jupyter-widgets/controls",
            "_model_module_version": "1.5.0",
            "_model_name": "FloatProgressModel",
            "_view_count": null,
            "_view_module": "@jupyter-widgets/controls",
            "_view_module_version": "1.5.0",
            "_view_name": "ProgressView",
            "bar_style": "success",
            "description": "",
            "description_tooltip": null,
            "layout": "IPY_MODEL_e18bd47761f74809b08c83b9808a121c",
            "max": 350,
            "min": 0,
            "orientation": "horizontal",
            "style": "IPY_MODEL_104b825c271d42e2a72e14353483f9ab",
            "value": 350
          }
        },
        "22aa998ce3e24015ad233789f35eaf7a": {
          "model_module": "@jupyter-widgets/controls",
          "model_name": "HTMLModel",
          "model_module_version": "1.5.0",
          "state": {
            "_dom_classes": [],
            "_model_module": "@jupyter-widgets/controls",
            "_model_module_version": "1.5.0",
            "_model_name": "HTMLModel",
            "_view_count": null,
            "_view_module": "@jupyter-widgets/controls",
            "_view_module_version": "1.5.0",
            "_view_name": "HTMLView",
            "description": "",
            "description_tooltip": null,
            "layout": "IPY_MODEL_763eeb72a5254594a033804d17538cdc",
            "placeholder": "​",
            "style": "IPY_MODEL_3e6b663bc0b34fe0a67a1adc438f5669",
            "value": " 350/350 [00:00&lt;00:00, 32.0kB/s]"
          }
        },
        "fa45e1689dbd4d7b89b021afd00fb333": {
          "model_module": "@jupyter-widgets/base",
          "model_name": "LayoutModel",
          "model_module_version": "1.2.0",
          "state": {
            "_model_module": "@jupyter-widgets/base",
            "_model_module_version": "1.2.0",
            "_model_name": "LayoutModel",
            "_view_count": null,
            "_view_module": "@jupyter-widgets/base",
            "_view_module_version": "1.2.0",
            "_view_name": "LayoutView",
            "align_content": null,
            "align_items": null,
            "align_self": null,
            "border": null,
            "bottom": null,
            "display": null,
            "flex": null,
            "flex_flow": null,
            "grid_area": null,
            "grid_auto_columns": null,
            "grid_auto_flow": null,
            "grid_auto_rows": null,
            "grid_column": null,
            "grid_gap": null,
            "grid_row": null,
            "grid_template_areas": null,
            "grid_template_columns": null,
            "grid_template_rows": null,
            "height": null,
            "justify_content": null,
            "justify_items": null,
            "left": null,
            "margin": null,
            "max_height": null,
            "max_width": null,
            "min_height": null,
            "min_width": null,
            "object_fit": null,
            "object_position": null,
            "order": null,
            "overflow": null,
            "overflow_x": null,
            "overflow_y": null,
            "padding": null,
            "right": null,
            "top": null,
            "visibility": null,
            "width": null
          }
        },
        "94115226e5224c4bbadec1c58af8c396": {
          "model_module": "@jupyter-widgets/base",
          "model_name": "LayoutModel",
          "model_module_version": "1.2.0",
          "state": {
            "_model_module": "@jupyter-widgets/base",
            "_model_module_version": "1.2.0",
            "_model_name": "LayoutModel",
            "_view_count": null,
            "_view_module": "@jupyter-widgets/base",
            "_view_module_version": "1.2.0",
            "_view_name": "LayoutView",
            "align_content": null,
            "align_items": null,
            "align_self": null,
            "border": null,
            "bottom": null,
            "display": null,
            "flex": null,
            "flex_flow": null,
            "grid_area": null,
            "grid_auto_columns": null,
            "grid_auto_flow": null,
            "grid_auto_rows": null,
            "grid_column": null,
            "grid_gap": null,
            "grid_row": null,
            "grid_template_areas": null,
            "grid_template_columns": null,
            "grid_template_rows": null,
            "height": null,
            "justify_content": null,
            "justify_items": null,
            "left": null,
            "margin": null,
            "max_height": null,
            "max_width": null,
            "min_height": null,
            "min_width": null,
            "object_fit": null,
            "object_position": null,
            "order": null,
            "overflow": null,
            "overflow_x": null,
            "overflow_y": null,
            "padding": null,
            "right": null,
            "top": null,
            "visibility": null,
            "width": null
          }
        },
        "7583f593aef24b799edac5272b7e51a0": {
          "model_module": "@jupyter-widgets/controls",
          "model_name": "DescriptionStyleModel",
          "model_module_version": "1.5.0",
          "state": {
            "_model_module": "@jupyter-widgets/controls",
            "_model_module_version": "1.5.0",
            "_model_name": "DescriptionStyleModel",
            "_view_count": null,
            "_view_module": "@jupyter-widgets/base",
            "_view_module_version": "1.2.0",
            "_view_name": "StyleView",
            "description_width": ""
          }
        },
        "e18bd47761f74809b08c83b9808a121c": {
          "model_module": "@jupyter-widgets/base",
          "model_name": "LayoutModel",
          "model_module_version": "1.2.0",
          "state": {
            "_model_module": "@jupyter-widgets/base",
            "_model_module_version": "1.2.0",
            "_model_name": "LayoutModel",
            "_view_count": null,
            "_view_module": "@jupyter-widgets/base",
            "_view_module_version": "1.2.0",
            "_view_name": "LayoutView",
            "align_content": null,
            "align_items": null,
            "align_self": null,
            "border": null,
            "bottom": null,
            "display": null,
            "flex": null,
            "flex_flow": null,
            "grid_area": null,
            "grid_auto_columns": null,
            "grid_auto_flow": null,
            "grid_auto_rows": null,
            "grid_column": null,
            "grid_gap": null,
            "grid_row": null,
            "grid_template_areas": null,
            "grid_template_columns": null,
            "grid_template_rows": null,
            "height": null,
            "justify_content": null,
            "justify_items": null,
            "left": null,
            "margin": null,
            "max_height": null,
            "max_width": null,
            "min_height": null,
            "min_width": null,
            "object_fit": null,
            "object_position": null,
            "order": null,
            "overflow": null,
            "overflow_x": null,
            "overflow_y": null,
            "padding": null,
            "right": null,
            "top": null,
            "visibility": null,
            "width": null
          }
        },
        "104b825c271d42e2a72e14353483f9ab": {
          "model_module": "@jupyter-widgets/controls",
          "model_name": "ProgressStyleModel",
          "model_module_version": "1.5.0",
          "state": {
            "_model_module": "@jupyter-widgets/controls",
            "_model_module_version": "1.5.0",
            "_model_name": "ProgressStyleModel",
            "_view_count": null,
            "_view_module": "@jupyter-widgets/base",
            "_view_module_version": "1.2.0",
            "_view_name": "StyleView",
            "bar_color": null,
            "description_width": ""
          }
        },
        "763eeb72a5254594a033804d17538cdc": {
          "model_module": "@jupyter-widgets/base",
          "model_name": "LayoutModel",
          "model_module_version": "1.2.0",
          "state": {
            "_model_module": "@jupyter-widgets/base",
            "_model_module_version": "1.2.0",
            "_model_name": "LayoutModel",
            "_view_count": null,
            "_view_module": "@jupyter-widgets/base",
            "_view_module_version": "1.2.0",
            "_view_name": "LayoutView",
            "align_content": null,
            "align_items": null,
            "align_self": null,
            "border": null,
            "bottom": null,
            "display": null,
            "flex": null,
            "flex_flow": null,
            "grid_area": null,
            "grid_auto_columns": null,
            "grid_auto_flow": null,
            "grid_auto_rows": null,
            "grid_column": null,
            "grid_gap": null,
            "grid_row": null,
            "grid_template_areas": null,
            "grid_template_columns": null,
            "grid_template_rows": null,
            "height": null,
            "justify_content": null,
            "justify_items": null,
            "left": null,
            "margin": null,
            "max_height": null,
            "max_width": null,
            "min_height": null,
            "min_width": null,
            "object_fit": null,
            "object_position": null,
            "order": null,
            "overflow": null,
            "overflow_x": null,
            "overflow_y": null,
            "padding": null,
            "right": null,
            "top": null,
            "visibility": null,
            "width": null
          }
        },
        "3e6b663bc0b34fe0a67a1adc438f5669": {
          "model_module": "@jupyter-widgets/controls",
          "model_name": "DescriptionStyleModel",
          "model_module_version": "1.5.0",
          "state": {
            "_model_module": "@jupyter-widgets/controls",
            "_model_module_version": "1.5.0",
            "_model_name": "DescriptionStyleModel",
            "_view_count": null,
            "_view_module": "@jupyter-widgets/base",
            "_view_module_version": "1.2.0",
            "_view_name": "StyleView",
            "description_width": ""
          }
        },
        "430050ff692645588b8228211b8c8e99": {
          "model_module": "@jupyter-widgets/controls",
          "model_name": "HBoxModel",
          "model_module_version": "1.5.0",
          "state": {
            "_dom_classes": [],
            "_model_module": "@jupyter-widgets/controls",
            "_model_module_version": "1.5.0",
            "_model_name": "HBoxModel",
            "_view_count": null,
            "_view_module": "@jupyter-widgets/controls",
            "_view_module_version": "1.5.0",
            "_view_name": "HBoxView",
            "box_style": "",
            "children": [
              "IPY_MODEL_3550eaabb6144d2db58ba4f1719bc82f",
              "IPY_MODEL_c06de10cfa8043259816e3d6cc1de1c9",
              "IPY_MODEL_7fb1a148fb8749269fd65491f77500b8"
            ],
            "layout": "IPY_MODEL_129967d7ccd04f71905874da0d289d03"
          }
        },
        "3550eaabb6144d2db58ba4f1719bc82f": {
          "model_module": "@jupyter-widgets/controls",
          "model_name": "HTMLModel",
          "model_module_version": "1.5.0",
          "state": {
            "_dom_classes": [],
            "_model_module": "@jupyter-widgets/controls",
            "_model_module_version": "1.5.0",
            "_model_name": "HTMLModel",
            "_view_count": null,
            "_view_module": "@jupyter-widgets/controls",
            "_view_module_version": "1.5.0",
            "_view_name": "HTMLView",
            "description": "",
            "description_tooltip": null,
            "layout": "IPY_MODEL_2123d9c8c59f492587237951a920d61f",
            "placeholder": "​",
            "style": "IPY_MODEL_62cb6f85b44e4749a64e650ae237c56d",
            "value": "vocab.txt: 100%"
          }
        },
        "c06de10cfa8043259816e3d6cc1de1c9": {
          "model_module": "@jupyter-widgets/controls",
          "model_name": "FloatProgressModel",
          "model_module_version": "1.5.0",
          "state": {
            "_dom_classes": [],
            "_model_module": "@jupyter-widgets/controls",
            "_model_module_version": "1.5.0",
            "_model_name": "FloatProgressModel",
            "_view_count": null,
            "_view_module": "@jupyter-widgets/controls",
            "_view_module_version": "1.5.0",
            "_view_name": "ProgressView",
            "bar_style": "success",
            "description": "",
            "description_tooltip": null,
            "layout": "IPY_MODEL_2909ff3202274c60835ad2ae4fc2e8fc",
            "max": 231508,
            "min": 0,
            "orientation": "horizontal",
            "style": "IPY_MODEL_cf7b2daa57a7473db10d80b506f3b88c",
            "value": 231508
          }
        },
        "7fb1a148fb8749269fd65491f77500b8": {
          "model_module": "@jupyter-widgets/controls",
          "model_name": "HTMLModel",
          "model_module_version": "1.5.0",
          "state": {
            "_dom_classes": [],
            "_model_module": "@jupyter-widgets/controls",
            "_model_module_version": "1.5.0",
            "_model_name": "HTMLModel",
            "_view_count": null,
            "_view_module": "@jupyter-widgets/controls",
            "_view_module_version": "1.5.0",
            "_view_name": "HTMLView",
            "description": "",
            "description_tooltip": null,
            "layout": "IPY_MODEL_1f06de4b6f3a4f539a8b8d43425931c4",
            "placeholder": "​",
            "style": "IPY_MODEL_7a353c8a7cdf42ab8e438a969cfd14bb",
            "value": " 232k/232k [00:00&lt;00:00, 1.43MB/s]"
          }
        },
        "129967d7ccd04f71905874da0d289d03": {
          "model_module": "@jupyter-widgets/base",
          "model_name": "LayoutModel",
          "model_module_version": "1.2.0",
          "state": {
            "_model_module": "@jupyter-widgets/base",
            "_model_module_version": "1.2.0",
            "_model_name": "LayoutModel",
            "_view_count": null,
            "_view_module": "@jupyter-widgets/base",
            "_view_module_version": "1.2.0",
            "_view_name": "LayoutView",
            "align_content": null,
            "align_items": null,
            "align_self": null,
            "border": null,
            "bottom": null,
            "display": null,
            "flex": null,
            "flex_flow": null,
            "grid_area": null,
            "grid_auto_columns": null,
            "grid_auto_flow": null,
            "grid_auto_rows": null,
            "grid_column": null,
            "grid_gap": null,
            "grid_row": null,
            "grid_template_areas": null,
            "grid_template_columns": null,
            "grid_template_rows": null,
            "height": null,
            "justify_content": null,
            "justify_items": null,
            "left": null,
            "margin": null,
            "max_height": null,
            "max_width": null,
            "min_height": null,
            "min_width": null,
            "object_fit": null,
            "object_position": null,
            "order": null,
            "overflow": null,
            "overflow_x": null,
            "overflow_y": null,
            "padding": null,
            "right": null,
            "top": null,
            "visibility": null,
            "width": null
          }
        },
        "2123d9c8c59f492587237951a920d61f": {
          "model_module": "@jupyter-widgets/base",
          "model_name": "LayoutModel",
          "model_module_version": "1.2.0",
          "state": {
            "_model_module": "@jupyter-widgets/base",
            "_model_module_version": "1.2.0",
            "_model_name": "LayoutModel",
            "_view_count": null,
            "_view_module": "@jupyter-widgets/base",
            "_view_module_version": "1.2.0",
            "_view_name": "LayoutView",
            "align_content": null,
            "align_items": null,
            "align_self": null,
            "border": null,
            "bottom": null,
            "display": null,
            "flex": null,
            "flex_flow": null,
            "grid_area": null,
            "grid_auto_columns": null,
            "grid_auto_flow": null,
            "grid_auto_rows": null,
            "grid_column": null,
            "grid_gap": null,
            "grid_row": null,
            "grid_template_areas": null,
            "grid_template_columns": null,
            "grid_template_rows": null,
            "height": null,
            "justify_content": null,
            "justify_items": null,
            "left": null,
            "margin": null,
            "max_height": null,
            "max_width": null,
            "min_height": null,
            "min_width": null,
            "object_fit": null,
            "object_position": null,
            "order": null,
            "overflow": null,
            "overflow_x": null,
            "overflow_y": null,
            "padding": null,
            "right": null,
            "top": null,
            "visibility": null,
            "width": null
          }
        },
        "62cb6f85b44e4749a64e650ae237c56d": {
          "model_module": "@jupyter-widgets/controls",
          "model_name": "DescriptionStyleModel",
          "model_module_version": "1.5.0",
          "state": {
            "_model_module": "@jupyter-widgets/controls",
            "_model_module_version": "1.5.0",
            "_model_name": "DescriptionStyleModel",
            "_view_count": null,
            "_view_module": "@jupyter-widgets/base",
            "_view_module_version": "1.2.0",
            "_view_name": "StyleView",
            "description_width": ""
          }
        },
        "2909ff3202274c60835ad2ae4fc2e8fc": {
          "model_module": "@jupyter-widgets/base",
          "model_name": "LayoutModel",
          "model_module_version": "1.2.0",
          "state": {
            "_model_module": "@jupyter-widgets/base",
            "_model_module_version": "1.2.0",
            "_model_name": "LayoutModel",
            "_view_count": null,
            "_view_module": "@jupyter-widgets/base",
            "_view_module_version": "1.2.0",
            "_view_name": "LayoutView",
            "align_content": null,
            "align_items": null,
            "align_self": null,
            "border": null,
            "bottom": null,
            "display": null,
            "flex": null,
            "flex_flow": null,
            "grid_area": null,
            "grid_auto_columns": null,
            "grid_auto_flow": null,
            "grid_auto_rows": null,
            "grid_column": null,
            "grid_gap": null,
            "grid_row": null,
            "grid_template_areas": null,
            "grid_template_columns": null,
            "grid_template_rows": null,
            "height": null,
            "justify_content": null,
            "justify_items": null,
            "left": null,
            "margin": null,
            "max_height": null,
            "max_width": null,
            "min_height": null,
            "min_width": null,
            "object_fit": null,
            "object_position": null,
            "order": null,
            "overflow": null,
            "overflow_x": null,
            "overflow_y": null,
            "padding": null,
            "right": null,
            "top": null,
            "visibility": null,
            "width": null
          }
        },
        "cf7b2daa57a7473db10d80b506f3b88c": {
          "model_module": "@jupyter-widgets/controls",
          "model_name": "ProgressStyleModel",
          "model_module_version": "1.5.0",
          "state": {
            "_model_module": "@jupyter-widgets/controls",
            "_model_module_version": "1.5.0",
            "_model_name": "ProgressStyleModel",
            "_view_count": null,
            "_view_module": "@jupyter-widgets/base",
            "_view_module_version": "1.2.0",
            "_view_name": "StyleView",
            "bar_color": null,
            "description_width": ""
          }
        },
        "1f06de4b6f3a4f539a8b8d43425931c4": {
          "model_module": "@jupyter-widgets/base",
          "model_name": "LayoutModel",
          "model_module_version": "1.2.0",
          "state": {
            "_model_module": "@jupyter-widgets/base",
            "_model_module_version": "1.2.0",
            "_model_name": "LayoutModel",
            "_view_count": null,
            "_view_module": "@jupyter-widgets/base",
            "_view_module_version": "1.2.0",
            "_view_name": "LayoutView",
            "align_content": null,
            "align_items": null,
            "align_self": null,
            "border": null,
            "bottom": null,
            "display": null,
            "flex": null,
            "flex_flow": null,
            "grid_area": null,
            "grid_auto_columns": null,
            "grid_auto_flow": null,
            "grid_auto_rows": null,
            "grid_column": null,
            "grid_gap": null,
            "grid_row": null,
            "grid_template_areas": null,
            "grid_template_columns": null,
            "grid_template_rows": null,
            "height": null,
            "justify_content": null,
            "justify_items": null,
            "left": null,
            "margin": null,
            "max_height": null,
            "max_width": null,
            "min_height": null,
            "min_width": null,
            "object_fit": null,
            "object_position": null,
            "order": null,
            "overflow": null,
            "overflow_x": null,
            "overflow_y": null,
            "padding": null,
            "right": null,
            "top": null,
            "visibility": null,
            "width": null
          }
        },
        "7a353c8a7cdf42ab8e438a969cfd14bb": {
          "model_module": "@jupyter-widgets/controls",
          "model_name": "DescriptionStyleModel",
          "model_module_version": "1.5.0",
          "state": {
            "_model_module": "@jupyter-widgets/controls",
            "_model_module_version": "1.5.0",
            "_model_name": "DescriptionStyleModel",
            "_view_count": null,
            "_view_module": "@jupyter-widgets/base",
            "_view_module_version": "1.2.0",
            "_view_name": "StyleView",
            "description_width": ""
          }
        },
        "2ffea5d4edf748d48e1c0fb69e4df7b4": {
          "model_module": "@jupyter-widgets/controls",
          "model_name": "HBoxModel",
          "model_module_version": "1.5.0",
          "state": {
            "_dom_classes": [],
            "_model_module": "@jupyter-widgets/controls",
            "_model_module_version": "1.5.0",
            "_model_name": "HBoxModel",
            "_view_count": null,
            "_view_module": "@jupyter-widgets/controls",
            "_view_module_version": "1.5.0",
            "_view_name": "HBoxView",
            "box_style": "",
            "children": [
              "IPY_MODEL_86d73a1e6e784e7394db42de97a19d4c",
              "IPY_MODEL_22a4fbd742ec48b6ba16772c4b9abe44",
              "IPY_MODEL_fb5440e7952d4969ba89aed083e95bc0"
            ],
            "layout": "IPY_MODEL_086c1d9fb07b4c89b420d199254695f3"
          }
        },
        "86d73a1e6e784e7394db42de97a19d4c": {
          "model_module": "@jupyter-widgets/controls",
          "model_name": "HTMLModel",
          "model_module_version": "1.5.0",
          "state": {
            "_dom_classes": [],
            "_model_module": "@jupyter-widgets/controls",
            "_model_module_version": "1.5.0",
            "_model_name": "HTMLModel",
            "_view_count": null,
            "_view_module": "@jupyter-widgets/controls",
            "_view_module_version": "1.5.0",
            "_view_name": "HTMLView",
            "description": "",
            "description_tooltip": null,
            "layout": "IPY_MODEL_874bd350f04e4fc59cf35d34c960bc81",
            "placeholder": "​",
            "style": "IPY_MODEL_35b553c400da40888244e02e12661ab8",
            "value": "tokenizer.json: 100%"
          }
        },
        "22a4fbd742ec48b6ba16772c4b9abe44": {
          "model_module": "@jupyter-widgets/controls",
          "model_name": "FloatProgressModel",
          "model_module_version": "1.5.0",
          "state": {
            "_dom_classes": [],
            "_model_module": "@jupyter-widgets/controls",
            "_model_module_version": "1.5.0",
            "_model_name": "FloatProgressModel",
            "_view_count": null,
            "_view_module": "@jupyter-widgets/controls",
            "_view_module_version": "1.5.0",
            "_view_name": "ProgressView",
            "bar_style": "success",
            "description": "",
            "description_tooltip": null,
            "layout": "IPY_MODEL_39d40d9c41a64522b27ae1b8100e19a8",
            "max": 466247,
            "min": 0,
            "orientation": "horizontal",
            "style": "IPY_MODEL_c121bd207ec645dfa458216fc138e4ac",
            "value": 466247
          }
        },
        "fb5440e7952d4969ba89aed083e95bc0": {
          "model_module": "@jupyter-widgets/controls",
          "model_name": "HTMLModel",
          "model_module_version": "1.5.0",
          "state": {
            "_dom_classes": [],
            "_model_module": "@jupyter-widgets/controls",
            "_model_module_version": "1.5.0",
            "_model_name": "HTMLModel",
            "_view_count": null,
            "_view_module": "@jupyter-widgets/controls",
            "_view_module_version": "1.5.0",
            "_view_name": "HTMLView",
            "description": "",
            "description_tooltip": null,
            "layout": "IPY_MODEL_edeb9f20c6a043e5a4d0d61794934ccf",
            "placeholder": "​",
            "style": "IPY_MODEL_e771b15222444627acea2f8832eb9bb1",
            "value": " 466k/466k [00:00&lt;00:00, 2.82MB/s]"
          }
        },
        "086c1d9fb07b4c89b420d199254695f3": {
          "model_module": "@jupyter-widgets/base",
          "model_name": "LayoutModel",
          "model_module_version": "1.2.0",
          "state": {
            "_model_module": "@jupyter-widgets/base",
            "_model_module_version": "1.2.0",
            "_model_name": "LayoutModel",
            "_view_count": null,
            "_view_module": "@jupyter-widgets/base",
            "_view_module_version": "1.2.0",
            "_view_name": "LayoutView",
            "align_content": null,
            "align_items": null,
            "align_self": null,
            "border": null,
            "bottom": null,
            "display": null,
            "flex": null,
            "flex_flow": null,
            "grid_area": null,
            "grid_auto_columns": null,
            "grid_auto_flow": null,
            "grid_auto_rows": null,
            "grid_column": null,
            "grid_gap": null,
            "grid_row": null,
            "grid_template_areas": null,
            "grid_template_columns": null,
            "grid_template_rows": null,
            "height": null,
            "justify_content": null,
            "justify_items": null,
            "left": null,
            "margin": null,
            "max_height": null,
            "max_width": null,
            "min_height": null,
            "min_width": null,
            "object_fit": null,
            "object_position": null,
            "order": null,
            "overflow": null,
            "overflow_x": null,
            "overflow_y": null,
            "padding": null,
            "right": null,
            "top": null,
            "visibility": null,
            "width": null
          }
        },
        "874bd350f04e4fc59cf35d34c960bc81": {
          "model_module": "@jupyter-widgets/base",
          "model_name": "LayoutModel",
          "model_module_version": "1.2.0",
          "state": {
            "_model_module": "@jupyter-widgets/base",
            "_model_module_version": "1.2.0",
            "_model_name": "LayoutModel",
            "_view_count": null,
            "_view_module": "@jupyter-widgets/base",
            "_view_module_version": "1.2.0",
            "_view_name": "LayoutView",
            "align_content": null,
            "align_items": null,
            "align_self": null,
            "border": null,
            "bottom": null,
            "display": null,
            "flex": null,
            "flex_flow": null,
            "grid_area": null,
            "grid_auto_columns": null,
            "grid_auto_flow": null,
            "grid_auto_rows": null,
            "grid_column": null,
            "grid_gap": null,
            "grid_row": null,
            "grid_template_areas": null,
            "grid_template_columns": null,
            "grid_template_rows": null,
            "height": null,
            "justify_content": null,
            "justify_items": null,
            "left": null,
            "margin": null,
            "max_height": null,
            "max_width": null,
            "min_height": null,
            "min_width": null,
            "object_fit": null,
            "object_position": null,
            "order": null,
            "overflow": null,
            "overflow_x": null,
            "overflow_y": null,
            "padding": null,
            "right": null,
            "top": null,
            "visibility": null,
            "width": null
          }
        },
        "35b553c400da40888244e02e12661ab8": {
          "model_module": "@jupyter-widgets/controls",
          "model_name": "DescriptionStyleModel",
          "model_module_version": "1.5.0",
          "state": {
            "_model_module": "@jupyter-widgets/controls",
            "_model_module_version": "1.5.0",
            "_model_name": "DescriptionStyleModel",
            "_view_count": null,
            "_view_module": "@jupyter-widgets/base",
            "_view_module_version": "1.2.0",
            "_view_name": "StyleView",
            "description_width": ""
          }
        },
        "39d40d9c41a64522b27ae1b8100e19a8": {
          "model_module": "@jupyter-widgets/base",
          "model_name": "LayoutModel",
          "model_module_version": "1.2.0",
          "state": {
            "_model_module": "@jupyter-widgets/base",
            "_model_module_version": "1.2.0",
            "_model_name": "LayoutModel",
            "_view_count": null,
            "_view_module": "@jupyter-widgets/base",
            "_view_module_version": "1.2.0",
            "_view_name": "LayoutView",
            "align_content": null,
            "align_items": null,
            "align_self": null,
            "border": null,
            "bottom": null,
            "display": null,
            "flex": null,
            "flex_flow": null,
            "grid_area": null,
            "grid_auto_columns": null,
            "grid_auto_flow": null,
            "grid_auto_rows": null,
            "grid_column": null,
            "grid_gap": null,
            "grid_row": null,
            "grid_template_areas": null,
            "grid_template_columns": null,
            "grid_template_rows": null,
            "height": null,
            "justify_content": null,
            "justify_items": null,
            "left": null,
            "margin": null,
            "max_height": null,
            "max_width": null,
            "min_height": null,
            "min_width": null,
            "object_fit": null,
            "object_position": null,
            "order": null,
            "overflow": null,
            "overflow_x": null,
            "overflow_y": null,
            "padding": null,
            "right": null,
            "top": null,
            "visibility": null,
            "width": null
          }
        },
        "c121bd207ec645dfa458216fc138e4ac": {
          "model_module": "@jupyter-widgets/controls",
          "model_name": "ProgressStyleModel",
          "model_module_version": "1.5.0",
          "state": {
            "_model_module": "@jupyter-widgets/controls",
            "_model_module_version": "1.5.0",
            "_model_name": "ProgressStyleModel",
            "_view_count": null,
            "_view_module": "@jupyter-widgets/base",
            "_view_module_version": "1.2.0",
            "_view_name": "StyleView",
            "bar_color": null,
            "description_width": ""
          }
        },
        "edeb9f20c6a043e5a4d0d61794934ccf": {
          "model_module": "@jupyter-widgets/base",
          "model_name": "LayoutModel",
          "model_module_version": "1.2.0",
          "state": {
            "_model_module": "@jupyter-widgets/base",
            "_model_module_version": "1.2.0",
            "_model_name": "LayoutModel",
            "_view_count": null,
            "_view_module": "@jupyter-widgets/base",
            "_view_module_version": "1.2.0",
            "_view_name": "LayoutView",
            "align_content": null,
            "align_items": null,
            "align_self": null,
            "border": null,
            "bottom": null,
            "display": null,
            "flex": null,
            "flex_flow": null,
            "grid_area": null,
            "grid_auto_columns": null,
            "grid_auto_flow": null,
            "grid_auto_rows": null,
            "grid_column": null,
            "grid_gap": null,
            "grid_row": null,
            "grid_template_areas": null,
            "grid_template_columns": null,
            "grid_template_rows": null,
            "height": null,
            "justify_content": null,
            "justify_items": null,
            "left": null,
            "margin": null,
            "max_height": null,
            "max_width": null,
            "min_height": null,
            "min_width": null,
            "object_fit": null,
            "object_position": null,
            "order": null,
            "overflow": null,
            "overflow_x": null,
            "overflow_y": null,
            "padding": null,
            "right": null,
            "top": null,
            "visibility": null,
            "width": null
          }
        },
        "e771b15222444627acea2f8832eb9bb1": {
          "model_module": "@jupyter-widgets/controls",
          "model_name": "DescriptionStyleModel",
          "model_module_version": "1.5.0",
          "state": {
            "_model_module": "@jupyter-widgets/controls",
            "_model_module_version": "1.5.0",
            "_model_name": "DescriptionStyleModel",
            "_view_count": null,
            "_view_module": "@jupyter-widgets/base",
            "_view_module_version": "1.2.0",
            "_view_name": "StyleView",
            "description_width": ""
          }
        },
        "469d32117ec541f0bce151561bbf13b7": {
          "model_module": "@jupyter-widgets/controls",
          "model_name": "HBoxModel",
          "model_module_version": "1.5.0",
          "state": {
            "_dom_classes": [],
            "_model_module": "@jupyter-widgets/controls",
            "_model_module_version": "1.5.0",
            "_model_name": "HBoxModel",
            "_view_count": null,
            "_view_module": "@jupyter-widgets/controls",
            "_view_module_version": "1.5.0",
            "_view_name": "HBoxView",
            "box_style": "",
            "children": [
              "IPY_MODEL_b3ca5d8d93834ed4a3af55243f859e51",
              "IPY_MODEL_ded3e62b96174b768b7b48ad3d4f4e7b",
              "IPY_MODEL_49974e21595046de98a2f7e0b5ca1ad7"
            ],
            "layout": "IPY_MODEL_94142fe7e95f4b9ba7a9a57fff596bc1"
          }
        },
        "b3ca5d8d93834ed4a3af55243f859e51": {
          "model_module": "@jupyter-widgets/controls",
          "model_name": "HTMLModel",
          "model_module_version": "1.5.0",
          "state": {
            "_dom_classes": [],
            "_model_module": "@jupyter-widgets/controls",
            "_model_module_version": "1.5.0",
            "_model_name": "HTMLModel",
            "_view_count": null,
            "_view_module": "@jupyter-widgets/controls",
            "_view_module_version": "1.5.0",
            "_view_name": "HTMLView",
            "description": "",
            "description_tooltip": null,
            "layout": "IPY_MODEL_9634f2c3f4e94a8ea154429f3d957196",
            "placeholder": "​",
            "style": "IPY_MODEL_6630079dd76946ffabf29193f67c5436",
            "value": "special_tokens_map.json: 100%"
          }
        },
        "ded3e62b96174b768b7b48ad3d4f4e7b": {
          "model_module": "@jupyter-widgets/controls",
          "model_name": "FloatProgressModel",
          "model_module_version": "1.5.0",
          "state": {
            "_dom_classes": [],
            "_model_module": "@jupyter-widgets/controls",
            "_model_module_version": "1.5.0",
            "_model_name": "FloatProgressModel",
            "_view_count": null,
            "_view_module": "@jupyter-widgets/controls",
            "_view_module_version": "1.5.0",
            "_view_name": "ProgressView",
            "bar_style": "success",
            "description": "",
            "description_tooltip": null,
            "layout": "IPY_MODEL_09f5db29d9f44708aa79526fd3f54855",
            "max": 112,
            "min": 0,
            "orientation": "horizontal",
            "style": "IPY_MODEL_dc39a7cb26c549288747e735d4fba951",
            "value": 112
          }
        },
        "49974e21595046de98a2f7e0b5ca1ad7": {
          "model_module": "@jupyter-widgets/controls",
          "model_name": "HTMLModel",
          "model_module_version": "1.5.0",
          "state": {
            "_dom_classes": [],
            "_model_module": "@jupyter-widgets/controls",
            "_model_module_version": "1.5.0",
            "_model_name": "HTMLModel",
            "_view_count": null,
            "_view_module": "@jupyter-widgets/controls",
            "_view_module_version": "1.5.0",
            "_view_name": "HTMLView",
            "description": "",
            "description_tooltip": null,
            "layout": "IPY_MODEL_136d8b656734478e95dac235b0b4045e",
            "placeholder": "​",
            "style": "IPY_MODEL_0fbe50df361c4bb09c4f2fe35d16832f",
            "value": " 112/112 [00:00&lt;00:00, 11.7kB/s]"
          }
        },
        "94142fe7e95f4b9ba7a9a57fff596bc1": {
          "model_module": "@jupyter-widgets/base",
          "model_name": "LayoutModel",
          "model_module_version": "1.2.0",
          "state": {
            "_model_module": "@jupyter-widgets/base",
            "_model_module_version": "1.2.0",
            "_model_name": "LayoutModel",
            "_view_count": null,
            "_view_module": "@jupyter-widgets/base",
            "_view_module_version": "1.2.0",
            "_view_name": "LayoutView",
            "align_content": null,
            "align_items": null,
            "align_self": null,
            "border": null,
            "bottom": null,
            "display": null,
            "flex": null,
            "flex_flow": null,
            "grid_area": null,
            "grid_auto_columns": null,
            "grid_auto_flow": null,
            "grid_auto_rows": null,
            "grid_column": null,
            "grid_gap": null,
            "grid_row": null,
            "grid_template_areas": null,
            "grid_template_columns": null,
            "grid_template_rows": null,
            "height": null,
            "justify_content": null,
            "justify_items": null,
            "left": null,
            "margin": null,
            "max_height": null,
            "max_width": null,
            "min_height": null,
            "min_width": null,
            "object_fit": null,
            "object_position": null,
            "order": null,
            "overflow": null,
            "overflow_x": null,
            "overflow_y": null,
            "padding": null,
            "right": null,
            "top": null,
            "visibility": null,
            "width": null
          }
        },
        "9634f2c3f4e94a8ea154429f3d957196": {
          "model_module": "@jupyter-widgets/base",
          "model_name": "LayoutModel",
          "model_module_version": "1.2.0",
          "state": {
            "_model_module": "@jupyter-widgets/base",
            "_model_module_version": "1.2.0",
            "_model_name": "LayoutModel",
            "_view_count": null,
            "_view_module": "@jupyter-widgets/base",
            "_view_module_version": "1.2.0",
            "_view_name": "LayoutView",
            "align_content": null,
            "align_items": null,
            "align_self": null,
            "border": null,
            "bottom": null,
            "display": null,
            "flex": null,
            "flex_flow": null,
            "grid_area": null,
            "grid_auto_columns": null,
            "grid_auto_flow": null,
            "grid_auto_rows": null,
            "grid_column": null,
            "grid_gap": null,
            "grid_row": null,
            "grid_template_areas": null,
            "grid_template_columns": null,
            "grid_template_rows": null,
            "height": null,
            "justify_content": null,
            "justify_items": null,
            "left": null,
            "margin": null,
            "max_height": null,
            "max_width": null,
            "min_height": null,
            "min_width": null,
            "object_fit": null,
            "object_position": null,
            "order": null,
            "overflow": null,
            "overflow_x": null,
            "overflow_y": null,
            "padding": null,
            "right": null,
            "top": null,
            "visibility": null,
            "width": null
          }
        },
        "6630079dd76946ffabf29193f67c5436": {
          "model_module": "@jupyter-widgets/controls",
          "model_name": "DescriptionStyleModel",
          "model_module_version": "1.5.0",
          "state": {
            "_model_module": "@jupyter-widgets/controls",
            "_model_module_version": "1.5.0",
            "_model_name": "DescriptionStyleModel",
            "_view_count": null,
            "_view_module": "@jupyter-widgets/base",
            "_view_module_version": "1.2.0",
            "_view_name": "StyleView",
            "description_width": ""
          }
        },
        "09f5db29d9f44708aa79526fd3f54855": {
          "model_module": "@jupyter-widgets/base",
          "model_name": "LayoutModel",
          "model_module_version": "1.2.0",
          "state": {
            "_model_module": "@jupyter-widgets/base",
            "_model_module_version": "1.2.0",
            "_model_name": "LayoutModel",
            "_view_count": null,
            "_view_module": "@jupyter-widgets/base",
            "_view_module_version": "1.2.0",
            "_view_name": "LayoutView",
            "align_content": null,
            "align_items": null,
            "align_self": null,
            "border": null,
            "bottom": null,
            "display": null,
            "flex": null,
            "flex_flow": null,
            "grid_area": null,
            "grid_auto_columns": null,
            "grid_auto_flow": null,
            "grid_auto_rows": null,
            "grid_column": null,
            "grid_gap": null,
            "grid_row": null,
            "grid_template_areas": null,
            "grid_template_columns": null,
            "grid_template_rows": null,
            "height": null,
            "justify_content": null,
            "justify_items": null,
            "left": null,
            "margin": null,
            "max_height": null,
            "max_width": null,
            "min_height": null,
            "min_width": null,
            "object_fit": null,
            "object_position": null,
            "order": null,
            "overflow": null,
            "overflow_x": null,
            "overflow_y": null,
            "padding": null,
            "right": null,
            "top": null,
            "visibility": null,
            "width": null
          }
        },
        "dc39a7cb26c549288747e735d4fba951": {
          "model_module": "@jupyter-widgets/controls",
          "model_name": "ProgressStyleModel",
          "model_module_version": "1.5.0",
          "state": {
            "_model_module": "@jupyter-widgets/controls",
            "_model_module_version": "1.5.0",
            "_model_name": "ProgressStyleModel",
            "_view_count": null,
            "_view_module": "@jupyter-widgets/base",
            "_view_module_version": "1.2.0",
            "_view_name": "StyleView",
            "bar_color": null,
            "description_width": ""
          }
        },
        "136d8b656734478e95dac235b0b4045e": {
          "model_module": "@jupyter-widgets/base",
          "model_name": "LayoutModel",
          "model_module_version": "1.2.0",
          "state": {
            "_model_module": "@jupyter-widgets/base",
            "_model_module_version": "1.2.0",
            "_model_name": "LayoutModel",
            "_view_count": null,
            "_view_module": "@jupyter-widgets/base",
            "_view_module_version": "1.2.0",
            "_view_name": "LayoutView",
            "align_content": null,
            "align_items": null,
            "align_self": null,
            "border": null,
            "bottom": null,
            "display": null,
            "flex": null,
            "flex_flow": null,
            "grid_area": null,
            "grid_auto_columns": null,
            "grid_auto_flow": null,
            "grid_auto_rows": null,
            "grid_column": null,
            "grid_gap": null,
            "grid_row": null,
            "grid_template_areas": null,
            "grid_template_columns": null,
            "grid_template_rows": null,
            "height": null,
            "justify_content": null,
            "justify_items": null,
            "left": null,
            "margin": null,
            "max_height": null,
            "max_width": null,
            "min_height": null,
            "min_width": null,
            "object_fit": null,
            "object_position": null,
            "order": null,
            "overflow": null,
            "overflow_x": null,
            "overflow_y": null,
            "padding": null,
            "right": null,
            "top": null,
            "visibility": null,
            "width": null
          }
        },
        "0fbe50df361c4bb09c4f2fe35d16832f": {
          "model_module": "@jupyter-widgets/controls",
          "model_name": "DescriptionStyleModel",
          "model_module_version": "1.5.0",
          "state": {
            "_model_module": "@jupyter-widgets/controls",
            "_model_module_version": "1.5.0",
            "_model_name": "DescriptionStyleModel",
            "_view_count": null,
            "_view_module": "@jupyter-widgets/base",
            "_view_module_version": "1.2.0",
            "_view_name": "StyleView",
            "description_width": ""
          }
        },
        "4ab2b7f2cc8c4aaba93e1c20e57f0c0c": {
          "model_module": "@jupyter-widgets/controls",
          "model_name": "HBoxModel",
          "model_module_version": "1.5.0",
          "state": {
            "_dom_classes": [],
            "_model_module": "@jupyter-widgets/controls",
            "_model_module_version": "1.5.0",
            "_model_name": "HBoxModel",
            "_view_count": null,
            "_view_module": "@jupyter-widgets/controls",
            "_view_module_version": "1.5.0",
            "_view_name": "HBoxView",
            "box_style": "",
            "children": [
              "IPY_MODEL_d800b03f1f1f4a17af767f5814ee51bb",
              "IPY_MODEL_b42b3169d1d74ecb94f2e81ea375fd84",
              "IPY_MODEL_81dd31989eee4c248a165e452495d753"
            ],
            "layout": "IPY_MODEL_4c6c0024ce1f47338bb1830969d206b2"
          }
        },
        "d800b03f1f1f4a17af767f5814ee51bb": {
          "model_module": "@jupyter-widgets/controls",
          "model_name": "HTMLModel",
          "model_module_version": "1.5.0",
          "state": {
            "_dom_classes": [],
            "_model_module": "@jupyter-widgets/controls",
            "_model_module_version": "1.5.0",
            "_model_name": "HTMLModel",
            "_view_count": null,
            "_view_module": "@jupyter-widgets/controls",
            "_view_module_version": "1.5.0",
            "_view_name": "HTMLView",
            "description": "",
            "description_tooltip": null,
            "layout": "IPY_MODEL_d6e44abaa94c47ec8305fcc44f506fbf",
            "placeholder": "​",
            "style": "IPY_MODEL_cd80923e8a0749f3b4af89ef672f5c8a",
            "value": "1_Pooling%2Fconfig.json: 100%"
          }
        },
        "b42b3169d1d74ecb94f2e81ea375fd84": {
          "model_module": "@jupyter-widgets/controls",
          "model_name": "FloatProgressModel",
          "model_module_version": "1.5.0",
          "state": {
            "_dom_classes": [],
            "_model_module": "@jupyter-widgets/controls",
            "_model_module_version": "1.5.0",
            "_model_name": "FloatProgressModel",
            "_view_count": null,
            "_view_module": "@jupyter-widgets/controls",
            "_view_module_version": "1.5.0",
            "_view_name": "ProgressView",
            "bar_style": "success",
            "description": "",
            "description_tooltip": null,
            "layout": "IPY_MODEL_dd71015c4dd446c68c280e9244f6a6c0",
            "max": 190,
            "min": 0,
            "orientation": "horizontal",
            "style": "IPY_MODEL_1f6ee81657514df6845cef107e7b197a",
            "value": 190
          }
        },
        "81dd31989eee4c248a165e452495d753": {
          "model_module": "@jupyter-widgets/controls",
          "model_name": "HTMLModel",
          "model_module_version": "1.5.0",
          "state": {
            "_dom_classes": [],
            "_model_module": "@jupyter-widgets/controls",
            "_model_module_version": "1.5.0",
            "_model_name": "HTMLModel",
            "_view_count": null,
            "_view_module": "@jupyter-widgets/controls",
            "_view_module_version": "1.5.0",
            "_view_name": "HTMLView",
            "description": "",
            "description_tooltip": null,
            "layout": "IPY_MODEL_0d430a5177d84b718a221388fad65264",
            "placeholder": "​",
            "style": "IPY_MODEL_e3d951a13e07405ca70b984fb22ac6dc",
            "value": " 190/190 [00:00&lt;00:00, 18.3kB/s]"
          }
        },
        "4c6c0024ce1f47338bb1830969d206b2": {
          "model_module": "@jupyter-widgets/base",
          "model_name": "LayoutModel",
          "model_module_version": "1.2.0",
          "state": {
            "_model_module": "@jupyter-widgets/base",
            "_model_module_version": "1.2.0",
            "_model_name": "LayoutModel",
            "_view_count": null,
            "_view_module": "@jupyter-widgets/base",
            "_view_module_version": "1.2.0",
            "_view_name": "LayoutView",
            "align_content": null,
            "align_items": null,
            "align_self": null,
            "border": null,
            "bottom": null,
            "display": null,
            "flex": null,
            "flex_flow": null,
            "grid_area": null,
            "grid_auto_columns": null,
            "grid_auto_flow": null,
            "grid_auto_rows": null,
            "grid_column": null,
            "grid_gap": null,
            "grid_row": null,
            "grid_template_areas": null,
            "grid_template_columns": null,
            "grid_template_rows": null,
            "height": null,
            "justify_content": null,
            "justify_items": null,
            "left": null,
            "margin": null,
            "max_height": null,
            "max_width": null,
            "min_height": null,
            "min_width": null,
            "object_fit": null,
            "object_position": null,
            "order": null,
            "overflow": null,
            "overflow_x": null,
            "overflow_y": null,
            "padding": null,
            "right": null,
            "top": null,
            "visibility": null,
            "width": null
          }
        },
        "d6e44abaa94c47ec8305fcc44f506fbf": {
          "model_module": "@jupyter-widgets/base",
          "model_name": "LayoutModel",
          "model_module_version": "1.2.0",
          "state": {
            "_model_module": "@jupyter-widgets/base",
            "_model_module_version": "1.2.0",
            "_model_name": "LayoutModel",
            "_view_count": null,
            "_view_module": "@jupyter-widgets/base",
            "_view_module_version": "1.2.0",
            "_view_name": "LayoutView",
            "align_content": null,
            "align_items": null,
            "align_self": null,
            "border": null,
            "bottom": null,
            "display": null,
            "flex": null,
            "flex_flow": null,
            "grid_area": null,
            "grid_auto_columns": null,
            "grid_auto_flow": null,
            "grid_auto_rows": null,
            "grid_column": null,
            "grid_gap": null,
            "grid_row": null,
            "grid_template_areas": null,
            "grid_template_columns": null,
            "grid_template_rows": null,
            "height": null,
            "justify_content": null,
            "justify_items": null,
            "left": null,
            "margin": null,
            "max_height": null,
            "max_width": null,
            "min_height": null,
            "min_width": null,
            "object_fit": null,
            "object_position": null,
            "order": null,
            "overflow": null,
            "overflow_x": null,
            "overflow_y": null,
            "padding": null,
            "right": null,
            "top": null,
            "visibility": null,
            "width": null
          }
        },
        "cd80923e8a0749f3b4af89ef672f5c8a": {
          "model_module": "@jupyter-widgets/controls",
          "model_name": "DescriptionStyleModel",
          "model_module_version": "1.5.0",
          "state": {
            "_model_module": "@jupyter-widgets/controls",
            "_model_module_version": "1.5.0",
            "_model_name": "DescriptionStyleModel",
            "_view_count": null,
            "_view_module": "@jupyter-widgets/base",
            "_view_module_version": "1.2.0",
            "_view_name": "StyleView",
            "description_width": ""
          }
        },
        "dd71015c4dd446c68c280e9244f6a6c0": {
          "model_module": "@jupyter-widgets/base",
          "model_name": "LayoutModel",
          "model_module_version": "1.2.0",
          "state": {
            "_model_module": "@jupyter-widgets/base",
            "_model_module_version": "1.2.0",
            "_model_name": "LayoutModel",
            "_view_count": null,
            "_view_module": "@jupyter-widgets/base",
            "_view_module_version": "1.2.0",
            "_view_name": "LayoutView",
            "align_content": null,
            "align_items": null,
            "align_self": null,
            "border": null,
            "bottom": null,
            "display": null,
            "flex": null,
            "flex_flow": null,
            "grid_area": null,
            "grid_auto_columns": null,
            "grid_auto_flow": null,
            "grid_auto_rows": null,
            "grid_column": null,
            "grid_gap": null,
            "grid_row": null,
            "grid_template_areas": null,
            "grid_template_columns": null,
            "grid_template_rows": null,
            "height": null,
            "justify_content": null,
            "justify_items": null,
            "left": null,
            "margin": null,
            "max_height": null,
            "max_width": null,
            "min_height": null,
            "min_width": null,
            "object_fit": null,
            "object_position": null,
            "order": null,
            "overflow": null,
            "overflow_x": null,
            "overflow_y": null,
            "padding": null,
            "right": null,
            "top": null,
            "visibility": null,
            "width": null
          }
        },
        "1f6ee81657514df6845cef107e7b197a": {
          "model_module": "@jupyter-widgets/controls",
          "model_name": "ProgressStyleModel",
          "model_module_version": "1.5.0",
          "state": {
            "_model_module": "@jupyter-widgets/controls",
            "_model_module_version": "1.5.0",
            "_model_name": "ProgressStyleModel",
            "_view_count": null,
            "_view_module": "@jupyter-widgets/base",
            "_view_module_version": "1.2.0",
            "_view_name": "StyleView",
            "bar_color": null,
            "description_width": ""
          }
        },
        "0d430a5177d84b718a221388fad65264": {
          "model_module": "@jupyter-widgets/base",
          "model_name": "LayoutModel",
          "model_module_version": "1.2.0",
          "state": {
            "_model_module": "@jupyter-widgets/base",
            "_model_module_version": "1.2.0",
            "_model_name": "LayoutModel",
            "_view_count": null,
            "_view_module": "@jupyter-widgets/base",
            "_view_module_version": "1.2.0",
            "_view_name": "LayoutView",
            "align_content": null,
            "align_items": null,
            "align_self": null,
            "border": null,
            "bottom": null,
            "display": null,
            "flex": null,
            "flex_flow": null,
            "grid_area": null,
            "grid_auto_columns": null,
            "grid_auto_flow": null,
            "grid_auto_rows": null,
            "grid_column": null,
            "grid_gap": null,
            "grid_row": null,
            "grid_template_areas": null,
            "grid_template_columns": null,
            "grid_template_rows": null,
            "height": null,
            "justify_content": null,
            "justify_items": null,
            "left": null,
            "margin": null,
            "max_height": null,
            "max_width": null,
            "min_height": null,
            "min_width": null,
            "object_fit": null,
            "object_position": null,
            "order": null,
            "overflow": null,
            "overflow_x": null,
            "overflow_y": null,
            "padding": null,
            "right": null,
            "top": null,
            "visibility": null,
            "width": null
          }
        },
        "e3d951a13e07405ca70b984fb22ac6dc": {
          "model_module": "@jupyter-widgets/controls",
          "model_name": "DescriptionStyleModel",
          "model_module_version": "1.5.0",
          "state": {
            "_model_module": "@jupyter-widgets/controls",
            "_model_module_version": "1.5.0",
            "_model_name": "DescriptionStyleModel",
            "_view_count": null,
            "_view_module": "@jupyter-widgets/base",
            "_view_module_version": "1.2.0",
            "_view_name": "StyleView",
            "description_width": ""
          }
        }
      }
    }
  },
  "cells": [
    {
      "cell_type": "code",
      "source": [
        "import os\n",
        "os.kill(os.getpid(), 9)"
      ],
      "metadata": {
        "id": "mkPYoSYKx6lY"
      },
      "execution_count": null,
      "outputs": []
    },
    {
      "cell_type": "code",
      "source": [
        "!pip install -U langchain-community -q\n",
        "#!pip install langchain_huggingface -q\n",
        "!pip install langchain-chroma -q\n",
        "!pip install sentence-transformers gradio langchain_groq pypdf -q"
      ],
      "metadata": {
        "id": "8NnjEIRHfiKj",
        "colab": {
          "base_uri": "https://localhost:8080/"
        },
        "outputId": "149eccda-bdac-4c77-b935-a6df3008130e"
      },
      "execution_count": null,
      "outputs": [
        {
          "output_type": "stream",
          "name": "stdout",
          "text": [
            "\u001b[33m  WARNING: Retrying (Retry(total=4, connect=None, read=None, redirect=None, status=None)) after connection broken by 'ProtocolError('Connection aborted.', RemoteDisconnected('Remote end closed connection without response'))': /packages/2a/e2/5d3f6ada4297caebe1a2add3b126fe800c96f56dbe5d1988a2cbe0b267aa/mypy_extensions-1.0.0-py3-none-any.whl.metadata\u001b[0m\u001b[33m\n",
            "\u001b[2K   \u001b[90m━━━━━━━━━━━━━━━━━━━━━━━━━━━━━━━━━━━━━━━━\u001b[0m \u001b[32m2.5/2.5 MB\u001b[0m \u001b[31m33.7 MB/s\u001b[0m eta \u001b[36m0:00:00\u001b[0m\n",
            "\u001b[2K   \u001b[90m━━━━━━━━━━━━━━━━━━━━━━━━━━━━━━━━━━━━━━━━\u001b[0m \u001b[32m50.9/50.9 kB\u001b[0m \u001b[31m3.3 MB/s\u001b[0m eta \u001b[36m0:00:00\u001b[0m\n",
            "\u001b[2K     \u001b[90m━━━━━━━━━━━━━━━━━━━━━━━━━━━━━━━━━━━━━━━━\u001b[0m \u001b[32m67.3/67.3 kB\u001b[0m \u001b[31m3.0 MB/s\u001b[0m eta \u001b[36m0:00:00\u001b[0m\n",
            "\u001b[?25h  Installing build dependencies ... \u001b[?25l\u001b[?25hdone\n",
            "  Getting requirements to build wheel ... \u001b[?25l\u001b[?25hdone\n",
            "  Preparing metadata (pyproject.toml) ... \u001b[?25l\u001b[?25hdone\n",
            "\u001b[2K   \u001b[90m━━━━━━━━━━━━━━━━━━━━━━━━━━━━━━━━━━━━━━━━\u001b[0m \u001b[32m611.1/611.1 kB\u001b[0m \u001b[31m21.7 MB/s\u001b[0m eta \u001b[36m0:00:00\u001b[0m\n",
            "\u001b[2K   \u001b[90m━━━━━━━━━━━━━━━━━━━━━━━━━━━━━━━━━━━━━━━━\u001b[0m \u001b[32m2.4/2.4 MB\u001b[0m \u001b[31m46.8 MB/s\u001b[0m eta \u001b[36m0:00:00\u001b[0m\n",
            "\u001b[2K   \u001b[90m━━━━━━━━━━━━━━━━━━━━━━━━━━━━━━━━━━━━━━━━\u001b[0m \u001b[32m278.6/278.6 kB\u001b[0m \u001b[31m15.6 MB/s\u001b[0m eta \u001b[36m0:00:00\u001b[0m\n",
            "\u001b[2K   \u001b[90m━━━━━━━━━━━━━━━━━━━━━━━━━━━━━━━━━━━━━━━━\u001b[0m \u001b[32m94.8/94.8 kB\u001b[0m \u001b[31m6.3 MB/s\u001b[0m eta \u001b[36m0:00:00\u001b[0m\n",
            "\u001b[2K   \u001b[90m━━━━━━━━━━━━━━━━━━━━━━━━━━━━━━━━━━━━━━━━\u001b[0m \u001b[32m2.0/2.0 MB\u001b[0m \u001b[31m47.6 MB/s\u001b[0m eta \u001b[36m0:00:00\u001b[0m\n",
            "\u001b[2K   \u001b[90m━━━━━━━━━━━━━━━━━━━━━━━━━━━━━━━━━━━━━━━━\u001b[0m \u001b[32m101.6/101.6 kB\u001b[0m \u001b[31m7.4 MB/s\u001b[0m eta \u001b[36m0:00:00\u001b[0m\n",
            "\u001b[2K   \u001b[90m━━━━━━━━━━━━━━━━━━━━━━━━━━━━━━━━━━━━━━━━\u001b[0m \u001b[32m13.3/13.3 MB\u001b[0m \u001b[31m59.5 MB/s\u001b[0m eta \u001b[36m0:00:00\u001b[0m\n",
            "\u001b[2K   \u001b[90m━━━━━━━━━━━━━━━━━━━━━━━━━━━━━━━━━━━━━━━━\u001b[0m \u001b[32m55.9/55.9 kB\u001b[0m \u001b[31m4.1 MB/s\u001b[0m eta \u001b[36m0:00:00\u001b[0m\n",
            "\u001b[2K   \u001b[90m━━━━━━━━━━━━━━━━━━━━━━━━━━━━━━━━━━━━━━━━\u001b[0m \u001b[32m177.4/177.4 kB\u001b[0m \u001b[31m11.4 MB/s\u001b[0m eta \u001b[36m0:00:00\u001b[0m\n",
            "\u001b[2K   \u001b[90m━━━━━━━━━━━━━━━━━━━━━━━━━━━━━━━━━━━━━━━━\u001b[0m \u001b[32m65.0/65.0 kB\u001b[0m \u001b[31m4.5 MB/s\u001b[0m eta \u001b[36m0:00:00\u001b[0m\n",
            "\u001b[2K   \u001b[90m━━━━━━━━━━━━━━━━━━━━━━━━━━━━━━━━━━━━━━━━\u001b[0m \u001b[32m118.7/118.7 kB\u001b[0m \u001b[31m7.9 MB/s\u001b[0m eta \u001b[36m0:00:00\u001b[0m\n",
            "\u001b[2K   \u001b[90m━━━━━━━━━━━━━━━━━━━━━━━━━━━━━━━━━━━━━━━━\u001b[0m \u001b[32m73.3/73.3 kB\u001b[0m \u001b[31m5.1 MB/s\u001b[0m eta \u001b[36m0:00:00\u001b[0m\n",
            "\u001b[2K   \u001b[90m━━━━━━━━━━━━━━━━━━━━━━━━━━━━━━━━━━━━━━━━\u001b[0m \u001b[32m62.3/62.3 kB\u001b[0m \u001b[31m4.2 MB/s\u001b[0m eta \u001b[36m0:00:00\u001b[0m\n",
            "\u001b[2K   \u001b[90m━━━━━━━━━━━━━━━━━━━━━━━━━━━━━━━━━━━━━━━━\u001b[0m \u001b[32m459.8/459.8 kB\u001b[0m \u001b[31m24.9 MB/s\u001b[0m eta \u001b[36m0:00:00\u001b[0m\n",
            "\u001b[2K   \u001b[90m━━━━━━━━━━━━━━━━━━━━━━━━━━━━━━━━━━━━━━━━\u001b[0m \u001b[32m319.7/319.7 kB\u001b[0m \u001b[31m15.9 MB/s\u001b[0m eta \u001b[36m0:00:00\u001b[0m\n",
            "\u001b[2K   \u001b[90m━━━━━━━━━━━━━━━━━━━━━━━━━━━━━━━━━━━━━━━━\u001b[0m \u001b[32m71.5/71.5 kB\u001b[0m \u001b[31m4.2 MB/s\u001b[0m eta \u001b[36m0:00:00\u001b[0m\n",
            "\u001b[2K   \u001b[90m━━━━━━━━━━━━━━━━━━━━━━━━━━━━━━━━━━━━━━━━\u001b[0m \u001b[32m4.0/4.0 MB\u001b[0m \u001b[31m53.5 MB/s\u001b[0m eta \u001b[36m0:00:00\u001b[0m\n",
            "\u001b[2K   \u001b[90m━━━━━━━━━━━━━━━━━━━━━━━━━━━━━━━━━━━━━━━━\u001b[0m \u001b[32m452.6/452.6 kB\u001b[0m \u001b[31m25.1 MB/s\u001b[0m eta \u001b[36m0:00:00\u001b[0m\n",
            "\u001b[2K   \u001b[90m━━━━━━━━━━━━━━━━━━━━━━━━━━━━━━━━━━━━━━━━\u001b[0m \u001b[32m46.0/46.0 kB\u001b[0m \u001b[31m2.9 MB/s\u001b[0m eta \u001b[36m0:00:00\u001b[0m\n",
            "\u001b[2K   \u001b[90m━━━━━━━━━━━━━━━━━━━━━━━━━━━━━━━━━━━━━━━━\u001b[0m \u001b[32m86.8/86.8 kB\u001b[0m \u001b[31m6.4 MB/s\u001b[0m eta \u001b[36m0:00:00\u001b[0m\n",
            "\u001b[?25h  Building wheel for pypika (pyproject.toml) ... \u001b[?25l\u001b[?25hdone\n",
            "\u001b[2K   \u001b[90m━━━━━━━━━━━━━━━━━━━━━━━━━━━━━━━━━━━━━━━━\u001b[0m \u001b[32m62.2/62.2 MB\u001b[0m \u001b[31m9.1 MB/s\u001b[0m eta \u001b[36m0:00:00\u001b[0m\n",
            "\u001b[2K   \u001b[90m━━━━━━━━━━━━━━━━━━━━━━━━━━━━━━━━━━━━━━━━\u001b[0m \u001b[32m321.9/321.9 kB\u001b[0m \u001b[31m19.0 MB/s\u001b[0m eta \u001b[36m0:00:00\u001b[0m\n",
            "\u001b[2K   \u001b[90m━━━━━━━━━━━━━━━━━━━━━━━━━━━━━━━━━━━━━━━━\u001b[0m \u001b[32m300.7/300.7 kB\u001b[0m \u001b[31m18.6 MB/s\u001b[0m eta \u001b[36m0:00:00\u001b[0m\n",
            "\u001b[2K   \u001b[90m━━━━━━━━━━━━━━━━━━━━━━━━━━━━━━━━━━━━━━━━\u001b[0m \u001b[32m121.9/121.9 kB\u001b[0m \u001b[31m9.2 MB/s\u001b[0m eta \u001b[36m0:00:00\u001b[0m\n",
            "\u001b[2K   \u001b[90m━━━━━━━━━━━━━━━━━━━━━━━━━━━━━━━━━━━━━━━━\u001b[0m \u001b[32m12.5/12.5 MB\u001b[0m \u001b[31m88.1 MB/s\u001b[0m eta \u001b[36m0:00:00\u001b[0m\n",
            "\u001b[2K   \u001b[90m━━━━━━━━━━━━━━━━━━━━━━━━━━━━━━━━━━━━━━━━\u001b[0m \u001b[32m363.4/363.4 MB\u001b[0m \u001b[31m4.1 MB/s\u001b[0m eta \u001b[36m0:00:00\u001b[0m\n",
            "\u001b[2K   \u001b[90m━━━━━━━━━━━━━━━━━━━━━━━━━━━━━━━━━━━━━━━━\u001b[0m \u001b[32m13.8/13.8 MB\u001b[0m \u001b[31m80.7 MB/s\u001b[0m eta \u001b[36m0:00:00\u001b[0m\n",
            "\u001b[2K   \u001b[90m━━━━━━━━━━━━━━━━━━━━━━━━━━━━━━━━━━━━━━━━\u001b[0m \u001b[32m24.6/24.6 MB\u001b[0m \u001b[31m62.7 MB/s\u001b[0m eta \u001b[36m0:00:00\u001b[0m\n",
            "\u001b[2K   \u001b[90m━━━━━━━━━━━━━━━━━━━━━━━━━━━━━━━━━━━━━━━━\u001b[0m \u001b[32m883.7/883.7 kB\u001b[0m \u001b[31m41.4 MB/s\u001b[0m eta \u001b[36m0:00:00\u001b[0m\n",
            "\u001b[2K   \u001b[90m━━━━━━━━━━━━━━━━━━━━━━━━━━━━━━━━━━━━━━━━\u001b[0m \u001b[32m664.8/664.8 MB\u001b[0m \u001b[31m1.4 MB/s\u001b[0m eta \u001b[36m0:00:00\u001b[0m\n",
            "\u001b[2K   \u001b[90m━━━━━━━━━━━━━━━━━━━━━━━━━━━━━━━━━━━━━━━━\u001b[0m \u001b[32m211.5/211.5 MB\u001b[0m \u001b[31m6.2 MB/s\u001b[0m eta \u001b[36m0:00:00\u001b[0m\n",
            "\u001b[2K   \u001b[90m━━━━━━━━━━━━━━━━━━━━━━━━━━━━━━━━━━━━━━━━\u001b[0m \u001b[32m56.3/56.3 MB\u001b[0m \u001b[31m12.1 MB/s\u001b[0m eta \u001b[36m0:00:00\u001b[0m\n",
            "\u001b[2K   \u001b[90m━━━━━━━━━━━━━━━━━━━━━━━━━━━━━━━━━━━━━━━━\u001b[0m \u001b[32m127.9/127.9 MB\u001b[0m \u001b[31m6.8 MB/s\u001b[0m eta \u001b[36m0:00:00\u001b[0m\n",
            "\u001b[2K   \u001b[90m━━━━━━━━━━━━━━━━━━━━━━━━━━━━━━━━━━━━━━━━\u001b[0m \u001b[32m207.5/207.5 MB\u001b[0m \u001b[31m3.7 MB/s\u001b[0m eta \u001b[36m0:00:00\u001b[0m\n",
            "\u001b[2K   \u001b[90m━━━━━━━━━━━━━━━━━━━━━━━━━━━━━━━━━━━━━━━━\u001b[0m \u001b[32m21.1/21.1 MB\u001b[0m \u001b[31m26.6 MB/s\u001b[0m eta \u001b[36m0:00:00\u001b[0m\n",
            "\u001b[?25h"
          ]
        }
      ]
    },
    {
      "cell_type": "markdown",
      "source": [
        "#### load any pdf you want"
      ],
      "metadata": {
        "id": "p0iLC9yrME94"
      }
    },
    {
      "cell_type": "code",
      "source": [
        "from langchain.document_loaders import PyPDFLoader\n",
        "path = \"/content/Mohamed_ARBI_Nsibi_EN.pdf\"\n",
        "loader = PyPDFLoader(path)\n",
        "pages= loader.load_and_split()\n",
        "\n"
      ],
      "metadata": {
        "id": "d7F2yCeYPXVk"
      },
      "execution_count": null,
      "outputs": []
    },
    {
      "cell_type": "code",
      "source": [
        "pages[0].page_content"
      ],
      "metadata": {
        "colab": {
          "base_uri": "https://localhost:8080/",
          "height": 122
        },
        "id": "Ml_beZ8xxtJ0",
        "outputId": "28eed769-797c-4a70-ab4b-21b555db014a"
      },
      "execution_count": null,
      "outputs": [
        {
          "output_type": "execute_result",
          "data": {
            "text/plain": [
              "'Mohamed Arbi Nsibi\\nICT Engineering Student At SUP’COM\\nPhone: +216 29 051 246 Email: mohammedarbi.nsibi@supcom.tn Location: Ariana, Tunis\\nLinkedIn: linkedin.com/in/mohammed-arbi-nsibi GitHub: github.com/Goodnight77\\nPROFILE\\nAspiring Machine Learning Engineer with experience in AI-powered systems and model development. Former GDSC Lead\\nand current mentor at SUP’COM. Strong in TensorFlow, Keras, and PyTorch. Built an automated candidate matching\\nsystem and invoice verification models. Passionate about driving AI innovation.\\nEDUCATION\\nICT Engineer’s degree Higher school of communication (SUP’COM) 2022-2024\\n• Principal coursework : Probability, Statistical inference, Algorithmic Foundations of Optimization, Cloud, Big Data,\\nData science, Artificial intelligence.\\nDegree in Physics and Chemistry Preparatory Institute For Engineering Studies of TUNIS (IPEIT) 2020-2022\\n• Ranked 70/1400 in the national entrance exam for engineering schools.\\nPROFESSIONAL EXPERIENCE\\nAI Intern, Omicrone Tunis, Tunisia 07/2024 - 09/2024\\n• Built an automated AI-Powered Candidate Matching System that extracts key details from resumes, generates detailed reports\\nwith matching scores, ranks candidates based on job suitability and create emails for top candidates\\nMachine Learning Engineer Intern, IEEE Tunisia Section Tunis, Tunisia 07/2023 - 09/2023\\n• Developed machine learning models for automated invoice verification by analyzing date, stamp, and signature data. Designed a\\ndata entry system to streamline processing and used anomaly detection to identify and mitigate fraud risks.\\nPROJECTS\\nMedical chatbot with RAG, KG and RLHF, LangChain, LLMs, GenAI (Academic) 09/2024-01/2025\\n• Currently developing a medical chatbot that integrates RAG with Knowledge Graph, and Reinforcement Learning with Human\\nFeedback (RLHF) to answer health-related queries and provide accurate, database-supported recommendations.\\nAI-Powered Candidate Matching System, LangChain, LLMs, GenAI (Intership) 08/2024\\n• Built an automated system that extracts key details from resumes, generates detailed reports with matching scores, and ranks\\ncandidates based on job suitability. The system also creates personalized emails for top candidates.\\nSecuring Medical Images transfert using Encryption and Steganography (Academic) 05/2024\\n• This project make sure the secure transfer of medical images and patient data through efficient deep steganography and\\ncryptography methods.\\nKidney Classification App, Python, Tensorflow, Flask, Docker, Mlfow, DVC 02/2024\\n• An end-to-end deep learning project consisting of creating a web app for kidney disease classification, where I learned and\\nimplemented some MLOps concepts.\\nParkPay, Flutter, Flask, Yolov6, (Academic) 01/2024\\n• Developed a mobile app revolutionizing parking payments by enabling seamless online transactions, eliminating the need for\\ntraditional parking machines.\\nDeep fake Forensics Challenge, (Challenge) 12/2023\\n• Participated in the IEEE CS - YP TSYP Challenge, replicating and enhancing deepfake detection methods based on the paper\\n”Shallow- and Deep-fake Image Manipulation Localization using Deep Learning”.\\nAcademic Project Database System, Oracle 11G, SQL Developer, Draw.io 03/2023\\n• Collaborated with a team of 3 peers to design and implement a database system for managing personalized academic projects.\\nDeveloped a comprehensive data lifecycle, including requirements analysis, schema design, data modeling, SQL scripting, and\\ntechnical documentation, using Oracle 11G and SQL Developer.\\nAWARDS\\nRevolutionizing Recruitment: Winning First Prize Project by EY, AI 4 new Generation Hackathon 12/2024\\nFirst prize in the TSYP CS Challenge, IEEE ESSTHS Student Branch and IEEE Tunisia Section 12/2023\\nRanked 6th in Open GeoAI Hack, IEEE GRSS Chapter 11/2023\\nBest PACTE project in SUP’COM, 07/2022'"
            ],
            "application/vnd.google.colaboratory.intrinsic+json": {
              "type": "string"
            }
          },
          "metadata": {},
          "execution_count": 3
        }
      ]
    },
    {
      "cell_type": "code",
      "source": [
        "len(pages)"
      ],
      "metadata": {
        "colab": {
          "base_uri": "https://localhost:8080/"
        },
        "id": "kdjbmDird5eg",
        "outputId": "0ffaae33-cff0-4a85-d1b1-f368cdca0b00"
      },
      "execution_count": null,
      "outputs": [
        {
          "output_type": "execute_result",
          "data": {
            "text/plain": [
              "2"
            ]
          },
          "metadata": {},
          "execution_count": 4
        }
      ]
    },
    {
      "cell_type": "markdown",
      "source": [
        "### Data ingestion"
      ],
      "metadata": {
        "id": "b4dvvE3PdnUX"
      }
    },
    {
      "cell_type": "markdown",
      "source": [
        "#### SeleniumURLLoader (URL)"
      ],
      "metadata": {
        "id": "7hQXFvXMc7lK"
      }
    },
    {
      "cell_type": "code",
      "source": [
        "!pip install -q unstructured selenium"
      ],
      "metadata": {
        "colab": {
          "base_uri": "https://localhost:8080/"
        },
        "id": "CC_GasvJc_jg",
        "outputId": "9678a111-16ac-4aed-bcc5-ab1695f79d28"
      },
      "execution_count": null,
      "outputs": [
        {
          "output_type": "stream",
          "name": "stdout",
          "text": [
            "\u001b[?25l     \u001b[90m━━━━━━━━━━━━━━━━━━━━━━━━━━━━━━━━━━━━━━━━\u001b[0m \u001b[32m0.0/981.5 kB\u001b[0m \u001b[31m?\u001b[0m eta \u001b[36m-:--:--\u001b[0m\r\u001b[2K     \u001b[91m━━━━━━━━━━━━━━━━━━━━━━━━━━━━━━━━━━━━━━━\u001b[0m\u001b[91m╸\u001b[0m \u001b[32m972.8/981.5 kB\u001b[0m \u001b[31m42.2 MB/s\u001b[0m eta \u001b[36m0:00:01\u001b[0m\r\u001b[2K     \u001b[90m━━━━━━━━━━━━━━━━━━━━━━━━━━━━━━━━━━━━━━━━\u001b[0m \u001b[32m981.5/981.5 kB\u001b[0m \u001b[31m27.6 MB/s\u001b[0m eta \u001b[36m0:00:00\u001b[0m\n",
            "\u001b[?25h  Preparing metadata (setup.py) ... \u001b[?25l\u001b[?25hdone\n",
            "\u001b[2K   \u001b[90m━━━━━━━━━━━━━━━━━━━━━━━━━━━━━━━━━━━━━━━━\u001b[0m \u001b[32m1.8/1.8 MB\u001b[0m \u001b[31m61.6 MB/s\u001b[0m eta \u001b[36m0:00:00\u001b[0m\n",
            "\u001b[2K   \u001b[90m━━━━━━━━━━━━━━━━━━━━━━━━━━━━━━━━━━━━━━━━\u001b[0m \u001b[32m9.5/9.5 MB\u001b[0m \u001b[31m79.2 MB/s\u001b[0m eta \u001b[36m0:00:00\u001b[0m\n",
            "\u001b[2K   \u001b[90m━━━━━━━━━━━━━━━━━━━━━━━━━━━━━━━━━━━━━━━━\u001b[0m \u001b[32m492.9/492.9 kB\u001b[0m \u001b[31m31.0 MB/s\u001b[0m eta \u001b[36m0:00:00\u001b[0m\n",
            "\u001b[2K   \u001b[90m━━━━━━━━━━━━━━━━━━━━━━━━━━━━━━━━━━━━━━━━\u001b[0m \u001b[32m590.6/590.6 kB\u001b[0m \u001b[31m34.2 MB/s\u001b[0m eta \u001b[36m0:00:00\u001b[0m\n",
            "\u001b[2K   \u001b[90m━━━━━━━━━━━━━━━━━━━━━━━━━━━━━━━━━━━━━━━━\u001b[0m \u001b[32m167.6/167.6 kB\u001b[0m \u001b[31m14.7 MB/s\u001b[0m eta \u001b[36m0:00:00\u001b[0m\n",
            "\u001b[2K   \u001b[90m━━━━━━━━━━━━━━━━━━━━━━━━━━━━━━━━━━━━━━━━\u001b[0m \u001b[32m3.1/3.1 MB\u001b[0m \u001b[31m71.4 MB/s\u001b[0m eta \u001b[36m0:00:00\u001b[0m\n",
            "\u001b[2K   \u001b[90m━━━━━━━━━━━━━━━━━━━━━━━━━━━━━━━━━━━━━━━━\u001b[0m \u001b[32m112.5/112.5 kB\u001b[0m \u001b[31m9.2 MB/s\u001b[0m eta \u001b[36m0:00:00\u001b[0m\n",
            "\u001b[2K   \u001b[90m━━━━━━━━━━━━━━━━━━━━━━━━━━━━━━━━━━━━━━━━\u001b[0m \u001b[32m114.6/114.6 kB\u001b[0m \u001b[31m10.7 MB/s\u001b[0m eta \u001b[36m0:00:00\u001b[0m\n",
            "\u001b[?25h  Building wheel for langdetect (setup.py) ... \u001b[?25l\u001b[?25hdone\n",
            "\u001b[31mERROR: pip's dependency resolver does not currently take into account all the packages that are installed. This behaviour is the source of the following dependency conflicts.\n",
            "gradio 5.16.1 requires aiofiles<24.0,>=22.0, but you have aiofiles 24.1.0 which is incompatible.\u001b[0m\u001b[31m\n",
            "\u001b[0m"
          ]
        }
      ]
    },
    {
      "cell_type": "code",
      "source": [
        "from langchain.document_loaders import SeleniumURLLoader\n",
        "\n",
        "urls= [\n",
        "    \"https://python.langchain.com/docs/integrations/chat/groq/\",\n",
        "    #\"https://www.ibm.com/think/topics/langchain\"\n",
        "]\n",
        "loader =SeleniumURLLoader(urls=urls)\n",
        "data =loader.load()\n",
        "print(data[0].page_content)"
      ],
      "metadata": {
        "id": "481s3u7Ic85H"
      },
      "execution_count": null,
      "outputs": []
    },
    {
      "cell_type": "markdown",
      "source": [
        "#### **1-Character Text Splitter**\n",
        "\n",
        "###### offer 2 customization: size of each chunk and overlap between chunks => manageable segments and maintaining semantic continuity across them .It splits the text sequentially without considering the structure or meaning of the text.\n",
        "\n",
        "* When you need to split text into equal-sized chunks without regard for semantic boundaries.\n",
        "\n",
        "* Useful for simple tasks where the structure of the text is not important, such as preprocessing for tokenization or basic text analysis.\n",
        "* Preserves Structure\tNo\n",
        "* Splitting Method\tFixed character count or simple separator\n",
        "\n",
        "\n",
        "[CharacterTextSplitter](https://api.python.langchain.com/en/latest/text_splitters/character/langchain_text_splitters.character.CharacterTextSplitter.html)"
      ],
      "metadata": {
        "id": "qAS6i2LUdpcX"
      }
    },
    {
      "cell_type": "code",
      "source": [
        "text = \"this is the text i want to chunk. it is just an example of text for this section\""
      ],
      "metadata": {
        "id": "sZO0ingxQWDb"
      },
      "execution_count": null,
      "outputs": []
    },
    {
      "cell_type": "code",
      "source": [
        "chunks= []\n",
        "chunk_size= 30\n",
        "for i in range(0, len(text),chunk_size):\n",
        "  chunk= text[i: i+chunk_size]\n",
        "  chunks.append(chunk)\n",
        "chunks\n",
        "\n"
      ],
      "metadata": {
        "id": "WHU3ffofSIwI",
        "colab": {
          "base_uri": "https://localhost:8080/"
        },
        "outputId": "f8d668cf-de4f-44d3-db18-72b3c900e56a"
      },
      "execution_count": null,
      "outputs": [
        {
          "output_type": "execute_result",
          "data": {
            "text/plain": [
              "['this is the text i want to chu',\n",
              " 'nk. it is just an example of t',\n",
              " 'ext for this section']"
            ]
          },
          "metadata": {},
          "execution_count": 6
        }
      ]
    },
    {
      "cell_type": "code",
      "source": [
        "from langchain.text_splitter import CharacterTextSplitter\n",
        "text_splitter = CharacterTextSplitter(\n",
        "    chunk_size=30,\n",
        "    chunk_overlap=4,\n",
        "    separator ='chunk'\n",
        "    )\n",
        "\n",
        "text_splitter.create_documents([text]) # expect list output document object with metadata\n"
      ],
      "metadata": {
        "id": "XSoibKOVPXPf",
        "colab": {
          "base_uri": "https://localhost:8080/"
        },
        "outputId": "7002398a-76d9-458c-f3f1-80ed064ea516"
      },
      "execution_count": null,
      "outputs": [
        {
          "output_type": "execute_result",
          "data": {
            "text/plain": [
              "[Document(metadata={}, page_content='this is the text i want to'),\n",
              " Document(metadata={}, page_content='. it is just an example of text for this section')]"
            ]
          },
          "metadata": {},
          "execution_count": 7
        }
      ]
    },
    {
      "cell_type": "code",
      "source": [
        "text_splitter = CharacterTextSplitter(\n",
        "    chunk_size=200,\n",
        "    chunk_overlap=20 ,\n",
        "    separator =''\n",
        "    )\n",
        "\n",
        "text_char_splitter= text_splitter.split_documents(pages)\n",
        "text_char_splitter[0]"
      ],
      "metadata": {
        "colab": {
          "base_uri": "https://localhost:8080/"
        },
        "id": "7zly76ULfFlQ",
        "outputId": "629516c4-fc5c-480a-a360-01d55ba38555"
      },
      "execution_count": null,
      "outputs": [
        {
          "output_type": "execute_result",
          "data": {
            "text/plain": [
              "Document(metadata={'producer': 'pdfTeX-1.40.25', 'creator': \"LaTeX with 'moderncv' package\", 'creationdate': '2025-02-02T23:34:38+00:00', 'author': 'Mohamed Arbi Nsibi', 'keywords': 'Mohamed Arbi Nsibi , curriculum vitæ, résumé', 'moddate': '2025-02-02T23:34:38+00:00', 'ptex.fullbanner': 'This is pdfTeX, Version 3.141592653-2.6-1.40.25 (TeX Live 2023) kpathsea version 6.3.5', 'subject': 'Résumé of Mohamed Arbi Nsibi', 'title': 'Mohamed Arbi Nsibi  –', 'trapped': '/False', 'source': '/content/Mohamed_ARBI_Nsibi_EN.pdf', 'total_pages': 2, 'page': 0, 'page_label': '1'}, page_content='Mohamed Arbi Nsibi\\nICT Engineering Student At SUP’COM\\nPhone: +216 29 051 246 Email: mohammedarbi.nsibi@supcom.tn Location: Ariana, Tunis\\nLinkedIn: linkedin.com/in/mohammed-arbi-nsibi GitHub: github.co')"
            ]
          },
          "metadata": {},
          "execution_count": 8
        }
      ]
    },
    {
      "cell_type": "code",
      "source": [
        "text_char_splitter[0].page_content"
      ],
      "metadata": {
        "colab": {
          "base_uri": "https://localhost:8080/",
          "height": 53
        },
        "id": "M8kLGYLef1px",
        "outputId": "99397314-cc10-481f-d3c3-7ac3b89caaa3"
      },
      "execution_count": null,
      "outputs": [
        {
          "output_type": "execute_result",
          "data": {
            "text/plain": [
              "'Mohamed Arbi Nsibi\\nICT Engineering Student At SUP’COM\\nPhone: +216 29 051 246 Email: mohammedarbi.nsibi@supcom.tn Location: Ariana, Tunis\\nLinkedIn: linkedin.com/in/mohammed-arbi-nsibi GitHub: github.co'"
            ],
            "application/vnd.google.colaboratory.intrinsic+json": {
              "type": "string"
            }
          },
          "metadata": {},
          "execution_count": 9
        }
      ]
    },
    {
      "cell_type": "code",
      "source": [
        "len(text_char_splitter)"
      ],
      "metadata": {
        "colab": {
          "base_uri": "https://localhost:8080/"
        },
        "id": "TlyKWCEzfuv-",
        "outputId": "851871fd-36e2-456c-b050-a12765971bcf"
      },
      "execution_count": null,
      "outputs": [
        {
          "output_type": "execute_result",
          "data": {
            "text/plain": [
              "31"
            ]
          },
          "metadata": {},
          "execution_count": 10
        }
      ]
    },
    {
      "cell_type": "markdown",
      "source": [
        "[chunk viz](https://chunkviz.up.railway.app/)\n",
        "\n",
        "![image.png](data:image/png;base64,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)"
      ],
      "metadata": {
        "id": "00VYLI6jeici"
      }
    },
    {
      "cell_type": "markdown",
      "source": [
        "#### **2-Recursive Character Text Splitter**\n",
        "###### look at physical structure of text\n",
        "###### chunk based on predifined list of characters default = [\"\\n\\n\", \"\\n\", \" \"] parag, senteneces , words... at first it divide text using two newline characters if chunks more extensive than desired splitter tries using single newline and 1 space and so on until size is attained\n",
        "\n",
        "* This splitter recursively tries to split text based on a hierarchy of separators (e.g., paragraphs, sentences, words). It first attempts to split by larger chunks (e.g., paragraphs), and if the resulting chunks are too large, it recursively splits them further using smaller separators (e.g., sentences, then words).\n",
        "* Ideal for tasks like document processing, natural language processing (NLP), or when feeding text into language models where context and coherence are important.\n",
        "* Preserves Structure Yes (e.g., paragraphs, sentences, words)\n",
        "* Splitting Method :Recursively splits using a hierarchy of separators"
      ],
      "metadata": {
        "id": "zRRMNO4xdsIa"
      }
    },
    {
      "cell_type": "code",
      "source": [
        "from langchain.text_splitter import RecursiveCharacterTextSplitter\n",
        "text_splitter =RecursiveCharacterTextSplitter(\n",
        "    chunk_size=50,\n",
        "    chunk_overlap=20, # default 20\n",
        "    length_function=len, # count length of chunks, len counts number of character\n",
        "    # set token counter could be + when working with models with token limits # exple GPT3 4096token/request\n",
        ")\n",
        "\n",
        "text = \"\"\"Now is the time to stop and enjoy the view! This time of year,\n",
        "nature's beauty is on full display. It can be hard to capture your love\n",
        "for the outdoors in a short message, but these nature quotes can help!\n",
        "Share these words with your friends on social media, or jot them down in\n",
        "your journal for future reflection. Whether you're a fan of the beach, the mountains,\n",
        "or your back porch, nature is worth celebrating. If you're looking for the perfect words\n",
        " to caption your Instagram posts, many of these quotes will double as nature Instagram captions.\"\"\"\n",
        "docs = text_splitter.create_documents([text])\n",
        "docs"
      ],
      "metadata": {
        "colab": {
          "base_uri": "https://localhost:8080/"
        },
        "id": "eYKczBKqToR0",
        "outputId": "38cc30b6-34cb-453e-ceeb-91f1e465b45a"
      },
      "execution_count": null,
      "outputs": [
        {
          "output_type": "execute_result",
          "data": {
            "text/plain": [
              "[Document(metadata={}, page_content='Now is the time to stop and enjoy the view! This'),\n",
              " Document(metadata={}, page_content='the view! This time of year,'),\n",
              " Document(metadata={}, page_content=\"nature's beauty is on full display. It can be\"),\n",
              " Document(metadata={}, page_content='display. It can be hard to capture your love'),\n",
              " Document(metadata={}, page_content='for the outdoors in a short message, but these'),\n",
              " Document(metadata={}, page_content='message, but these nature quotes can help!'),\n",
              " Document(metadata={}, page_content='Share these words with your friends on social'),\n",
              " Document(metadata={}, page_content='friends on social media, or jot them down in'),\n",
              " Document(metadata={}, page_content='your journal for future reflection. Whether'),\n",
              " Document(metadata={}, page_content=\"reflection. Whether you're a fan of the beach,\"),\n",
              " Document(metadata={}, page_content='a fan of the beach, the mountains,'),\n",
              " Document(metadata={}, page_content='or your back porch, nature is worth celebrating.'),\n",
              " Document(metadata={}, page_content=\"worth celebrating. If you're looking for the\"),\n",
              " Document(metadata={}, page_content='looking for the perfect words'),\n",
              " Document(metadata={}, page_content='to caption your Instagram posts, many of these'),\n",
              " Document(metadata={}, page_content='many of these quotes will double as nature'),\n",
              " Document(metadata={}, page_content='double as nature Instagram captions.')]"
            ]
          },
          "metadata": {},
          "execution_count": 11
        }
      ]
    },
    {
      "cell_type": "markdown",
      "source": [
        "#### Markdown\n"
      ],
      "metadata": {
        "id": "KkSZ6tlCqOqw"
      }
    },
    {
      "cell_type": "code",
      "source": [
        "from langchain.text_splitter import MarkdownTextSplitter\n",
        "splitter = MarkdownTextSplitter(chunk_size = 50, chunk_overlap=0)\n",
        "\n",
        "markdown_text = \"\"\"\n",
        "# RAG workshop\n",
        "\n",
        "## vector store\n",
        "\n",
        "vector stores like pinecone,FAISS,..\n",
        "### embedding model\n",
        "\n",
        "embedding model convert data into vectors\n",
        "## Generator\n",
        "Use one of the open source llm\n",
        "\"\"\"\n",
        "splitter.create_documents([markdown_text])\n"
      ],
      "metadata": {
        "colab": {
          "base_uri": "https://localhost:8080/"
        },
        "id": "76w9k8KkqOEw",
        "outputId": "31828889-1b4a-45c0-d49b-1ed2af312f01"
      },
      "execution_count": null,
      "outputs": [
        {
          "output_type": "execute_result",
          "data": {
            "text/plain": [
              "[Document(metadata={}, page_content='# RAG workshop \\n\\n## vector store'),\n",
              " Document(metadata={}, page_content='vector stores like pinecone,FAISS,..'),\n",
              " Document(metadata={}, page_content='### embedding model'),\n",
              " Document(metadata={}, page_content='embedding model convert data into vectors'),\n",
              " Document(metadata={}, page_content='## Generator\\nUse one of the open source llm')]"
            ]
          },
          "metadata": {},
          "execution_count": 12
        }
      ]
    },
    {
      "cell_type": "markdown",
      "source": [
        "#### Python"
      ],
      "metadata": {
        "id": "rQfwnXAOq-rZ"
      }
    },
    {
      "cell_type": "code",
      "source": [
        "from langchain.text_splitter import PythonCodeTextSplitter\n",
        "\n",
        "python_text = \"\"\"\n",
        "class Person:\n",
        "  def __init__(self, name, age):\n",
        "    self.name = name\n",
        "    self.age = age\n",
        "\n",
        "p1 = Person(\"John\", 36)\n",
        "\n",
        "for i in range(10):\n",
        "    print (i)\n",
        "\"\"\"\n",
        "python_splitter = PythonCodeTextSplitter(chunk_size=100, chunk_overlap=0)\n",
        "python_splitter.create_documents([python_text])\n"
      ],
      "metadata": {
        "colab": {
          "base_uri": "https://localhost:8080/"
        },
        "id": "smBdpNw-rAwW",
        "outputId": "135c8975-a906-476b-f3c1-a7ba2a82eee1"
      },
      "execution_count": null,
      "outputs": [
        {
          "output_type": "execute_result",
          "data": {
            "text/plain": [
              "[Document(metadata={}, page_content='class Person:\\n  def __init__(self, name, age):\\n    self.name = name\\n    self.age = age'),\n",
              " Document(metadata={}, page_content='p1 = Person(\"John\", 36)\\n\\nfor i in range(10):\\n    print (i)')]"
            ]
          },
          "metadata": {},
          "execution_count": 5
        }
      ]
    },
    {
      "cell_type": "markdown",
      "source": [
        "#### JS"
      ],
      "metadata": {
        "id": "VjNPATr1rNis"
      }
    },
    {
      "cell_type": "code",
      "source": [
        "from langchain.text_splitter import RecursiveCharacterTextSplitter, Language\n",
        "javascript_text = \"\"\"\n",
        "// Function is called, the return value will end up in x\n",
        "let x = myFunction(4, 3);\n",
        "\n",
        "function myFunction(a, b) {\n",
        "// Function returns the product of a and b\n",
        "  return a * b;\n",
        "}\n",
        "\"\"\"\n",
        "js_splitter = RecursiveCharacterTextSplitter.from_language(\n",
        "    language=Language.JS, chunk_size=65, chunk_overlap=0\n",
        ")\n",
        "js_splitter.create_documents([javascript_text])"
      ],
      "metadata": {
        "colab": {
          "base_uri": "https://localhost:8080/"
        },
        "id": "ltSVoGN1rArB",
        "outputId": "7cb98f8c-1342-4a7e-f9f9-bfd4fb9c346b"
      },
      "execution_count": null,
      "outputs": [
        {
          "output_type": "execute_result",
          "data": {
            "text/plain": [
              "[Document(metadata={}, page_content='// Function is called, the return value will end up in x'),\n",
              " Document(metadata={}, page_content='let x = myFunction(4, 3);'),\n",
              " Document(metadata={}, page_content='function myFunction(a, b) {'),\n",
              " Document(metadata={}, page_content='// Function returns the product of a and b\\n  return a * b;\\n}')]"
            ]
          },
          "metadata": {},
          "execution_count": 13
        }
      ]
    },
    {
      "cell_type": "markdown",
      "source": [
        "#### and others like : NLTK text splitter , Spacy text splitter , markdown text splitter , token text splitter, Document Specific Splitting(Markdown , python JS,..), Semantic Splitting, Agentic Splitting, ..."
      ],
      "metadata": {
        "id": "UcIriwFdfqWO"
      }
    },
    {
      "cell_type": "code",
      "source": [
        "from langchain.text_splitter import RecursiveCharacterTextSplitter\n",
        "text_splitter =RecursiveCharacterTextSplitter(\n",
        "    chunk_size=70,\n",
        "    chunk_overlap=10, # default 20\n",
        "    # set token counter could be + when working with models with token limits # exple GPT3 4096token/request\n",
        ")\n",
        "text_recu_splitter = text_splitter.split_documents(pages)\n",
        "text_recu_splitter[3].page_content"
      ],
      "metadata": {
        "colab": {
          "base_uri": "https://localhost:8080/",
          "height": 35
        },
        "id": "zvDjYmvtgNzj",
        "outputId": "1e486a69-4fd8-47d4-bc47-f40a0ca3a4b4"
      },
      "execution_count": null,
      "outputs": [
        {
          "output_type": "execute_result",
          "data": {
            "text/plain": [
              "'LinkedIn: linkedin.com/in/mohammed-arbi-nsibi GitHub:'"
            ],
            "application/vnd.google.colaboratory.intrinsic+json": {
              "type": "string"
            }
          },
          "metadata": {},
          "execution_count": 14
        }
      ]
    },
    {
      "cell_type": "code",
      "source": [
        "len(text_recu_splitter)"
      ],
      "metadata": {
        "colab": {
          "base_uri": "https://localhost:8080/"
        },
        "id": "IWvcBixCg6af",
        "outputId": "94f7282e-7a78-4d81-a277-e0aacfad0fd7"
      },
      "execution_count": null,
      "outputs": [
        {
          "output_type": "execute_result",
          "data": {
            "text/plain": [
              "113"
            ]
          },
          "metadata": {},
          "execution_count": 15
        }
      ]
    },
    {
      "cell_type": "markdown",
      "source": [
        "### Embedding model"
      ],
      "metadata": {
        "id": "6g8v9TalbCbr"
      }
    },
    {
      "cell_type": "code",
      "source": [
        "from langchain_community.embeddings.sentence_transformer import (\n",
        "    SentenceTransformerEmbeddings,\n",
        ")\n",
        "embedding_model = SentenceTransformerEmbeddings(model_name=\"all-MiniLM-L6-v2\")"
      ],
      "metadata": {
        "id": "USjSjFMxSBuL",
        "colab": {
          "base_uri": "https://localhost:8080/",
          "height": 528,
          "referenced_widgets": [
            "e6d900398fc64a3bbcde4d6f13275aeb",
            "e32774c511444aaebaa6d676f738a9b3",
            "e5369f89f61646dba176bd349a6125e5",
            "4b4c379f6d774ae58a2693f3a895fb98",
            "aeec640044d34e90921e71bb945097a1",
            "e2bf8243f654499398b18ae2aacf6aa0",
            "f2958f5d602e4a9cbcbccece28b12310",
            "93258d8a92aa4e738a75f38c5ffb8f97",
            "c5d8e17b6e66442bb70d3b4fb3a811bc",
            "62d79e8f0be44cd8aeda474f55135729",
            "2180dfd4625b47738b62d371d2c1a773",
            "141a161132c14c1d819f4446263aedfc",
            "fae628f5f19a48d7ab4388c817141d39",
            "b5e16db8f4d641b69e76317b7199561f",
            "8776025d003d48dea1fc785ca58506e7",
            "742a6c1d88ab4d39b395757eb54a4fa0",
            "3db52dd668d843e2984dcff226dd2a06",
            "9090184d8bb949628a141fa1c8fd2c32",
            "15ae5c98ede940849c4309f82aa30d90",
            "3334dee6332b42929c18d9e09344f9f5",
            "1d0617de6aef42d69cc32305e8c06f32",
            "e45730bb755c47cfa6f4ecd642d3f875",
            "e9c08f4e61bf49bda957ce3740becd08",
            "4c57f5e2d5d0440b86edca967d33890d",
            "33f52c2bec2d4e60aa5d3b22efff2875",
            "e96b455f04cc476ba130e4cddc4d929f",
            "3a7257ffab0b42c0bf652b5d8aa9ac63",
            "57e1853cff8d46209d40c0d172cae7cf",
            "65fa1bf7d5ec4e619f041c2cb375763a",
            "ba1278da79404e69a1b2a698195241e0",
            "4e8275f7530944fdb9dd085bfb0506f8",
            "b860718b12274ddf8a50c52ad2fcaca6",
            "e9bf3316037d428ab7f8ff346384dacf",
            "29d53bc71d8e4c8aa781d7e01d8215b6",
            "4d5de3206dc642e08224ded480f4afe7",
            "d899c78ef1a5426584e4664ac871da65",
            "53309d9c56914bc1ac0fe1925c0a08d4",
            "5c4e3f403ef44bdc8a45265f2972eb41",
            "deaf149696354fbeb5593c6bb6554fb5",
            "93cb983a09744eaea42e63c70d282e62",
            "08cf89364f6b4111acdef0158c246d57",
            "1b4155076d834f7b82329d0523196ff3",
            "6a9b80c4c5ab4b16a2abda93cfa484c5",
            "99ffda27385c42fa8cfef3dde3a697a3",
            "76d9f074fa78414faed0c121e073ba60",
            "d5b07b32b5e449b0a539b3f9d167c62e",
            "8da0e2800ec64d27ab04c49a788e64c9",
            "fd4fedff8a9344999602907dd8102b0d",
            "7d308a78aabb484a86e349625fb73e4d",
            "de65f822ca734f90975774d9d12950d6",
            "bd30e4b516cd4664806e7650bf5d2ce1",
            "eb46f57150fd489fb97d1bf290c8b8b7",
            "f3cad1e90b334b0fbd7e4fff219609a6",
            "4fddbf4f90ec4c19829a36e0a3df1dee",
            "f7f37fadf7e94e3b9903875b3271e15f",
            "52b96281cbce407cb379e75f0e041a1e",
            "b55d0a71913e4dd8aa4108483c836c8c",
            "3a45a7e596734a7bbe556c5b5b5fed55",
            "dc4f430582bf45589280432eede6697d",
            "7840e8c851af4cdfaa5bee1e56a655b4",
            "d9a79cb4a449480298415291568554ed",
            "1374cbcab00a4b889d6362fe49053590",
            "50ca4441ea4547af9610c20be77f02ae",
            "e92bb413d23f4ec7ae2c5373066d0911",
            "eb2b2f92f6fe41c5b245961ad969d833",
            "1f27c2959f3c4c0c845221bf3909daea",
            "6d7b39d72c3d4674a0e6c582fb540232",
            "0455fc5c25914d1283ffae15bb3b42a8",
            "b7fdf430bd2743ff9545a070b9d754eb",
            "22aa998ce3e24015ad233789f35eaf7a",
            "fa45e1689dbd4d7b89b021afd00fb333",
            "94115226e5224c4bbadec1c58af8c396",
            "7583f593aef24b799edac5272b7e51a0",
            "e18bd47761f74809b08c83b9808a121c",
            "104b825c271d42e2a72e14353483f9ab",
            "763eeb72a5254594a033804d17538cdc",
            "3e6b663bc0b34fe0a67a1adc438f5669",
            "430050ff692645588b8228211b8c8e99",
            "3550eaabb6144d2db58ba4f1719bc82f",
            "c06de10cfa8043259816e3d6cc1de1c9",
            "7fb1a148fb8749269fd65491f77500b8",
            "129967d7ccd04f71905874da0d289d03",
            "2123d9c8c59f492587237951a920d61f",
            "62cb6f85b44e4749a64e650ae237c56d",
            "2909ff3202274c60835ad2ae4fc2e8fc",
            "cf7b2daa57a7473db10d80b506f3b88c",
            "1f06de4b6f3a4f539a8b8d43425931c4",
            "7a353c8a7cdf42ab8e438a969cfd14bb",
            "2ffea5d4edf748d48e1c0fb69e4df7b4",
            "86d73a1e6e784e7394db42de97a19d4c",
            "22a4fbd742ec48b6ba16772c4b9abe44",
            "fb5440e7952d4969ba89aed083e95bc0",
            "086c1d9fb07b4c89b420d199254695f3",
            "874bd350f04e4fc59cf35d34c960bc81",
            "35b553c400da40888244e02e12661ab8",
            "39d40d9c41a64522b27ae1b8100e19a8",
            "c121bd207ec645dfa458216fc138e4ac",
            "edeb9f20c6a043e5a4d0d61794934ccf",
            "e771b15222444627acea2f8832eb9bb1",
            "469d32117ec541f0bce151561bbf13b7",
            "b3ca5d8d93834ed4a3af55243f859e51",
            "ded3e62b96174b768b7b48ad3d4f4e7b",
            "49974e21595046de98a2f7e0b5ca1ad7",
            "94142fe7e95f4b9ba7a9a57fff596bc1",
            "9634f2c3f4e94a8ea154429f3d957196",
            "6630079dd76946ffabf29193f67c5436",
            "09f5db29d9f44708aa79526fd3f54855",
            "dc39a7cb26c549288747e735d4fba951",
            "136d8b656734478e95dac235b0b4045e",
            "0fbe50df361c4bb09c4f2fe35d16832f",
            "4ab2b7f2cc8c4aaba93e1c20e57f0c0c",
            "d800b03f1f1f4a17af767f5814ee51bb",
            "b42b3169d1d74ecb94f2e81ea375fd84",
            "81dd31989eee4c248a165e452495d753",
            "4c6c0024ce1f47338bb1830969d206b2",
            "d6e44abaa94c47ec8305fcc44f506fbf",
            "cd80923e8a0749f3b4af89ef672f5c8a",
            "dd71015c4dd446c68c280e9244f6a6c0",
            "1f6ee81657514df6845cef107e7b197a",
            "0d430a5177d84b718a221388fad65264",
            "e3d951a13e07405ca70b984fb22ac6dc"
          ]
        },
        "outputId": "8c32a9c0-a771-4573-e7c4-e819894b303e"
      },
      "execution_count": null,
      "outputs": [
        {
          "output_type": "stream",
          "name": "stderr",
          "text": [
            "<ipython-input-16-ff294d30b750>:4: LangChainDeprecationWarning: The class `HuggingFaceEmbeddings` was deprecated in LangChain 0.2.2 and will be removed in 1.0. An updated version of the class exists in the :class:`~langchain-huggingface package and should be used instead. To use it run `pip install -U :class:`~langchain-huggingface` and import as `from :class:`~langchain_huggingface import HuggingFaceEmbeddings``.\n",
            "  embedding_model = SentenceTransformerEmbeddings(model_name=\"all-MiniLM-L6-v2\")\n",
            "/usr/local/lib/python3.11/dist-packages/huggingface_hub/utils/_auth.py:94: UserWarning: \n",
            "The secret `HF_TOKEN` does not exist in your Colab secrets.\n",
            "To authenticate with the Hugging Face Hub, create a token in your settings tab (https://huggingface.co/settings/tokens), set it as secret in your Google Colab and restart your session.\n",
            "You will be able to reuse this secret in all of your notebooks.\n",
            "Please note that authentication is recommended but still optional to access public models or datasets.\n",
            "  warnings.warn(\n"
          ]
        },
        {
          "output_type": "display_data",
          "data": {
            "text/plain": [
              "modules.json:   0%|          | 0.00/349 [00:00<?, ?B/s]"
            ],
            "application/vnd.jupyter.widget-view+json": {
              "version_major": 2,
              "version_minor": 0,
              "model_id": "e6d900398fc64a3bbcde4d6f13275aeb"
            }
          },
          "metadata": {}
        },
        {
          "output_type": "display_data",
          "data": {
            "text/plain": [
              "config_sentence_transformers.json:   0%|          | 0.00/116 [00:00<?, ?B/s]"
            ],
            "application/vnd.jupyter.widget-view+json": {
              "version_major": 2,
              "version_minor": 0,
              "model_id": "141a161132c14c1d819f4446263aedfc"
            }
          },
          "metadata": {}
        },
        {
          "output_type": "display_data",
          "data": {
            "text/plain": [
              "README.md:   0%|          | 0.00/10.7k [00:00<?, ?B/s]"
            ],
            "application/vnd.jupyter.widget-view+json": {
              "version_major": 2,
              "version_minor": 0,
              "model_id": "e9c08f4e61bf49bda957ce3740becd08"
            }
          },
          "metadata": {}
        },
        {
          "output_type": "display_data",
          "data": {
            "text/plain": [
              "sentence_bert_config.json:   0%|          | 0.00/53.0 [00:00<?, ?B/s]"
            ],
            "application/vnd.jupyter.widget-view+json": {
              "version_major": 2,
              "version_minor": 0,
              "model_id": "29d53bc71d8e4c8aa781d7e01d8215b6"
            }
          },
          "metadata": {}
        },
        {
          "output_type": "display_data",
          "data": {
            "text/plain": [
              "config.json:   0%|          | 0.00/612 [00:00<?, ?B/s]"
            ],
            "application/vnd.jupyter.widget-view+json": {
              "version_major": 2,
              "version_minor": 0,
              "model_id": "76d9f074fa78414faed0c121e073ba60"
            }
          },
          "metadata": {}
        },
        {
          "output_type": "display_data",
          "data": {
            "text/plain": [
              "model.safetensors:   0%|          | 0.00/90.9M [00:00<?, ?B/s]"
            ],
            "application/vnd.jupyter.widget-view+json": {
              "version_major": 2,
              "version_minor": 0,
              "model_id": "52b96281cbce407cb379e75f0e041a1e"
            }
          },
          "metadata": {}
        },
        {
          "output_type": "display_data",
          "data": {
            "text/plain": [
              "tokenizer_config.json:   0%|          | 0.00/350 [00:00<?, ?B/s]"
            ],
            "application/vnd.jupyter.widget-view+json": {
              "version_major": 2,
              "version_minor": 0,
              "model_id": "6d7b39d72c3d4674a0e6c582fb540232"
            }
          },
          "metadata": {}
        },
        {
          "output_type": "display_data",
          "data": {
            "text/plain": [
              "vocab.txt:   0%|          | 0.00/232k [00:00<?, ?B/s]"
            ],
            "application/vnd.jupyter.widget-view+json": {
              "version_major": 2,
              "version_minor": 0,
              "model_id": "430050ff692645588b8228211b8c8e99"
            }
          },
          "metadata": {}
        },
        {
          "output_type": "display_data",
          "data": {
            "text/plain": [
              "tokenizer.json:   0%|          | 0.00/466k [00:00<?, ?B/s]"
            ],
            "application/vnd.jupyter.widget-view+json": {
              "version_major": 2,
              "version_minor": 0,
              "model_id": "2ffea5d4edf748d48e1c0fb69e4df7b4"
            }
          },
          "metadata": {}
        },
        {
          "output_type": "display_data",
          "data": {
            "text/plain": [
              "special_tokens_map.json:   0%|          | 0.00/112 [00:00<?, ?B/s]"
            ],
            "application/vnd.jupyter.widget-view+json": {
              "version_major": 2,
              "version_minor": 0,
              "model_id": "469d32117ec541f0bce151561bbf13b7"
            }
          },
          "metadata": {}
        },
        {
          "output_type": "display_data",
          "data": {
            "text/plain": [
              "1_Pooling%2Fconfig.json:   0%|          | 0.00/190 [00:00<?, ?B/s]"
            ],
            "application/vnd.jupyter.widget-view+json": {
              "version_major": 2,
              "version_minor": 0,
              "model_id": "4ab2b7f2cc8c4aaba93e1c20e57f0c0c"
            }
          },
          "metadata": {}
        }
      ]
    },
    {
      "cell_type": "code",
      "source": [
        "embed1= embedding_model.embed_query(\"the book of wisdom\")\n",
        "embed2 = embedding_model.embed_query(\"the wisdom of book\")\n",
        "print(embed1)"
      ],
      "metadata": {
        "colab": {
          "base_uri": "https://localhost:8080/"
        },
        "id": "Eog_jOjaYGXV",
        "outputId": "6a603a13-bd5c-4467-e73c-91014f716ece"
      },
      "execution_count": null,
      "outputs": [
        {
          "output_type": "stream",
          "name": "stdout",
          "text": [
            "[-0.028449634090065956, 0.0889054387807846, -0.05235543102025986, 0.11622098088264465, -0.024513905867934227, 0.042744699865579605, 0.06311801075935364, -0.04037359356880188, 0.09772783517837524, 0.023902541026473045, 0.017073605209589005, 0.14906874299049377, 0.06130649521946907, -0.045279115438461304, -0.06075422093272209, 0.005255440715700388, -0.10755552351474762, -0.05057207867503166, -0.025443753227591515, -0.0965132787823677, -0.059167034924030304, 0.06540177017450333, -0.0295814611017704, 0.017124833539128304, -0.0789988785982132, 0.058057766407728195, -0.010950195603072643, -0.023971715942025185, 0.03924834728240967, -0.02460024505853653, 0.004967022221535444, -0.006685241125524044, 0.04564427211880684, -0.028982333838939667, -0.092679463326931, 0.025414273142814636, 0.052038922905921936, 0.05710643157362938, 0.0734412893652916, 0.04660755395889282, 0.014465230517089367, -0.03552093729376793, -0.04609208181500435, 0.07412691414356232, 0.042888760566711426, 0.04012821242213249, -0.02584478072822094, -0.014453024603426456, 0.018938200548291206, -0.030504804104566574, -0.0766628235578537, -0.024872584268450737, -0.132101371884346, 0.014063782058656216, 0.08987823873758316, 0.06305668503046036, -0.09798360615968704, 0.02218933403491974, -0.00116712914314121, 0.017642933875322342, 0.06548122316598892, -0.0730387344956398, -0.01238403283059597, 0.08232375234365463, 0.0001901248615467921, 0.0540536604821682, 0.013107852078974247, -0.012592515908181667, -0.14930187165737152, -0.04251127690076828, -0.024901792407035828, 0.010031964629888535, 0.09709680825471878, -0.024838218465447426, -0.01647331938147545, -0.028907500207424164, 0.019816454499959946, -0.10834255814552307, -0.006541040260344744, -0.023196393623948097, -0.032642778009176254, 0.007484429981559515, -0.004913070239126682, 0.005410545505583286, -0.04320824146270752, -0.03823799639940262, 0.0349116325378418, -0.07844199985265732, 0.05284583941102028, 0.02956504374742508, 0.006520164664834738, -0.0765744000673294, -0.033437542617321014, 0.08435201644897461, -0.024734729900956154, 0.06634438782930374, -0.02463787980377674, -0.07755409926176071, -0.0004980916273780167, 0.1415707767009735, 0.0037253128830343485, 0.04925825446844101, -0.020457228645682335, -0.0045272731222212315, 0.09361334890127182, -0.06220204010605812, -0.06257496029138565, -0.04638708755373955, 0.04021672159433365, -0.028454285115003586, -0.0796600952744484, 0.0010070232674479485, 0.07937950640916824, 0.04977758228778839, 0.037349265068769455, -0.030829256400465965, 0.060978811234235764, 0.05154519900679588, -0.016907455399632454, -0.016142388805747032, 0.054898452013731, -0.034285031259059906, 0.03634977340698242, 0.09048791974782944, -0.06753583252429962, -0.06230173632502556, -0.03754696622490883, -5.973431031388907e-33, -0.027200564742088318, -0.005379334092140198, 0.008088181726634502, 0.018478194251656532, -0.018925447016954422, 0.031852371990680695, 0.025293994694948196, -0.04842448607087135, 0.01059476938098669, -0.01692858710885048, -0.014339073561131954, 0.03111906908452511, -0.007683576550334692, -0.012707257643342018, -0.003192965406924486, 0.05560914799571037, -0.0969349667429924, 0.05982999503612518, 0.018406232818961143, -0.06488820910453796, -0.004673387855291367, -0.01736648939549923, -0.031380049884319305, -0.047080982476472855, -0.018476126715540886, 0.042017970234155655, 0.06999455392360687, 0.03442079946398735, 0.006896975450217724, 0.010292272083461285, -0.013350671157240868, 0.06295090168714523, 0.04520469531416893, -0.04108777269721031, 0.028148898854851723, -0.024744296446442604, -0.09001845866441727, -0.05469849705696106, 0.016053276136517525, -0.014057290740311146, -0.024909520521759987, 0.058003250509500504, 0.04690888896584511, -0.04923565685749054, 0.029078269377350807, 0.12067881971597672, 0.007053219247609377, -0.029248803853988647, -0.039189890027046204, -0.031302064657211304, -0.13943947851657867, -0.0006953825941309333, 0.06774479150772095, -0.010291091166436672, -0.010023623704910278, 0.024754483252763748, -0.03854278847575188, 0.05681093782186508, 0.004519230220466852, -0.03853875398635864, -0.030469102784991264, -0.009520403109490871, -0.04902809113264084, 0.02150402031838894, -0.0020589414052665234, 0.0238033514469862, -0.15778085589408875, -0.01034489180892706, -0.051470085978507996, -0.005133196245878935, -0.0011276250006631017, 0.07294073700904846, -0.019934048876166344, -0.014165421947836876, -0.05073205381631851, -0.036228761076927185, 0.028840743005275726, -0.03783532232046127, -0.0590580478310585, -0.10045293718576431, -0.07220111042261124, -0.012517803348600864, -0.011908592656254768, -0.009700478054583073, 0.08514224737882614, 0.05084409564733505, 0.006995515897870064, -0.03351270407438278, 0.031648702919483185, -0.0029864157550036907, -0.02443765476346016, -0.006013552658259869, 0.03814198821783066, -0.06025320291519165, -0.0907512977719307, 3.949879954585727e-33, -0.022933445870876312, -0.06256981939077377, -0.03629598394036293, 0.0451519675552845, 0.10115522146224976, 0.0023433209862560034, -0.08799713850021362, 0.038874682039022446, -0.06636030972003937, 0.0001063895906554535, -0.03823560103774071, -0.005528592970222235, 0.03674488887190819, 0.04397204890847206, 0.03719807416200638, -0.055717941373586655, 0.03906923905014992, -0.03791196271777153, -0.04867643117904663, 0.00696216756477952, -0.023704390972852707, 0.020816747099161148, -0.0955217033624649, -0.04482249915599823, 0.0151593629270792, 0.05804751068353653, 0.013337962329387665, 0.008586903102695942, -0.10325097292661667, 0.022662252187728882, 0.005710821133106947, -0.02361292392015457, -0.04403676837682724, -0.012437059544026852, -0.07432906329631805, 0.0411367230117321, 0.07374340295791626, -0.05834977701306343, -0.03772830218076706, 0.047911882400512695, 0.0401267446577549, 0.00801397766917944, -0.05876997858285904, -0.04150594025850296, -0.023028621450066566, 0.032206617295742035, 0.06435220688581467, 0.04913221299648285, -0.023663178086280823, -0.03295152634382248, 0.0005661696195602417, -0.032541193068027496, -0.030979018658399582, -0.021595222875475883, 0.02255203388631344, 0.005221910774707794, 0.017664356157183647, 0.007405335083603859, 0.07091797143220901, -0.024573564529418945, 0.022196533158421516, 0.0598834827542305, -0.04166271910071373, 0.08366483449935913, -0.04762601479887962, 0.027540042996406555, -0.028809228911995888, 0.11627233028411865, 0.028556667268276215, 0.04753672704100609, -0.06590443849563599, 0.012445123866200447, -0.04232074320316315, -0.052086442708969116, 0.0024285130202770233, 0.048053402453660965, -0.06928417831659317, -0.011921530589461327, -0.026462052017450333, -0.06989773362874985, 0.028905946761369705, -0.08128485828638077, 0.04533549025654793, 0.05936434492468834, 0.016812238842248917, 0.035905465483665466, 0.08639954030513763, -0.0012735545169562101, -0.04170318320393562, -0.03772914409637451, -0.05633390694856644, 0.005668347701430321, -0.015866555273532867, 0.029820460826158524, 0.020657077431678772, -1.4710743734269727e-08, -0.014100967906415462, 0.043639156967401505, -0.06428534537553787, -0.02698088251054287, 0.04085208475589752, 0.008927302435040474, 0.03944569453597069, 0.03600110113620758, -0.0687246173620224, 0.06182129308581352, 0.004827581346035004, -0.01643192768096924, 0.05040546506643295, 0.06461974233388901, 0.008357841521501541, 0.04784064739942551, 0.07328155636787415, -0.03843880444765091, -0.016817890107631683, -0.032297007739543915, 0.12720979750156403, 0.008939175866544247, 0.05427375063300133, -0.061843954026699066, -0.009677723050117493, -0.02651408687233925, -0.026141652837395668, 0.05920512229204178, 0.007509008049964905, 0.05306185409426689, 0.013029818423092365, 0.04930323362350464, -0.0182395838201046, -0.009160802699625492, 0.1162320226430893, 0.04951408505439758, -0.051540400832891464, 0.016676614060997963, 0.023045852780342102, 0.05345988646149635, 0.011892405338585377, 0.07578989118337631, 0.024663763120770454, 0.06728123873472214, -0.01295879203826189, -0.039904940873384476, 0.004116839729249477, 0.055701687932014465, -0.03878484666347504, -0.015078546479344368, 0.06865039467811584, -0.02158966287970543, 0.10220446437597275, -0.006243924144655466, 0.07478097826242447, -0.04812229052186012, 0.003980804234743118, 0.09329436719417572, -0.1509103626012802, 0.006392323412001133, 0.055541038513183594, 0.0019583057146519423, 0.07243020832538605, -0.01830444484949112]\n"
          ]
        }
      ]
    },
    {
      "cell_type": "code",
      "source": [
        "len(embed1)"
      ],
      "metadata": {
        "colab": {
          "base_uri": "https://localhost:8080/"
        },
        "id": "GAtCOO8BYTO6",
        "outputId": "1ef33f8b-003b-4f41-b998-9e46058c4de3"
      },
      "execution_count": null,
      "outputs": [
        {
          "output_type": "execute_result",
          "data": {
            "text/plain": [
              "384"
            ]
          },
          "metadata": {},
          "execution_count": 18
        }
      ]
    },
    {
      "cell_type": "markdown",
      "source": [
        "#### cosine similarity ![image.png](data:image/png;base64,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)"
      ],
      "metadata": {
        "id": "frHFYcRsyh63"
      }
    },
    {
      "cell_type": "code",
      "source": [
        "import numpy as np\n",
        "def cosine_similarity(vec1, vec2):\n",
        "    dot_product = np.dot(vec1, vec2)\n",
        "    norm_vec1 = np.linalg.norm(vec1)\n",
        "    norm_vec2 = np.linalg.norm(vec2)\n",
        "    return dot_product / (norm_vec1 * norm_vec2)\n",
        "\n",
        "similarity = cosine_similarity(embed1, embed2)\n",
        "print(f\"Cosine Similarity: {similarity}\")"
      ],
      "metadata": {
        "colab": {
          "base_uri": "https://localhost:8080/"
        },
        "id": "8OEyx_hGZgNk",
        "outputId": "0cb14e41-edc3-4bc5-e661-f28127d2e32e"
      },
      "execution_count": null,
      "outputs": [
        {
          "output_type": "stream",
          "name": "stdout",
          "text": [
            "Cosine Similarity: 0.9450731250303134\n"
          ]
        }
      ]
    },
    {
      "cell_type": "markdown",
      "source": [
        "### vector store"
      ],
      "metadata": {
        "id": "HdeA1bWeypsd"
      }
    },
    {
      "cell_type": "code",
      "source": [],
      "metadata": {
        "id": "A8owICP6IbAQ"
      },
      "execution_count": null,
      "outputs": []
    },
    {
      "cell_type": "code",
      "source": [
        "from langchain_chroma import Chroma\n",
        "from langchain_community.embeddings.sentence_transformer import (\n",
        "    SentenceTransformerEmbeddings,\n",
        ")\n",
        "\n",
        "#vector_store = Chroma.from_documents(text_recu_splitter, embedding_model )\n",
        "\n",
        "vector_store = Chroma.from_documents(\n",
        "   text_recu_splitter,\n",
        "   embedding_model,\n",
        "   persist_directory = \"/content/chroma_langchain_db\",\n",
        "   collection_name=\"resume_rag\",\n",
        "   #distance_metric = \"cos\" # by default you can use \"ip\"(inner product) for dot product or L2 for(Euclidean distance)\n",
        ")\n",
        "print(\"Number of documents in initial load:\", len(text_recu_splitter))"
      ],
      "metadata": {
        "id": "pJJ3dlczzNTl",
        "colab": {
          "base_uri": "https://localhost:8080/"
        },
        "outputId": "a0583b66-eecc-4fa0-e128-fb0ca43d6d76"
      },
      "execution_count": null,
      "outputs": [
        {
          "output_type": "stream",
          "name": "stdout",
          "text": [
            "Number of documents in initial load: 113\n"
          ]
        }
      ]
    },
    {
      "cell_type": "code",
      "source": [
        "vs_retriever = vector_store.as_retriever(k=3)\n",
        "\n",
        "texts = vector_store.get()['documents']\n",
        "metadatas = vector_store.get()[\"metadatas\"]"
      ],
      "metadata": {
        "id": "yqOTkC_OVCtm"
      },
      "execution_count": null,
      "outputs": []
    },
    {
      "cell_type": "code",
      "source": [
        "texts"
      ],
      "metadata": {
        "id": "mAP4TSVzXX-d"
      },
      "execution_count": null,
      "outputs": []
    },
    {
      "cell_type": "markdown",
      "source": [
        "#### test simple vector store"
      ],
      "metadata": {
        "id": "HoPN32ug3Ge4"
      }
    },
    {
      "cell_type": "code",
      "source": [
        "from langchain.vectorstores import Chroma\n",
        "db = Chroma(\n",
        "    collection_name=\"simple_rag\",\n",
        "    embedding_function=embedding_model,\n",
        "    persist_directory=\"/content/test_chroma\",\n",
        ")"
      ],
      "metadata": {
        "id": "FoeRYC3Ay9Rk",
        "colab": {
          "base_uri": "https://localhost:8080/"
        },
        "outputId": "6b924275-4280-46f4-bd95-a2f412fe6f41"
      },
      "execution_count": null,
      "outputs": [
        {
          "output_type": "stream",
          "name": "stderr",
          "text": [
            "<ipython-input-23-54f61de61038>:2: LangChainDeprecationWarning: The class `Chroma` was deprecated in LangChain 0.2.9 and will be removed in 1.0. An updated version of the class exists in the :class:`~langchain-chroma package and should be used instead. To use it run `pip install -U :class:`~langchain-chroma` and import as `from :class:`~langchain_chroma import Chroma``.\n",
            "  db = Chroma(\n"
          ]
        }
      ]
    },
    {
      "cell_type": "code",
      "source": [
        "from uuid import uuid4\n",
        "\n",
        "from langchain_core.documents import Document\n",
        "\n",
        "document_1 = Document(\n",
        "    page_content=\"hello my name is arbi a student at supcom and now i am hosting a rag workshop \",\n",
        "    metadata={\"source\": \"arbi\"},\n",
        "    id=1,\n",
        ")\n",
        "\n",
        "document_2 = Document(\n",
        "    page_content=\"aziz is a student at FSS \",\n",
        "    metadata={\"source\": \"aziz\"},\n",
        "    id=2,\n",
        ")\n",
        "\n",
        "document_3 = Document(\n",
        "    page_content=\"siwar is a teacher who teach arbi \",\n",
        "    metadata={\"source\": \"siwar\"},\n",
        "    id=3,\n",
        ")\n",
        "documents = [\n",
        "    document_1,\n",
        "    document_2,\n",
        "    document_3,\n",
        "    ]\n",
        "uuids = [str(uuid4()) for _ in range(len(documents))]\n",
        "db.add_documents(documents=documents, ids=uuids)"
      ],
      "metadata": {
        "colab": {
          "base_uri": "https://localhost:8080/"
        },
        "id": "LyBtzD3IyrGv",
        "outputId": "c857990d-db7a-4ffc-8728-c29f43cfa7e7"
      },
      "execution_count": null,
      "outputs": [
        {
          "output_type": "execute_result",
          "data": {
            "text/plain": [
              "['56fff372-e0ba-45f8-a998-f748ed1f620d',\n",
              " 'dba35bb5-f554-41c6-8854-0888b7d9f46c',\n",
              " 'a5e7d55e-3680-4c50-b3e0-99c0b0a0e9fa']"
            ]
          },
          "metadata": {},
          "execution_count": 24
        }
      ]
    },
    {
      "cell_type": "code",
      "source": [
        "results = db.similarity_search(\"who is arbi\", k = 2)\n",
        "print(results)"
      ],
      "metadata": {
        "colab": {
          "base_uri": "https://localhost:8080/"
        },
        "id": "-wzsm4snieQ0",
        "outputId": "d9c45c5b-72e1-4610-98a4-3d4bd95a7385"
      },
      "execution_count": null,
      "outputs": [
        {
          "output_type": "stream",
          "name": "stdout",
          "text": [
            "[Document(metadata={'source': 'siwar'}, page_content='siwar is a teacher who teach arbi '), Document(metadata={'source': 'arbi'}, page_content='hello my name is arbi a student at supcom and now i am hosting a rag workshop ')]\n"
          ]
        }
      ]
    },
    {
      "cell_type": "code",
      "source": [
        "results = db.similarity_search_with_score(\"who is arbi\", k = 2)\n",
        "print(results)"
      ],
      "metadata": {
        "colab": {
          "base_uri": "https://localhost:8080/"
        },
        "id": "ypSp_NRs0PeM",
        "outputId": "19211138-c34c-4f2c-e4aa-5030abbdb839"
      },
      "execution_count": null,
      "outputs": [
        {
          "output_type": "stream",
          "name": "stdout",
          "text": [
            "[(Document(metadata={'source': 'siwar'}, page_content='siwar is a teacher who teach arbi '), 0.8376447146950833), (Document(metadata={'source': 'arbi'}, page_content='hello my name is arbi a student at supcom and now i am hosting a rag workshop '), 1.5469711145954455)]\n"
          ]
        }
      ]
    },
    {
      "cell_type": "code",
      "source": [
        "results = vector_store.similarity_search_with_score(\"what supcom\", k = 2)\n",
        "print(results)"
      ],
      "metadata": {
        "colab": {
          "base_uri": "https://localhost:8080/"
        },
        "id": "BeTxm9H8jPCD",
        "outputId": "92704bd6-405e-4fb2-8a7d-55337d9e42db"
      },
      "execution_count": null,
      "outputs": [
        {
          "output_type": "stream",
          "name": "stdout",
          "text": [
            "[(Document(id='4ccc085d-449e-4956-8b4f-5c5e5b2f5bd7', metadata={'author': 'Mohamed Arbi Nsibi', 'creationdate': '2025-02-02T23:34:38+00:00', 'creator': \"LaTeX with 'moderncv' package\", 'keywords': 'Mohamed Arbi Nsibi , curriculum vitæ, résumé', 'moddate': '2025-02-02T23:34:38+00:00', 'page': 0, 'page_label': '1', 'producer': 'pdfTeX-1.40.25', 'ptex.fullbanner': 'This is pdfTeX, Version 3.141592653-2.6-1.40.25 (TeX Live 2023) kpathsea version 6.3.5', 'source': '/content/Mohamed_ARBI_Nsibi_EN.pdf', 'subject': 'Résumé of Mohamed Arbi Nsibi', 'title': 'Mohamed Arbi Nsibi  –', 'total_pages': 2, 'trapped': '/False'}, page_content='(SUP’COM) 2022-2024'), 1.2340093851089478), (Document(id='46c19f7c-69f5-4775-a91a-e05f5db5cae1', metadata={'author': 'Mohamed Arbi Nsibi', 'creationdate': '2025-02-02T23:34:38+00:00', 'creator': \"LaTeX with 'moderncv' package\", 'keywords': 'Mohamed Arbi Nsibi , curriculum vitæ, résumé', 'moddate': '2025-02-02T23:34:38+00:00', 'page': 1, 'page_label': '2', 'producer': 'pdfTeX-1.40.25', 'ptex.fullbanner': 'This is pdfTeX, Version 3.141592653-2.6-1.40.25 (TeX Live 2023) kpathsea version 6.3.5', 'source': '/content/Mohamed_ARBI_Nsibi_EN.pdf', 'subject': 'Résumé of Mohamed Arbi Nsibi', 'title': 'Mohamed Arbi Nsibi  –', 'total_pages': 2, 'trapped': '/False'}, page_content='General Secretary of IEEE SUP’COM Computer Society Chapter 2023/2024'), 1.281052589416504)]\n"
          ]
        }
      ]
    },
    {
      "cell_type": "code",
      "source": [
        "# query it\n",
        "query= \"what is supcom ?\"\n",
        "results = vector_store.similarity_search(query)\n",
        "results"
      ],
      "metadata": {
        "id": "cn6wZEbbSVHp",
        "colab": {
          "base_uri": "https://localhost:8080/"
        },
        "outputId": "29cda879-7507-4a00-845b-64ad90eee1a6"
      },
      "execution_count": null,
      "outputs": [
        {
          "output_type": "execute_result",
          "data": {
            "text/plain": [
              "[Document(id='4ccc085d-449e-4956-8b4f-5c5e5b2f5bd7', metadata={'author': 'Mohamed Arbi Nsibi', 'creationdate': '2025-02-02T23:34:38+00:00', 'creator': \"LaTeX with 'moderncv' package\", 'keywords': 'Mohamed Arbi Nsibi , curriculum vitæ, résumé', 'moddate': '2025-02-02T23:34:38+00:00', 'page': 0, 'page_label': '1', 'producer': 'pdfTeX-1.40.25', 'ptex.fullbanner': 'This is pdfTeX, Version 3.141592653-2.6-1.40.25 (TeX Live 2023) kpathsea version 6.3.5', 'source': '/content/Mohamed_ARBI_Nsibi_EN.pdf', 'subject': 'Résumé of Mohamed Arbi Nsibi', 'title': 'Mohamed Arbi Nsibi  –', 'total_pages': 2, 'trapped': '/False'}, page_content='(SUP’COM) 2022-2024'),\n",
              " Document(id='46c19f7c-69f5-4775-a91a-e05f5db5cae1', metadata={'author': 'Mohamed Arbi Nsibi', 'creationdate': '2025-02-02T23:34:38+00:00', 'creator': \"LaTeX with 'moderncv' package\", 'keywords': 'Mohamed Arbi Nsibi , curriculum vitæ, résumé', 'moddate': '2025-02-02T23:34:38+00:00', 'page': 1, 'page_label': '2', 'producer': 'pdfTeX-1.40.25', 'ptex.fullbanner': 'This is pdfTeX, Version 3.141592653-2.6-1.40.25 (TeX Live 2023) kpathsea version 6.3.5', 'source': '/content/Mohamed_ARBI_Nsibi_EN.pdf', 'subject': 'Résumé of Mohamed Arbi Nsibi', 'title': 'Mohamed Arbi Nsibi  –', 'total_pages': 2, 'trapped': '/False'}, page_content='General Secretary of IEEE SUP’COM Computer Society Chapter 2023/2024'),\n",
              " Document(id='fbddb97c-e14c-4bbd-b3a5-02d552eeafaf', metadata={'author': 'Mohamed Arbi Nsibi', 'creationdate': '2025-02-02T23:34:38+00:00', 'creator': \"LaTeX with 'moderncv' package\", 'keywords': 'Mohamed Arbi Nsibi , curriculum vitæ, résumé', 'moddate': '2025-02-02T23:34:38+00:00', 'page': 0, 'page_label': '1', 'producer': 'pdfTeX-1.40.25', 'ptex.fullbanner': 'This is pdfTeX, Version 3.141592653-2.6-1.40.25 (TeX Live 2023) kpathsea version 6.3.5', 'source': '/content/Mohamed_ARBI_Nsibi_EN.pdf', 'subject': 'Résumé of Mohamed Arbi Nsibi', 'title': 'Mohamed Arbi Nsibi  –', 'total_pages': 2, 'trapped': '/False'}, page_content='Best PACTE project in SUP’COM, 07/2022'),\n",
              " Document(id='e06b2542-e8e8-46bc-aab2-2c36c96b8d2c', metadata={'author': 'Mohamed Arbi Nsibi', 'creationdate': '2025-02-02T23:34:38+00:00', 'creator': \"LaTeX with 'moderncv' package\", 'keywords': 'Mohamed Arbi Nsibi , curriculum vitæ, résumé', 'moddate': '2025-02-02T23:34:38+00:00', 'page': 0, 'page_label': '1', 'producer': 'pdfTeX-1.40.25', 'ptex.fullbanner': 'This is pdfTeX, Version 3.141592653-2.6-1.40.25 (TeX Live 2023) kpathsea version 6.3.5', 'source': '/content/Mohamed_ARBI_Nsibi_EN.pdf', 'subject': 'Résumé of Mohamed Arbi Nsibi', 'title': 'Mohamed Arbi Nsibi  –', 'total_pages': 2, 'trapped': '/False'}, page_content='ICT Engineer’s degree Higher school of communication (SUP’COM)')]"
            ]
          },
          "metadata": {},
          "execution_count": 28
        }
      ]
    },
    {
      "cell_type": "markdown",
      "source": [
        "### Prompt template"
      ],
      "metadata": {
        "id": "gRg0If2CSJi5"
      }
    },
    {
      "cell_type": "code",
      "source": [
        "from langchain import PromptTemplate\n",
        "\n",
        "# write a prompt for a customer support chatbot that answer questions using infos extracted from our db\n",
        "\n",
        "template = \"\"\"you are an exceptional support chatbot that gently answer questions based on my resume and you will speak on my behalf.\n",
        "\n",
        "\n",
        "you know the following context information\n",
        "{chunks_formatted}\n",
        "answer the following question from a customer. use only information from the previous context information .\n",
        "do not invent stuff.\n",
        "Question : {query}\n",
        "Answer : \"\"\"\n",
        "\n",
        "prompt = PromptTemplate(\n",
        "    input_variables =[\"chunks_formatted\",\"query\" ],\n",
        "    template = template\n",
        ")\n"
      ],
      "metadata": {
        "id": "OzwWcfuWVi0P"
      },
      "execution_count": null,
      "outputs": []
    },
    {
      "cell_type": "code",
      "source": [],
      "metadata": {
        "id": "VRJ9m8YQl5bR"
      },
      "execution_count": null,
      "outputs": []
    },
    {
      "cell_type": "code",
      "source": [
        "from google.colab import userdata\n",
        "GROQ_API_KEY = userdata.get('GROQ_API_KEY')"
      ],
      "metadata": {
        "id": "IUZnYVWsV6Tb"
      },
      "execution_count": null,
      "outputs": []
    },
    {
      "cell_type": "markdown",
      "source": [
        "### final chain"
      ],
      "metadata": {
        "id": "8vJ891p-SRXz"
      }
    },
    {
      "cell_type": "code",
      "source": [
        "from langchain_groq import ChatGroq\n",
        "#full pipeline\n",
        "query = \"what is your name?\"\n",
        "# retreive relevant chunks\n",
        "docs = vector_store.similarity_search(query)\n",
        "retreived_docs = [doc.page_content for doc in docs]\n",
        "\n",
        "chunks_formatted = \"\\n\\n\".join(retreived_docs)\n",
        "\n",
        "# format the prompt\n",
        "prompt_f = prompt.format(chunks_formatted=chunks_formatted, query=query)\n",
        "\n",
        "# generate answer\n",
        "llm = ChatGroq(\n",
        "    temperature=0.3,\n",
        "    model= \"llama-3.1-8b-instant\", #\"llama-3.3-70b-versatile\",#\"llama3-70b-8192\",\n",
        "    api_key= GROQ_API_KEY,\n",
        ")"
      ],
      "metadata": {
        "id": "vZwH9X_1PXMw"
      },
      "execution_count": null,
      "outputs": []
    },
    {
      "cell_type": "code",
      "source": [
        "answer = llm.invoke(prompt_f) # invoke # generate\n",
        "#answer = llm.predict(prompt_f)\n",
        "answer"
      ],
      "metadata": {
        "id": "SPljDfV1mWVD",
        "colab": {
          "base_uri": "https://localhost:8080/"
        },
        "outputId": "2ca0a58c-4b96-4649-a45c-78cc580da1bc"
      },
      "execution_count": null,
      "outputs": [
        {
          "output_type": "execute_result",
          "data": {
            "text/plain": [
              "AIMessage(content='My name is Mohammed Arbi Nsibi.', additional_kwargs={}, response_metadata={'token_usage': {'completion_tokens': 11, 'prompt_tokens': 153, 'total_tokens': 164, 'completion_time': 0.014666667, 'prompt_time': 0.005666226, 'queue_time': 0.237362218, 'total_time': 0.020332893}, 'model_name': 'llama-3.1-8b-instant', 'system_fingerprint': 'fp_08ee3c3619', 'finish_reason': 'stop', 'logprobs': None}, id='run-ff0ea857-eb56-4bd7-a577-d6a5eb35b0db-0', usage_metadata={'input_tokens': 153, 'output_tokens': 11, 'total_tokens': 164})"
            ]
          },
          "metadata": {},
          "execution_count": 38
        }
      ]
    },
    {
      "cell_type": "code",
      "source": [
        "from langchain_core.output_parsers import StrOutputParser\n",
        "\n",
        "parser = StrOutputParser()\n",
        "\n",
        "chain = llm | parser\n",
        "print(chain.invoke(prompt_f))"
      ],
      "metadata": {
        "colab": {
          "base_uri": "https://localhost:8080/"
        },
        "id": "NuV8sAVlzBsB",
        "outputId": "7c4c24c7-bbf8-4ee3-f481-599a10c781a1"
      },
      "execution_count": null,
      "outputs": [
        {
          "output_type": "stream",
          "name": "stdout",
          "text": [
            "My name is Mohammed Arbi Nsibi.\n"
          ]
        }
      ]
    },
    {
      "cell_type": "markdown",
      "source": [
        "### Let's make an interface\n",
        "![a0eb9e254598915b692fb8e0dde3b762.webp](data:image/webp;base64,UklGRooqAABXRUJQVlA4WAoAAAAIAAAA4wAA3AAAVlA4IKopAACQmgCdASrkAN0APm0wk0ekIqGzqdJLmnANiWMAx6A02Yy6uP/LASd6QRMqrfmJ+w/Jnzr8iftD9+/a7+5+4Z/d+Rbrr/u+hv84++X6T+8fvF8T/7bwz+b/+r6hf5h/RP8//d/3b41m4XoQe9/17/n/478pfTi/3vTL7Lf9z3A/5//Uv95/eva//s+MP6X7A39Z/vH/h/x/sl/+n+k9NP1R/7/9J8Df63/8kQvbcaqQsKa4YzpAN/s0GCw6mfMp46OT5DiA9r9esfK8INOHQG09WOnQShdIBweHyH8++npdEiohhvvvdnNa8MtdQf3bEhBaG1NLMazYl19b8/2w1joewpksDbu7QpxPC/aM9Q/8lNi00cXY5TqXZ+gBk8BoUwtjgGQbyeiUtdGruxWctiKBJTbVTz4Gwc5s0qF2w9DAUNNQjiD0WyCgRf5iTfIMxJ1ubZZ57xDa0t6Ym4szebBFpsq2QasOjFG3URyZO0HsC1vJZyrJZ153MH1VJP0iKUx6B6OzT2KO/UY1fKwjBJJ9KGQC4KRve3yGSF3/BsbXLe+xJIVbo9ujoxMcowFeo9bVdqtMEwxeNNyYMPrqHF78AE9aEnTCd7HoMMUp7WTpnrp3LK/2IvUDhJMy2cFXJ5tEIloTWVU2Z/1WO5u6NAOloqwDKMeljNuOUJNM9VTKcsbzFKMXj18RUrVH1DMPgrczG1U1H8ibuZFX7D2ZY79ye1GzS/w0c0r8bq2n7ZN7494MeR5uylAtKgyce08pqyhY2boTi3O8KC4JVWkedhYOuD6Xdn6F8WTcnBJ4H9Rq0DNylFBK4GPJR6j+ZoA3FvY7VdOwnDbMjPe9vDSQwecohOEeuhU3fQnmoiEEkF3W07C4IL7KSUQjkb6W4g31S8DhQonhwgf4IeJakCbL1mnX44jTmeh0svE4FMHScm/pi2xwZ6QiEWBEqPDmXFnSW06+se3OtkgHFOGlbP1kRQSz3w83m5n6Lp3zPvTdLYWjKw4i0/Ab6XGNNeWbSmfp6S4oTmFFqk292y2jeWUEoWbp47IxVL3I06ag0g/gY9YW76Cvaw1ETJZeavo2j4IyTwKry+Sv4LNZPtKH7fHWHLUyWyfYLk6Zpu0l1h+3eesbzkxtmdVBpgQmAeRpgq0Jsr2sLkt6LgXqBjfTpXt6NV71ly0JEfpB8BJYN/6lhQ6E1nRLRDuS93NAgaJB9epzTsd3JBW+Lvrwc/uc7dbM6UyXN+7Ja+9mbnT9JTFBQlHv8m524Cdxwblq2fOuV+bCTv5cQDJqwVCSVYagWdin3kS0wZ20aYNANlNcT3cTjs3Az8yUS0swlL5k8EJl0T/epzqLlowvfZbi1lVxF5HpyyG3gVF06lAD7PsR20y/HPI3ax3WHU1fZPzK5dMa2DqaqziDpeAHfplsqbdFQhn+XZY3R9VRJ3SLQJmWZ6HpRrP0sdTZ/G2l4cLDWQlmEvsj5/hG2XHjs8iVn3FQC3y6IJCEwfcw0huM7GU/qBi12LcokNUEEIO7cMlmes1ginfToXyjAR1lgmg54FTLj5MkzZfQA78NF0COzQ8BTak4uW0eLYDUEu11hTJSE3xj9/YTQ5Wvt9WkYXUUGrpqTQZwc7jDQUSnn7/+N08O2+Pyyr5ShQNdjxgi1JyrE/ETSLAA/v6I4E9Q6R1oeYumUxW0COJ7IaRzr04ti1wT5aAxmkV4CwY4shudqwwz2sP2h1pyGPilu/EeDWRQS30Ku9g4/2/1NC9Qm7BKpiaOwAUx5hzCe5iugz2lfFWO7IYBb8Ip1rA/Y2ISmOHPv7e1A1Op4tBUmDaJgVvTEVudqhNYqDMOFxnJQBrNT1hBfLQtRGIpQdbDePn31BMoAuEears19onfMouiKlY6eYesXVYSmWEdvyk7tts15m1aPRbXaknVWbXjrBn06JCbFA5TWoFiru9VMkbsPlYMGyyJkZT7+f/Ulr58xX2399Kubjrm780mlZpcHLKgxIzqDUkEMd1iPpOMi8GB9F6Ev8iCAiloeqIuigwMgfCf5RbEewb8MKx52eY84P4R3yaG45BoIqwJNAxzc8SLDOSf+WGOMixmwQLqRA3bYkt0D3BcZk4vvYjyJ6UQCS0wjfh3zTK47fheNkiA7/1QDBdwJybGJRQk7DFxcfTTwxDbwMAbJtVmhYz48aO/mydvk6kkSH8g8jha1OJn5rtDqbmJuGV9yltbJ4oqJTROueKoAuroFETGgjQQfDK6MUjafidIVV0CEjd/ti+OhJt5LFYtY/OiNSeeNZVl676gvcH+2F2zAqbqO4HukrlKclf/Tk6f+39Pr+PjwseQ41I3f4ALCgb8vH+/CyhuC3liKeaGqtC2Y8+8kJqC64isf6jqF06Jbm5Iz57TdhNlsLV8MzpAQrSvo/NIWEVkTHAF00fEdtH8RZJgcgMU8GVPvz+MD4jPWYS0jT6uc4FHdNqG8klT37OlXmt1pqWTlVWKQwLUeDwzjZ4StettL2+CpK49lTZchQVgcJ3+cuTstovsPcQ8BIozuMZHQ4VZelvY2gZMFnr8tF6V5bfv2Vb99JxVfgfTYvVumPG2of069EPRdhgNinDv/UhyzyNmCkIIgnkFDJKcSAJXFe9PDgWFt6M/pD8cq2jgeC9T5URbT9DSeiY4Ke5Bq8/kXLYAUS7Y8tiAKy7GgT18MEJa54w5F8YFI8ZQrpY+8o35fiTGPYsxHVMiNhNwq/mEVxUwBjrp4dd9E+fwWiUjG9gKcHLFKe53QQYN55tri7D/y7Mx0a9+/kTGa29QMMYNaGoCM7j0GJrOc2EAgoP/8tRHGfil881GxzmZGnFzRhcYKnygWx3HGY2V+Xr2llgvSoSLtLUwfIV0uvhjrskR/FCRBhnQlcqectntQvF1iv45bM7mjPyX2UGg82amgsrO2QyLHgwpfNoXuG2zAMit7Mea/S7Zrz0QJLrJcim1dxLv+QiYTbyL+hmO85sCOi7bK2dxSpAjBRJiGXnAxIiYhPTEbYk9wgGggQEIRGWgSFXURk9T73ktUEwjqGPKGT0toQQM7rMTuasE2eMa4KULJXRHdsguG3C1x3kFokqtEVOQ4qNvSRuPwTAqwbzpZPf4ta8q0ZzPc3c8GPAX5B9483NXpwCo49c+a0Rl/gLrrx0FiTfEJvz9boafQvNayD+fzbCR0t1hLDpgXkZO99Bfoe82dsoU4BVlLUXTWHHwBa/IyA0t2glk6mGxUHnHA+9kLL2BjEyDLPw5Racps9yxSRDR1XFtyTOC1Wh4zwjCMQHBcHgPK6K3/xm8chJljbCHbkERyU7yY3K2ojqfteTlIxNCvC3a/LKR0a8mMGVU0xSjzaKYNZ2HWTHyMK7BafoQs2Z+HoyC+tK8nc/OZ6VzngcTIuOWHO4KCiMHC9Rm/6fyXuQc9tY+nlBUHq1zg85EFzBkgHwODDbtZLe3nfSpYAyokaVMVcDbGhINy9yv+sLuRslE9yvNWxgS3DwRbITQsKyQpYvcCILQfo218hzSlwWWkO+0KmKe/O17jl3u4FHarZJ3dHGikbVjueiTCR4hwyrPOxlW3ZtDYdZkAOZ1NjZcuwus6jIjdUmQUaeS/9O4x0sRpamwU1oRkDYSyyJP5E3YlQkQe3J1YiEUhzP8kxqGsYJhDZK2HC9NKfyPklmziKkQ5w3+CFCxKaDegyM1GPpZhpZ1X/lswdaVJUG972zCaGXNnuQn8K9v2IqTBFkrt6IbYD6cDpn5gDRqfo7nq3yr61N4TXMFSnza4oEy2gRMM6bhem0FFY3EnhVNSEf0h4fPKirKAEtFPvtRt7/FTF8/22WEXWqzmm1k3Zq/JFkM++rJIVl38kFom6iR61Q5M0c4VS/v51pE0YhSOK8wX4wyNHLGXr+B0GB5wwEiDZH26Xa9JPDhMx+pf2ZDt+YnqWUIFinDgLCZh80cQf/GNPOAdcNjCcPkFB2M/CTWByqDTIaUgXvRLjL1nd/vxz5H/l40s/fNlcgA3D6L/sCXPWd9hAHqQfRcE/wNnwjTVHuus24trcJWhrlq7tIj6+s5OYhFRIAk7G9eK0BOtSWw9sbzRkgkRSP58vmu4V/llqJ6q1XNXsJ/tNBs6gU5rYmNFxkZ+RTJZoseaCUFAKYjYmxaGsw/8XKKFHWESWfNpwWWyOuBH87kGyblvP0aXAwCZXgmnlhFPHfohenBb+bLy+rN4GoJIM9DUtn2bcUfixt6To11sXqy0EjhKbXR9K46eG+VHouQkXWfEqlSF+OezholuFZdM9InnKbhz+6oEonIArHwnIWBntSfHW7rJUoPnXXCh33ru9ig4RCcDZHclCoMqLfiXu/7J4QlCIiowszK3BUqKySF5fESZrQNh4rvcACu/GKkygTGA5f4oDjgnOagMEUHg9bGN+e/TMAEKkVbRBaiZ+/f76obwTi7NXhd0Ly41SsAUmowfapmtj9n0tlp6qHk6I0nd9kVzQXoPExhmP+SwvEyNmS1h5F9vH0reckRnNdxtxkwhv7y16qa3yoqL+gYduzRXEpdgmFKPRXtN3hjUWyzBbOgbrYpR+NUqMc9TXhM/cpIZ4H8WCsPIWZpwE3Iq+4KFRroruLMY12IscqHGBfb2gfyLZLbedfW9cnMwv8wYqU2S1e+T1iHR1WQ0J/paXQEf4uWsK7WuEYFPKNbiOo88difPn4UlfHzaJEk16DVvkUlwnN4k79nthugcFb942eID3Fq/IwzCp7w09u3aCdTbo+27SIZVsEYwbwtkinUlF0+rvl5Cg7U8AluL9uauFMZT149anc6EurrVp/fSJ6npOTkmgIgek17M+lUeOU7rYkmyrSrkkcPsjCvRtu22f3ogT7dQBwgevCx6A1YZGQKwp22LCd8HWiguJS2HNtx4KvyqS2eWeNtJrYghbrnXEORIrVGqIso4pUeA57mWk3uNH3rzGo6GK+28gBR0Eq9Yi3dTk6qeJdMtioXXYnxViFTqhi7aCQDTEQ6zB8ZIo42lD1GsV2xcEIheTkEUeg2RUujcQJPjThcUDnxHRk0jkNBrxHE3GqALQnqq8QjsM3yl+btH5eQIByp/1hoNW2/Jnyq1T/xK+6kL0DwkmOGlRF9Pt9H7+PxY1mLH0HodEE1irV83gxn5X6N2JiB0naRmYrxaSSS0SP6eHpc7szIYxkfw905P20Q4evxP1pHdMVhE4Hi/aD3cDZ1/klgc4TitgwDxhJTo3Yn6ZxrcanP4RTtpyLe3kPNfmfrZX33RjF//lYqW2DcYn3mw7VfYgC/OS+rGSuQpgaHFUGOGrXxXuvm4ItWWs6+AoToKaOMAqiYr/PMRURhMFvLmSRin0HWeu+qbvVfCfMOewPFoOzFv80R41uLHHpZX11g3oZK6v2Fs5/1KYmmO78+i0PbSE/6kOzW1N2pFShKKyNW6DDGmnd0wkBS/+vVHZzEz9XzM9rVUkm5GtvHpi401oh9WUkHDQdtPIPrvLkNtVoSMOB0U9GVKkFXIMQyettHR0GjweOppkhXZDbeBLZcfDFVTzbfXGNoVoj4W5j5D9G0Rk+nxc/lm2ghtQPyzCao6EMQ5elrma/rLMO4vMTc5mKPPruLPw6mqZ73cglsZAz1HGVxbQryva9qICeazC93zXi2j0g4vYtu2/VNHKKtawgl8yaXHUQQNs/jDbcpn/EduJo+IGgsG1uBbnm2UnQu4u1on/3rFi8y8gvmFR1mDnfflqqxA4HzpXNKI88t9LAB6zSRzcXkic50ZZLUOkPYQCeY7wJxF3ioUpOuLv8zRp+zC09NOR2L2Ftz/c2gsHlC4vwjt5dShrdBKRgahrUcFGbloDc2Lqh/FCjgQ/XsQ2GDffQfRy7i9m2LgnNGQ0w7a07T40YnzU9K/r+wxzC+H6AFEMtJowjbiC4ulylTMHVleTuMx3Wp9/1bK3+2Plode6EkkfAkUvBFyh22RKPzS4eJwC9IsZWS7RTTkZDFRBHIRH9dLqwYGvjC8e/CU4pJErKYBFkmpgiNx8JwZZU5iKm3zwL0cwwUykB7ewtrLgc6X/aWNU/9/Ku0+mmYCGbnUrUHcObTmky4CYguoi/k+k3PomruYwnTHrc/PcWXO/DJGBc+1tKQnr2EWPyYayvnjxak4ER/uS3cDg9cp2W4pTNe0iWiaMxoulRYJWpu2JzynBiOEqsSjENQs2e4F4XtXfClA+MDP6n9cI/+LqEQ2FKvA10lSTa1MYAXBdsELccCDgyzO5AP8bghzIrPPTmEVlXeWwFiP8GufKAhXJ+BZe1E2/DAUQS/S56Ofp56orn2Lw58DuLWm2GGxy+Q4gM9I3bnJHX0xsZF1bJdpXisBnHjJ5XcyLgD638J8wK5CvUJ2qxtFA7l0J2mvKgJoIRjEzeIvAfxoQdEn6cfhGEgycPMev7UKDjK6L2uh9KSE+N9d4aq+t3+ONWjKUNYJvOm4GO290ocfvvLSMCqPuQuEDasifgcpNYO4EXYLNIj7lZ6jDnc4KDOvrAkSbQiyX7YhpJtkuMfvZID7d0SdT7w2t7oWrFI0goljOBUvJ3Ppo1TBhWT/TjW9EAAdHIeiJS6qsG07nazWs918Mx02fxnD6u2ROl38IdOAM+LwMA7Sfo78MHdSfcKikGLDZxFK9TRz12w+Ti2KK/DFV7BfxbBnT7oQFYzueSeS4RiEiDmmjHGKPETHV0VlPFbS7FL7zx5y6oNWJ2B2sLePj9WF/oAwC0TXDj8Ng4XLBRreWC1zSIWkB2WxXuwXNdiRTjvbUANFd4p0N9mJDlMGzH8Om5Z1CIAbzau3PdZYuh+X7irl54vD/S6+T2r4BmWegBMMzaSIvrEii7XiGWsEtHwRiEqHdiBt4uiZzCuBrnpGWRbCjfM2x4sv4iEh6VytofZONDdUenQwmFX7TmcO/QGywgb0Laftp5g3tVmJ3CHPrlwQeXbsbSbERlfvEGMBCPqiMPi1I0L4D89pTb7hxjaM3tlr6gXfDn2xC2EO0+DUkh9YzbepMo9GaM1cFtU5FUHoZDnCtU7O7e5uf8S8i3ae8iAOwUqovbn/b9DVqXdTA3CVWRLMJyjB8ETN/gpF9S2YLx+plAPQ7akvf/w0jXlsQJQZAdwuTcWQNgSOry9z6aI5v8w0aUcwDbFRr40If/eUpwvu6XZraWIlp1xgRWK7q+L8vfEc4Oe3lY86hOiWf4DmoqmnrtDWqngRPEFrP0gz00eVeeRtqS3qAA+6UIWL2VYFQ9Fwf4zEEkdQy3xZhJvQVIuEmeAMez3AlC+zvFhLgLTimrg3jjCcytsF0WmhJzT86iPLlEQRYn5UiOOK2b2/224DhKtO94xAyebjK9pIfUpsYkoGMCfwPS5exbDcj/b5t4W9xsKg78wSDKa7DvusXTqQxAW3Z+SKYto6bHB51YV8I4vFfvMhvIZyA5+se8FiAik1fuawaoeY2GUY/prIG9or/nCPUhXLWp3iVR1xbGXcO20ofkl3Y0ZOkCYAvJ/vB4uD/mkFuKyvO6cIqk1m+mIXm3Wf2C161M8BYVyeOe3HmmRg+jctYIakQqTlxWEkAs87u2GcF0hPZPtlLfJqW39jsE7x677Vwh+0oOoSEeUY5EAG5R83crqXIMNk2DiZhHTmqQmEkLiO5o9764ZtkUIkPW6K13OcDZFD+IMaIXiT0lQMh7ovoMCq8nShcYHWbPlSjnqHAI0e3HcXtPNnJ2/sqtlbDBmrheL4IzC4yaiPkEHHXmWRQcQYvseyw+aiJpiXMGWFeoAvax+ujaUNB86JrQexPk+1oqK4LiG9/8oItLnJabAA+/02Ua6V5+M6l6DEoM5im9g8uhtQmaruplsUG+TiPxn86qQ/cQBzymSETIpXhIG2ypIpmIRE63oW/KSlIXZSMtFv225X6b7f1wRpEPxM6vKSULovX5jOY6o2miSAqSc3R+l2Syw7Y9wi1yLaIplEKStR7ifnoy3P5nywJpw2cGW5geIJcA10wnaAWPpma8yYSGN5lY9iIKjKfwHXjXKHzonQgFeN5nNMW8LFW4Rzub3gqXhoEUENv1+nZur7TU80kjScdzESzefL+GSfe87OyHj1t2uxVXkigi8AQegWrBncxL7rYxXBmhEvcYqyK3BO5birL3Xbnx4dJVd3pxA8oTHBukt2srx0KD4WxYmtk3Yv38pkp4iVaX3+9oYOINAnCytCcJaRmfwwqXnMLjZ/c5DNErICxoe+Z+ph9OzuE7ACAecKvIigf33DABzOlQHeRfxEbEu7w5pYKStB3SVoiDebPoTqkqskwDnAamDwXcKEP1FgxzwFSTTtlmbadpn0rNUMTviyXOdHrfXmsPtt4zuLz7XhaP/ZrbKSc18HzAzO9vYM5kVilO+NbnODwVWw61SnyMjTdj/tM0ITK2sA4C9SMPZwZ4MPHrLE380k4VU0ZLPyLLx4yPkkAsPM/6KR3X04D8vRqPh22H3i9vHUuORy62nfPyAVRbt5KZXJXM5pEk4S67UhoFyWlCBAQ/UqQMxyKzXD7CZ7mZVsuIrcKGI5dSqkSigF/BlJKXjryJtv56jphF/7OUfBfdOGsayrfuO+yKUeDiWzPyrVr18DwbGJd91B21weaJr3tShIGmRGjYbub2ndXQ8cxhMh07UJ7CcuIJt22KN0pfM1YK/hNgMYpH+Rzgp4G9JiS34fKRZ03EqGVPCN8YdpYHSyP8MEmcT9xegbbqPq6xdzSTWes+zdKLDV2H1D/uyPDvH716d+vl3CilTU54uXW4bnE4rePefo/yCZf46DnkxTrNDn8jvxsJaepngTr40WhIWTMpyvBfF7pl2jwS28pZLoXlOEMtrcBMfKX+h9pltspsd06NABGIvco4C+TR++CiH8Etljog0t8Wf6XxQXrYFbnZykDpkkYysjVjaFhmd8cIO1s+K9B8QOttA3kPXyoLt/zxJTreCB0Ol1HV+fitYui5y+cMsdX+T3ZjWTh173n2UQxfIdGKNEOMreDojq6PdCvedqGeEogxGjF1N4vgabWTrHHSQxcMhTKB3Fl8ElrkNURyU+VvMdNT8dF7VQnIL9MTGVWauHis3v0gcAF/ij6sfd2o4FCoMJXwLHnrKZKFNrS28dWfpIccWw9FlAPHNRDdX9bm5rDX1cb1cphto7M+kJoRtzRqbZ92lpRiRAN5/8GoOUYKTFZqSEevHcDC63cToi6Qstm6l5OcugjRpsLYKyYR0NmfhTuRAQXpLcJ4IsNQnWUT7A/UQ95DpO33sLUU8+wJaKigHfnDSEVYzq/63wzwk5dYB+1+hT8EzRVr6956xvwF38PE7QwFRVLRzuFooV7f1/IvjicJ3+W57WdMzxmoFeqw/aaDKPRxokVMWvBQZjvmWO47qPHgUWgsyJctNX9VZl8tu66mG0Ba6X6Lzuqg6Ja28gQiNJnUVGcpJI3t/5Y2ndFzHr+zrCosD3XoPNZ3cIqOdGh65hZtGg9Ljr5vBML9Kk9hun7fAxoiskbx1bq2MfjcLnPalfG8uHkwNv0kuBpTSX3NxUjtAPigLLW2o0FzSIjWs2baf/w8CSUnzPvSn4BssKszSHgOqJVHrJ9wbYLaQK1dFpBIGbVzZBse4tgmCt9zkXQX5Bcs6KageVjaDp07SDPBHOdfYcQuapjtqYjS3UJkzAZC5w04vO32AKZvqpmnzaODJ55jfWHyhFawAvEyuCMTUSKpgVL6GfTBrzyAkdPZ4WRDzzRqYmrvCH/Y6TkWLRoDs/cNVUYXYMEwxof5bd25rT0r2ihBV2ZVMcWlI614YMElboUAThd2053N9kaK3YKDAgeY18266cYuuaTZzWlmEkgrfRQGXdga6afKpIf2oh5O6NRtbmi0JoZLH0fuR2TRJQPwtPm4DEgdPTA71Td5BSvOSeEr4HKlSV/x244zjLAME6lyyV3MMoLmVjsq25aw0APt44+8R/r1wVBZ0oObZwbbPypXCZHpVMXrfR5c5KYwi0ep38CAZcGDwcREpPZ+Wf7hqpYG/RJ4QlkULbXieWeUz5LndnzuQrfoaVIHaW30ubyGZnjDjW0Q7SjL++zwH9InYQNMLgKrGlenUzur1WjLt+W2CACZyxpE02Ai0Idyen8yNnw16wm/BRmUQgh4dMjd5EQ+GdCNjG8NfuhvRsYuwADmJ7f1cd3xm04G2tQBeaoLfAbFfEUx9d60Wa70r8Qpoek8qLXnITzgdKyJvnGOpIRrJ4XRf6rVcKqg6Sqag6OzOE5HOpnpu1lH0zRSMZJUH6AxRsViCbwdlc1x6drhf1L4UF9iPCg9r4jzG/zvRY/6l9LjDnIRKqahZQjJ5XlkLCCoLy/vcB3bNrxDm9NYEKI3IdgbjDnViPArTmZbjJxzkYl9DszCYCaz6CbjL3ULhRS+8sOpZax5D5M8jTa/8v7Dj/+vV1WDBkTeumy0SYfkkOqstX8HBjRrsFj2TLh5fUdP2YL1JQ3KPg8gHG5olZfpeW2f4PRlEVLON5QqEgaXdl04umgjBU16a7w57m22fxKi1CW5uuYjtwstOEJceTlS/g3qcobiKwdJrNHZdNYWX8GT5pweSkLbzb59Tt+HDkNS4Ek1PHk1BQIF4lE3xFTVbQB9a6OxZ7VvJBzxSRceaqFIb0WdTNXBCrRBenQeQucs0hknUsndMtyUjj3TXe4uNB+5HQ67T9OLXIiF+loXtZJ8Sas9mPx95XqjmUb2Vc9zihXHvtCncfDecjRGmy+PzXWLau0W5rmsAkHpsXEQTaEu/cHndTACkzVfU1eC1Yqe7XUa5kSKc5GC/MaTKKqEYWt4fed8zlritKeIJqPkdPO1PeLMwNMExuWFNCf7E6bub+eNPg3N3FjI1YLgHFDbtCTixYPNBPeggSkxsOlhK9Cup2jDs41uy3pF0wLDExcA5Q1yUImH360Td59yjc2OF5zzEWlf7fx4Lt8Apbs3aAs2CS320Wm4v0bliDXtBfvi+So7OZBXKzMgWjT7hwMsZAtFzQTMyj1hzr1dJHu+7fLThk4zzikKk0fNzTp283e2O/5H+3znP2369e4v8Ae98/GYvIEMxvzBO8OgTcEjR2ULYIzYQtB+W0GoaxLa2yp/gL1PNyIClC/FDMIIauxAz3tpfT52tmHWO//JpaNWLjvh2poWPVXvgOn/MMS03nSLv39ODBK0DX0CFpF3imyQJ4jeayFk6mjzIXXw6pNrSNnhy04HXf7rvRdrbK7qorsri9ssvce5JQdxt6lEDHwrXHgH5EAFrx6XFJTRnaw9NvR/eKblsvHyOtt2tAwTaAfWPuBi3fHn2DYbRmYSlcEKZ9vq26TyXSmNvltjF3VAyAme+wMTfhL4XcN2r96VOVIulb++eejoequedykZytlHLwsMJtuX78uyeaZPln1tPczSgBNd8thybEZlaHB/Pgb4jtns+WGQTcA9VliM8tmaaD9y1OSGUYjJ9eQgD0uw8QjiKWaB7V1rZvk5ACaRK6eu3rbt60x03rpHMAOxcSAIGZWUR0crV8Le1JmXsBDnLCXC3qyZIaRbxvhaZiba9zHO4wsft7efmq9e+Zfd3VB+fQMEZ0OzeFlDeWBZllNKrQIQhGhx5E2in/3GCw1zAmGKceVlXxnXKrWu6pRVCNw8IsAD+cSMMFPtLRP4Hnl0AH/jrVgCrJHGkZR6G+/NeTJbWcWYOQpQX4NpHmbdkyZfdLsKc4EqgiHhjiqt4MqSZB010MP3C/VD6l4wZiGsm0pOpF00ulTVnGJy5hLFl2YM2/Lt733sd4YlTZfxIBlIeq0zgz+HOlJ7rRQs2y/YjeBshiFgXzzo6maTHoea0MUGMhxaI1c8OGUthV/ErXAQFQbJEI4H3sCkSpLTYlcO4GHvXFlD5lE7co+4M/TWtlx7+gkR2x9p1Aw+PeEJP34pMva4JGavq0lnhdl0t2l9Avxw54pSaFD/F18WM7ftUy27cAwv2GeQwmUj5IWq7fhwK/1bQRuA51aKknXw+NJyQg2LzBfcuY9iTGdKP4E6D4e8w0loy+xudBeTEiT92LPtWHKCYf+ObsntCEOKhT/pI2zLtkGruZsOv+IcHSmUqUDV20s5w2YinKgBR/wEIigV7CLYOAjNcuMCJbPtF0P+ytZ7ETOzCavAi7oSuNcMe/Qk7kOM9TEpCuc1Ekb3PuBiOQ/KyY4j4kzitabWl2Emlzxsm/85g+98kyU/Z+l9/S1rYoGb998olQYvLNYOpP4SUxnb8E0bWNp4W7YhoMeXonwmteX15N5+kTcaSsR9cz1TVIPjRmtJDCj/383Tbjsv7ijrpO/5qrRHWTD1RQpD1rvbR8QilZc1GvHr9xCHqeB005qxqlI8LmHv2m9T80fLDlhjVuvdOX4LvJ/c2R+TCRbvuvohhD4AjdeBZTTVa8Fhijau3MIBbqqGzpwJ+s315gRuc76jJ3PmC/A0SP8MYQJSOAiKE7/sS+Ti1NsRgUfut29dd4E8MkBc+lv9mW6p4K71HTfuVuboSNcb+wqP9wfeuRZayI1oqLFab7y+Jqvm+bfcUhd/+FlK3J7fn1Aur/sHS0GFtswf0XjUrjNM14Zl5lRms5+khRNGYptnICmSo/MhpIO4qkGV0BO1l/LlYowtrwW+FHszvsAqYBbALibsYfrKCEn3M+uqanchVGp2M0xEOPhb3zCldmAaDuK63h1H0ri3dvlqNT/MqGqwzCtO36QMJGEsO2jdB2fZl9iufo6qolS/PNWn+1IAVKdz0xsR8m5KcWd/eLqNi4u4IZT1SPVDHN+MYRNeJljLacbmgWq8ZbcAOFBfy8Js+vLD9W6dix43oBHCmuL0VVSd0+ze+cyc9cWZh+xQlEDRV8pmgNqPAqfmAQTqAr2dT/4irAPXefhNQmSw8ITMXJR6x7wssopbAmLS2H6CnXy8mdwZboWzQxMgZZG5tlwDJJVwKfKuj8BvlepE5weyf8yb/8TxKkUgkgAZDahgbzBFPYm1dxnP3o0PfgAMmoo+KQQdA2LZdf4VlCC2y3/w5m4M6unG8JQ457Ys0mggfH1DMqWE2jgbZQcupT30Hg1F8MHnEyn0tYf4fD21Rt/Ec5W5DQNlrjAsgvQWDS+43hw0yPVPYer9o4CggwGHqgh7V4af7nEE4/8GYe+ocITwL1NGi1YqHf7YgqnmErh0dvThlwO8NZIOEssUX4wQkIm0/+OI7swu2T2ktU4u3mLvKentEmC0I64W49QdsLslC+5SsJgnQc3TmZN8B4yyV6aRhx6RZ1sUYTv2AMaHHy5czv6v8b3DZbpOOIiX2JqldzdKUinHv42rDQSWAuDSvZ6cIP/mI0dIdO0RqYexeW4He5Ornhr+LdZIwDIPyD2PQ2Sj+EF/cT/xgCa1nP5X4Hs76mQQDboeKw6xW7ghyEVkapSZ1rjc+GRR7J5EBszQ4h6SJtoLsOMTfzOkWUz6e05uyqnuRFwYqptxzCVErMrcoEVn/q5YmuNdDPJSxH004sH3wpFPIJqxma5dN7uyOuJYzeVCEyy4p6k0KNgwsSlcZJYRh/5kNupltgol0rFrd97MExdp1DEAKgp4/i83K/lkWap2MKhiv8nll6BapbYNwhONsWSWP4m06u8A1TeaOtIt3sM8GsPKWAmhdBjb093plOSnfALxMly7R9qLyuH+S8sbyT7brxpTSHzva96Q52KWm1f4W4tqxQDzFmfclZfZKq13hC4kHKPaKmAXxDpbh1hyjGGzu5+4JREAwe5BlBEzo8FQcRI2xPqAR67l/7r/qvXTq5hhZSd98m/Ojx8n6/DRsjmob0oSy2Cej6NL/9CTuFv/jCIXRG/qY0rsdsKaqjj6FMmEZjbv9mB8WqMkCIq7+6M89pyyZ8trvTk0UwWs1jztgK3tYf3uvsatlrYbk/musTT9pRrSGEIov2AIMMk+vqbodr+wokSZSS0TpgsOGqABw4IHDy5r86a7HrzQ9ZBcZ6wLMnFEdKoxIz/06VPRE67Ttvxke54cAm5OrY6bHB0geYH9Tzsg3Y6uiDR0y1wlT28lVo39eb5+inh8vVPHYB1Q0tO0eye0po/JOKOwQgxnq5HJHrFHA9HwmGdb6z5pV8xPgVffGHaIv+4yVes6wMXVW4QNvfskDC/1m2R00gi3PyTbneOTqudQIY6dx6t/uTIIEa12MfSYAHzMHOPQD+7cXGUlDlYTw8Ko4ZkxlNFxwbFPEpDBvYaCF7e+aYFzt2D2nq0/Bj5nNxewz3QAb8DijQAAARVhJRroAAABFeGlmAABJSSoACAAAAAYAEgEDAAEAAAABAAAAGgEFAAEAAABWAAAAGwEFAAEAAABeAAAAKAEDAAEAAAACAAAAEwIDAAEAAAABAAAAaYcEAAEAAABmAAAAAAAAAEgAAAABAAAASAAAAAEAAAAGAACQBwAEAAAAMDIxMAGRBwAEAAAAAQIDAACgBwAEAAAAMDEwMAGgAwABAAAA//8AAAKgBAABAAAA5AAAAAOgBAABAAAA3QAAAAAAAAA=)"
      ],
      "metadata": {
        "id": "skViJDMLcpv_"
      }
    },
    {
      "cell_type": "code",
      "source": [
        "import gradio as gr\n",
        "llm = ChatGroq(\n",
        "    temperature=0.2,\n",
        "    model= \"llama-3.1-8b-instant\",#\"llama-3.3-70b-versatile\", #\"llama3-70b-8192\",\n",
        "    api_key= GROQ_API_KEY,\n",
        ")\n",
        "\n",
        "def predict(query):\n",
        "  docs = vector_store.similarity_search(query)\n",
        "  retreived_docs = [doc.page_content for doc in docs]\n",
        "  chunks_formatted = \"\\n\\n\".join(retreived_docs)\n",
        "  # format the prompt\n",
        "\n",
        "  prompt_f = prompt.format(chunks_formatted=chunks_formatted, query=query)\n",
        "  answer = llm.predict(prompt_f)\n",
        "  return answer\n",
        "\n",
        "\n",
        "gr.Interface( fn = predict , inputs = \"text\", outputs = \"text\").launch()\n",
        "\n"
      ],
      "metadata": {
        "id": "NKZSzhcsPXFC",
        "colab": {
          "base_uri": "https://localhost:8080/",
          "height": 646
        },
        "outputId": "5f35f1f2-8520-4f25-facf-4ddfd164502c"
      },
      "execution_count": null,
      "outputs": [
        {
          "output_type": "stream",
          "name": "stdout",
          "text": [
            "Running Gradio in a Colab notebook requires sharing enabled. Automatically setting `share=True` (you can turn this off by setting `share=False` in `launch()` explicitly).\n",
            "\n",
            "Colab notebook detected. To show errors in colab notebook, set debug=True in launch()\n",
            "* Running on public URL: https://bcf234c31ac7ca745f.gradio.live\n",
            "\n",
            "This share link expires in 72 hours. For free permanent hosting and GPU upgrades, run `gradio deploy` from the terminal in the working directory to deploy to Hugging Face Spaces (https://huggingface.co/spaces)\n"
          ]
        },
        {
          "output_type": "display_data",
          "data": {
            "text/plain": [
              "<IPython.core.display.HTML object>"
            ],
            "text/html": [
              "<div><iframe src=\"https://bcf234c31ac7ca745f.gradio.live\" width=\"100%\" height=\"500\" allow=\"autoplay; camera; microphone; clipboard-read; clipboard-write;\" frameborder=\"0\" allowfullscreen></iframe></div>"
            ]
          },
          "metadata": {}
        },
        {
          "output_type": "execute_result",
          "data": {
            "text/plain": []
          },
          "metadata": {},
          "execution_count": 35
        }
      ]
    }
  ]
}