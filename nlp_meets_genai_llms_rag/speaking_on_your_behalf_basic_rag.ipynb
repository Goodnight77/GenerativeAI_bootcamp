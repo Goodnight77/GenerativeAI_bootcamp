{
  "nbformat": 4,
  "nbformat_minor": 0,
  "metadata": {
    "colab": {
      "provenance": [],
      "gpuType": "T4"
    },
    "kernelspec": {
      "name": "python3",
      "display_name": "Python 3"
    },
    "language_info": {
      "name": "python"
    },
    "accelerator": "GPU",
    "widgets": {
      "application/vnd.jupyter.widget-state+json": {
        "5c2cc90521a448a5839532d0fa3ad821": {
          "model_module": "@jupyter-widgets/controls",
          "model_name": "HBoxModel",
          "model_module_version": "1.5.0",
          "state": {
            "_dom_classes": [],
            "_model_module": "@jupyter-widgets/controls",
            "_model_module_version": "1.5.0",
            "_model_name": "HBoxModel",
            "_view_count": null,
            "_view_module": "@jupyter-widgets/controls",
            "_view_module_version": "1.5.0",
            "_view_name": "HBoxView",
            "box_style": "",
            "children": [
              "IPY_MODEL_ef7b7a00b5a544f4b5288179288aafe1",
              "IPY_MODEL_7331d28616004e6da2db2395b94e5957",
              "IPY_MODEL_6a6526b332c34dffa421123381c044d5"
            ],
            "layout": "IPY_MODEL_56650d2d996a4b94bac0dcd6f492f850"
          }
        },
        "ef7b7a00b5a544f4b5288179288aafe1": {
          "model_module": "@jupyter-widgets/controls",
          "model_name": "HTMLModel",
          "model_module_version": "1.5.0",
          "state": {
            "_dom_classes": [],
            "_model_module": "@jupyter-widgets/controls",
            "_model_module_version": "1.5.0",
            "_model_name": "HTMLModel",
            "_view_count": null,
            "_view_module": "@jupyter-widgets/controls",
            "_view_module_version": "1.5.0",
            "_view_name": "HTMLView",
            "description": "",
            "description_tooltip": null,
            "layout": "IPY_MODEL_87f5713f91f54c58900b0390dd3bccb2",
            "placeholder": "​",
            "style": "IPY_MODEL_aa17dd2401a64e1c8fd95ae1395755b7",
            "value": "modules.json: 100%"
          }
        },
        "7331d28616004e6da2db2395b94e5957": {
          "model_module": "@jupyter-widgets/controls",
          "model_name": "FloatProgressModel",
          "model_module_version": "1.5.0",
          "state": {
            "_dom_classes": [],
            "_model_module": "@jupyter-widgets/controls",
            "_model_module_version": "1.5.0",
            "_model_name": "FloatProgressModel",
            "_view_count": null,
            "_view_module": "@jupyter-widgets/controls",
            "_view_module_version": "1.5.0",
            "_view_name": "ProgressView",
            "bar_style": "success",
            "description": "",
            "description_tooltip": null,
            "layout": "IPY_MODEL_3feecd99767f4e90be59990a7e745a16",
            "max": 349,
            "min": 0,
            "orientation": "horizontal",
            "style": "IPY_MODEL_ed86e97808a243869d96cb86a3d3aafc",
            "value": 349
          }
        },
        "6a6526b332c34dffa421123381c044d5": {
          "model_module": "@jupyter-widgets/controls",
          "model_name": "HTMLModel",
          "model_module_version": "1.5.0",
          "state": {
            "_dom_classes": [],
            "_model_module": "@jupyter-widgets/controls",
            "_model_module_version": "1.5.0",
            "_model_name": "HTMLModel",
            "_view_count": null,
            "_view_module": "@jupyter-widgets/controls",
            "_view_module_version": "1.5.0",
            "_view_name": "HTMLView",
            "description": "",
            "description_tooltip": null,
            "layout": "IPY_MODEL_d4a834dd8e7d4cbf9f8e698d5c26029d",
            "placeholder": "​",
            "style": "IPY_MODEL_e4da9bb1eacf45f5ad969e794f79750b",
            "value": " 349/349 [00:00&lt;00:00, 16.8kB/s]"
          }
        },
        "56650d2d996a4b94bac0dcd6f492f850": {
          "model_module": "@jupyter-widgets/base",
          "model_name": "LayoutModel",
          "model_module_version": "1.2.0",
          "state": {
            "_model_module": "@jupyter-widgets/base",
            "_model_module_version": "1.2.0",
            "_model_name": "LayoutModel",
            "_view_count": null,
            "_view_module": "@jupyter-widgets/base",
            "_view_module_version": "1.2.0",
            "_view_name": "LayoutView",
            "align_content": null,
            "align_items": null,
            "align_self": null,
            "border": null,
            "bottom": null,
            "display": null,
            "flex": null,
            "flex_flow": null,
            "grid_area": null,
            "grid_auto_columns": null,
            "grid_auto_flow": null,
            "grid_auto_rows": null,
            "grid_column": null,
            "grid_gap": null,
            "grid_row": null,
            "grid_template_areas": null,
            "grid_template_columns": null,
            "grid_template_rows": null,
            "height": null,
            "justify_content": null,
            "justify_items": null,
            "left": null,
            "margin": null,
            "max_height": null,
            "max_width": null,
            "min_height": null,
            "min_width": null,
            "object_fit": null,
            "object_position": null,
            "order": null,
            "overflow": null,
            "overflow_x": null,
            "overflow_y": null,
            "padding": null,
            "right": null,
            "top": null,
            "visibility": null,
            "width": null
          }
        },
        "87f5713f91f54c58900b0390dd3bccb2": {
          "model_module": "@jupyter-widgets/base",
          "model_name": "LayoutModel",
          "model_module_version": "1.2.0",
          "state": {
            "_model_module": "@jupyter-widgets/base",
            "_model_module_version": "1.2.0",
            "_model_name": "LayoutModel",
            "_view_count": null,
            "_view_module": "@jupyter-widgets/base",
            "_view_module_version": "1.2.0",
            "_view_name": "LayoutView",
            "align_content": null,
            "align_items": null,
            "align_self": null,
            "border": null,
            "bottom": null,
            "display": null,
            "flex": null,
            "flex_flow": null,
            "grid_area": null,
            "grid_auto_columns": null,
            "grid_auto_flow": null,
            "grid_auto_rows": null,
            "grid_column": null,
            "grid_gap": null,
            "grid_row": null,
            "grid_template_areas": null,
            "grid_template_columns": null,
            "grid_template_rows": null,
            "height": null,
            "justify_content": null,
            "justify_items": null,
            "left": null,
            "margin": null,
            "max_height": null,
            "max_width": null,
            "min_height": null,
            "min_width": null,
            "object_fit": null,
            "object_position": null,
            "order": null,
            "overflow": null,
            "overflow_x": null,
            "overflow_y": null,
            "padding": null,
            "right": null,
            "top": null,
            "visibility": null,
            "width": null
          }
        },
        "aa17dd2401a64e1c8fd95ae1395755b7": {
          "model_module": "@jupyter-widgets/controls",
          "model_name": "DescriptionStyleModel",
          "model_module_version": "1.5.0",
          "state": {
            "_model_module": "@jupyter-widgets/controls",
            "_model_module_version": "1.5.0",
            "_model_name": "DescriptionStyleModel",
            "_view_count": null,
            "_view_module": "@jupyter-widgets/base",
            "_view_module_version": "1.2.0",
            "_view_name": "StyleView",
            "description_width": ""
          }
        },
        "3feecd99767f4e90be59990a7e745a16": {
          "model_module": "@jupyter-widgets/base",
          "model_name": "LayoutModel",
          "model_module_version": "1.2.0",
          "state": {
            "_model_module": "@jupyter-widgets/base",
            "_model_module_version": "1.2.0",
            "_model_name": "LayoutModel",
            "_view_count": null,
            "_view_module": "@jupyter-widgets/base",
            "_view_module_version": "1.2.0",
            "_view_name": "LayoutView",
            "align_content": null,
            "align_items": null,
            "align_self": null,
            "border": null,
            "bottom": null,
            "display": null,
            "flex": null,
            "flex_flow": null,
            "grid_area": null,
            "grid_auto_columns": null,
            "grid_auto_flow": null,
            "grid_auto_rows": null,
            "grid_column": null,
            "grid_gap": null,
            "grid_row": null,
            "grid_template_areas": null,
            "grid_template_columns": null,
            "grid_template_rows": null,
            "height": null,
            "justify_content": null,
            "justify_items": null,
            "left": null,
            "margin": null,
            "max_height": null,
            "max_width": null,
            "min_height": null,
            "min_width": null,
            "object_fit": null,
            "object_position": null,
            "order": null,
            "overflow": null,
            "overflow_x": null,
            "overflow_y": null,
            "padding": null,
            "right": null,
            "top": null,
            "visibility": null,
            "width": null
          }
        },
        "ed86e97808a243869d96cb86a3d3aafc": {
          "model_module": "@jupyter-widgets/controls",
          "model_name": "ProgressStyleModel",
          "model_module_version": "1.5.0",
          "state": {
            "_model_module": "@jupyter-widgets/controls",
            "_model_module_version": "1.5.0",
            "_model_name": "ProgressStyleModel",
            "_view_count": null,
            "_view_module": "@jupyter-widgets/base",
            "_view_module_version": "1.2.0",
            "_view_name": "StyleView",
            "bar_color": null,
            "description_width": ""
          }
        },
        "d4a834dd8e7d4cbf9f8e698d5c26029d": {
          "model_module": "@jupyter-widgets/base",
          "model_name": "LayoutModel",
          "model_module_version": "1.2.0",
          "state": {
            "_model_module": "@jupyter-widgets/base",
            "_model_module_version": "1.2.0",
            "_model_name": "LayoutModel",
            "_view_count": null,
            "_view_module": "@jupyter-widgets/base",
            "_view_module_version": "1.2.0",
            "_view_name": "LayoutView",
            "align_content": null,
            "align_items": null,
            "align_self": null,
            "border": null,
            "bottom": null,
            "display": null,
            "flex": null,
            "flex_flow": null,
            "grid_area": null,
            "grid_auto_columns": null,
            "grid_auto_flow": null,
            "grid_auto_rows": null,
            "grid_column": null,
            "grid_gap": null,
            "grid_row": null,
            "grid_template_areas": null,
            "grid_template_columns": null,
            "grid_template_rows": null,
            "height": null,
            "justify_content": null,
            "justify_items": null,
            "left": null,
            "margin": null,
            "max_height": null,
            "max_width": null,
            "min_height": null,
            "min_width": null,
            "object_fit": null,
            "object_position": null,
            "order": null,
            "overflow": null,
            "overflow_x": null,
            "overflow_y": null,
            "padding": null,
            "right": null,
            "top": null,
            "visibility": null,
            "width": null
          }
        },
        "e4da9bb1eacf45f5ad969e794f79750b": {
          "model_module": "@jupyter-widgets/controls",
          "model_name": "DescriptionStyleModel",
          "model_module_version": "1.5.0",
          "state": {
            "_model_module": "@jupyter-widgets/controls",
            "_model_module_version": "1.5.0",
            "_model_name": "DescriptionStyleModel",
            "_view_count": null,
            "_view_module": "@jupyter-widgets/base",
            "_view_module_version": "1.2.0",
            "_view_name": "StyleView",
            "description_width": ""
          }
        },
        "2c986d6042524fd6bd7ca7ee69d166d5": {
          "model_module": "@jupyter-widgets/controls",
          "model_name": "HBoxModel",
          "model_module_version": "1.5.0",
          "state": {
            "_dom_classes": [],
            "_model_module": "@jupyter-widgets/controls",
            "_model_module_version": "1.5.0",
            "_model_name": "HBoxModel",
            "_view_count": null,
            "_view_module": "@jupyter-widgets/controls",
            "_view_module_version": "1.5.0",
            "_view_name": "HBoxView",
            "box_style": "",
            "children": [
              "IPY_MODEL_424681b86bfb4df0ac9b109480cff810",
              "IPY_MODEL_35c7d91e39094affa6cc9f862f58d6c8",
              "IPY_MODEL_061a5d2d3fa841359f1c64a05e045bf3"
            ],
            "layout": "IPY_MODEL_78b9195bc8b44c4f88b70609201cbec5"
          }
        },
        "424681b86bfb4df0ac9b109480cff810": {
          "model_module": "@jupyter-widgets/controls",
          "model_name": "HTMLModel",
          "model_module_version": "1.5.0",
          "state": {
            "_dom_classes": [],
            "_model_module": "@jupyter-widgets/controls",
            "_model_module_version": "1.5.0",
            "_model_name": "HTMLModel",
            "_view_count": null,
            "_view_module": "@jupyter-widgets/controls",
            "_view_module_version": "1.5.0",
            "_view_name": "HTMLView",
            "description": "",
            "description_tooltip": null,
            "layout": "IPY_MODEL_6464a301e97b4bf0aacc66263033b7a6",
            "placeholder": "​",
            "style": "IPY_MODEL_a92bf2cfed0346f396558a00728ccf6a",
            "value": "config_sentence_transformers.json: 100%"
          }
        },
        "35c7d91e39094affa6cc9f862f58d6c8": {
          "model_module": "@jupyter-widgets/controls",
          "model_name": "FloatProgressModel",
          "model_module_version": "1.5.0",
          "state": {
            "_dom_classes": [],
            "_model_module": "@jupyter-widgets/controls",
            "_model_module_version": "1.5.0",
            "_model_name": "FloatProgressModel",
            "_view_count": null,
            "_view_module": "@jupyter-widgets/controls",
            "_view_module_version": "1.5.0",
            "_view_name": "ProgressView",
            "bar_style": "success",
            "description": "",
            "description_tooltip": null,
            "layout": "IPY_MODEL_22cf87332ac84ff0bc79275d069ba5c3",
            "max": 116,
            "min": 0,
            "orientation": "horizontal",
            "style": "IPY_MODEL_03cbc1ad94ef441f91c3c35260b71c99",
            "value": 116
          }
        },
        "061a5d2d3fa841359f1c64a05e045bf3": {
          "model_module": "@jupyter-widgets/controls",
          "model_name": "HTMLModel",
          "model_module_version": "1.5.0",
          "state": {
            "_dom_classes": [],
            "_model_module": "@jupyter-widgets/controls",
            "_model_module_version": "1.5.0",
            "_model_name": "HTMLModel",
            "_view_count": null,
            "_view_module": "@jupyter-widgets/controls",
            "_view_module_version": "1.5.0",
            "_view_name": "HTMLView",
            "description": "",
            "description_tooltip": null,
            "layout": "IPY_MODEL_462c83d5365e4bab9e74b83da3f8a64d",
            "placeholder": "​",
            "style": "IPY_MODEL_cb6886ccebb449ae963b2b6452a70a98",
            "value": " 116/116 [00:00&lt;00:00, 7.40kB/s]"
          }
        },
        "78b9195bc8b44c4f88b70609201cbec5": {
          "model_module": "@jupyter-widgets/base",
          "model_name": "LayoutModel",
          "model_module_version": "1.2.0",
          "state": {
            "_model_module": "@jupyter-widgets/base",
            "_model_module_version": "1.2.0",
            "_model_name": "LayoutModel",
            "_view_count": null,
            "_view_module": "@jupyter-widgets/base",
            "_view_module_version": "1.2.0",
            "_view_name": "LayoutView",
            "align_content": null,
            "align_items": null,
            "align_self": null,
            "border": null,
            "bottom": null,
            "display": null,
            "flex": null,
            "flex_flow": null,
            "grid_area": null,
            "grid_auto_columns": null,
            "grid_auto_flow": null,
            "grid_auto_rows": null,
            "grid_column": null,
            "grid_gap": null,
            "grid_row": null,
            "grid_template_areas": null,
            "grid_template_columns": null,
            "grid_template_rows": null,
            "height": null,
            "justify_content": null,
            "justify_items": null,
            "left": null,
            "margin": null,
            "max_height": null,
            "max_width": null,
            "min_height": null,
            "min_width": null,
            "object_fit": null,
            "object_position": null,
            "order": null,
            "overflow": null,
            "overflow_x": null,
            "overflow_y": null,
            "padding": null,
            "right": null,
            "top": null,
            "visibility": null,
            "width": null
          }
        },
        "6464a301e97b4bf0aacc66263033b7a6": {
          "model_module": "@jupyter-widgets/base",
          "model_name": "LayoutModel",
          "model_module_version": "1.2.0",
          "state": {
            "_model_module": "@jupyter-widgets/base",
            "_model_module_version": "1.2.0",
            "_model_name": "LayoutModel",
            "_view_count": null,
            "_view_module": "@jupyter-widgets/base",
            "_view_module_version": "1.2.0",
            "_view_name": "LayoutView",
            "align_content": null,
            "align_items": null,
            "align_self": null,
            "border": null,
            "bottom": null,
            "display": null,
            "flex": null,
            "flex_flow": null,
            "grid_area": null,
            "grid_auto_columns": null,
            "grid_auto_flow": null,
            "grid_auto_rows": null,
            "grid_column": null,
            "grid_gap": null,
            "grid_row": null,
            "grid_template_areas": null,
            "grid_template_columns": null,
            "grid_template_rows": null,
            "height": null,
            "justify_content": null,
            "justify_items": null,
            "left": null,
            "margin": null,
            "max_height": null,
            "max_width": null,
            "min_height": null,
            "min_width": null,
            "object_fit": null,
            "object_position": null,
            "order": null,
            "overflow": null,
            "overflow_x": null,
            "overflow_y": null,
            "padding": null,
            "right": null,
            "top": null,
            "visibility": null,
            "width": null
          }
        },
        "a92bf2cfed0346f396558a00728ccf6a": {
          "model_module": "@jupyter-widgets/controls",
          "model_name": "DescriptionStyleModel",
          "model_module_version": "1.5.0",
          "state": {
            "_model_module": "@jupyter-widgets/controls",
            "_model_module_version": "1.5.0",
            "_model_name": "DescriptionStyleModel",
            "_view_count": null,
            "_view_module": "@jupyter-widgets/base",
            "_view_module_version": "1.2.0",
            "_view_name": "StyleView",
            "description_width": ""
          }
        },
        "22cf87332ac84ff0bc79275d069ba5c3": {
          "model_module": "@jupyter-widgets/base",
          "model_name": "LayoutModel",
          "model_module_version": "1.2.0",
          "state": {
            "_model_module": "@jupyter-widgets/base",
            "_model_module_version": "1.2.0",
            "_model_name": "LayoutModel",
            "_view_count": null,
            "_view_module": "@jupyter-widgets/base",
            "_view_module_version": "1.2.0",
            "_view_name": "LayoutView",
            "align_content": null,
            "align_items": null,
            "align_self": null,
            "border": null,
            "bottom": null,
            "display": null,
            "flex": null,
            "flex_flow": null,
            "grid_area": null,
            "grid_auto_columns": null,
            "grid_auto_flow": null,
            "grid_auto_rows": null,
            "grid_column": null,
            "grid_gap": null,
            "grid_row": null,
            "grid_template_areas": null,
            "grid_template_columns": null,
            "grid_template_rows": null,
            "height": null,
            "justify_content": null,
            "justify_items": null,
            "left": null,
            "margin": null,
            "max_height": null,
            "max_width": null,
            "min_height": null,
            "min_width": null,
            "object_fit": null,
            "object_position": null,
            "order": null,
            "overflow": null,
            "overflow_x": null,
            "overflow_y": null,
            "padding": null,
            "right": null,
            "top": null,
            "visibility": null,
            "width": null
          }
        },
        "03cbc1ad94ef441f91c3c35260b71c99": {
          "model_module": "@jupyter-widgets/controls",
          "model_name": "ProgressStyleModel",
          "model_module_version": "1.5.0",
          "state": {
            "_model_module": "@jupyter-widgets/controls",
            "_model_module_version": "1.5.0",
            "_model_name": "ProgressStyleModel",
            "_view_count": null,
            "_view_module": "@jupyter-widgets/base",
            "_view_module_version": "1.2.0",
            "_view_name": "StyleView",
            "bar_color": null,
            "description_width": ""
          }
        },
        "462c83d5365e4bab9e74b83da3f8a64d": {
          "model_module": "@jupyter-widgets/base",
          "model_name": "LayoutModel",
          "model_module_version": "1.2.0",
          "state": {
            "_model_module": "@jupyter-widgets/base",
            "_model_module_version": "1.2.0",
            "_model_name": "LayoutModel",
            "_view_count": null,
            "_view_module": "@jupyter-widgets/base",
            "_view_module_version": "1.2.0",
            "_view_name": "LayoutView",
            "align_content": null,
            "align_items": null,
            "align_self": null,
            "border": null,
            "bottom": null,
            "display": null,
            "flex": null,
            "flex_flow": null,
            "grid_area": null,
            "grid_auto_columns": null,
            "grid_auto_flow": null,
            "grid_auto_rows": null,
            "grid_column": null,
            "grid_gap": null,
            "grid_row": null,
            "grid_template_areas": null,
            "grid_template_columns": null,
            "grid_template_rows": null,
            "height": null,
            "justify_content": null,
            "justify_items": null,
            "left": null,
            "margin": null,
            "max_height": null,
            "max_width": null,
            "min_height": null,
            "min_width": null,
            "object_fit": null,
            "object_position": null,
            "order": null,
            "overflow": null,
            "overflow_x": null,
            "overflow_y": null,
            "padding": null,
            "right": null,
            "top": null,
            "visibility": null,
            "width": null
          }
        },
        "cb6886ccebb449ae963b2b6452a70a98": {
          "model_module": "@jupyter-widgets/controls",
          "model_name": "DescriptionStyleModel",
          "model_module_version": "1.5.0",
          "state": {
            "_model_module": "@jupyter-widgets/controls",
            "_model_module_version": "1.5.0",
            "_model_name": "DescriptionStyleModel",
            "_view_count": null,
            "_view_module": "@jupyter-widgets/base",
            "_view_module_version": "1.2.0",
            "_view_name": "StyleView",
            "description_width": ""
          }
        },
        "02452eadd77f445eb458e217f2a1c3a3": {
          "model_module": "@jupyter-widgets/controls",
          "model_name": "HBoxModel",
          "model_module_version": "1.5.0",
          "state": {
            "_dom_classes": [],
            "_model_module": "@jupyter-widgets/controls",
            "_model_module_version": "1.5.0",
            "_model_name": "HBoxModel",
            "_view_count": null,
            "_view_module": "@jupyter-widgets/controls",
            "_view_module_version": "1.5.0",
            "_view_name": "HBoxView",
            "box_style": "",
            "children": [
              "IPY_MODEL_97af1196e2e547dab7b3950bcd542c43",
              "IPY_MODEL_c7a84fbe2cfb4ea1a81a8b34c8e4649c",
              "IPY_MODEL_a927e6f53eaa4b4188dd6d615425887f"
            ],
            "layout": "IPY_MODEL_e71f45e1fc2c4276aff75b1f62bb2397"
          }
        },
        "97af1196e2e547dab7b3950bcd542c43": {
          "model_module": "@jupyter-widgets/controls",
          "model_name": "HTMLModel",
          "model_module_version": "1.5.0",
          "state": {
            "_dom_classes": [],
            "_model_module": "@jupyter-widgets/controls",
            "_model_module_version": "1.5.0",
            "_model_name": "HTMLModel",
            "_view_count": null,
            "_view_module": "@jupyter-widgets/controls",
            "_view_module_version": "1.5.0",
            "_view_name": "HTMLView",
            "description": "",
            "description_tooltip": null,
            "layout": "IPY_MODEL_0bac3a7a056449c3b8e090b6518d6579",
            "placeholder": "​",
            "style": "IPY_MODEL_46861f54523141128ae166df7fa5ddc0",
            "value": "README.md: 100%"
          }
        },
        "c7a84fbe2cfb4ea1a81a8b34c8e4649c": {
          "model_module": "@jupyter-widgets/controls",
          "model_name": "FloatProgressModel",
          "model_module_version": "1.5.0",
          "state": {
            "_dom_classes": [],
            "_model_module": "@jupyter-widgets/controls",
            "_model_module_version": "1.5.0",
            "_model_name": "FloatProgressModel",
            "_view_count": null,
            "_view_module": "@jupyter-widgets/controls",
            "_view_module_version": "1.5.0",
            "_view_name": "ProgressView",
            "bar_style": "success",
            "description": "",
            "description_tooltip": null,
            "layout": "IPY_MODEL_380a7d8c78b44300bee659ef350aca7b",
            "max": 10659,
            "min": 0,
            "orientation": "horizontal",
            "style": "IPY_MODEL_9ccae1ebb5b44535b35d87f67bd0ec6b",
            "value": 10659
          }
        },
        "a927e6f53eaa4b4188dd6d615425887f": {
          "model_module": "@jupyter-widgets/controls",
          "model_name": "HTMLModel",
          "model_module_version": "1.5.0",
          "state": {
            "_dom_classes": [],
            "_model_module": "@jupyter-widgets/controls",
            "_model_module_version": "1.5.0",
            "_model_name": "HTMLModel",
            "_view_count": null,
            "_view_module": "@jupyter-widgets/controls",
            "_view_module_version": "1.5.0",
            "_view_name": "HTMLView",
            "description": "",
            "description_tooltip": null,
            "layout": "IPY_MODEL_daaf126a65ae4e4d916b11db19a4276d",
            "placeholder": "​",
            "style": "IPY_MODEL_d61f694873034e0ca102a36c0c5c689f",
            "value": " 10.7k/10.7k [00:00&lt;00:00, 715kB/s]"
          }
        },
        "e71f45e1fc2c4276aff75b1f62bb2397": {
          "model_module": "@jupyter-widgets/base",
          "model_name": "LayoutModel",
          "model_module_version": "1.2.0",
          "state": {
            "_model_module": "@jupyter-widgets/base",
            "_model_module_version": "1.2.0",
            "_model_name": "LayoutModel",
            "_view_count": null,
            "_view_module": "@jupyter-widgets/base",
            "_view_module_version": "1.2.0",
            "_view_name": "LayoutView",
            "align_content": null,
            "align_items": null,
            "align_self": null,
            "border": null,
            "bottom": null,
            "display": null,
            "flex": null,
            "flex_flow": null,
            "grid_area": null,
            "grid_auto_columns": null,
            "grid_auto_flow": null,
            "grid_auto_rows": null,
            "grid_column": null,
            "grid_gap": null,
            "grid_row": null,
            "grid_template_areas": null,
            "grid_template_columns": null,
            "grid_template_rows": null,
            "height": null,
            "justify_content": null,
            "justify_items": null,
            "left": null,
            "margin": null,
            "max_height": null,
            "max_width": null,
            "min_height": null,
            "min_width": null,
            "object_fit": null,
            "object_position": null,
            "order": null,
            "overflow": null,
            "overflow_x": null,
            "overflow_y": null,
            "padding": null,
            "right": null,
            "top": null,
            "visibility": null,
            "width": null
          }
        },
        "0bac3a7a056449c3b8e090b6518d6579": {
          "model_module": "@jupyter-widgets/base",
          "model_name": "LayoutModel",
          "model_module_version": "1.2.0",
          "state": {
            "_model_module": "@jupyter-widgets/base",
            "_model_module_version": "1.2.0",
            "_model_name": "LayoutModel",
            "_view_count": null,
            "_view_module": "@jupyter-widgets/base",
            "_view_module_version": "1.2.0",
            "_view_name": "LayoutView",
            "align_content": null,
            "align_items": null,
            "align_self": null,
            "border": null,
            "bottom": null,
            "display": null,
            "flex": null,
            "flex_flow": null,
            "grid_area": null,
            "grid_auto_columns": null,
            "grid_auto_flow": null,
            "grid_auto_rows": null,
            "grid_column": null,
            "grid_gap": null,
            "grid_row": null,
            "grid_template_areas": null,
            "grid_template_columns": null,
            "grid_template_rows": null,
            "height": null,
            "justify_content": null,
            "justify_items": null,
            "left": null,
            "margin": null,
            "max_height": null,
            "max_width": null,
            "min_height": null,
            "min_width": null,
            "object_fit": null,
            "object_position": null,
            "order": null,
            "overflow": null,
            "overflow_x": null,
            "overflow_y": null,
            "padding": null,
            "right": null,
            "top": null,
            "visibility": null,
            "width": null
          }
        },
        "46861f54523141128ae166df7fa5ddc0": {
          "model_module": "@jupyter-widgets/controls",
          "model_name": "DescriptionStyleModel",
          "model_module_version": "1.5.0",
          "state": {
            "_model_module": "@jupyter-widgets/controls",
            "_model_module_version": "1.5.0",
            "_model_name": "DescriptionStyleModel",
            "_view_count": null,
            "_view_module": "@jupyter-widgets/base",
            "_view_module_version": "1.2.0",
            "_view_name": "StyleView",
            "description_width": ""
          }
        },
        "380a7d8c78b44300bee659ef350aca7b": {
          "model_module": "@jupyter-widgets/base",
          "model_name": "LayoutModel",
          "model_module_version": "1.2.0",
          "state": {
            "_model_module": "@jupyter-widgets/base",
            "_model_module_version": "1.2.0",
            "_model_name": "LayoutModel",
            "_view_count": null,
            "_view_module": "@jupyter-widgets/base",
            "_view_module_version": "1.2.0",
            "_view_name": "LayoutView",
            "align_content": null,
            "align_items": null,
            "align_self": null,
            "border": null,
            "bottom": null,
            "display": null,
            "flex": null,
            "flex_flow": null,
            "grid_area": null,
            "grid_auto_columns": null,
            "grid_auto_flow": null,
            "grid_auto_rows": null,
            "grid_column": null,
            "grid_gap": null,
            "grid_row": null,
            "grid_template_areas": null,
            "grid_template_columns": null,
            "grid_template_rows": null,
            "height": null,
            "justify_content": null,
            "justify_items": null,
            "left": null,
            "margin": null,
            "max_height": null,
            "max_width": null,
            "min_height": null,
            "min_width": null,
            "object_fit": null,
            "object_position": null,
            "order": null,
            "overflow": null,
            "overflow_x": null,
            "overflow_y": null,
            "padding": null,
            "right": null,
            "top": null,
            "visibility": null,
            "width": null
          }
        },
        "9ccae1ebb5b44535b35d87f67bd0ec6b": {
          "model_module": "@jupyter-widgets/controls",
          "model_name": "ProgressStyleModel",
          "model_module_version": "1.5.0",
          "state": {
            "_model_module": "@jupyter-widgets/controls",
            "_model_module_version": "1.5.0",
            "_model_name": "ProgressStyleModel",
            "_view_count": null,
            "_view_module": "@jupyter-widgets/base",
            "_view_module_version": "1.2.0",
            "_view_name": "StyleView",
            "bar_color": null,
            "description_width": ""
          }
        },
        "daaf126a65ae4e4d916b11db19a4276d": {
          "model_module": "@jupyter-widgets/base",
          "model_name": "LayoutModel",
          "model_module_version": "1.2.0",
          "state": {
            "_model_module": "@jupyter-widgets/base",
            "_model_module_version": "1.2.0",
            "_model_name": "LayoutModel",
            "_view_count": null,
            "_view_module": "@jupyter-widgets/base",
            "_view_module_version": "1.2.0",
            "_view_name": "LayoutView",
            "align_content": null,
            "align_items": null,
            "align_self": null,
            "border": null,
            "bottom": null,
            "display": null,
            "flex": null,
            "flex_flow": null,
            "grid_area": null,
            "grid_auto_columns": null,
            "grid_auto_flow": null,
            "grid_auto_rows": null,
            "grid_column": null,
            "grid_gap": null,
            "grid_row": null,
            "grid_template_areas": null,
            "grid_template_columns": null,
            "grid_template_rows": null,
            "height": null,
            "justify_content": null,
            "justify_items": null,
            "left": null,
            "margin": null,
            "max_height": null,
            "max_width": null,
            "min_height": null,
            "min_width": null,
            "object_fit": null,
            "object_position": null,
            "order": null,
            "overflow": null,
            "overflow_x": null,
            "overflow_y": null,
            "padding": null,
            "right": null,
            "top": null,
            "visibility": null,
            "width": null
          }
        },
        "d61f694873034e0ca102a36c0c5c689f": {
          "model_module": "@jupyter-widgets/controls",
          "model_name": "DescriptionStyleModel",
          "model_module_version": "1.5.0",
          "state": {
            "_model_module": "@jupyter-widgets/controls",
            "_model_module_version": "1.5.0",
            "_model_name": "DescriptionStyleModel",
            "_view_count": null,
            "_view_module": "@jupyter-widgets/base",
            "_view_module_version": "1.2.0",
            "_view_name": "StyleView",
            "description_width": ""
          }
        },
        "865afe22261044da94d111734d7a56be": {
          "model_module": "@jupyter-widgets/controls",
          "model_name": "HBoxModel",
          "model_module_version": "1.5.0",
          "state": {
            "_dom_classes": [],
            "_model_module": "@jupyter-widgets/controls",
            "_model_module_version": "1.5.0",
            "_model_name": "HBoxModel",
            "_view_count": null,
            "_view_module": "@jupyter-widgets/controls",
            "_view_module_version": "1.5.0",
            "_view_name": "HBoxView",
            "box_style": "",
            "children": [
              "IPY_MODEL_1134443243f94c3eb98941c5ed359a12",
              "IPY_MODEL_558d64a4d49441f5a7c8fe9e65995692",
              "IPY_MODEL_b3f9423826c44dafb098a90bdbc5a0d5"
            ],
            "layout": "IPY_MODEL_882c5ad4b35d40c39b3eab0d075ff638"
          }
        },
        "1134443243f94c3eb98941c5ed359a12": {
          "model_module": "@jupyter-widgets/controls",
          "model_name": "HTMLModel",
          "model_module_version": "1.5.0",
          "state": {
            "_dom_classes": [],
            "_model_module": "@jupyter-widgets/controls",
            "_model_module_version": "1.5.0",
            "_model_name": "HTMLModel",
            "_view_count": null,
            "_view_module": "@jupyter-widgets/controls",
            "_view_module_version": "1.5.0",
            "_view_name": "HTMLView",
            "description": "",
            "description_tooltip": null,
            "layout": "IPY_MODEL_224502a70eac47ad90bfdc9f11d5ebcc",
            "placeholder": "​",
            "style": "IPY_MODEL_53bacf2874b9416c9b22f918b7d581d6",
            "value": "sentence_bert_config.json: 100%"
          }
        },
        "558d64a4d49441f5a7c8fe9e65995692": {
          "model_module": "@jupyter-widgets/controls",
          "model_name": "FloatProgressModel",
          "model_module_version": "1.5.0",
          "state": {
            "_dom_classes": [],
            "_model_module": "@jupyter-widgets/controls",
            "_model_module_version": "1.5.0",
            "_model_name": "FloatProgressModel",
            "_view_count": null,
            "_view_module": "@jupyter-widgets/controls",
            "_view_module_version": "1.5.0",
            "_view_name": "ProgressView",
            "bar_style": "success",
            "description": "",
            "description_tooltip": null,
            "layout": "IPY_MODEL_27a80c91b8b84b37884f8e00b1c50d04",
            "max": 53,
            "min": 0,
            "orientation": "horizontal",
            "style": "IPY_MODEL_1af5d4c6686849ecb1aa2fcd86304af5",
            "value": 53
          }
        },
        "b3f9423826c44dafb098a90bdbc5a0d5": {
          "model_module": "@jupyter-widgets/controls",
          "model_name": "HTMLModel",
          "model_module_version": "1.5.0",
          "state": {
            "_dom_classes": [],
            "_model_module": "@jupyter-widgets/controls",
            "_model_module_version": "1.5.0",
            "_model_name": "HTMLModel",
            "_view_count": null,
            "_view_module": "@jupyter-widgets/controls",
            "_view_module_version": "1.5.0",
            "_view_name": "HTMLView",
            "description": "",
            "description_tooltip": null,
            "layout": "IPY_MODEL_502787a604e342dbbdf18cc2761e5000",
            "placeholder": "​",
            "style": "IPY_MODEL_b89615642d1a4be6a4fde58a02df2dbd",
            "value": " 53.0/53.0 [00:00&lt;00:00, 2.48kB/s]"
          }
        },
        "882c5ad4b35d40c39b3eab0d075ff638": {
          "model_module": "@jupyter-widgets/base",
          "model_name": "LayoutModel",
          "model_module_version": "1.2.0",
          "state": {
            "_model_module": "@jupyter-widgets/base",
            "_model_module_version": "1.2.0",
            "_model_name": "LayoutModel",
            "_view_count": null,
            "_view_module": "@jupyter-widgets/base",
            "_view_module_version": "1.2.0",
            "_view_name": "LayoutView",
            "align_content": null,
            "align_items": null,
            "align_self": null,
            "border": null,
            "bottom": null,
            "display": null,
            "flex": null,
            "flex_flow": null,
            "grid_area": null,
            "grid_auto_columns": null,
            "grid_auto_flow": null,
            "grid_auto_rows": null,
            "grid_column": null,
            "grid_gap": null,
            "grid_row": null,
            "grid_template_areas": null,
            "grid_template_columns": null,
            "grid_template_rows": null,
            "height": null,
            "justify_content": null,
            "justify_items": null,
            "left": null,
            "margin": null,
            "max_height": null,
            "max_width": null,
            "min_height": null,
            "min_width": null,
            "object_fit": null,
            "object_position": null,
            "order": null,
            "overflow": null,
            "overflow_x": null,
            "overflow_y": null,
            "padding": null,
            "right": null,
            "top": null,
            "visibility": null,
            "width": null
          }
        },
        "224502a70eac47ad90bfdc9f11d5ebcc": {
          "model_module": "@jupyter-widgets/base",
          "model_name": "LayoutModel",
          "model_module_version": "1.2.0",
          "state": {
            "_model_module": "@jupyter-widgets/base",
            "_model_module_version": "1.2.0",
            "_model_name": "LayoutModel",
            "_view_count": null,
            "_view_module": "@jupyter-widgets/base",
            "_view_module_version": "1.2.0",
            "_view_name": "LayoutView",
            "align_content": null,
            "align_items": null,
            "align_self": null,
            "border": null,
            "bottom": null,
            "display": null,
            "flex": null,
            "flex_flow": null,
            "grid_area": null,
            "grid_auto_columns": null,
            "grid_auto_flow": null,
            "grid_auto_rows": null,
            "grid_column": null,
            "grid_gap": null,
            "grid_row": null,
            "grid_template_areas": null,
            "grid_template_columns": null,
            "grid_template_rows": null,
            "height": null,
            "justify_content": null,
            "justify_items": null,
            "left": null,
            "margin": null,
            "max_height": null,
            "max_width": null,
            "min_height": null,
            "min_width": null,
            "object_fit": null,
            "object_position": null,
            "order": null,
            "overflow": null,
            "overflow_x": null,
            "overflow_y": null,
            "padding": null,
            "right": null,
            "top": null,
            "visibility": null,
            "width": null
          }
        },
        "53bacf2874b9416c9b22f918b7d581d6": {
          "model_module": "@jupyter-widgets/controls",
          "model_name": "DescriptionStyleModel",
          "model_module_version": "1.5.0",
          "state": {
            "_model_module": "@jupyter-widgets/controls",
            "_model_module_version": "1.5.0",
            "_model_name": "DescriptionStyleModel",
            "_view_count": null,
            "_view_module": "@jupyter-widgets/base",
            "_view_module_version": "1.2.0",
            "_view_name": "StyleView",
            "description_width": ""
          }
        },
        "27a80c91b8b84b37884f8e00b1c50d04": {
          "model_module": "@jupyter-widgets/base",
          "model_name": "LayoutModel",
          "model_module_version": "1.2.0",
          "state": {
            "_model_module": "@jupyter-widgets/base",
            "_model_module_version": "1.2.0",
            "_model_name": "LayoutModel",
            "_view_count": null,
            "_view_module": "@jupyter-widgets/base",
            "_view_module_version": "1.2.0",
            "_view_name": "LayoutView",
            "align_content": null,
            "align_items": null,
            "align_self": null,
            "border": null,
            "bottom": null,
            "display": null,
            "flex": null,
            "flex_flow": null,
            "grid_area": null,
            "grid_auto_columns": null,
            "grid_auto_flow": null,
            "grid_auto_rows": null,
            "grid_column": null,
            "grid_gap": null,
            "grid_row": null,
            "grid_template_areas": null,
            "grid_template_columns": null,
            "grid_template_rows": null,
            "height": null,
            "justify_content": null,
            "justify_items": null,
            "left": null,
            "margin": null,
            "max_height": null,
            "max_width": null,
            "min_height": null,
            "min_width": null,
            "object_fit": null,
            "object_position": null,
            "order": null,
            "overflow": null,
            "overflow_x": null,
            "overflow_y": null,
            "padding": null,
            "right": null,
            "top": null,
            "visibility": null,
            "width": null
          }
        },
        "1af5d4c6686849ecb1aa2fcd86304af5": {
          "model_module": "@jupyter-widgets/controls",
          "model_name": "ProgressStyleModel",
          "model_module_version": "1.5.0",
          "state": {
            "_model_module": "@jupyter-widgets/controls",
            "_model_module_version": "1.5.0",
            "_model_name": "ProgressStyleModel",
            "_view_count": null,
            "_view_module": "@jupyter-widgets/base",
            "_view_module_version": "1.2.0",
            "_view_name": "StyleView",
            "bar_color": null,
            "description_width": ""
          }
        },
        "502787a604e342dbbdf18cc2761e5000": {
          "model_module": "@jupyter-widgets/base",
          "model_name": "LayoutModel",
          "model_module_version": "1.2.0",
          "state": {
            "_model_module": "@jupyter-widgets/base",
            "_model_module_version": "1.2.0",
            "_model_name": "LayoutModel",
            "_view_count": null,
            "_view_module": "@jupyter-widgets/base",
            "_view_module_version": "1.2.0",
            "_view_name": "LayoutView",
            "align_content": null,
            "align_items": null,
            "align_self": null,
            "border": null,
            "bottom": null,
            "display": null,
            "flex": null,
            "flex_flow": null,
            "grid_area": null,
            "grid_auto_columns": null,
            "grid_auto_flow": null,
            "grid_auto_rows": null,
            "grid_column": null,
            "grid_gap": null,
            "grid_row": null,
            "grid_template_areas": null,
            "grid_template_columns": null,
            "grid_template_rows": null,
            "height": null,
            "justify_content": null,
            "justify_items": null,
            "left": null,
            "margin": null,
            "max_height": null,
            "max_width": null,
            "min_height": null,
            "min_width": null,
            "object_fit": null,
            "object_position": null,
            "order": null,
            "overflow": null,
            "overflow_x": null,
            "overflow_y": null,
            "padding": null,
            "right": null,
            "top": null,
            "visibility": null,
            "width": null
          }
        },
        "b89615642d1a4be6a4fde58a02df2dbd": {
          "model_module": "@jupyter-widgets/controls",
          "model_name": "DescriptionStyleModel",
          "model_module_version": "1.5.0",
          "state": {
            "_model_module": "@jupyter-widgets/controls",
            "_model_module_version": "1.5.0",
            "_model_name": "DescriptionStyleModel",
            "_view_count": null,
            "_view_module": "@jupyter-widgets/base",
            "_view_module_version": "1.2.0",
            "_view_name": "StyleView",
            "description_width": ""
          }
        },
        "cba40640ef1042629f982b460abef008": {
          "model_module": "@jupyter-widgets/controls",
          "model_name": "HBoxModel",
          "model_module_version": "1.5.0",
          "state": {
            "_dom_classes": [],
            "_model_module": "@jupyter-widgets/controls",
            "_model_module_version": "1.5.0",
            "_model_name": "HBoxModel",
            "_view_count": null,
            "_view_module": "@jupyter-widgets/controls",
            "_view_module_version": "1.5.0",
            "_view_name": "HBoxView",
            "box_style": "",
            "children": [
              "IPY_MODEL_45fdcd87e2074c4dba4b23a08a8dd1ce",
              "IPY_MODEL_5abf17c2d93344a1b8899b3a0a5c67a9",
              "IPY_MODEL_391c1309b886459aaa4d07e4832edd08"
            ],
            "layout": "IPY_MODEL_fa12b85243cf45f692218c66580d7ed6"
          }
        },
        "45fdcd87e2074c4dba4b23a08a8dd1ce": {
          "model_module": "@jupyter-widgets/controls",
          "model_name": "HTMLModel",
          "model_module_version": "1.5.0",
          "state": {
            "_dom_classes": [],
            "_model_module": "@jupyter-widgets/controls",
            "_model_module_version": "1.5.0",
            "_model_name": "HTMLModel",
            "_view_count": null,
            "_view_module": "@jupyter-widgets/controls",
            "_view_module_version": "1.5.0",
            "_view_name": "HTMLView",
            "description": "",
            "description_tooltip": null,
            "layout": "IPY_MODEL_6ab671e8936e4eb7b0c123d1d3ff2f8d",
            "placeholder": "​",
            "style": "IPY_MODEL_a146d2a274664e1fb798158fed7a57d0",
            "value": "config.json: 100%"
          }
        },
        "5abf17c2d93344a1b8899b3a0a5c67a9": {
          "model_module": "@jupyter-widgets/controls",
          "model_name": "FloatProgressModel",
          "model_module_version": "1.5.0",
          "state": {
            "_dom_classes": [],
            "_model_module": "@jupyter-widgets/controls",
            "_model_module_version": "1.5.0",
            "_model_name": "FloatProgressModel",
            "_view_count": null,
            "_view_module": "@jupyter-widgets/controls",
            "_view_module_version": "1.5.0",
            "_view_name": "ProgressView",
            "bar_style": "success",
            "description": "",
            "description_tooltip": null,
            "layout": "IPY_MODEL_4996bcfa4d6f4855abb2de22f1b3aa8c",
            "max": 612,
            "min": 0,
            "orientation": "horizontal",
            "style": "IPY_MODEL_29a2865cb9d0467f833ea34ebc97a488",
            "value": 612
          }
        },
        "391c1309b886459aaa4d07e4832edd08": {
          "model_module": "@jupyter-widgets/controls",
          "model_name": "HTMLModel",
          "model_module_version": "1.5.0",
          "state": {
            "_dom_classes": [],
            "_model_module": "@jupyter-widgets/controls",
            "_model_module_version": "1.5.0",
            "_model_name": "HTMLModel",
            "_view_count": null,
            "_view_module": "@jupyter-widgets/controls",
            "_view_module_version": "1.5.0",
            "_view_name": "HTMLView",
            "description": "",
            "description_tooltip": null,
            "layout": "IPY_MODEL_b2ae644c3ebf4b9f98ab20b54c1fe4bf",
            "placeholder": "​",
            "style": "IPY_MODEL_e1cafb8efdef4ab98bfeb31c38429ada",
            "value": " 612/612 [00:00&lt;00:00, 18.3kB/s]"
          }
        },
        "fa12b85243cf45f692218c66580d7ed6": {
          "model_module": "@jupyter-widgets/base",
          "model_name": "LayoutModel",
          "model_module_version": "1.2.0",
          "state": {
            "_model_module": "@jupyter-widgets/base",
            "_model_module_version": "1.2.0",
            "_model_name": "LayoutModel",
            "_view_count": null,
            "_view_module": "@jupyter-widgets/base",
            "_view_module_version": "1.2.0",
            "_view_name": "LayoutView",
            "align_content": null,
            "align_items": null,
            "align_self": null,
            "border": null,
            "bottom": null,
            "display": null,
            "flex": null,
            "flex_flow": null,
            "grid_area": null,
            "grid_auto_columns": null,
            "grid_auto_flow": null,
            "grid_auto_rows": null,
            "grid_column": null,
            "grid_gap": null,
            "grid_row": null,
            "grid_template_areas": null,
            "grid_template_columns": null,
            "grid_template_rows": null,
            "height": null,
            "justify_content": null,
            "justify_items": null,
            "left": null,
            "margin": null,
            "max_height": null,
            "max_width": null,
            "min_height": null,
            "min_width": null,
            "object_fit": null,
            "object_position": null,
            "order": null,
            "overflow": null,
            "overflow_x": null,
            "overflow_y": null,
            "padding": null,
            "right": null,
            "top": null,
            "visibility": null,
            "width": null
          }
        },
        "6ab671e8936e4eb7b0c123d1d3ff2f8d": {
          "model_module": "@jupyter-widgets/base",
          "model_name": "LayoutModel",
          "model_module_version": "1.2.0",
          "state": {
            "_model_module": "@jupyter-widgets/base",
            "_model_module_version": "1.2.0",
            "_model_name": "LayoutModel",
            "_view_count": null,
            "_view_module": "@jupyter-widgets/base",
            "_view_module_version": "1.2.0",
            "_view_name": "LayoutView",
            "align_content": null,
            "align_items": null,
            "align_self": null,
            "border": null,
            "bottom": null,
            "display": null,
            "flex": null,
            "flex_flow": null,
            "grid_area": null,
            "grid_auto_columns": null,
            "grid_auto_flow": null,
            "grid_auto_rows": null,
            "grid_column": null,
            "grid_gap": null,
            "grid_row": null,
            "grid_template_areas": null,
            "grid_template_columns": null,
            "grid_template_rows": null,
            "height": null,
            "justify_content": null,
            "justify_items": null,
            "left": null,
            "margin": null,
            "max_height": null,
            "max_width": null,
            "min_height": null,
            "min_width": null,
            "object_fit": null,
            "object_position": null,
            "order": null,
            "overflow": null,
            "overflow_x": null,
            "overflow_y": null,
            "padding": null,
            "right": null,
            "top": null,
            "visibility": null,
            "width": null
          }
        },
        "a146d2a274664e1fb798158fed7a57d0": {
          "model_module": "@jupyter-widgets/controls",
          "model_name": "DescriptionStyleModel",
          "model_module_version": "1.5.0",
          "state": {
            "_model_module": "@jupyter-widgets/controls",
            "_model_module_version": "1.5.0",
            "_model_name": "DescriptionStyleModel",
            "_view_count": null,
            "_view_module": "@jupyter-widgets/base",
            "_view_module_version": "1.2.0",
            "_view_name": "StyleView",
            "description_width": ""
          }
        },
        "4996bcfa4d6f4855abb2de22f1b3aa8c": {
          "model_module": "@jupyter-widgets/base",
          "model_name": "LayoutModel",
          "model_module_version": "1.2.0",
          "state": {
            "_model_module": "@jupyter-widgets/base",
            "_model_module_version": "1.2.0",
            "_model_name": "LayoutModel",
            "_view_count": null,
            "_view_module": "@jupyter-widgets/base",
            "_view_module_version": "1.2.0",
            "_view_name": "LayoutView",
            "align_content": null,
            "align_items": null,
            "align_self": null,
            "border": null,
            "bottom": null,
            "display": null,
            "flex": null,
            "flex_flow": null,
            "grid_area": null,
            "grid_auto_columns": null,
            "grid_auto_flow": null,
            "grid_auto_rows": null,
            "grid_column": null,
            "grid_gap": null,
            "grid_row": null,
            "grid_template_areas": null,
            "grid_template_columns": null,
            "grid_template_rows": null,
            "height": null,
            "justify_content": null,
            "justify_items": null,
            "left": null,
            "margin": null,
            "max_height": null,
            "max_width": null,
            "min_height": null,
            "min_width": null,
            "object_fit": null,
            "object_position": null,
            "order": null,
            "overflow": null,
            "overflow_x": null,
            "overflow_y": null,
            "padding": null,
            "right": null,
            "top": null,
            "visibility": null,
            "width": null
          }
        },
        "29a2865cb9d0467f833ea34ebc97a488": {
          "model_module": "@jupyter-widgets/controls",
          "model_name": "ProgressStyleModel",
          "model_module_version": "1.5.0",
          "state": {
            "_model_module": "@jupyter-widgets/controls",
            "_model_module_version": "1.5.0",
            "_model_name": "ProgressStyleModel",
            "_view_count": null,
            "_view_module": "@jupyter-widgets/base",
            "_view_module_version": "1.2.0",
            "_view_name": "StyleView",
            "bar_color": null,
            "description_width": ""
          }
        },
        "b2ae644c3ebf4b9f98ab20b54c1fe4bf": {
          "model_module": "@jupyter-widgets/base",
          "model_name": "LayoutModel",
          "model_module_version": "1.2.0",
          "state": {
            "_model_module": "@jupyter-widgets/base",
            "_model_module_version": "1.2.0",
            "_model_name": "LayoutModel",
            "_view_count": null,
            "_view_module": "@jupyter-widgets/base",
            "_view_module_version": "1.2.0",
            "_view_name": "LayoutView",
            "align_content": null,
            "align_items": null,
            "align_self": null,
            "border": null,
            "bottom": null,
            "display": null,
            "flex": null,
            "flex_flow": null,
            "grid_area": null,
            "grid_auto_columns": null,
            "grid_auto_flow": null,
            "grid_auto_rows": null,
            "grid_column": null,
            "grid_gap": null,
            "grid_row": null,
            "grid_template_areas": null,
            "grid_template_columns": null,
            "grid_template_rows": null,
            "height": null,
            "justify_content": null,
            "justify_items": null,
            "left": null,
            "margin": null,
            "max_height": null,
            "max_width": null,
            "min_height": null,
            "min_width": null,
            "object_fit": null,
            "object_position": null,
            "order": null,
            "overflow": null,
            "overflow_x": null,
            "overflow_y": null,
            "padding": null,
            "right": null,
            "top": null,
            "visibility": null,
            "width": null
          }
        },
        "e1cafb8efdef4ab98bfeb31c38429ada": {
          "model_module": "@jupyter-widgets/controls",
          "model_name": "DescriptionStyleModel",
          "model_module_version": "1.5.0",
          "state": {
            "_model_module": "@jupyter-widgets/controls",
            "_model_module_version": "1.5.0",
            "_model_name": "DescriptionStyleModel",
            "_view_count": null,
            "_view_module": "@jupyter-widgets/base",
            "_view_module_version": "1.2.0",
            "_view_name": "StyleView",
            "description_width": ""
          }
        },
        "629dcb43e3e445e48ad13d4e9e3a25c1": {
          "model_module": "@jupyter-widgets/controls",
          "model_name": "HBoxModel",
          "model_module_version": "1.5.0",
          "state": {
            "_dom_classes": [],
            "_model_module": "@jupyter-widgets/controls",
            "_model_module_version": "1.5.0",
            "_model_name": "HBoxModel",
            "_view_count": null,
            "_view_module": "@jupyter-widgets/controls",
            "_view_module_version": "1.5.0",
            "_view_name": "HBoxView",
            "box_style": "",
            "children": [
              "IPY_MODEL_5142049adf5f466e85d242e07b95abb1",
              "IPY_MODEL_dd714779d9ef4c9ebac538e7539dbd6b",
              "IPY_MODEL_fae6c79901304cfc8ec98ae7c1eed730"
            ],
            "layout": "IPY_MODEL_244cd06e7a8946879c70c37c83a247ca"
          }
        },
        "5142049adf5f466e85d242e07b95abb1": {
          "model_module": "@jupyter-widgets/controls",
          "model_name": "HTMLModel",
          "model_module_version": "1.5.0",
          "state": {
            "_dom_classes": [],
            "_model_module": "@jupyter-widgets/controls",
            "_model_module_version": "1.5.0",
            "_model_name": "HTMLModel",
            "_view_count": null,
            "_view_module": "@jupyter-widgets/controls",
            "_view_module_version": "1.5.0",
            "_view_name": "HTMLView",
            "description": "",
            "description_tooltip": null,
            "layout": "IPY_MODEL_d5d107b6843943949211d1428f8dea49",
            "placeholder": "​",
            "style": "IPY_MODEL_49e6189dea4d4d4a9520a1f49e9983fa",
            "value": "model.safetensors: 100%"
          }
        },
        "dd714779d9ef4c9ebac538e7539dbd6b": {
          "model_module": "@jupyter-widgets/controls",
          "model_name": "FloatProgressModel",
          "model_module_version": "1.5.0",
          "state": {
            "_dom_classes": [],
            "_model_module": "@jupyter-widgets/controls",
            "_model_module_version": "1.5.0",
            "_model_name": "FloatProgressModel",
            "_view_count": null,
            "_view_module": "@jupyter-widgets/controls",
            "_view_module_version": "1.5.0",
            "_view_name": "ProgressView",
            "bar_style": "success",
            "description": "",
            "description_tooltip": null,
            "layout": "IPY_MODEL_84027114c86e4fbf954b9ce1b1d70adc",
            "max": 90868376,
            "min": 0,
            "orientation": "horizontal",
            "style": "IPY_MODEL_750e8dbdb46a410bab7635ab91d98570",
            "value": 90868376
          }
        },
        "fae6c79901304cfc8ec98ae7c1eed730": {
          "model_module": "@jupyter-widgets/controls",
          "model_name": "HTMLModel",
          "model_module_version": "1.5.0",
          "state": {
            "_dom_classes": [],
            "_model_module": "@jupyter-widgets/controls",
            "_model_module_version": "1.5.0",
            "_model_name": "HTMLModel",
            "_view_count": null,
            "_view_module": "@jupyter-widgets/controls",
            "_view_module_version": "1.5.0",
            "_view_name": "HTMLView",
            "description": "",
            "description_tooltip": null,
            "layout": "IPY_MODEL_e9173c15fcda42e0b037e5abfa11e27c",
            "placeholder": "​",
            "style": "IPY_MODEL_2bef2abea34e439e8efd20a1a5a742b3",
            "value": " 90.9M/90.9M [00:01&lt;00:00, 106MB/s]"
          }
        },
        "244cd06e7a8946879c70c37c83a247ca": {
          "model_module": "@jupyter-widgets/base",
          "model_name": "LayoutModel",
          "model_module_version": "1.2.0",
          "state": {
            "_model_module": "@jupyter-widgets/base",
            "_model_module_version": "1.2.0",
            "_model_name": "LayoutModel",
            "_view_count": null,
            "_view_module": "@jupyter-widgets/base",
            "_view_module_version": "1.2.0",
            "_view_name": "LayoutView",
            "align_content": null,
            "align_items": null,
            "align_self": null,
            "border": null,
            "bottom": null,
            "display": null,
            "flex": null,
            "flex_flow": null,
            "grid_area": null,
            "grid_auto_columns": null,
            "grid_auto_flow": null,
            "grid_auto_rows": null,
            "grid_column": null,
            "grid_gap": null,
            "grid_row": null,
            "grid_template_areas": null,
            "grid_template_columns": null,
            "grid_template_rows": null,
            "height": null,
            "justify_content": null,
            "justify_items": null,
            "left": null,
            "margin": null,
            "max_height": null,
            "max_width": null,
            "min_height": null,
            "min_width": null,
            "object_fit": null,
            "object_position": null,
            "order": null,
            "overflow": null,
            "overflow_x": null,
            "overflow_y": null,
            "padding": null,
            "right": null,
            "top": null,
            "visibility": null,
            "width": null
          }
        },
        "d5d107b6843943949211d1428f8dea49": {
          "model_module": "@jupyter-widgets/base",
          "model_name": "LayoutModel",
          "model_module_version": "1.2.0",
          "state": {
            "_model_module": "@jupyter-widgets/base",
            "_model_module_version": "1.2.0",
            "_model_name": "LayoutModel",
            "_view_count": null,
            "_view_module": "@jupyter-widgets/base",
            "_view_module_version": "1.2.0",
            "_view_name": "LayoutView",
            "align_content": null,
            "align_items": null,
            "align_self": null,
            "border": null,
            "bottom": null,
            "display": null,
            "flex": null,
            "flex_flow": null,
            "grid_area": null,
            "grid_auto_columns": null,
            "grid_auto_flow": null,
            "grid_auto_rows": null,
            "grid_column": null,
            "grid_gap": null,
            "grid_row": null,
            "grid_template_areas": null,
            "grid_template_columns": null,
            "grid_template_rows": null,
            "height": null,
            "justify_content": null,
            "justify_items": null,
            "left": null,
            "margin": null,
            "max_height": null,
            "max_width": null,
            "min_height": null,
            "min_width": null,
            "object_fit": null,
            "object_position": null,
            "order": null,
            "overflow": null,
            "overflow_x": null,
            "overflow_y": null,
            "padding": null,
            "right": null,
            "top": null,
            "visibility": null,
            "width": null
          }
        },
        "49e6189dea4d4d4a9520a1f49e9983fa": {
          "model_module": "@jupyter-widgets/controls",
          "model_name": "DescriptionStyleModel",
          "model_module_version": "1.5.0",
          "state": {
            "_model_module": "@jupyter-widgets/controls",
            "_model_module_version": "1.5.0",
            "_model_name": "DescriptionStyleModel",
            "_view_count": null,
            "_view_module": "@jupyter-widgets/base",
            "_view_module_version": "1.2.0",
            "_view_name": "StyleView",
            "description_width": ""
          }
        },
        "84027114c86e4fbf954b9ce1b1d70adc": {
          "model_module": "@jupyter-widgets/base",
          "model_name": "LayoutModel",
          "model_module_version": "1.2.0",
          "state": {
            "_model_module": "@jupyter-widgets/base",
            "_model_module_version": "1.2.0",
            "_model_name": "LayoutModel",
            "_view_count": null,
            "_view_module": "@jupyter-widgets/base",
            "_view_module_version": "1.2.0",
            "_view_name": "LayoutView",
            "align_content": null,
            "align_items": null,
            "align_self": null,
            "border": null,
            "bottom": null,
            "display": null,
            "flex": null,
            "flex_flow": null,
            "grid_area": null,
            "grid_auto_columns": null,
            "grid_auto_flow": null,
            "grid_auto_rows": null,
            "grid_column": null,
            "grid_gap": null,
            "grid_row": null,
            "grid_template_areas": null,
            "grid_template_columns": null,
            "grid_template_rows": null,
            "height": null,
            "justify_content": null,
            "justify_items": null,
            "left": null,
            "margin": null,
            "max_height": null,
            "max_width": null,
            "min_height": null,
            "min_width": null,
            "object_fit": null,
            "object_position": null,
            "order": null,
            "overflow": null,
            "overflow_x": null,
            "overflow_y": null,
            "padding": null,
            "right": null,
            "top": null,
            "visibility": null,
            "width": null
          }
        },
        "750e8dbdb46a410bab7635ab91d98570": {
          "model_module": "@jupyter-widgets/controls",
          "model_name": "ProgressStyleModel",
          "model_module_version": "1.5.0",
          "state": {
            "_model_module": "@jupyter-widgets/controls",
            "_model_module_version": "1.5.0",
            "_model_name": "ProgressStyleModel",
            "_view_count": null,
            "_view_module": "@jupyter-widgets/base",
            "_view_module_version": "1.2.0",
            "_view_name": "StyleView",
            "bar_color": null,
            "description_width": ""
          }
        },
        "e9173c15fcda42e0b037e5abfa11e27c": {
          "model_module": "@jupyter-widgets/base",
          "model_name": "LayoutModel",
          "model_module_version": "1.2.0",
          "state": {
            "_model_module": "@jupyter-widgets/base",
            "_model_module_version": "1.2.0",
            "_model_name": "LayoutModel",
            "_view_count": null,
            "_view_module": "@jupyter-widgets/base",
            "_view_module_version": "1.2.0",
            "_view_name": "LayoutView",
            "align_content": null,
            "align_items": null,
            "align_self": null,
            "border": null,
            "bottom": null,
            "display": null,
            "flex": null,
            "flex_flow": null,
            "grid_area": null,
            "grid_auto_columns": null,
            "grid_auto_flow": null,
            "grid_auto_rows": null,
            "grid_column": null,
            "grid_gap": null,
            "grid_row": null,
            "grid_template_areas": null,
            "grid_template_columns": null,
            "grid_template_rows": null,
            "height": null,
            "justify_content": null,
            "justify_items": null,
            "left": null,
            "margin": null,
            "max_height": null,
            "max_width": null,
            "min_height": null,
            "min_width": null,
            "object_fit": null,
            "object_position": null,
            "order": null,
            "overflow": null,
            "overflow_x": null,
            "overflow_y": null,
            "padding": null,
            "right": null,
            "top": null,
            "visibility": null,
            "width": null
          }
        },
        "2bef2abea34e439e8efd20a1a5a742b3": {
          "model_module": "@jupyter-widgets/controls",
          "model_name": "DescriptionStyleModel",
          "model_module_version": "1.5.0",
          "state": {
            "_model_module": "@jupyter-widgets/controls",
            "_model_module_version": "1.5.0",
            "_model_name": "DescriptionStyleModel",
            "_view_count": null,
            "_view_module": "@jupyter-widgets/base",
            "_view_module_version": "1.2.0",
            "_view_name": "StyleView",
            "description_width": ""
          }
        },
        "e23b8181ffcb420d949c322686ce669a": {
          "model_module": "@jupyter-widgets/controls",
          "model_name": "HBoxModel",
          "model_module_version": "1.5.0",
          "state": {
            "_dom_classes": [],
            "_model_module": "@jupyter-widgets/controls",
            "_model_module_version": "1.5.0",
            "_model_name": "HBoxModel",
            "_view_count": null,
            "_view_module": "@jupyter-widgets/controls",
            "_view_module_version": "1.5.0",
            "_view_name": "HBoxView",
            "box_style": "",
            "children": [
              "IPY_MODEL_af3910d88f2d4db29b20c4d1b16295c1",
              "IPY_MODEL_c9eb1bb0a5c74d959baac38a01b4f06b",
              "IPY_MODEL_d0ce3e667c8b427ca8e73a8ae33b6a5f"
            ],
            "layout": "IPY_MODEL_5e2b3a8329364344871c34cae0d31a43"
          }
        },
        "af3910d88f2d4db29b20c4d1b16295c1": {
          "model_module": "@jupyter-widgets/controls",
          "model_name": "HTMLModel",
          "model_module_version": "1.5.0",
          "state": {
            "_dom_classes": [],
            "_model_module": "@jupyter-widgets/controls",
            "_model_module_version": "1.5.0",
            "_model_name": "HTMLModel",
            "_view_count": null,
            "_view_module": "@jupyter-widgets/controls",
            "_view_module_version": "1.5.0",
            "_view_name": "HTMLView",
            "description": "",
            "description_tooltip": null,
            "layout": "IPY_MODEL_96b1614c24d34f26b5fa7c051776a8b0",
            "placeholder": "​",
            "style": "IPY_MODEL_4f1d16b0137f4785baea5831914c1aaa",
            "value": "tokenizer_config.json: 100%"
          }
        },
        "c9eb1bb0a5c74d959baac38a01b4f06b": {
          "model_module": "@jupyter-widgets/controls",
          "model_name": "FloatProgressModel",
          "model_module_version": "1.5.0",
          "state": {
            "_dom_classes": [],
            "_model_module": "@jupyter-widgets/controls",
            "_model_module_version": "1.5.0",
            "_model_name": "FloatProgressModel",
            "_view_count": null,
            "_view_module": "@jupyter-widgets/controls",
            "_view_module_version": "1.5.0",
            "_view_name": "ProgressView",
            "bar_style": "success",
            "description": "",
            "description_tooltip": null,
            "layout": "IPY_MODEL_3215aaa37cb14675a4f1ffa9dc958b3f",
            "max": 350,
            "min": 0,
            "orientation": "horizontal",
            "style": "IPY_MODEL_c50dab6a01df4f87ae01f0f0d4bfbdbc",
            "value": 350
          }
        },
        "d0ce3e667c8b427ca8e73a8ae33b6a5f": {
          "model_module": "@jupyter-widgets/controls",
          "model_name": "HTMLModel",
          "model_module_version": "1.5.0",
          "state": {
            "_dom_classes": [],
            "_model_module": "@jupyter-widgets/controls",
            "_model_module_version": "1.5.0",
            "_model_name": "HTMLModel",
            "_view_count": null,
            "_view_module": "@jupyter-widgets/controls",
            "_view_module_version": "1.5.0",
            "_view_name": "HTMLView",
            "description": "",
            "description_tooltip": null,
            "layout": "IPY_MODEL_0cfa3ab782ac4181abeda14331d37daf",
            "placeholder": "​",
            "style": "IPY_MODEL_ad6881e646b94ae5a23cdac25ef8b52c",
            "value": " 350/350 [00:00&lt;00:00, 20.6kB/s]"
          }
        },
        "5e2b3a8329364344871c34cae0d31a43": {
          "model_module": "@jupyter-widgets/base",
          "model_name": "LayoutModel",
          "model_module_version": "1.2.0",
          "state": {
            "_model_module": "@jupyter-widgets/base",
            "_model_module_version": "1.2.0",
            "_model_name": "LayoutModel",
            "_view_count": null,
            "_view_module": "@jupyter-widgets/base",
            "_view_module_version": "1.2.0",
            "_view_name": "LayoutView",
            "align_content": null,
            "align_items": null,
            "align_self": null,
            "border": null,
            "bottom": null,
            "display": null,
            "flex": null,
            "flex_flow": null,
            "grid_area": null,
            "grid_auto_columns": null,
            "grid_auto_flow": null,
            "grid_auto_rows": null,
            "grid_column": null,
            "grid_gap": null,
            "grid_row": null,
            "grid_template_areas": null,
            "grid_template_columns": null,
            "grid_template_rows": null,
            "height": null,
            "justify_content": null,
            "justify_items": null,
            "left": null,
            "margin": null,
            "max_height": null,
            "max_width": null,
            "min_height": null,
            "min_width": null,
            "object_fit": null,
            "object_position": null,
            "order": null,
            "overflow": null,
            "overflow_x": null,
            "overflow_y": null,
            "padding": null,
            "right": null,
            "top": null,
            "visibility": null,
            "width": null
          }
        },
        "96b1614c24d34f26b5fa7c051776a8b0": {
          "model_module": "@jupyter-widgets/base",
          "model_name": "LayoutModel",
          "model_module_version": "1.2.0",
          "state": {
            "_model_module": "@jupyter-widgets/base",
            "_model_module_version": "1.2.0",
            "_model_name": "LayoutModel",
            "_view_count": null,
            "_view_module": "@jupyter-widgets/base",
            "_view_module_version": "1.2.0",
            "_view_name": "LayoutView",
            "align_content": null,
            "align_items": null,
            "align_self": null,
            "border": null,
            "bottom": null,
            "display": null,
            "flex": null,
            "flex_flow": null,
            "grid_area": null,
            "grid_auto_columns": null,
            "grid_auto_flow": null,
            "grid_auto_rows": null,
            "grid_column": null,
            "grid_gap": null,
            "grid_row": null,
            "grid_template_areas": null,
            "grid_template_columns": null,
            "grid_template_rows": null,
            "height": null,
            "justify_content": null,
            "justify_items": null,
            "left": null,
            "margin": null,
            "max_height": null,
            "max_width": null,
            "min_height": null,
            "min_width": null,
            "object_fit": null,
            "object_position": null,
            "order": null,
            "overflow": null,
            "overflow_x": null,
            "overflow_y": null,
            "padding": null,
            "right": null,
            "top": null,
            "visibility": null,
            "width": null
          }
        },
        "4f1d16b0137f4785baea5831914c1aaa": {
          "model_module": "@jupyter-widgets/controls",
          "model_name": "DescriptionStyleModel",
          "model_module_version": "1.5.0",
          "state": {
            "_model_module": "@jupyter-widgets/controls",
            "_model_module_version": "1.5.0",
            "_model_name": "DescriptionStyleModel",
            "_view_count": null,
            "_view_module": "@jupyter-widgets/base",
            "_view_module_version": "1.2.0",
            "_view_name": "StyleView",
            "description_width": ""
          }
        },
        "3215aaa37cb14675a4f1ffa9dc958b3f": {
          "model_module": "@jupyter-widgets/base",
          "model_name": "LayoutModel",
          "model_module_version": "1.2.0",
          "state": {
            "_model_module": "@jupyter-widgets/base",
            "_model_module_version": "1.2.0",
            "_model_name": "LayoutModel",
            "_view_count": null,
            "_view_module": "@jupyter-widgets/base",
            "_view_module_version": "1.2.0",
            "_view_name": "LayoutView",
            "align_content": null,
            "align_items": null,
            "align_self": null,
            "border": null,
            "bottom": null,
            "display": null,
            "flex": null,
            "flex_flow": null,
            "grid_area": null,
            "grid_auto_columns": null,
            "grid_auto_flow": null,
            "grid_auto_rows": null,
            "grid_column": null,
            "grid_gap": null,
            "grid_row": null,
            "grid_template_areas": null,
            "grid_template_columns": null,
            "grid_template_rows": null,
            "height": null,
            "justify_content": null,
            "justify_items": null,
            "left": null,
            "margin": null,
            "max_height": null,
            "max_width": null,
            "min_height": null,
            "min_width": null,
            "object_fit": null,
            "object_position": null,
            "order": null,
            "overflow": null,
            "overflow_x": null,
            "overflow_y": null,
            "padding": null,
            "right": null,
            "top": null,
            "visibility": null,
            "width": null
          }
        },
        "c50dab6a01df4f87ae01f0f0d4bfbdbc": {
          "model_module": "@jupyter-widgets/controls",
          "model_name": "ProgressStyleModel",
          "model_module_version": "1.5.0",
          "state": {
            "_model_module": "@jupyter-widgets/controls",
            "_model_module_version": "1.5.0",
            "_model_name": "ProgressStyleModel",
            "_view_count": null,
            "_view_module": "@jupyter-widgets/base",
            "_view_module_version": "1.2.0",
            "_view_name": "StyleView",
            "bar_color": null,
            "description_width": ""
          }
        },
        "0cfa3ab782ac4181abeda14331d37daf": {
          "model_module": "@jupyter-widgets/base",
          "model_name": "LayoutModel",
          "model_module_version": "1.2.0",
          "state": {
            "_model_module": "@jupyter-widgets/base",
            "_model_module_version": "1.2.0",
            "_model_name": "LayoutModel",
            "_view_count": null,
            "_view_module": "@jupyter-widgets/base",
            "_view_module_version": "1.2.0",
            "_view_name": "LayoutView",
            "align_content": null,
            "align_items": null,
            "align_self": null,
            "border": null,
            "bottom": null,
            "display": null,
            "flex": null,
            "flex_flow": null,
            "grid_area": null,
            "grid_auto_columns": null,
            "grid_auto_flow": null,
            "grid_auto_rows": null,
            "grid_column": null,
            "grid_gap": null,
            "grid_row": null,
            "grid_template_areas": null,
            "grid_template_columns": null,
            "grid_template_rows": null,
            "height": null,
            "justify_content": null,
            "justify_items": null,
            "left": null,
            "margin": null,
            "max_height": null,
            "max_width": null,
            "min_height": null,
            "min_width": null,
            "object_fit": null,
            "object_position": null,
            "order": null,
            "overflow": null,
            "overflow_x": null,
            "overflow_y": null,
            "padding": null,
            "right": null,
            "top": null,
            "visibility": null,
            "width": null
          }
        },
        "ad6881e646b94ae5a23cdac25ef8b52c": {
          "model_module": "@jupyter-widgets/controls",
          "model_name": "DescriptionStyleModel",
          "model_module_version": "1.5.0",
          "state": {
            "_model_module": "@jupyter-widgets/controls",
            "_model_module_version": "1.5.0",
            "_model_name": "DescriptionStyleModel",
            "_view_count": null,
            "_view_module": "@jupyter-widgets/base",
            "_view_module_version": "1.2.0",
            "_view_name": "StyleView",
            "description_width": ""
          }
        },
        "6c5a7c84c8a2421d95b4e40efa5170cd": {
          "model_module": "@jupyter-widgets/controls",
          "model_name": "HBoxModel",
          "model_module_version": "1.5.0",
          "state": {
            "_dom_classes": [],
            "_model_module": "@jupyter-widgets/controls",
            "_model_module_version": "1.5.0",
            "_model_name": "HBoxModel",
            "_view_count": null,
            "_view_module": "@jupyter-widgets/controls",
            "_view_module_version": "1.5.0",
            "_view_name": "HBoxView",
            "box_style": "",
            "children": [
              "IPY_MODEL_c030b9289d6c461caf24fcb72d052cf4",
              "IPY_MODEL_871a469561444b94ad643845739ab861",
              "IPY_MODEL_dd40f761dd3a4422991eb27c910c5453"
            ],
            "layout": "IPY_MODEL_b2023ebbcf294492bd79a481c281d615"
          }
        },
        "c030b9289d6c461caf24fcb72d052cf4": {
          "model_module": "@jupyter-widgets/controls",
          "model_name": "HTMLModel",
          "model_module_version": "1.5.0",
          "state": {
            "_dom_classes": [],
            "_model_module": "@jupyter-widgets/controls",
            "_model_module_version": "1.5.0",
            "_model_name": "HTMLModel",
            "_view_count": null,
            "_view_module": "@jupyter-widgets/controls",
            "_view_module_version": "1.5.0",
            "_view_name": "HTMLView",
            "description": "",
            "description_tooltip": null,
            "layout": "IPY_MODEL_d9652fa6372d414c9c236f4db61009e1",
            "placeholder": "​",
            "style": "IPY_MODEL_6dce2aff0faa4af880892ae1513eb269",
            "value": "vocab.txt: 100%"
          }
        },
        "871a469561444b94ad643845739ab861": {
          "model_module": "@jupyter-widgets/controls",
          "model_name": "FloatProgressModel",
          "model_module_version": "1.5.0",
          "state": {
            "_dom_classes": [],
            "_model_module": "@jupyter-widgets/controls",
            "_model_module_version": "1.5.0",
            "_model_name": "FloatProgressModel",
            "_view_count": null,
            "_view_module": "@jupyter-widgets/controls",
            "_view_module_version": "1.5.0",
            "_view_name": "ProgressView",
            "bar_style": "success",
            "description": "",
            "description_tooltip": null,
            "layout": "IPY_MODEL_4948af6638764a779a4580a93cadaff2",
            "max": 231508,
            "min": 0,
            "orientation": "horizontal",
            "style": "IPY_MODEL_832bf98e2b5a4cb5a9cca9b3b0b8fe9d",
            "value": 231508
          }
        },
        "dd40f761dd3a4422991eb27c910c5453": {
          "model_module": "@jupyter-widgets/controls",
          "model_name": "HTMLModel",
          "model_module_version": "1.5.0",
          "state": {
            "_dom_classes": [],
            "_model_module": "@jupyter-widgets/controls",
            "_model_module_version": "1.5.0",
            "_model_name": "HTMLModel",
            "_view_count": null,
            "_view_module": "@jupyter-widgets/controls",
            "_view_module_version": "1.5.0",
            "_view_name": "HTMLView",
            "description": "",
            "description_tooltip": null,
            "layout": "IPY_MODEL_90dce977f3ce4d0ea66c6397f24b95e7",
            "placeholder": "​",
            "style": "IPY_MODEL_f1600b38a08f4213afcd163eadb0eb5f",
            "value": " 232k/232k [00:00&lt;00:00, 11.6MB/s]"
          }
        },
        "b2023ebbcf294492bd79a481c281d615": {
          "model_module": "@jupyter-widgets/base",
          "model_name": "LayoutModel",
          "model_module_version": "1.2.0",
          "state": {
            "_model_module": "@jupyter-widgets/base",
            "_model_module_version": "1.2.0",
            "_model_name": "LayoutModel",
            "_view_count": null,
            "_view_module": "@jupyter-widgets/base",
            "_view_module_version": "1.2.0",
            "_view_name": "LayoutView",
            "align_content": null,
            "align_items": null,
            "align_self": null,
            "border": null,
            "bottom": null,
            "display": null,
            "flex": null,
            "flex_flow": null,
            "grid_area": null,
            "grid_auto_columns": null,
            "grid_auto_flow": null,
            "grid_auto_rows": null,
            "grid_column": null,
            "grid_gap": null,
            "grid_row": null,
            "grid_template_areas": null,
            "grid_template_columns": null,
            "grid_template_rows": null,
            "height": null,
            "justify_content": null,
            "justify_items": null,
            "left": null,
            "margin": null,
            "max_height": null,
            "max_width": null,
            "min_height": null,
            "min_width": null,
            "object_fit": null,
            "object_position": null,
            "order": null,
            "overflow": null,
            "overflow_x": null,
            "overflow_y": null,
            "padding": null,
            "right": null,
            "top": null,
            "visibility": null,
            "width": null
          }
        },
        "d9652fa6372d414c9c236f4db61009e1": {
          "model_module": "@jupyter-widgets/base",
          "model_name": "LayoutModel",
          "model_module_version": "1.2.0",
          "state": {
            "_model_module": "@jupyter-widgets/base",
            "_model_module_version": "1.2.0",
            "_model_name": "LayoutModel",
            "_view_count": null,
            "_view_module": "@jupyter-widgets/base",
            "_view_module_version": "1.2.0",
            "_view_name": "LayoutView",
            "align_content": null,
            "align_items": null,
            "align_self": null,
            "border": null,
            "bottom": null,
            "display": null,
            "flex": null,
            "flex_flow": null,
            "grid_area": null,
            "grid_auto_columns": null,
            "grid_auto_flow": null,
            "grid_auto_rows": null,
            "grid_column": null,
            "grid_gap": null,
            "grid_row": null,
            "grid_template_areas": null,
            "grid_template_columns": null,
            "grid_template_rows": null,
            "height": null,
            "justify_content": null,
            "justify_items": null,
            "left": null,
            "margin": null,
            "max_height": null,
            "max_width": null,
            "min_height": null,
            "min_width": null,
            "object_fit": null,
            "object_position": null,
            "order": null,
            "overflow": null,
            "overflow_x": null,
            "overflow_y": null,
            "padding": null,
            "right": null,
            "top": null,
            "visibility": null,
            "width": null
          }
        },
        "6dce2aff0faa4af880892ae1513eb269": {
          "model_module": "@jupyter-widgets/controls",
          "model_name": "DescriptionStyleModel",
          "model_module_version": "1.5.0",
          "state": {
            "_model_module": "@jupyter-widgets/controls",
            "_model_module_version": "1.5.0",
            "_model_name": "DescriptionStyleModel",
            "_view_count": null,
            "_view_module": "@jupyter-widgets/base",
            "_view_module_version": "1.2.0",
            "_view_name": "StyleView",
            "description_width": ""
          }
        },
        "4948af6638764a779a4580a93cadaff2": {
          "model_module": "@jupyter-widgets/base",
          "model_name": "LayoutModel",
          "model_module_version": "1.2.0",
          "state": {
            "_model_module": "@jupyter-widgets/base",
            "_model_module_version": "1.2.0",
            "_model_name": "LayoutModel",
            "_view_count": null,
            "_view_module": "@jupyter-widgets/base",
            "_view_module_version": "1.2.0",
            "_view_name": "LayoutView",
            "align_content": null,
            "align_items": null,
            "align_self": null,
            "border": null,
            "bottom": null,
            "display": null,
            "flex": null,
            "flex_flow": null,
            "grid_area": null,
            "grid_auto_columns": null,
            "grid_auto_flow": null,
            "grid_auto_rows": null,
            "grid_column": null,
            "grid_gap": null,
            "grid_row": null,
            "grid_template_areas": null,
            "grid_template_columns": null,
            "grid_template_rows": null,
            "height": null,
            "justify_content": null,
            "justify_items": null,
            "left": null,
            "margin": null,
            "max_height": null,
            "max_width": null,
            "min_height": null,
            "min_width": null,
            "object_fit": null,
            "object_position": null,
            "order": null,
            "overflow": null,
            "overflow_x": null,
            "overflow_y": null,
            "padding": null,
            "right": null,
            "top": null,
            "visibility": null,
            "width": null
          }
        },
        "832bf98e2b5a4cb5a9cca9b3b0b8fe9d": {
          "model_module": "@jupyter-widgets/controls",
          "model_name": "ProgressStyleModel",
          "model_module_version": "1.5.0",
          "state": {
            "_model_module": "@jupyter-widgets/controls",
            "_model_module_version": "1.5.0",
            "_model_name": "ProgressStyleModel",
            "_view_count": null,
            "_view_module": "@jupyter-widgets/base",
            "_view_module_version": "1.2.0",
            "_view_name": "StyleView",
            "bar_color": null,
            "description_width": ""
          }
        },
        "90dce977f3ce4d0ea66c6397f24b95e7": {
          "model_module": "@jupyter-widgets/base",
          "model_name": "LayoutModel",
          "model_module_version": "1.2.0",
          "state": {
            "_model_module": "@jupyter-widgets/base",
            "_model_module_version": "1.2.0",
            "_model_name": "LayoutModel",
            "_view_count": null,
            "_view_module": "@jupyter-widgets/base",
            "_view_module_version": "1.2.0",
            "_view_name": "LayoutView",
            "align_content": null,
            "align_items": null,
            "align_self": null,
            "border": null,
            "bottom": null,
            "display": null,
            "flex": null,
            "flex_flow": null,
            "grid_area": null,
            "grid_auto_columns": null,
            "grid_auto_flow": null,
            "grid_auto_rows": null,
            "grid_column": null,
            "grid_gap": null,
            "grid_row": null,
            "grid_template_areas": null,
            "grid_template_columns": null,
            "grid_template_rows": null,
            "height": null,
            "justify_content": null,
            "justify_items": null,
            "left": null,
            "margin": null,
            "max_height": null,
            "max_width": null,
            "min_height": null,
            "min_width": null,
            "object_fit": null,
            "object_position": null,
            "order": null,
            "overflow": null,
            "overflow_x": null,
            "overflow_y": null,
            "padding": null,
            "right": null,
            "top": null,
            "visibility": null,
            "width": null
          }
        },
        "f1600b38a08f4213afcd163eadb0eb5f": {
          "model_module": "@jupyter-widgets/controls",
          "model_name": "DescriptionStyleModel",
          "model_module_version": "1.5.0",
          "state": {
            "_model_module": "@jupyter-widgets/controls",
            "_model_module_version": "1.5.0",
            "_model_name": "DescriptionStyleModel",
            "_view_count": null,
            "_view_module": "@jupyter-widgets/base",
            "_view_module_version": "1.2.0",
            "_view_name": "StyleView",
            "description_width": ""
          }
        },
        "4acd5b42274945a2b085faaf4826ed9d": {
          "model_module": "@jupyter-widgets/controls",
          "model_name": "HBoxModel",
          "model_module_version": "1.5.0",
          "state": {
            "_dom_classes": [],
            "_model_module": "@jupyter-widgets/controls",
            "_model_module_version": "1.5.0",
            "_model_name": "HBoxModel",
            "_view_count": null,
            "_view_module": "@jupyter-widgets/controls",
            "_view_module_version": "1.5.0",
            "_view_name": "HBoxView",
            "box_style": "",
            "children": [
              "IPY_MODEL_0099f881db4b4c3199f1b87a9a862a57",
              "IPY_MODEL_f728231ea6db4734ac4cb8d610f7074b",
              "IPY_MODEL_9ddb214ebd624591a72bdd97c01062f9"
            ],
            "layout": "IPY_MODEL_1f7e9e3cceaa4fbc94944c764e69c5f1"
          }
        },
        "0099f881db4b4c3199f1b87a9a862a57": {
          "model_module": "@jupyter-widgets/controls",
          "model_name": "HTMLModel",
          "model_module_version": "1.5.0",
          "state": {
            "_dom_classes": [],
            "_model_module": "@jupyter-widgets/controls",
            "_model_module_version": "1.5.0",
            "_model_name": "HTMLModel",
            "_view_count": null,
            "_view_module": "@jupyter-widgets/controls",
            "_view_module_version": "1.5.0",
            "_view_name": "HTMLView",
            "description": "",
            "description_tooltip": null,
            "layout": "IPY_MODEL_210aec882682405bb4a90974378fdb89",
            "placeholder": "​",
            "style": "IPY_MODEL_919a796b04d842ee905f8622dbf2921f",
            "value": "tokenizer.json: 100%"
          }
        },
        "f728231ea6db4734ac4cb8d610f7074b": {
          "model_module": "@jupyter-widgets/controls",
          "model_name": "FloatProgressModel",
          "model_module_version": "1.5.0",
          "state": {
            "_dom_classes": [],
            "_model_module": "@jupyter-widgets/controls",
            "_model_module_version": "1.5.0",
            "_model_name": "FloatProgressModel",
            "_view_count": null,
            "_view_module": "@jupyter-widgets/controls",
            "_view_module_version": "1.5.0",
            "_view_name": "ProgressView",
            "bar_style": "success",
            "description": "",
            "description_tooltip": null,
            "layout": "IPY_MODEL_3144ae7a352f452ba8abd3126ea868d3",
            "max": 466247,
            "min": 0,
            "orientation": "horizontal",
            "style": "IPY_MODEL_cc29212a7fa04f85a09122f3ed976753",
            "value": 466247
          }
        },
        "9ddb214ebd624591a72bdd97c01062f9": {
          "model_module": "@jupyter-widgets/controls",
          "model_name": "HTMLModel",
          "model_module_version": "1.5.0",
          "state": {
            "_dom_classes": [],
            "_model_module": "@jupyter-widgets/controls",
            "_model_module_version": "1.5.0",
            "_model_name": "HTMLModel",
            "_view_count": null,
            "_view_module": "@jupyter-widgets/controls",
            "_view_module_version": "1.5.0",
            "_view_name": "HTMLView",
            "description": "",
            "description_tooltip": null,
            "layout": "IPY_MODEL_682fd55145294dbb8dc517d2233b1049",
            "placeholder": "​",
            "style": "IPY_MODEL_5ad210422c4649428e2d56344b6e8074",
            "value": " 466k/466k [00:00&lt;00:00, 22.0MB/s]"
          }
        },
        "1f7e9e3cceaa4fbc94944c764e69c5f1": {
          "model_module": "@jupyter-widgets/base",
          "model_name": "LayoutModel",
          "model_module_version": "1.2.0",
          "state": {
            "_model_module": "@jupyter-widgets/base",
            "_model_module_version": "1.2.0",
            "_model_name": "LayoutModel",
            "_view_count": null,
            "_view_module": "@jupyter-widgets/base",
            "_view_module_version": "1.2.0",
            "_view_name": "LayoutView",
            "align_content": null,
            "align_items": null,
            "align_self": null,
            "border": null,
            "bottom": null,
            "display": null,
            "flex": null,
            "flex_flow": null,
            "grid_area": null,
            "grid_auto_columns": null,
            "grid_auto_flow": null,
            "grid_auto_rows": null,
            "grid_column": null,
            "grid_gap": null,
            "grid_row": null,
            "grid_template_areas": null,
            "grid_template_columns": null,
            "grid_template_rows": null,
            "height": null,
            "justify_content": null,
            "justify_items": null,
            "left": null,
            "margin": null,
            "max_height": null,
            "max_width": null,
            "min_height": null,
            "min_width": null,
            "object_fit": null,
            "object_position": null,
            "order": null,
            "overflow": null,
            "overflow_x": null,
            "overflow_y": null,
            "padding": null,
            "right": null,
            "top": null,
            "visibility": null,
            "width": null
          }
        },
        "210aec882682405bb4a90974378fdb89": {
          "model_module": "@jupyter-widgets/base",
          "model_name": "LayoutModel",
          "model_module_version": "1.2.0",
          "state": {
            "_model_module": "@jupyter-widgets/base",
            "_model_module_version": "1.2.0",
            "_model_name": "LayoutModel",
            "_view_count": null,
            "_view_module": "@jupyter-widgets/base",
            "_view_module_version": "1.2.0",
            "_view_name": "LayoutView",
            "align_content": null,
            "align_items": null,
            "align_self": null,
            "border": null,
            "bottom": null,
            "display": null,
            "flex": null,
            "flex_flow": null,
            "grid_area": null,
            "grid_auto_columns": null,
            "grid_auto_flow": null,
            "grid_auto_rows": null,
            "grid_column": null,
            "grid_gap": null,
            "grid_row": null,
            "grid_template_areas": null,
            "grid_template_columns": null,
            "grid_template_rows": null,
            "height": null,
            "justify_content": null,
            "justify_items": null,
            "left": null,
            "margin": null,
            "max_height": null,
            "max_width": null,
            "min_height": null,
            "min_width": null,
            "object_fit": null,
            "object_position": null,
            "order": null,
            "overflow": null,
            "overflow_x": null,
            "overflow_y": null,
            "padding": null,
            "right": null,
            "top": null,
            "visibility": null,
            "width": null
          }
        },
        "919a796b04d842ee905f8622dbf2921f": {
          "model_module": "@jupyter-widgets/controls",
          "model_name": "DescriptionStyleModel",
          "model_module_version": "1.5.0",
          "state": {
            "_model_module": "@jupyter-widgets/controls",
            "_model_module_version": "1.5.0",
            "_model_name": "DescriptionStyleModel",
            "_view_count": null,
            "_view_module": "@jupyter-widgets/base",
            "_view_module_version": "1.2.0",
            "_view_name": "StyleView",
            "description_width": ""
          }
        },
        "3144ae7a352f452ba8abd3126ea868d3": {
          "model_module": "@jupyter-widgets/base",
          "model_name": "LayoutModel",
          "model_module_version": "1.2.0",
          "state": {
            "_model_module": "@jupyter-widgets/base",
            "_model_module_version": "1.2.0",
            "_model_name": "LayoutModel",
            "_view_count": null,
            "_view_module": "@jupyter-widgets/base",
            "_view_module_version": "1.2.0",
            "_view_name": "LayoutView",
            "align_content": null,
            "align_items": null,
            "align_self": null,
            "border": null,
            "bottom": null,
            "display": null,
            "flex": null,
            "flex_flow": null,
            "grid_area": null,
            "grid_auto_columns": null,
            "grid_auto_flow": null,
            "grid_auto_rows": null,
            "grid_column": null,
            "grid_gap": null,
            "grid_row": null,
            "grid_template_areas": null,
            "grid_template_columns": null,
            "grid_template_rows": null,
            "height": null,
            "justify_content": null,
            "justify_items": null,
            "left": null,
            "margin": null,
            "max_height": null,
            "max_width": null,
            "min_height": null,
            "min_width": null,
            "object_fit": null,
            "object_position": null,
            "order": null,
            "overflow": null,
            "overflow_x": null,
            "overflow_y": null,
            "padding": null,
            "right": null,
            "top": null,
            "visibility": null,
            "width": null
          }
        },
        "cc29212a7fa04f85a09122f3ed976753": {
          "model_module": "@jupyter-widgets/controls",
          "model_name": "ProgressStyleModel",
          "model_module_version": "1.5.0",
          "state": {
            "_model_module": "@jupyter-widgets/controls",
            "_model_module_version": "1.5.0",
            "_model_name": "ProgressStyleModel",
            "_view_count": null,
            "_view_module": "@jupyter-widgets/base",
            "_view_module_version": "1.2.0",
            "_view_name": "StyleView",
            "bar_color": null,
            "description_width": ""
          }
        },
        "682fd55145294dbb8dc517d2233b1049": {
          "model_module": "@jupyter-widgets/base",
          "model_name": "LayoutModel",
          "model_module_version": "1.2.0",
          "state": {
            "_model_module": "@jupyter-widgets/base",
            "_model_module_version": "1.2.0",
            "_model_name": "LayoutModel",
            "_view_count": null,
            "_view_module": "@jupyter-widgets/base",
            "_view_module_version": "1.2.0",
            "_view_name": "LayoutView",
            "align_content": null,
            "align_items": null,
            "align_self": null,
            "border": null,
            "bottom": null,
            "display": null,
            "flex": null,
            "flex_flow": null,
            "grid_area": null,
            "grid_auto_columns": null,
            "grid_auto_flow": null,
            "grid_auto_rows": null,
            "grid_column": null,
            "grid_gap": null,
            "grid_row": null,
            "grid_template_areas": null,
            "grid_template_columns": null,
            "grid_template_rows": null,
            "height": null,
            "justify_content": null,
            "justify_items": null,
            "left": null,
            "margin": null,
            "max_height": null,
            "max_width": null,
            "min_height": null,
            "min_width": null,
            "object_fit": null,
            "object_position": null,
            "order": null,
            "overflow": null,
            "overflow_x": null,
            "overflow_y": null,
            "padding": null,
            "right": null,
            "top": null,
            "visibility": null,
            "width": null
          }
        },
        "5ad210422c4649428e2d56344b6e8074": {
          "model_module": "@jupyter-widgets/controls",
          "model_name": "DescriptionStyleModel",
          "model_module_version": "1.5.0",
          "state": {
            "_model_module": "@jupyter-widgets/controls",
            "_model_module_version": "1.5.0",
            "_model_name": "DescriptionStyleModel",
            "_view_count": null,
            "_view_module": "@jupyter-widgets/base",
            "_view_module_version": "1.2.0",
            "_view_name": "StyleView",
            "description_width": ""
          }
        },
        "e6d332745bd74575964bdd5e09e7e8b1": {
          "model_module": "@jupyter-widgets/controls",
          "model_name": "HBoxModel",
          "model_module_version": "1.5.0",
          "state": {
            "_dom_classes": [],
            "_model_module": "@jupyter-widgets/controls",
            "_model_module_version": "1.5.0",
            "_model_name": "HBoxModel",
            "_view_count": null,
            "_view_module": "@jupyter-widgets/controls",
            "_view_module_version": "1.5.0",
            "_view_name": "HBoxView",
            "box_style": "",
            "children": [
              "IPY_MODEL_672090862da1462bb2794b922447d41c",
              "IPY_MODEL_3a78297f5d4042369c5e6761d0faaad0",
              "IPY_MODEL_6122e0a65da3411ab609eccb26f7a767"
            ],
            "layout": "IPY_MODEL_a12d4ce2ad444b95b066261d3a3742a0"
          }
        },
        "672090862da1462bb2794b922447d41c": {
          "model_module": "@jupyter-widgets/controls",
          "model_name": "HTMLModel",
          "model_module_version": "1.5.0",
          "state": {
            "_dom_classes": [],
            "_model_module": "@jupyter-widgets/controls",
            "_model_module_version": "1.5.0",
            "_model_name": "HTMLModel",
            "_view_count": null,
            "_view_module": "@jupyter-widgets/controls",
            "_view_module_version": "1.5.0",
            "_view_name": "HTMLView",
            "description": "",
            "description_tooltip": null,
            "layout": "IPY_MODEL_b33378d9932a45c7a84e29330a534ed5",
            "placeholder": "​",
            "style": "IPY_MODEL_ba66babf4aed4c218ed3244215e1d45b",
            "value": "special_tokens_map.json: 100%"
          }
        },
        "3a78297f5d4042369c5e6761d0faaad0": {
          "model_module": "@jupyter-widgets/controls",
          "model_name": "FloatProgressModel",
          "model_module_version": "1.5.0",
          "state": {
            "_dom_classes": [],
            "_model_module": "@jupyter-widgets/controls",
            "_model_module_version": "1.5.0",
            "_model_name": "FloatProgressModel",
            "_view_count": null,
            "_view_module": "@jupyter-widgets/controls",
            "_view_module_version": "1.5.0",
            "_view_name": "ProgressView",
            "bar_style": "success",
            "description": "",
            "description_tooltip": null,
            "layout": "IPY_MODEL_320dc023177943da85720b5b946a45c5",
            "max": 112,
            "min": 0,
            "orientation": "horizontal",
            "style": "IPY_MODEL_5844e2ee40bd404891a28e565267a0bb",
            "value": 112
          }
        },
        "6122e0a65da3411ab609eccb26f7a767": {
          "model_module": "@jupyter-widgets/controls",
          "model_name": "HTMLModel",
          "model_module_version": "1.5.0",
          "state": {
            "_dom_classes": [],
            "_model_module": "@jupyter-widgets/controls",
            "_model_module_version": "1.5.0",
            "_model_name": "HTMLModel",
            "_view_count": null,
            "_view_module": "@jupyter-widgets/controls",
            "_view_module_version": "1.5.0",
            "_view_name": "HTMLView",
            "description": "",
            "description_tooltip": null,
            "layout": "IPY_MODEL_61bdb36af9aa41df90c471b02602a624",
            "placeholder": "​",
            "style": "IPY_MODEL_17a02b46d78f4726b29d4e9b880086de",
            "value": " 112/112 [00:00&lt;00:00, 3.56kB/s]"
          }
        },
        "a12d4ce2ad444b95b066261d3a3742a0": {
          "model_module": "@jupyter-widgets/base",
          "model_name": "LayoutModel",
          "model_module_version": "1.2.0",
          "state": {
            "_model_module": "@jupyter-widgets/base",
            "_model_module_version": "1.2.0",
            "_model_name": "LayoutModel",
            "_view_count": null,
            "_view_module": "@jupyter-widgets/base",
            "_view_module_version": "1.2.0",
            "_view_name": "LayoutView",
            "align_content": null,
            "align_items": null,
            "align_self": null,
            "border": null,
            "bottom": null,
            "display": null,
            "flex": null,
            "flex_flow": null,
            "grid_area": null,
            "grid_auto_columns": null,
            "grid_auto_flow": null,
            "grid_auto_rows": null,
            "grid_column": null,
            "grid_gap": null,
            "grid_row": null,
            "grid_template_areas": null,
            "grid_template_columns": null,
            "grid_template_rows": null,
            "height": null,
            "justify_content": null,
            "justify_items": null,
            "left": null,
            "margin": null,
            "max_height": null,
            "max_width": null,
            "min_height": null,
            "min_width": null,
            "object_fit": null,
            "object_position": null,
            "order": null,
            "overflow": null,
            "overflow_x": null,
            "overflow_y": null,
            "padding": null,
            "right": null,
            "top": null,
            "visibility": null,
            "width": null
          }
        },
        "b33378d9932a45c7a84e29330a534ed5": {
          "model_module": "@jupyter-widgets/base",
          "model_name": "LayoutModel",
          "model_module_version": "1.2.0",
          "state": {
            "_model_module": "@jupyter-widgets/base",
            "_model_module_version": "1.2.0",
            "_model_name": "LayoutModel",
            "_view_count": null,
            "_view_module": "@jupyter-widgets/base",
            "_view_module_version": "1.2.0",
            "_view_name": "LayoutView",
            "align_content": null,
            "align_items": null,
            "align_self": null,
            "border": null,
            "bottom": null,
            "display": null,
            "flex": null,
            "flex_flow": null,
            "grid_area": null,
            "grid_auto_columns": null,
            "grid_auto_flow": null,
            "grid_auto_rows": null,
            "grid_column": null,
            "grid_gap": null,
            "grid_row": null,
            "grid_template_areas": null,
            "grid_template_columns": null,
            "grid_template_rows": null,
            "height": null,
            "justify_content": null,
            "justify_items": null,
            "left": null,
            "margin": null,
            "max_height": null,
            "max_width": null,
            "min_height": null,
            "min_width": null,
            "object_fit": null,
            "object_position": null,
            "order": null,
            "overflow": null,
            "overflow_x": null,
            "overflow_y": null,
            "padding": null,
            "right": null,
            "top": null,
            "visibility": null,
            "width": null
          }
        },
        "ba66babf4aed4c218ed3244215e1d45b": {
          "model_module": "@jupyter-widgets/controls",
          "model_name": "DescriptionStyleModel",
          "model_module_version": "1.5.0",
          "state": {
            "_model_module": "@jupyter-widgets/controls",
            "_model_module_version": "1.5.0",
            "_model_name": "DescriptionStyleModel",
            "_view_count": null,
            "_view_module": "@jupyter-widgets/base",
            "_view_module_version": "1.2.0",
            "_view_name": "StyleView",
            "description_width": ""
          }
        },
        "320dc023177943da85720b5b946a45c5": {
          "model_module": "@jupyter-widgets/base",
          "model_name": "LayoutModel",
          "model_module_version": "1.2.0",
          "state": {
            "_model_module": "@jupyter-widgets/base",
            "_model_module_version": "1.2.0",
            "_model_name": "LayoutModel",
            "_view_count": null,
            "_view_module": "@jupyter-widgets/base",
            "_view_module_version": "1.2.0",
            "_view_name": "LayoutView",
            "align_content": null,
            "align_items": null,
            "align_self": null,
            "border": null,
            "bottom": null,
            "display": null,
            "flex": null,
            "flex_flow": null,
            "grid_area": null,
            "grid_auto_columns": null,
            "grid_auto_flow": null,
            "grid_auto_rows": null,
            "grid_column": null,
            "grid_gap": null,
            "grid_row": null,
            "grid_template_areas": null,
            "grid_template_columns": null,
            "grid_template_rows": null,
            "height": null,
            "justify_content": null,
            "justify_items": null,
            "left": null,
            "margin": null,
            "max_height": null,
            "max_width": null,
            "min_height": null,
            "min_width": null,
            "object_fit": null,
            "object_position": null,
            "order": null,
            "overflow": null,
            "overflow_x": null,
            "overflow_y": null,
            "padding": null,
            "right": null,
            "top": null,
            "visibility": null,
            "width": null
          }
        },
        "5844e2ee40bd404891a28e565267a0bb": {
          "model_module": "@jupyter-widgets/controls",
          "model_name": "ProgressStyleModel",
          "model_module_version": "1.5.0",
          "state": {
            "_model_module": "@jupyter-widgets/controls",
            "_model_module_version": "1.5.0",
            "_model_name": "ProgressStyleModel",
            "_view_count": null,
            "_view_module": "@jupyter-widgets/base",
            "_view_module_version": "1.2.0",
            "_view_name": "StyleView",
            "bar_color": null,
            "description_width": ""
          }
        },
        "61bdb36af9aa41df90c471b02602a624": {
          "model_module": "@jupyter-widgets/base",
          "model_name": "LayoutModel",
          "model_module_version": "1.2.0",
          "state": {
            "_model_module": "@jupyter-widgets/base",
            "_model_module_version": "1.2.0",
            "_model_name": "LayoutModel",
            "_view_count": null,
            "_view_module": "@jupyter-widgets/base",
            "_view_module_version": "1.2.0",
            "_view_name": "LayoutView",
            "align_content": null,
            "align_items": null,
            "align_self": null,
            "border": null,
            "bottom": null,
            "display": null,
            "flex": null,
            "flex_flow": null,
            "grid_area": null,
            "grid_auto_columns": null,
            "grid_auto_flow": null,
            "grid_auto_rows": null,
            "grid_column": null,
            "grid_gap": null,
            "grid_row": null,
            "grid_template_areas": null,
            "grid_template_columns": null,
            "grid_template_rows": null,
            "height": null,
            "justify_content": null,
            "justify_items": null,
            "left": null,
            "margin": null,
            "max_height": null,
            "max_width": null,
            "min_height": null,
            "min_width": null,
            "object_fit": null,
            "object_position": null,
            "order": null,
            "overflow": null,
            "overflow_x": null,
            "overflow_y": null,
            "padding": null,
            "right": null,
            "top": null,
            "visibility": null,
            "width": null
          }
        },
        "17a02b46d78f4726b29d4e9b880086de": {
          "model_module": "@jupyter-widgets/controls",
          "model_name": "DescriptionStyleModel",
          "model_module_version": "1.5.0",
          "state": {
            "_model_module": "@jupyter-widgets/controls",
            "_model_module_version": "1.5.0",
            "_model_name": "DescriptionStyleModel",
            "_view_count": null,
            "_view_module": "@jupyter-widgets/base",
            "_view_module_version": "1.2.0",
            "_view_name": "StyleView",
            "description_width": ""
          }
        },
        "2e5c8416e10b41459bf7d4e2a59ea49a": {
          "model_module": "@jupyter-widgets/controls",
          "model_name": "HBoxModel",
          "model_module_version": "1.5.0",
          "state": {
            "_dom_classes": [],
            "_model_module": "@jupyter-widgets/controls",
            "_model_module_version": "1.5.0",
            "_model_name": "HBoxModel",
            "_view_count": null,
            "_view_module": "@jupyter-widgets/controls",
            "_view_module_version": "1.5.0",
            "_view_name": "HBoxView",
            "box_style": "",
            "children": [
              "IPY_MODEL_9cb0b336f5684848addcb98761869808",
              "IPY_MODEL_ad10278820aa44d0a999a84c1d97d9f3",
              "IPY_MODEL_a9a0c9bc799a4d73af4aaa2244764f5b"
            ],
            "layout": "IPY_MODEL_f94fbaa60f524168be5efd0331f730ed"
          }
        },
        "9cb0b336f5684848addcb98761869808": {
          "model_module": "@jupyter-widgets/controls",
          "model_name": "HTMLModel",
          "model_module_version": "1.5.0",
          "state": {
            "_dom_classes": [],
            "_model_module": "@jupyter-widgets/controls",
            "_model_module_version": "1.5.0",
            "_model_name": "HTMLModel",
            "_view_count": null,
            "_view_module": "@jupyter-widgets/controls",
            "_view_module_version": "1.5.0",
            "_view_name": "HTMLView",
            "description": "",
            "description_tooltip": null,
            "layout": "IPY_MODEL_6f13a97fcb8d4e7fabd2d41c7f918d4a",
            "placeholder": "​",
            "style": "IPY_MODEL_96b16461ce854388905278d413217c18",
            "value": "1_Pooling/config.json: 100%"
          }
        },
        "ad10278820aa44d0a999a84c1d97d9f3": {
          "model_module": "@jupyter-widgets/controls",
          "model_name": "FloatProgressModel",
          "model_module_version": "1.5.0",
          "state": {
            "_dom_classes": [],
            "_model_module": "@jupyter-widgets/controls",
            "_model_module_version": "1.5.0",
            "_model_name": "FloatProgressModel",
            "_view_count": null,
            "_view_module": "@jupyter-widgets/controls",
            "_view_module_version": "1.5.0",
            "_view_name": "ProgressView",
            "bar_style": "success",
            "description": "",
            "description_tooltip": null,
            "layout": "IPY_MODEL_4438462679844b3a93d609e5c4e68ef1",
            "max": 190,
            "min": 0,
            "orientation": "horizontal",
            "style": "IPY_MODEL_d9f853aa71be42c5a3e252b57897e7b6",
            "value": 190
          }
        },
        "a9a0c9bc799a4d73af4aaa2244764f5b": {
          "model_module": "@jupyter-widgets/controls",
          "model_name": "HTMLModel",
          "model_module_version": "1.5.0",
          "state": {
            "_dom_classes": [],
            "_model_module": "@jupyter-widgets/controls",
            "_model_module_version": "1.5.0",
            "_model_name": "HTMLModel",
            "_view_count": null,
            "_view_module": "@jupyter-widgets/controls",
            "_view_module_version": "1.5.0",
            "_view_name": "HTMLView",
            "description": "",
            "description_tooltip": null,
            "layout": "IPY_MODEL_4fe4f30e7e6c49389dbc2e9ebf3c8ebb",
            "placeholder": "​",
            "style": "IPY_MODEL_605d71b86e60427db944bd168c790f61",
            "value": " 190/190 [00:00&lt;00:00, 5.56kB/s]"
          }
        },
        "f94fbaa60f524168be5efd0331f730ed": {
          "model_module": "@jupyter-widgets/base",
          "model_name": "LayoutModel",
          "model_module_version": "1.2.0",
          "state": {
            "_model_module": "@jupyter-widgets/base",
            "_model_module_version": "1.2.0",
            "_model_name": "LayoutModel",
            "_view_count": null,
            "_view_module": "@jupyter-widgets/base",
            "_view_module_version": "1.2.0",
            "_view_name": "LayoutView",
            "align_content": null,
            "align_items": null,
            "align_self": null,
            "border": null,
            "bottom": null,
            "display": null,
            "flex": null,
            "flex_flow": null,
            "grid_area": null,
            "grid_auto_columns": null,
            "grid_auto_flow": null,
            "grid_auto_rows": null,
            "grid_column": null,
            "grid_gap": null,
            "grid_row": null,
            "grid_template_areas": null,
            "grid_template_columns": null,
            "grid_template_rows": null,
            "height": null,
            "justify_content": null,
            "justify_items": null,
            "left": null,
            "margin": null,
            "max_height": null,
            "max_width": null,
            "min_height": null,
            "min_width": null,
            "object_fit": null,
            "object_position": null,
            "order": null,
            "overflow": null,
            "overflow_x": null,
            "overflow_y": null,
            "padding": null,
            "right": null,
            "top": null,
            "visibility": null,
            "width": null
          }
        },
        "6f13a97fcb8d4e7fabd2d41c7f918d4a": {
          "model_module": "@jupyter-widgets/base",
          "model_name": "LayoutModel",
          "model_module_version": "1.2.0",
          "state": {
            "_model_module": "@jupyter-widgets/base",
            "_model_module_version": "1.2.0",
            "_model_name": "LayoutModel",
            "_view_count": null,
            "_view_module": "@jupyter-widgets/base",
            "_view_module_version": "1.2.0",
            "_view_name": "LayoutView",
            "align_content": null,
            "align_items": null,
            "align_self": null,
            "border": null,
            "bottom": null,
            "display": null,
            "flex": null,
            "flex_flow": null,
            "grid_area": null,
            "grid_auto_columns": null,
            "grid_auto_flow": null,
            "grid_auto_rows": null,
            "grid_column": null,
            "grid_gap": null,
            "grid_row": null,
            "grid_template_areas": null,
            "grid_template_columns": null,
            "grid_template_rows": null,
            "height": null,
            "justify_content": null,
            "justify_items": null,
            "left": null,
            "margin": null,
            "max_height": null,
            "max_width": null,
            "min_height": null,
            "min_width": null,
            "object_fit": null,
            "object_position": null,
            "order": null,
            "overflow": null,
            "overflow_x": null,
            "overflow_y": null,
            "padding": null,
            "right": null,
            "top": null,
            "visibility": null,
            "width": null
          }
        },
        "96b16461ce854388905278d413217c18": {
          "model_module": "@jupyter-widgets/controls",
          "model_name": "DescriptionStyleModel",
          "model_module_version": "1.5.0",
          "state": {
            "_model_module": "@jupyter-widgets/controls",
            "_model_module_version": "1.5.0",
            "_model_name": "DescriptionStyleModel",
            "_view_count": null,
            "_view_module": "@jupyter-widgets/base",
            "_view_module_version": "1.2.0",
            "_view_name": "StyleView",
            "description_width": ""
          }
        },
        "4438462679844b3a93d609e5c4e68ef1": {
          "model_module": "@jupyter-widgets/base",
          "model_name": "LayoutModel",
          "model_module_version": "1.2.0",
          "state": {
            "_model_module": "@jupyter-widgets/base",
            "_model_module_version": "1.2.0",
            "_model_name": "LayoutModel",
            "_view_count": null,
            "_view_module": "@jupyter-widgets/base",
            "_view_module_version": "1.2.0",
            "_view_name": "LayoutView",
            "align_content": null,
            "align_items": null,
            "align_self": null,
            "border": null,
            "bottom": null,
            "display": null,
            "flex": null,
            "flex_flow": null,
            "grid_area": null,
            "grid_auto_columns": null,
            "grid_auto_flow": null,
            "grid_auto_rows": null,
            "grid_column": null,
            "grid_gap": null,
            "grid_row": null,
            "grid_template_areas": null,
            "grid_template_columns": null,
            "grid_template_rows": null,
            "height": null,
            "justify_content": null,
            "justify_items": null,
            "left": null,
            "margin": null,
            "max_height": null,
            "max_width": null,
            "min_height": null,
            "min_width": null,
            "object_fit": null,
            "object_position": null,
            "order": null,
            "overflow": null,
            "overflow_x": null,
            "overflow_y": null,
            "padding": null,
            "right": null,
            "top": null,
            "visibility": null,
            "width": null
          }
        },
        "d9f853aa71be42c5a3e252b57897e7b6": {
          "model_module": "@jupyter-widgets/controls",
          "model_name": "ProgressStyleModel",
          "model_module_version": "1.5.0",
          "state": {
            "_model_module": "@jupyter-widgets/controls",
            "_model_module_version": "1.5.0",
            "_model_name": "ProgressStyleModel",
            "_view_count": null,
            "_view_module": "@jupyter-widgets/base",
            "_view_module_version": "1.2.0",
            "_view_name": "StyleView",
            "bar_color": null,
            "description_width": ""
          }
        },
        "4fe4f30e7e6c49389dbc2e9ebf3c8ebb": {
          "model_module": "@jupyter-widgets/base",
          "model_name": "LayoutModel",
          "model_module_version": "1.2.0",
          "state": {
            "_model_module": "@jupyter-widgets/base",
            "_model_module_version": "1.2.0",
            "_model_name": "LayoutModel",
            "_view_count": null,
            "_view_module": "@jupyter-widgets/base",
            "_view_module_version": "1.2.0",
            "_view_name": "LayoutView",
            "align_content": null,
            "align_items": null,
            "align_self": null,
            "border": null,
            "bottom": null,
            "display": null,
            "flex": null,
            "flex_flow": null,
            "grid_area": null,
            "grid_auto_columns": null,
            "grid_auto_flow": null,
            "grid_auto_rows": null,
            "grid_column": null,
            "grid_gap": null,
            "grid_row": null,
            "grid_template_areas": null,
            "grid_template_columns": null,
            "grid_template_rows": null,
            "height": null,
            "justify_content": null,
            "justify_items": null,
            "left": null,
            "margin": null,
            "max_height": null,
            "max_width": null,
            "min_height": null,
            "min_width": null,
            "object_fit": null,
            "object_position": null,
            "order": null,
            "overflow": null,
            "overflow_x": null,
            "overflow_y": null,
            "padding": null,
            "right": null,
            "top": null,
            "visibility": null,
            "width": null
          }
        },
        "605d71b86e60427db944bd168c790f61": {
          "model_module": "@jupyter-widgets/controls",
          "model_name": "DescriptionStyleModel",
          "model_module_version": "1.5.0",
          "state": {
            "_model_module": "@jupyter-widgets/controls",
            "_model_module_version": "1.5.0",
            "_model_name": "DescriptionStyleModel",
            "_view_count": null,
            "_view_module": "@jupyter-widgets/base",
            "_view_module_version": "1.2.0",
            "_view_name": "StyleView",
            "description_width": ""
          }
        }
      }
    }
  },
  "cells": [
    {
      "cell_type": "code",
      "source": [
        "!pip install -U langchain-community -q\n",
        "!pip install langchain_huggingface -q\n",
        "!pip install -q pypdf\n",
        "!pip install langchain-chroma -q\n",
        "!pip install langchain_groq -q\n",
        "!pip install sentence-transformers -q\n",
        "!pip install gradio -q"
      ],
      "metadata": {
        "colab": {
          "base_uri": "https://localhost:8080/"
        },
        "id": "8NnjEIRHfiKj",
        "outputId": "fd1d913f-8062-4135-fc31-2048b8232632"
      },
      "execution_count": null,
      "outputs": [
        {
          "output_type": "stream",
          "name": "stdout",
          "text": [
            "\u001b[2K   \u001b[90m━━━━━━━━━━━━━━━━━━━━━━━━━━━━━━━━━━━━━━━━\u001b[0m \u001b[32m2.5/2.5 MB\u001b[0m \u001b[31m35.4 MB/s\u001b[0m eta \u001b[36m0:00:00\u001b[0m\n",
            "\u001b[2K   \u001b[90m━━━━━━━━━━━━━━━━━━━━━━━━━━━━━━━━━━━━━━━━\u001b[0m \u001b[32m1.0/1.0 MB\u001b[0m \u001b[31m43.8 MB/s\u001b[0m eta \u001b[36m0:00:00\u001b[0m\n",
            "\u001b[2K   \u001b[90m━━━━━━━━━━━━━━━━━━━━━━━━━━━━━━━━━━━━━━━━\u001b[0m \u001b[32m411.6/411.6 kB\u001b[0m \u001b[31m27.8 MB/s\u001b[0m eta \u001b[36m0:00:00\u001b[0m\n",
            "\u001b[2K   \u001b[90m━━━━━━━━━━━━━━━━━━━━━━━━━━━━━━━━━━━━━━━━\u001b[0m \u001b[32m49.3/49.3 kB\u001b[0m \u001b[31m3.8 MB/s\u001b[0m eta \u001b[36m0:00:00\u001b[0m\n",
            "\u001b[2K   \u001b[90m━━━━━━━━━━━━━━━━━━━━━━━━━━━━━━━━━━━━━━━━\u001b[0m \u001b[32m298.0/298.0 kB\u001b[0m \u001b[31m6.3 MB/s\u001b[0m eta \u001b[36m0:00:00\u001b[0m\n",
            "\u001b[2K     \u001b[90m━━━━━━━━━━━━━━━━━━━━━━━━━━━━━━━━━━━━━━━━\u001b[0m \u001b[32m67.3/67.3 kB\u001b[0m \u001b[31m4.9 MB/s\u001b[0m eta \u001b[36m0:00:00\u001b[0m\n",
            "\u001b[?25h  Installing build dependencies ... \u001b[?25l\u001b[?25hdone\n",
            "  Getting requirements to build wheel ... \u001b[?25l\u001b[?25hdone\n",
            "  Preparing metadata (pyproject.toml) ... \u001b[?25l\u001b[?25hdone\n",
            "\u001b[2K   \u001b[90m━━━━━━━━━━━━━━━━━━━━━━━━━━━━━━━━━━━━━━━━\u001b[0m \u001b[32m628.3/628.3 kB\u001b[0m \u001b[31m18.8 MB/s\u001b[0m eta \u001b[36m0:00:00\u001b[0m\n",
            "\u001b[2K   \u001b[90m━━━━━━━━━━━━━━━━━━━━━━━━━━━━━━━━━━━━━━━━\u001b[0m \u001b[32m2.4/2.4 MB\u001b[0m \u001b[31m64.8 MB/s\u001b[0m eta \u001b[36m0:00:00\u001b[0m\n",
            "\u001b[2K   \u001b[90m━━━━━━━━━━━━━━━━━━━━━━━━━━━━━━━━━━━━━━━━\u001b[0m \u001b[32m94.8/94.8 kB\u001b[0m \u001b[31m7.5 MB/s\u001b[0m eta \u001b[36m0:00:00\u001b[0m\n",
            "\u001b[2K   \u001b[90m━━━━━━━━━━━━━━━━━━━━━━━━━━━━━━━━━━━━━━━━\u001b[0m \u001b[32m278.6/278.6 kB\u001b[0m \u001b[31m17.4 MB/s\u001b[0m eta \u001b[36m0:00:00\u001b[0m\n",
            "\u001b[2K   \u001b[90m━━━━━━━━━━━━━━━━━━━━━━━━━━━━━━━━━━━━━━━━\u001b[0m \u001b[32m1.9/1.9 MB\u001b[0m \u001b[31m66.7 MB/s\u001b[0m eta \u001b[36m0:00:00\u001b[0m\n",
            "\u001b[2K   \u001b[90m━━━━━━━━━━━━━━━━━━━━━━━━━━━━━━━━━━━━━━━━\u001b[0m \u001b[32m93.2/93.2 kB\u001b[0m \u001b[31m6.8 MB/s\u001b[0m eta \u001b[36m0:00:00\u001b[0m\n",
            "\u001b[2K   \u001b[90m━━━━━━━━━━━━━━━━━━━━━━━━━━━━━━━━━━━━━━━━\u001b[0m \u001b[32m13.3/13.3 MB\u001b[0m \u001b[31m88.3 MB/s\u001b[0m eta \u001b[36m0:00:00\u001b[0m\n",
            "\u001b[2K   \u001b[90m━━━━━━━━━━━━━━━━━━━━━━━━━━━━━━━━━━━━━━━━\u001b[0m \u001b[32m55.8/55.8 kB\u001b[0m \u001b[31m3.8 MB/s\u001b[0m eta \u001b[36m0:00:00\u001b[0m\n",
            "\u001b[2K   \u001b[90m━━━━━━━━━━━━━━━━━━━━━━━━━━━━━━━━━━━━━━━━\u001b[0m \u001b[32m54.8/54.8 kB\u001b[0m \u001b[31m4.0 MB/s\u001b[0m eta \u001b[36m0:00:00\u001b[0m\n",
            "\u001b[2K   \u001b[90m━━━━━━━━━━━━━━━━━━━━━━━━━━━━━━━━━━━━━━━━\u001b[0m \u001b[32m73.2/73.2 kB\u001b[0m \u001b[31m5.7 MB/s\u001b[0m eta \u001b[36m0:00:00\u001b[0m\n",
            "\u001b[2K   \u001b[90m━━━━━━━━━━━━━━━━━━━━━━━━━━━━━━━━━━━━━━━━\u001b[0m \u001b[32m3.0/3.0 MB\u001b[0m \u001b[31m81.4 MB/s\u001b[0m eta \u001b[36m0:00:00\u001b[0m\n",
            "\u001b[2K   \u001b[90m━━━━━━━━━━━━━━━━━━━━━━━━━━━━━━━━━━━━━━━━\u001b[0m \u001b[32m62.3/62.3 kB\u001b[0m \u001b[31m4.6 MB/s\u001b[0m eta \u001b[36m0:00:00\u001b[0m\n",
            "\u001b[2K   \u001b[90m━━━━━━━━━━━━━━━━━━━━━━━━━━━━━━━━━━━━━━━━\u001b[0m \u001b[32m442.1/442.1 kB\u001b[0m \u001b[31m27.3 MB/s\u001b[0m eta \u001b[36m0:00:00\u001b[0m\n",
            "\u001b[2K   \u001b[90m━━━━━━━━━━━━━━━━━━━━━━━━━━━━━━━━━━━━━━━━\u001b[0m \u001b[32m319.7/319.7 kB\u001b[0m \u001b[31m19.3 MB/s\u001b[0m eta \u001b[36m0:00:00\u001b[0m\n",
            "\u001b[2K   \u001b[90m━━━━━━━━━━━━━━━━━━━━━━━━━━━━━━━━━━━━━━━━\u001b[0m \u001b[32m3.8/3.8 MB\u001b[0m \u001b[31m81.6 MB/s\u001b[0m eta \u001b[36m0:00:00\u001b[0m\n",
            "\u001b[2K   \u001b[90m━━━━━━━━━━━━━━━━━━━━━━━━━━━━━━━━━━━━━━━━\u001b[0m \u001b[32m443.8/443.8 kB\u001b[0m \u001b[31m29.8 MB/s\u001b[0m eta \u001b[36m0:00:00\u001b[0m\n",
            "\u001b[2K   \u001b[90m━━━━━━━━━━━━━━━━━━━━━━━━━━━━━━━━━━━━━━━━\u001b[0m \u001b[32m46.0/46.0 kB\u001b[0m \u001b[31m3.2 MB/s\u001b[0m eta \u001b[36m0:00:00\u001b[0m\n",
            "\u001b[2K   \u001b[90m━━━━━━━━━━━━━━━━━━━━━━━━━━━━━━━━━━━━━━━━\u001b[0m \u001b[32m86.8/86.8 kB\u001b[0m \u001b[31m6.8 MB/s\u001b[0m eta \u001b[36m0:00:00\u001b[0m\n",
            "\u001b[?25h  Building wheel for pypika (pyproject.toml) ... \u001b[?25l\u001b[?25hdone\n",
            "\u001b[31mERROR: pip's dependency resolver does not currently take into account all the packages that are installed. This behaviour is the source of the following dependency conflicts.\n",
            "tensorflow 2.17.1 requires protobuf!=4.21.0,!=4.21.1,!=4.21.2,!=4.21.3,!=4.21.4,!=4.21.5,<5.0.0dev,>=3.20.3, but you have protobuf 5.29.2 which is incompatible.\n",
            "tensorflow-metadata 1.13.1 requires protobuf<5,>=3.20.3, but you have protobuf 5.29.2 which is incompatible.\n",
            "transformers 4.47.1 requires tokenizers<0.22,>=0.21, but you have tokenizers 0.20.3 which is incompatible.\u001b[0m\u001b[31m\n",
            "\u001b[2K   \u001b[90m━━━━━━━━━━━━━━━━━━━━━━━━━━━━━━━━━━━━━━━━\u001b[0m \u001b[32m109.1/109.1 kB\u001b[0m \u001b[31m3.6 MB/s\u001b[0m eta \u001b[36m0:00:00\u001b[0m\n",
            "\u001b[2K   \u001b[90m━━━━━━━━━━━━━━━━━━━━━━━━━━━━━━━━━━━━━━━━\u001b[0m \u001b[32m3.0/3.0 MB\u001b[0m \u001b[31m29.3 MB/s\u001b[0m eta \u001b[36m0:00:00\u001b[0m\n",
            "\u001b[?25h\u001b[31mERROR: pip's dependency resolver does not currently take into account all the packages that are installed. This behaviour is the source of the following dependency conflicts.\n",
            "chromadb 0.5.23 requires tokenizers<=0.20.3,>=0.13.2, but you have tokenizers 0.21.0 which is incompatible.\u001b[0m\u001b[31m\n",
            "\u001b[2K   \u001b[90m━━━━━━━━━━━━━━━━━━━━━━━━━━━━━━━━━━━━━━━━\u001b[0m \u001b[32m57.2/57.2 MB\u001b[0m \u001b[31m16.1 MB/s\u001b[0m eta \u001b[36m0:00:00\u001b[0m\n",
            "\u001b[2K   \u001b[90m━━━━━━━━━━━━━━━━━━━━━━━━━━━━━━━━━━━━━━━━\u001b[0m \u001b[32m320.4/320.4 kB\u001b[0m \u001b[31m19.3 MB/s\u001b[0m eta \u001b[36m0:00:00\u001b[0m\n",
            "\u001b[2K   \u001b[90m━━━━━━━━━━━━━━━━━━━━━━━━━━━━━━━━━━━━━━━━\u001b[0m \u001b[32m11.2/11.2 MB\u001b[0m \u001b[31m81.7 MB/s\u001b[0m eta \u001b[36m0:00:00\u001b[0m\n",
            "\u001b[?25h"
          ]
        }
      ]
    },
    {
      "cell_type": "markdown",
      "source": [
        "#### load any pdf you want"
      ],
      "metadata": {
        "id": "p0iLC9yrME94"
      }
    },
    {
      "cell_type": "code",
      "source": [
        "from langchain.document_loaders import PyPDFLoader\n",
        "path = \"/content/Mohamed_ARBI_Nsibi_RESUME.pdf\"\n",
        "loader = PyPDFLoader(path)\n",
        "pages= loader.load_and_split()\n",
        "\n"
      ],
      "metadata": {
        "id": "d7F2yCeYPXVk"
      },
      "execution_count": null,
      "outputs": []
    },
    {
      "cell_type": "code",
      "source": [
        "pages[0].page_content"
      ],
      "metadata": {
        "colab": {
          "base_uri": "https://localhost:8080/",
          "height": 145
        },
        "id": "ED97yFhDdtQV",
        "outputId": "f436461a-261f-4cc0-fee9-522c2b5cfc8f"
      },
      "execution_count": null,
      "outputs": [
        {
          "output_type": "execute_result",
          "data": {
            "text/plain": [
              "'Mohamed Arbi Nsibi\\nICT Engineering Student At SUP’COM\\n♂¶obile+216 29 051 246 /envel⌢pemohammedarbi.nsibi@supcom.tn /h⌢meAriana, Tunis\\n/linkedinin/mohammed-arbi-nsibi /githubgithub.com/Goodnight77\\nPROFILE\\nAs a final-year engineering student, former lead and currently the mentor of the Google Developer Group on Campus\\nSUP’COM, I am passionate about Machine Learning, Deep Learning and Generative AI. I am actively seeking opportunities\\nto expand my skills and connect with professionals in these fields.\\nEDUCATION\\nICT Engineer’s degree Higher school of communication (SUP’COM) 2022-2024\\n• Principal coursework : Probability, Statistical inference, Algorithmic Foundations of Optimization, Cloud, Big Data,\\nData science, Artificial intelligence.\\nDegree in Physics and Chemistry Preparatory Institute For Engineering Studies of TUNIS (IPEIT) 2020-2022\\n• Ranked 70/1400 in the national entrance exam for engineering schools.\\nPROFESSIONAL EXPERIENCE\\nAI Intern, Omicrone Tunis, Tunisia 07/2024 - 09/2024\\n• Built an automated AI-Powered Candidate Matching System that extracts key details from resumes, generates detailed reports\\nwith matching scores, ranks candidates based on job suitability and create emails for top candidates\\nMachine Learning Engineer Intern, IEEE Tunisia Section Tunis, Tunisia 07/2023 - 09/2023\\n• Developed machine learning models for automated invoice verification by analyzing date, stamp, and signature data. Designed a\\ndata entry system to streamline processing and used anomaly detection to identify and mitigate fraud risks.\\nPROJECTS\\nMedical chatbot with RAG, KG and RLHF, LangChain, LLMs, GenAI (Academic) 09/2024-01/2025\\n• Currently developing a medical chatbot that integrates a Retrieval-Augmented Generation (RAG) with Knowledge Graph, and\\nReinforcement Learning with Human Feedback (RLHF) to answer health-related queries and provide accurate, database-supported\\nrecommendations.\\nAI-Powered Candidate Matching System, LangChain, LLMs, GenAI (Intership) 08/2024\\n• Built an automated system that extracts key details from resumes, generates detailed reports with matching scores, and ranks\\ncandidates based on job suitability. The system also creates personalized emails for top candidates, streamlining the recruitment\\nprocess.\\nSecuring Medical Images transfert using Encryption and Steganography (Academic) 05/2024\\n• This project make sure the secure transfer of medical images and patient data through efficient deep steganography and\\ncryptography methods.\\nKidney Classification App, Python, Tensorflow, Flask, Docker, Mlfow, DVC 02/2024\\n• An end-to-end deep learning project consisting of creating a web app for kidney disease classification, where I learned and\\nimplemented some MLOps concepts.\\nParkPay, Flutter, Flask, Yolov6, (Academic) 01/2024\\n• Developed a mobile app revolutionizing parking payments by enabling seamless online transactions, eliminating the need for\\ntraditional parking machines.\\nDeep fake Forensics Challenge, (Challenge) 12/2023\\n• Participated in the IEEE CS - YP TSYP Challenge, replicating and enhancing deepfake detection methods based on the paper\\n”Shallow- and Deep-fake Image Manipulation Localization using Deep Learning”.\\nAcademic Project Database System, Oracle 11G, SQL Developer, Draw.io 03/2023\\n• Collaborated with a team of 3 peers to design and implement a database system for managing personalized academic projects.\\nDeveloped a comprehensive data lifecycle, including requirements analysis, schema design, data modeling, SQL scripting, and\\ntechnical documentation, using Oracle 11G and SQL Developer.\\nAWARDS\\nRevolutionizing Recruitment: Winning First Prize Project by EY, AI 4 new Generation Hackathon 12/2024\\nFirst prize in the TSYP CS Challenge, IEEE ESSTHS Student Branch and IEEE Tunisia Section 12/2023\\nRanked 6th in Open GeoAI Hack, IEEE GRSS Chapter 11/2023'"
            ],
            "application/vnd.google.colaboratory.intrinsic+json": {
              "type": "string"
            }
          },
          "metadata": {},
          "execution_count": 4
        }
      ]
    },
    {
      "cell_type": "code",
      "source": [
        "len(pages)"
      ],
      "metadata": {
        "colab": {
          "base_uri": "https://localhost:8080/"
        },
        "id": "kdjbmDird5eg",
        "outputId": "cfea8cd7-8072-48fe-ce4a-7d8ff5949698"
      },
      "execution_count": null,
      "outputs": [
        {
          "output_type": "execute_result",
          "data": {
            "text/plain": [
              "2"
            ]
          },
          "metadata": {},
          "execution_count": 6
        }
      ]
    },
    {
      "cell_type": "markdown",
      "source": [
        "### Data ingestion"
      ],
      "metadata": {
        "id": "b4dvvE3PdnUX"
      }
    },
    {
      "cell_type": "markdown",
      "source": [
        "#### Character Text Splitter\n",
        "###### offer 2 customization: size of each chunk and overlap between chunks => manageable segments and maintaining semantic continuity across them\n",
        "[CharacterTextSplitter](https://api.python.langchain.com/en/latest/text_splitters/character/langchain_text_splitters.character.CharacterTextSplitter.html)"
      ],
      "metadata": {
        "id": "qAS6i2LUdpcX"
      }
    },
    {
      "cell_type": "code",
      "source": [
        "text = \"this is the text i want to chunk. it is just an example of text for this section\""
      ],
      "metadata": {
        "id": "sZO0ingxQWDb"
      },
      "execution_count": null,
      "outputs": []
    },
    {
      "cell_type": "code",
      "source": [
        "chunks= []\n",
        "chunk_size= 30\n",
        "for i in range(0, len(text),chunk_size):\n",
        "  chunk= text[i: i+chunk_size]\n",
        "  chunks.append(chunk)\n",
        "chunks\n",
        "\n"
      ],
      "metadata": {
        "id": "WHU3ffofSIwI",
        "colab": {
          "base_uri": "https://localhost:8080/"
        },
        "outputId": "02a85c96-f525-45a0-c9a3-225296f09ed2"
      },
      "execution_count": null,
      "outputs": [
        {
          "output_type": "execute_result",
          "data": {
            "text/plain": [
              "['this is the text i want to chu',\n",
              " 'nk. it is just an example of t',\n",
              " 'ext for this section']"
            ]
          },
          "metadata": {},
          "execution_count": 9
        }
      ]
    },
    {
      "cell_type": "code",
      "source": [
        "from langchain.text_splitter import CharacterTextSplitter\n",
        "text_splitter = CharacterTextSplitter(\n",
        "    chunk_size=30,\n",
        "    chunk_overlap=4,\n",
        "    separator =''\n",
        "    )\n",
        "\n",
        "text_splitter.create_documents([text]) # expect list output document object with metadata\n"
      ],
      "metadata": {
        "id": "XSoibKOVPXPf",
        "colab": {
          "base_uri": "https://localhost:8080/"
        },
        "outputId": "b2ddca63-398a-45ca-feb7-577453c6685b"
      },
      "execution_count": null,
      "outputs": [
        {
          "output_type": "execute_result",
          "data": {
            "text/plain": [
              "[Document(metadata={}, page_content='this is the text i want to chu'),\n",
              " Document(metadata={}, page_content='chunk. it is just an example'),\n",
              " Document(metadata={}, page_content='ple of text for this section')]"
            ]
          },
          "metadata": {},
          "execution_count": 12
        }
      ]
    },
    {
      "cell_type": "code",
      "source": [
        "text_splitter = CharacterTextSplitter(\n",
        "    chunk_size=200,\n",
        "    chunk_overlap=20 ,\n",
        "    separator =''\n",
        "    )\n",
        "\n",
        "text_char_splitter= text_splitter.split_documents(pages)\n",
        "text_char_splitter[0]"
      ],
      "metadata": {
        "colab": {
          "base_uri": "https://localhost:8080/"
        },
        "id": "7zly76ULfFlQ",
        "outputId": "ade8519b-f176-4ac9-c2a3-88fc7d1e3df9"
      },
      "execution_count": null,
      "outputs": [
        {
          "output_type": "execute_result",
          "data": {
            "text/plain": [
              "Document(metadata={'source': '/content/Mohamed_ARBI_Nsibi_RESUME.pdf', 'page': 0}, page_content='Mohamed Arbi Nsibi\\nICT Engineering Student At SUP’COM\\n♂¶obile+216 29 051 246 /envel⌢pemohammedarbi.nsibi@supcom.tn /h⌢meAriana, Tunis\\n/linkedinin/mohammed-arbi-nsibi /githubgithub.com/Goodnight77\\nPROF')"
            ]
          },
          "metadata": {},
          "execution_count": 13
        }
      ]
    },
    {
      "cell_type": "code",
      "source": [
        "text_char_splitter[0].page_content"
      ],
      "metadata": {
        "colab": {
          "base_uri": "https://localhost:8080/",
          "height": 54
        },
        "id": "M8kLGYLef1px",
        "outputId": "b124e99c-8b3b-4a1a-f3c3-44223e33e7fd"
      },
      "execution_count": null,
      "outputs": [
        {
          "output_type": "execute_result",
          "data": {
            "text/plain": [
              "'Mohamed Arbi Nsibi\\nICT Engineering Student At SUP’COM\\n♂¶obile+216 29 051 246 /envel⌢pemohammedarbi.nsibi@supcom.tn /h⌢meAriana, Tunis\\n/linkedinin/mohammed-arbi-nsibi /githubgithub.com/Goodnight77\\nPROF'"
            ],
            "application/vnd.google.colaboratory.intrinsic+json": {
              "type": "string"
            }
          },
          "metadata": {},
          "execution_count": 15
        }
      ]
    },
    {
      "cell_type": "code",
      "source": [
        "len(text_char_splitter)"
      ],
      "metadata": {
        "colab": {
          "base_uri": "https://localhost:8080/"
        },
        "id": "TlyKWCEzfuv-",
        "outputId": "4dd1f3b8-3ada-40f0-ba26-9d66d1b1e1ad"
      },
      "execution_count": null,
      "outputs": [
        {
          "output_type": "execute_result",
          "data": {
            "text/plain": [
              "32"
            ]
          },
          "metadata": {},
          "execution_count": 14
        }
      ]
    },
    {
      "cell_type": "markdown",
      "source": [
        "[chunk viz](https://chunkviz.up.railway.app/)\n",
        "\n",
        "![image.png](data:image/png;base64,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)"
      ],
      "metadata": {
        "id": "00VYLI6jeici"
      }
    },
    {
      "cell_type": "markdown",
      "source": [
        "#### Recursive Character Text Splitter\n",
        "###### look at physical structure of text\n",
        "###### chunk based on predifined list of characters default = [\"\\n\\n\", \"\\n\", \" \"] parag, senteneces , words... at first it divide text using two newline characters if chunks more extensive than desired splitter tries using single newline and 1 space and so on until size is attained"
      ],
      "metadata": {
        "id": "zRRMNO4xdsIa"
      }
    },
    {
      "cell_type": "code",
      "source": [
        "from langchain.text_splitter import RecursiveCharacterTextSplitter\n",
        "text_splitter =RecursiveCharacterTextSplitter(\n",
        "    chunk_size=60,\n",
        "    chunk_overlap=0, # default 20\n",
        "    length_function=len, # count length of chunks, len counts number of character\n",
        "    # set token counter could be + when working with models with token limits # exple GPT3 4096token/request\n",
        ")\n",
        "\n",
        "text = \"\"\"Now is the time to stop and enjoy the view! This time of year,\n",
        "nature's beauty is on full display. It can be hard to capture your love\n",
        "for the outdoors in a short message, but these nature quotes can help!\n",
        "Share these words with your friends on social media, or jot them down in\n",
        "your journal for future reflection. Whether you're a fan of the beach, the mountains,\n",
        "or your back porch, nature is worth celebrating. If you're looking for the perfect words\n",
        " to caption your Instagram posts, many of these quotes will double as nature Instagram captions.\"\"\"\n",
        "docs = text_splitter.create_documents([text])\n",
        "docs"
      ],
      "metadata": {
        "colab": {
          "base_uri": "https://localhost:8080/"
        },
        "id": "eYKczBKqToR0",
        "outputId": "93aa10b2-4b5a-4ed5-eac8-581ea686425c"
      },
      "execution_count": null,
      "outputs": [
        {
          "output_type": "execute_result",
          "data": {
            "text/plain": [
              "[Document(metadata={}, page_content='Now is the time to stop and enjoy the view! This time of'),\n",
              " Document(metadata={}, page_content='year,'),\n",
              " Document(metadata={}, page_content=\"nature's beauty is on full display. It can be hard to\"),\n",
              " Document(metadata={}, page_content='capture your love'),\n",
              " Document(metadata={}, page_content='for the outdoors in a short message, but these nature'),\n",
              " Document(metadata={}, page_content='quotes can help!'),\n",
              " Document(metadata={}, page_content='Share these words with your friends on social media, or jot'),\n",
              " Document(metadata={}, page_content='them down in'),\n",
              " Document(metadata={}, page_content=\"your journal for future reflection. Whether you're a fan of\"),\n",
              " Document(metadata={}, page_content='the beach, the mountains,'),\n",
              " Document(metadata={}, page_content=\"or your back porch, nature is worth celebrating. If you're\"),\n",
              " Document(metadata={}, page_content='looking for the perfect words'),\n",
              " Document(metadata={}, page_content='to caption your Instagram posts, many of these quotes will'),\n",
              " Document(metadata={}, page_content='double as nature Instagram captions.')]"
            ]
          },
          "metadata": {},
          "execution_count": 16
        }
      ]
    },
    {
      "cell_type": "markdown",
      "source": [
        "#### and others like : NLTK text splitter , Spacy text splitter , markdown text splitter , token text splitter,..."
      ],
      "metadata": {
        "id": "UcIriwFdfqWO"
      }
    },
    {
      "cell_type": "code",
      "source": [
        "from langchain.text_splitter import RecursiveCharacterTextSplitter\n",
        "text_splitter =RecursiveCharacterTextSplitter(\n",
        "    chunk_size=200,\n",
        "    chunk_overlap=20, # default 20\n",
        "    length_function=len, # count length of chunks, len counts number of character\n",
        "    # set token counter could be + when working with models with token limits # exple GPT3 4096token/request\n",
        ")\n",
        "text_recu_splitter = text_splitter.split_documents(pages)\n",
        "text_recu_splitter[3].page_content"
      ],
      "metadata": {
        "colab": {
          "base_uri": "https://localhost:8080/",
          "height": 36
        },
        "id": "zvDjYmvtgNzj",
        "outputId": "c3ac57bc-a60d-4df8-8ddd-272ed48206d6"
      },
      "execution_count": null,
      "outputs": [
        {
          "output_type": "execute_result",
          "data": {
            "text/plain": [
              "'EDUCATION\\nICT Engineer’s degree Higher school of communication (SUP’COM) 2022-2024'"
            ],
            "application/vnd.google.colaboratory.intrinsic+json": {
              "type": "string"
            }
          },
          "metadata": {},
          "execution_count": 18
        }
      ]
    },
    {
      "cell_type": "code",
      "source": [
        "len(text_recu_splitter)"
      ],
      "metadata": {
        "colab": {
          "base_uri": "https://localhost:8080/"
        },
        "id": "IWvcBixCg6af",
        "outputId": "5d9cfc9c-75ac-4289-8541-e7286764863b"
      },
      "execution_count": null,
      "outputs": [
        {
          "output_type": "execute_result",
          "data": {
            "text/plain": [
              "41"
            ]
          },
          "metadata": {},
          "execution_count": 19
        }
      ]
    },
    {
      "cell_type": "code",
      "source": [
        "from langchain_community.embeddings.sentence_transformer import (\n",
        "    SentenceTransformerEmbeddings,\n",
        ")\n",
        "embedding_model = SentenceTransformerEmbeddings(model_name=\"all-MiniLM-L6-v2\")\n",
        "\n",
        "\n",
        "\n"
      ],
      "metadata": {
        "id": "USjSjFMxSBuL",
        "colab": {
          "base_uri": "https://localhost:8080/",
          "height": 535,
          "referenced_widgets": [
            "5c2cc90521a448a5839532d0fa3ad821",
            "ef7b7a00b5a544f4b5288179288aafe1",
            "7331d28616004e6da2db2395b94e5957",
            "6a6526b332c34dffa421123381c044d5",
            "56650d2d996a4b94bac0dcd6f492f850",
            "87f5713f91f54c58900b0390dd3bccb2",
            "aa17dd2401a64e1c8fd95ae1395755b7",
            "3feecd99767f4e90be59990a7e745a16",
            "ed86e97808a243869d96cb86a3d3aafc",
            "d4a834dd8e7d4cbf9f8e698d5c26029d",
            "e4da9bb1eacf45f5ad969e794f79750b",
            "2c986d6042524fd6bd7ca7ee69d166d5",
            "424681b86bfb4df0ac9b109480cff810",
            "35c7d91e39094affa6cc9f862f58d6c8",
            "061a5d2d3fa841359f1c64a05e045bf3",
            "78b9195bc8b44c4f88b70609201cbec5",
            "6464a301e97b4bf0aacc66263033b7a6",
            "a92bf2cfed0346f396558a00728ccf6a",
            "22cf87332ac84ff0bc79275d069ba5c3",
            "03cbc1ad94ef441f91c3c35260b71c99",
            "462c83d5365e4bab9e74b83da3f8a64d",
            "cb6886ccebb449ae963b2b6452a70a98",
            "02452eadd77f445eb458e217f2a1c3a3",
            "97af1196e2e547dab7b3950bcd542c43",
            "c7a84fbe2cfb4ea1a81a8b34c8e4649c",
            "a927e6f53eaa4b4188dd6d615425887f",
            "e71f45e1fc2c4276aff75b1f62bb2397",
            "0bac3a7a056449c3b8e090b6518d6579",
            "46861f54523141128ae166df7fa5ddc0",
            "380a7d8c78b44300bee659ef350aca7b",
            "9ccae1ebb5b44535b35d87f67bd0ec6b",
            "daaf126a65ae4e4d916b11db19a4276d",
            "d61f694873034e0ca102a36c0c5c689f",
            "865afe22261044da94d111734d7a56be",
            "1134443243f94c3eb98941c5ed359a12",
            "558d64a4d49441f5a7c8fe9e65995692",
            "b3f9423826c44dafb098a90bdbc5a0d5",
            "882c5ad4b35d40c39b3eab0d075ff638",
            "224502a70eac47ad90bfdc9f11d5ebcc",
            "53bacf2874b9416c9b22f918b7d581d6",
            "27a80c91b8b84b37884f8e00b1c50d04",
            "1af5d4c6686849ecb1aa2fcd86304af5",
            "502787a604e342dbbdf18cc2761e5000",
            "b89615642d1a4be6a4fde58a02df2dbd",
            "cba40640ef1042629f982b460abef008",
            "45fdcd87e2074c4dba4b23a08a8dd1ce",
            "5abf17c2d93344a1b8899b3a0a5c67a9",
            "391c1309b886459aaa4d07e4832edd08",
            "fa12b85243cf45f692218c66580d7ed6",
            "6ab671e8936e4eb7b0c123d1d3ff2f8d",
            "a146d2a274664e1fb798158fed7a57d0",
            "4996bcfa4d6f4855abb2de22f1b3aa8c",
            "29a2865cb9d0467f833ea34ebc97a488",
            "b2ae644c3ebf4b9f98ab20b54c1fe4bf",
            "e1cafb8efdef4ab98bfeb31c38429ada",
            "629dcb43e3e445e48ad13d4e9e3a25c1",
            "5142049adf5f466e85d242e07b95abb1",
            "dd714779d9ef4c9ebac538e7539dbd6b",
            "fae6c79901304cfc8ec98ae7c1eed730",
            "244cd06e7a8946879c70c37c83a247ca",
            "d5d107b6843943949211d1428f8dea49",
            "49e6189dea4d4d4a9520a1f49e9983fa",
            "84027114c86e4fbf954b9ce1b1d70adc",
            "750e8dbdb46a410bab7635ab91d98570",
            "e9173c15fcda42e0b037e5abfa11e27c",
            "2bef2abea34e439e8efd20a1a5a742b3",
            "e23b8181ffcb420d949c322686ce669a",
            "af3910d88f2d4db29b20c4d1b16295c1",
            "c9eb1bb0a5c74d959baac38a01b4f06b",
            "d0ce3e667c8b427ca8e73a8ae33b6a5f",
            "5e2b3a8329364344871c34cae0d31a43",
            "96b1614c24d34f26b5fa7c051776a8b0",
            "4f1d16b0137f4785baea5831914c1aaa",
            "3215aaa37cb14675a4f1ffa9dc958b3f",
            "c50dab6a01df4f87ae01f0f0d4bfbdbc",
            "0cfa3ab782ac4181abeda14331d37daf",
            "ad6881e646b94ae5a23cdac25ef8b52c",
            "6c5a7c84c8a2421d95b4e40efa5170cd",
            "c030b9289d6c461caf24fcb72d052cf4",
            "871a469561444b94ad643845739ab861",
            "dd40f761dd3a4422991eb27c910c5453",
            "b2023ebbcf294492bd79a481c281d615",
            "d9652fa6372d414c9c236f4db61009e1",
            "6dce2aff0faa4af880892ae1513eb269",
            "4948af6638764a779a4580a93cadaff2",
            "832bf98e2b5a4cb5a9cca9b3b0b8fe9d",
            "90dce977f3ce4d0ea66c6397f24b95e7",
            "f1600b38a08f4213afcd163eadb0eb5f",
            "4acd5b42274945a2b085faaf4826ed9d",
            "0099f881db4b4c3199f1b87a9a862a57",
            "f728231ea6db4734ac4cb8d610f7074b",
            "9ddb214ebd624591a72bdd97c01062f9",
            "1f7e9e3cceaa4fbc94944c764e69c5f1",
            "210aec882682405bb4a90974378fdb89",
            "919a796b04d842ee905f8622dbf2921f",
            "3144ae7a352f452ba8abd3126ea868d3",
            "cc29212a7fa04f85a09122f3ed976753",
            "682fd55145294dbb8dc517d2233b1049",
            "5ad210422c4649428e2d56344b6e8074",
            "e6d332745bd74575964bdd5e09e7e8b1",
            "672090862da1462bb2794b922447d41c",
            "3a78297f5d4042369c5e6761d0faaad0",
            "6122e0a65da3411ab609eccb26f7a767",
            "a12d4ce2ad444b95b066261d3a3742a0",
            "b33378d9932a45c7a84e29330a534ed5",
            "ba66babf4aed4c218ed3244215e1d45b",
            "320dc023177943da85720b5b946a45c5",
            "5844e2ee40bd404891a28e565267a0bb",
            "61bdb36af9aa41df90c471b02602a624",
            "17a02b46d78f4726b29d4e9b880086de",
            "2e5c8416e10b41459bf7d4e2a59ea49a",
            "9cb0b336f5684848addcb98761869808",
            "ad10278820aa44d0a999a84c1d97d9f3",
            "a9a0c9bc799a4d73af4aaa2244764f5b",
            "f94fbaa60f524168be5efd0331f730ed",
            "6f13a97fcb8d4e7fabd2d41c7f918d4a",
            "96b16461ce854388905278d413217c18",
            "4438462679844b3a93d609e5c4e68ef1",
            "d9f853aa71be42c5a3e252b57897e7b6",
            "4fe4f30e7e6c49389dbc2e9ebf3c8ebb",
            "605d71b86e60427db944bd168c790f61"
          ]
        },
        "outputId": "dd39cd0e-0ecf-4c5a-8b7f-8860827e760c"
      },
      "execution_count": null,
      "outputs": [
        {
          "output_type": "stream",
          "name": "stderr",
          "text": [
            "<ipython-input-20-9b9fc9c92a1c>:4: LangChainDeprecationWarning: The class `HuggingFaceEmbeddings` was deprecated in LangChain 0.2.2 and will be removed in 1.0. An updated version of the class exists in the :class:`~langchain-huggingface package and should be used instead. To use it run `pip install -U :class:`~langchain-huggingface` and import as `from :class:`~langchain_huggingface import HuggingFaceEmbeddings``.\n",
            "  embedding_model = SentenceTransformerEmbeddings(model_name=\"all-MiniLM-L6-v2\")\n",
            "/usr/local/lib/python3.10/dist-packages/huggingface_hub/utils/_auth.py:94: UserWarning: \n",
            "The secret `HF_TOKEN` does not exist in your Colab secrets.\n",
            "To authenticate with the Hugging Face Hub, create a token in your settings tab (https://huggingface.co/settings/tokens), set it as secret in your Google Colab and restart your session.\n",
            "You will be able to reuse this secret in all of your notebooks.\n",
            "Please note that authentication is recommended but still optional to access public models or datasets.\n",
            "  warnings.warn(\n"
          ]
        },
        {
          "output_type": "display_data",
          "data": {
            "text/plain": [
              "modules.json:   0%|          | 0.00/349 [00:00<?, ?B/s]"
            ],
            "application/vnd.jupyter.widget-view+json": {
              "version_major": 2,
              "version_minor": 0,
              "model_id": "5c2cc90521a448a5839532d0fa3ad821"
            }
          },
          "metadata": {}
        },
        {
          "output_type": "display_data",
          "data": {
            "text/plain": [
              "config_sentence_transformers.json:   0%|          | 0.00/116 [00:00<?, ?B/s]"
            ],
            "application/vnd.jupyter.widget-view+json": {
              "version_major": 2,
              "version_minor": 0,
              "model_id": "2c986d6042524fd6bd7ca7ee69d166d5"
            }
          },
          "metadata": {}
        },
        {
          "output_type": "display_data",
          "data": {
            "text/plain": [
              "README.md:   0%|          | 0.00/10.7k [00:00<?, ?B/s]"
            ],
            "application/vnd.jupyter.widget-view+json": {
              "version_major": 2,
              "version_minor": 0,
              "model_id": "02452eadd77f445eb458e217f2a1c3a3"
            }
          },
          "metadata": {}
        },
        {
          "output_type": "display_data",
          "data": {
            "text/plain": [
              "sentence_bert_config.json:   0%|          | 0.00/53.0 [00:00<?, ?B/s]"
            ],
            "application/vnd.jupyter.widget-view+json": {
              "version_major": 2,
              "version_minor": 0,
              "model_id": "865afe22261044da94d111734d7a56be"
            }
          },
          "metadata": {}
        },
        {
          "output_type": "display_data",
          "data": {
            "text/plain": [
              "config.json:   0%|          | 0.00/612 [00:00<?, ?B/s]"
            ],
            "application/vnd.jupyter.widget-view+json": {
              "version_major": 2,
              "version_minor": 0,
              "model_id": "cba40640ef1042629f982b460abef008"
            }
          },
          "metadata": {}
        },
        {
          "output_type": "display_data",
          "data": {
            "text/plain": [
              "model.safetensors:   0%|          | 0.00/90.9M [00:00<?, ?B/s]"
            ],
            "application/vnd.jupyter.widget-view+json": {
              "version_major": 2,
              "version_minor": 0,
              "model_id": "629dcb43e3e445e48ad13d4e9e3a25c1"
            }
          },
          "metadata": {}
        },
        {
          "output_type": "display_data",
          "data": {
            "text/plain": [
              "tokenizer_config.json:   0%|          | 0.00/350 [00:00<?, ?B/s]"
            ],
            "application/vnd.jupyter.widget-view+json": {
              "version_major": 2,
              "version_minor": 0,
              "model_id": "e23b8181ffcb420d949c322686ce669a"
            }
          },
          "metadata": {}
        },
        {
          "output_type": "display_data",
          "data": {
            "text/plain": [
              "vocab.txt:   0%|          | 0.00/232k [00:00<?, ?B/s]"
            ],
            "application/vnd.jupyter.widget-view+json": {
              "version_major": 2,
              "version_minor": 0,
              "model_id": "6c5a7c84c8a2421d95b4e40efa5170cd"
            }
          },
          "metadata": {}
        },
        {
          "output_type": "display_data",
          "data": {
            "text/plain": [
              "tokenizer.json:   0%|          | 0.00/466k [00:00<?, ?B/s]"
            ],
            "application/vnd.jupyter.widget-view+json": {
              "version_major": 2,
              "version_minor": 0,
              "model_id": "4acd5b42274945a2b085faaf4826ed9d"
            }
          },
          "metadata": {}
        },
        {
          "output_type": "display_data",
          "data": {
            "text/plain": [
              "special_tokens_map.json:   0%|          | 0.00/112 [00:00<?, ?B/s]"
            ],
            "application/vnd.jupyter.widget-view+json": {
              "version_major": 2,
              "version_minor": 0,
              "model_id": "e6d332745bd74575964bdd5e09e7e8b1"
            }
          },
          "metadata": {}
        },
        {
          "output_type": "display_data",
          "data": {
            "text/plain": [
              "1_Pooling/config.json:   0%|          | 0.00/190 [00:00<?, ?B/s]"
            ],
            "application/vnd.jupyter.widget-view+json": {
              "version_major": 2,
              "version_minor": 0,
              "model_id": "2e5c8416e10b41459bf7d4e2a59ea49a"
            }
          },
          "metadata": {}
        }
      ]
    },
    {
      "cell_type": "markdown",
      "source": [
        "#### vector store"
      ],
      "metadata": {
        "id": "HdeA1bWeypsd"
      }
    },
    {
      "cell_type": "code",
      "source": [
        "from langchain_chroma import Chroma\n",
        "from langchain_community.embeddings.sentence_transformer import (\n",
        "    SentenceTransformerEmbeddings,\n",
        ")\n",
        "\n",
        "vector_store = Chroma.from_documents(text_recu_splitter, embedding_model )"
      ],
      "metadata": {
        "id": "pJJ3dlczzNTl"
      },
      "execution_count": null,
      "outputs": []
    },
    {
      "cell_type": "code",
      "source": [
        "from langchain.vectorstores import Chroma\n",
        "db = Chroma(\n",
        "    collection_name=\"workshop_rag\",\n",
        "    embedding_function=embedding_model,\n",
        "    persist_directory=\"/content/chroma_langchain_db\",\n",
        ")"
      ],
      "metadata": {
        "id": "FoeRYC3Ay9Rk",
        "colab": {
          "base_uri": "https://localhost:8080/"
        },
        "outputId": "abfeb4d6-2161-46e4-90ca-b2812a18d124"
      },
      "execution_count": null,
      "outputs": [
        {
          "output_type": "stream",
          "name": "stderr",
          "text": [
            "<ipython-input-23-1c14f4883d79>:2: LangChainDeprecationWarning: The class `Chroma` was deprecated in LangChain 0.2.9 and will be removed in 1.0. An updated version of the class exists in the :class:`~langchain-chroma package and should be used instead. To use it run `pip install -U :class:`~langchain-chroma` and import as `from :class:`~langchain_chroma import Chroma``.\n",
            "  db = Chroma(\n"
          ]
        }
      ]
    },
    {
      "cell_type": "code",
      "source": [
        "from uuid import uuid4\n",
        "\n",
        "from langchain_core.documents import Document\n",
        "\n",
        "document_1 = Document(\n",
        "    page_content=\"hello my name is arbi a student at supcom and now i am hosting a rag workshop  \",\n",
        "    metadata={\"source\": \"arbi\"},\n",
        "    id=1,\n",
        ")\n",
        "\n",
        "document_2 = Document(\n",
        "    page_content=\"sahar is a student at supcom \",\n",
        "    metadata={\"source\": \"sahar\"},\n",
        "    id=2,\n",
        ")\n",
        "\n",
        "document_3 = Document(\n",
        "    page_content=\"siwar is a teacher who teach arbi \",\n",
        "    metadata={\"source\": \"siwar\"},\n",
        "    id=3,\n",
        ")\n",
        "\n",
        "documents = [\n",
        "    document_1,\n",
        "    document_2,\n",
        "    document_3,\n",
        "    ]\n",
        "uuids = [str(uuid4()) for _ in range(len(documents))]\n",
        "db.add_documents(documents=documents, ids=uuids)\n",
        "\n",
        "\n"
      ],
      "metadata": {
        "colab": {
          "base_uri": "https://localhost:8080/"
        },
        "id": "LyBtzD3IyrGv",
        "outputId": "26f1391a-80f7-4111-e5ae-30e3e2191e87"
      },
      "execution_count": null,
      "outputs": [
        {
          "output_type": "execute_result",
          "data": {
            "text/plain": [
              "['76ec9c31-e2b2-44a5-a2a2-ae118c5ed09c',\n",
              " 'a62b3573-a80e-43e5-b80e-a13b86dd51f1',\n",
              " 'ec465e4b-509c-4025-8e7b-27443606eb3c']"
            ]
          },
          "metadata": {},
          "execution_count": 24
        }
      ]
    },
    {
      "cell_type": "code",
      "source": [
        "\n",
        "results = db.similarity_search(\"who is arbi\", k = 2)\n",
        "print(results)"
      ],
      "metadata": {
        "colab": {
          "base_uri": "https://localhost:8080/"
        },
        "id": "-wzsm4snieQ0",
        "outputId": "6e60195f-a79d-4279-a4d1-1fbcd287685d"
      },
      "execution_count": null,
      "outputs": [
        {
          "output_type": "stream",
          "name": "stdout",
          "text": [
            "[Document(metadata={'source': 'siwar'}, page_content='siwar is a teacher who teach arbi '), Document(metadata={'source': 'arbi'}, page_content='hello my name is arbi a student at supcom and now i am hosting a rag workshop  ')]\n"
          ]
        }
      ]
    },
    {
      "cell_type": "code",
      "source": [
        "results = db.similarity_search_with_score(\"who is arbi\", k = 2)\n",
        "print(results)"
      ],
      "metadata": {
        "colab": {
          "base_uri": "https://localhost:8080/"
        },
        "id": "ypSp_NRs0PeM",
        "outputId": "6d7a96da-99e0-4d5a-af65-ad91d20d3d5c"
      },
      "execution_count": null,
      "outputs": [
        {
          "output_type": "stream",
          "name": "stdout",
          "text": [
            "[(Document(metadata={'source': 'siwar'}, page_content='siwar is a teacher who teach arbi '), 0.8376446661808539), (Document(metadata={'source': 'arbi'}, page_content='hello my name is arbi a student at supcom and now i am hosting a rag workshop  '), 1.5469710975455044)]\n"
          ]
        }
      ]
    },
    {
      "cell_type": "code",
      "source": [
        "results = vector_store.similarity_search_with_score(\"what supcom\", k = 2)\n",
        "print(results)"
      ],
      "metadata": {
        "colab": {
          "base_uri": "https://localhost:8080/"
        },
        "id": "BeTxm9H8jPCD",
        "outputId": "2b597c7f-1ab9-44fd-e343-594e810a0087"
      },
      "execution_count": null,
      "outputs": [
        {
          "output_type": "stream",
          "name": "stdout",
          "text": [
            "[(Document(metadata={'page': 1, 'source': '/content/Mohamed_ARBI_Nsibi_RESUME.pdf'}, page_content='Mentor of Google Developer Group on campus SUP’COM and ISAMM 2024/2025\\n• Guided the leadership team with strategic advice, leveraging my experience as a former lead. Supported event planning and'), 1.4430683851242065), (Document(metadata={'page': 0, 'source': '/content/Mohamed_ARBI_Nsibi_RESUME.pdf'}, page_content='EDUCATION\\nICT Engineer’s degree Higher school of communication (SUP’COM) 2022-2024'), 1.5230478048324585)]\n"
          ]
        }
      ]
    },
    {
      "cell_type": "code",
      "source": [
        "# query it\n",
        "query= \"what is supcom?\"\n",
        "results = vector_store.similarity_search(query)\n",
        "results"
      ],
      "metadata": {
        "id": "cn6wZEbbSVHp",
        "colab": {
          "base_uri": "https://localhost:8080/"
        },
        "outputId": "10335e17-c884-4c9e-f353-9b559d89740d"
      },
      "execution_count": null,
      "outputs": [
        {
          "output_type": "execute_result",
          "data": {
            "text/plain": [
              "[Document(metadata={'page': 1, 'source': '/content/Mohamed_ARBI_Nsibi_RESUME.pdf'}, page_content='Mentor of Google Developer Group on campus SUP’COM and ISAMM 2024/2025\\n• Guided the leadership team with strategic advice, leveraging my experience as a former lead. Supported event planning and'),\n",
              " Document(metadata={'page': 1, 'source': '/content/Mohamed_ARBI_Nsibi_RESUME.pdf'}, page_content='Devfest Hackathon Organizer and Mentor, Hosted by GDG Carthage, focused on Responsible AI 02/11/2024\\nCo-organizer in Google Developer Groups of Carthage, 2024/2025'),\n",
              " Document(metadata={'page': 0, 'source': '/content/Mohamed_ARBI_Nsibi_RESUME.pdf'}, page_content='EDUCATION\\nICT Engineer’s degree Higher school of communication (SUP’COM) 2022-2024'),\n",
              " Document(metadata={'page': 1, 'source': '/content/Mohamed_ARBI_Nsibi_RESUME.pdf'}, page_content='fostered a collaborative learning environment.\\nLead of Google Developer Student Clubs (GDSC), SUP’COM 2023/2024')]"
            ]
          },
          "metadata": {},
          "execution_count": 30
        }
      ]
    },
    {
      "cell_type": "code",
      "source": [
        "from langchain import PromptTemplate\n",
        "\n",
        "# write a prompt for a customer support chatbot that answer questions using infos extracted from our db\n",
        "\n",
        "template = \"\"\" you are an exceptional support chatbot that gently answer questions based on my resume and you will speak on my behalf.\n",
        "\n",
        "you know the following context information\n",
        "{chunks_formatted}\n",
        "answer the following question from a customer. use only information from the previous context information .\n",
        "do not invent stuff.\n",
        "Question : {query}\n",
        "Answer : \"\"\"\n",
        "\n",
        "prompt = PromptTemplate(\n",
        "    input_variables =[\"chunks_formatted\",\"query\" ],\n",
        "    template = template\n",
        ")\n"
      ],
      "metadata": {
        "id": "OzwWcfuWVi0P"
      },
      "execution_count": null,
      "outputs": []
    },
    {
      "cell_type": "code",
      "source": [],
      "metadata": {
        "id": "VRJ9m8YQl5bR"
      },
      "execution_count": null,
      "outputs": []
    },
    {
      "cell_type": "code",
      "source": [
        "from google.colab import userdata\n",
        "GROQ_API_KEY = userdata.get('GROQ_API_KEY')"
      ],
      "metadata": {
        "id": "IUZnYVWsV6Tb"
      },
      "execution_count": null,
      "outputs": []
    },
    {
      "cell_type": "code",
      "source": [
        "from langchain_groq import ChatGroq\n",
        "#full pipeline\n",
        "query = \"what all the internships did you do ?\"\n",
        "# retreive relevant chunks\n",
        "docs = vector_store.similarity_search(query)\n",
        "retreived_docs = [doc.page_content for doc in docs]\n",
        "\n",
        "chunks_formatted = \"\\n\\n\".join(retreived_docs)\n",
        "# format the prompt\n",
        "\n",
        "prompt_f = prompt.format(chunks_formatted=chunks_formatted, query=query)\n",
        "\n",
        "\n",
        "\n",
        "\n",
        "# generate answer\n",
        "# Initialize the model\n",
        "llm = ChatGroq(\n",
        "    temperature=0,\n",
        "    model= \"llama-3.3-70b-versatile\",#\"llama-3.1-70b-versatile\", #\"llama3-70b-8192\",\n",
        "    api_key= GROQ_API_KEY,\n",
        ")"
      ],
      "metadata": {
        "id": "vZwH9X_1PXMw"
      },
      "execution_count": null,
      "outputs": []
    },
    {
      "cell_type": "code",
      "source": [
        "answer = llm.predict(prompt_f)\n",
        "answer"
      ],
      "metadata": {
        "colab": {
          "base_uri": "https://localhost:8080/",
          "height": 54
        },
        "id": "SPljDfV1mWVD",
        "outputId": "38e94c9e-edbd-43f2-f103-ff8171192172"
      },
      "execution_count": null,
      "outputs": [
        {
          "output_type": "execute_result",
          "data": {
            "text/plain": [
              "\"I've had the opportunity to complete an internship as an AI Intern at Omicrone Tunis, Tunisia, which took place from July 2024 to September 2024. That's the only internship experience I have listed.\""
            ],
            "application/vnd.google.colaboratory.intrinsic+json": {
              "type": "string"
            }
          },
          "metadata": {},
          "execution_count": 38
        }
      ]
    },
    {
      "cell_type": "markdown",
      "source": [
        "### Let's make an interface\n",
        "![a0eb9e254598915b692fb8e0dde3b762.webp](data:image/webp;base64,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)"
      ],
      "metadata": {
        "id": "skViJDMLcpv_"
      }
    },
    {
      "cell_type": "code",
      "source": [
        "import gradio as gr\n",
        "llm = ChatGroq(\n",
        "    temperature=0,\n",
        "    model= \"llama-3.3-70b-versatile\",#\"llama-3.1-70b-versatile\", #\"llama3-70b-8192\",\n",
        "    api_key= GROQ_API_KEY,\n",
        ")\n",
        "\n",
        "def predict(query):\n",
        "  docs = vector_store.similarity_search(query)\n",
        "  retreived_docs = [doc.page_content for doc in docs]\n",
        "  chunks_formatted = \"\\n\\n\".join(retreived_docs)\n",
        "  # format the prompt\n",
        "\n",
        "  prompt_f = prompt.format(chunks_formatted=chunks_formatted, query=query)\n",
        "  answer = llm.predict(prompt_f)\n",
        "  return answer\n",
        "\n",
        "\n",
        "gr.Interface( fn = predict , inputs = \"text\", outputs = \"text\").launch()\n",
        "\n"
      ],
      "metadata": {
        "id": "NKZSzhcsPXFC",
        "colab": {
          "base_uri": "https://localhost:8080/",
          "height": 650
        },
        "outputId": "063cbc42-5b3e-48bd-96a6-f99dc1f39978"
      },
      "execution_count": null,
      "outputs": [
        {
          "output_type": "stream",
          "name": "stdout",
          "text": [
            "Running Gradio in a Colab notebook requires sharing enabled. Automatically setting `share=True` (you can turn this off by setting `share=False` in `launch()` explicitly).\n",
            "\n",
            "Colab notebook detected. To show errors in colab notebook, set debug=True in launch()\n",
            "* Running on public URL: https://1f1b27b7d9f4b6ac58.gradio.live\n",
            "\n",
            "This share link expires in 72 hours. For free permanent hosting and GPU upgrades, run `gradio deploy` from the terminal in the working directory to deploy to Hugging Face Spaces (https://huggingface.co/spaces)\n"
          ]
        },
        {
          "output_type": "display_data",
          "data": {
            "text/plain": [
              "<IPython.core.display.HTML object>"
            ],
            "text/html": [
              "<div><iframe src=\"https://1f1b27b7d9f4b6ac58.gradio.live\" width=\"100%\" height=\"500\" allow=\"autoplay; camera; microphone; clipboard-read; clipboard-write;\" frameborder=\"0\" allowfullscreen></iframe></div>"
            ]
          },
          "metadata": {}
        },
        {
          "output_type": "execute_result",
          "data": {
            "text/plain": []
          },
          "metadata": {},
          "execution_count": 39
        }
      ]
    }
  ]
}